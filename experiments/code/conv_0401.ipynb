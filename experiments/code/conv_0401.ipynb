{
 "cells": [
  {
   "cell_type": "code",
   "execution_count": 3,
   "metadata": {},
   "outputs": [
    {
     "name": "stdout",
     "output_type": "stream",
     "text": [
      "Using device: cuda\n",
      "Files already downloaded and verified\n",
      "Total parameters: 77,836,105\n",
      "\n",
      "Epoch 1/1000\n"
     ]
    },
    {
     "name": "stderr",
     "output_type": "stream",
     "text": [
      "Training: 100%|██████████| 313/313 [00:44<00:00,  7.00it/s]\n",
      "Validating: 100%|██████████| 40/40 [00:02<00:00, 15.24it/s]\n"
     ]
    },
    {
     "name": "stdout",
     "output_type": "stream",
     "text": [
      "New best model saved with val loss 0.02707\n",
      "Train Loss: 0.00453 | Val Loss: 0.02707 | LR: 1.00e-04\n",
      "\n",
      "Epoch 2/1000\n"
     ]
    },
    {
     "name": "stderr",
     "output_type": "stream",
     "text": [
      "Training: 100%|██████████| 313/313 [00:44<00:00,  6.98it/s]\n",
      "Validating: 100%|██████████| 40/40 [00:02<00:00, 15.24it/s]\n"
     ]
    },
    {
     "name": "stdout",
     "output_type": "stream",
     "text": [
      "New best model saved with val loss 0.02507\n",
      "Train Loss: 0.00421 | Val Loss: 0.02507 | LR: 9.99e-05\n",
      "\n",
      "Epoch 3/1000\n"
     ]
    },
    {
     "name": "stderr",
     "output_type": "stream",
     "text": [
      "Training: 100%|██████████| 313/313 [00:45<00:00,  6.95it/s]\n",
      "Validating: 100%|██████████| 40/40 [00:02<00:00, 15.22it/s]\n"
     ]
    },
    {
     "name": "stdout",
     "output_type": "stream",
     "text": [
      "New best model saved with val loss 0.02425\n",
      "Train Loss: 0.00402 | Val Loss: 0.02425 | LR: 9.98e-05\n",
      "\n",
      "Epoch 4/1000\n"
     ]
    },
    {
     "name": "stderr",
     "output_type": "stream",
     "text": [
      "Training: 100%|██████████| 313/313 [00:44<00:00,  6.97it/s]\n",
      "Validating: 100%|██████████| 40/40 [00:02<00:00, 15.19it/s]\n"
     ]
    },
    {
     "name": "stdout",
     "output_type": "stream",
     "text": [
      "New best model saved with val loss 0.02380\n",
      "Train Loss: 0.00395 | Val Loss: 0.02380 | LR: 9.96e-05\n",
      "\n",
      "Epoch 5/1000\n"
     ]
    },
    {
     "name": "stderr",
     "output_type": "stream",
     "text": [
      "Training: 100%|██████████| 313/313 [00:44<00:00,  6.97it/s]\n",
      "Validating: 100%|██████████| 40/40 [00:02<00:00, 15.31it/s]\n"
     ]
    },
    {
     "name": "stdout",
     "output_type": "stream",
     "text": [
      "New best model saved with val loss 0.02340\n",
      "Train Loss: 0.00383 | Val Loss: 0.02340 | LR: 9.94e-05\n",
      "\n",
      "Epoch 6/1000\n"
     ]
    },
    {
     "name": "stderr",
     "output_type": "stream",
     "text": [
      "Training: 100%|██████████| 313/313 [00:44<00:00,  6.98it/s]\n",
      "Validating: 100%|██████████| 40/40 [00:02<00:00, 15.28it/s]\n"
     ]
    },
    {
     "name": "stdout",
     "output_type": "stream",
     "text": [
      "New best model saved with val loss 0.02314\n",
      "Train Loss: 0.00386 | Val Loss: 0.02314 | LR: 9.91e-05\n",
      "\n",
      "Epoch 7/1000\n"
     ]
    },
    {
     "name": "stderr",
     "output_type": "stream",
     "text": [
      "Training: 100%|██████████| 313/313 [00:44<00:00,  6.96it/s]\n",
      "Validating: 100%|██████████| 40/40 [00:02<00:00, 15.26it/s]\n"
     ]
    },
    {
     "name": "stdout",
     "output_type": "stream",
     "text": [
      "New best model saved with val loss 0.02299\n",
      "Train Loss: 0.00381 | Val Loss: 0.02299 | LR: 9.88e-05\n",
      "\n",
      "Epoch 8/1000\n"
     ]
    },
    {
     "name": "stderr",
     "output_type": "stream",
     "text": [
      "Training: 100%|██████████| 313/313 [00:44<00:00,  6.98it/s]\n",
      "Validating: 100%|██████████| 40/40 [00:02<00:00, 15.17it/s]\n"
     ]
    },
    {
     "name": "stdout",
     "output_type": "stream",
     "text": [
      "New best model saved with val loss 0.02277\n",
      "Train Loss: 0.00375 | Val Loss: 0.02277 | LR: 9.84e-05\n",
      "\n",
      "Epoch 9/1000\n"
     ]
    },
    {
     "name": "stderr",
     "output_type": "stream",
     "text": [
      "Training: 100%|██████████| 313/313 [00:44<00:00,  6.96it/s]\n",
      "Validating: 100%|██████████| 40/40 [00:02<00:00, 15.24it/s]\n"
     ]
    },
    {
     "name": "stdout",
     "output_type": "stream",
     "text": [
      "New best model saved with val loss 0.02270\n",
      "Train Loss: 0.00373 | Val Loss: 0.02270 | LR: 9.80e-05\n",
      "\n",
      "Epoch 10/1000\n"
     ]
    },
    {
     "name": "stderr",
     "output_type": "stream",
     "text": [
      "Training: 100%|██████████| 313/313 [00:44<00:00,  6.99it/s]\n",
      "Validating: 100%|██████████| 40/40 [00:02<00:00, 15.26it/s]\n"
     ]
    },
    {
     "name": "stdout",
     "output_type": "stream",
     "text": [
      "New best model saved with val loss 0.02267\n",
      "Train Loss: 0.00373 | Val Loss: 0.02267 | LR: 9.76e-05\n",
      "\n",
      "Epoch 11/1000\n"
     ]
    },
    {
     "name": "stderr",
     "output_type": "stream",
     "text": [
      "Training: 100%|██████████| 313/313 [00:44<00:00,  6.96it/s]\n",
      "Validating: 100%|██████████| 40/40 [00:02<00:00, 15.22it/s]\n"
     ]
    },
    {
     "name": "stdout",
     "output_type": "stream",
     "text": [
      "New best model saved with val loss 0.02260\n",
      "Train Loss: 0.00366 | Val Loss: 0.02260 | LR: 9.70e-05\n",
      "\n",
      "Epoch 12/1000\n"
     ]
    },
    {
     "name": "stderr",
     "output_type": "stream",
     "text": [
      "Training: 100%|██████████| 313/313 [00:44<00:00,  6.99it/s]\n",
      "Validating: 100%|██████████| 40/40 [00:02<00:00, 15.25it/s]\n"
     ]
    },
    {
     "name": "stdout",
     "output_type": "stream",
     "text": [
      "New best model saved with val loss 0.02259\n",
      "Train Loss: 0.00366 | Val Loss: 0.02259 | LR: 9.65e-05\n",
      "\n",
      "Epoch 13/1000\n"
     ]
    },
    {
     "name": "stderr",
     "output_type": "stream",
     "text": [
      "Training: 100%|██████████| 313/313 [00:45<00:00,  6.95it/s]\n",
      "Validating: 100%|██████████| 40/40 [00:02<00:00, 14.75it/s]\n"
     ]
    },
    {
     "name": "stdout",
     "output_type": "stream",
     "text": [
      "New best model saved with val loss 0.02240\n",
      "Train Loss: 0.00365 | Val Loss: 0.02240 | LR: 9.59e-05\n",
      "\n",
      "Epoch 14/1000\n"
     ]
    },
    {
     "name": "stderr",
     "output_type": "stream",
     "text": [
      "Training: 100%|██████████| 313/313 [00:44<00:00,  6.97it/s]\n",
      "Validating: 100%|██████████| 40/40 [00:02<00:00, 15.25it/s]\n"
     ]
    },
    {
     "name": "stdout",
     "output_type": "stream",
     "text": [
      "Train Loss: 0.00361 | Val Loss: 0.02240 | LR: 9.52e-05\n",
      "\n",
      "Epoch 15/1000\n"
     ]
    },
    {
     "name": "stderr",
     "output_type": "stream",
     "text": [
      "Training: 100%|██████████| 313/313 [00:45<00:00,  6.94it/s]\n",
      "Validating: 100%|██████████| 40/40 [00:02<00:00, 15.20it/s]\n"
     ]
    },
    {
     "name": "stdout",
     "output_type": "stream",
     "text": [
      "Train Loss: 0.00360 | Val Loss: 0.02242 | LR: 9.46e-05\n",
      "\n",
      "Epoch 16/1000\n"
     ]
    },
    {
     "name": "stderr",
     "output_type": "stream",
     "text": [
      "Training: 100%|██████████| 313/313 [00:44<00:00,  6.97it/s]\n",
      "Validating: 100%|██████████| 40/40 [00:02<00:00, 15.24it/s]\n"
     ]
    },
    {
     "name": "stdout",
     "output_type": "stream",
     "text": [
      "New best model saved with val loss 0.02229\n",
      "Train Loss: 0.00358 | Val Loss: 0.02229 | LR: 9.38e-05\n",
      "\n",
      "Epoch 17/1000\n"
     ]
    },
    {
     "name": "stderr",
     "output_type": "stream",
     "text": [
      "Training: 100%|██████████| 313/313 [00:45<00:00,  6.94it/s]\n",
      "Validating: 100%|██████████| 40/40 [00:02<00:00, 15.20it/s]\n"
     ]
    },
    {
     "name": "stdout",
     "output_type": "stream",
     "text": [
      "New best model saved with val loss 0.02224\n",
      "Train Loss: 0.00359 | Val Loss: 0.02224 | LR: 9.30e-05\n",
      "\n",
      "Epoch 18/1000\n"
     ]
    },
    {
     "name": "stderr",
     "output_type": "stream",
     "text": [
      "Training: 100%|██████████| 313/313 [00:44<00:00,  6.96it/s]\n",
      "Validating: 100%|██████████| 40/40 [00:02<00:00, 15.20it/s]\n"
     ]
    },
    {
     "name": "stdout",
     "output_type": "stream",
     "text": [
      "New best model saved with val loss 0.02205\n",
      "Train Loss: 0.00357 | Val Loss: 0.02205 | LR: 9.22e-05\n",
      "\n",
      "Epoch 19/1000\n"
     ]
    },
    {
     "name": "stderr",
     "output_type": "stream",
     "text": [
      "Training: 100%|██████████| 313/313 [00:45<00:00,  6.93it/s]\n",
      "Validating: 100%|██████████| 40/40 [00:02<00:00, 15.28it/s]\n"
     ]
    },
    {
     "name": "stdout",
     "output_type": "stream",
     "text": [
      "Train Loss: 0.00359 | Val Loss: 0.02208 | LR: 9.14e-05\n",
      "\n",
      "Epoch 20/1000\n"
     ]
    },
    {
     "name": "stderr",
     "output_type": "stream",
     "text": [
      "Training: 100%|██████████| 313/313 [00:44<00:00,  6.99it/s]\n",
      "Validating: 100%|██████████| 40/40 [00:02<00:00, 15.28it/s]\n"
     ]
    },
    {
     "name": "stdout",
     "output_type": "stream",
     "text": [
      "Train Loss: 0.00356 | Val Loss: 0.02213 | LR: 9.05e-05\n",
      "\n",
      "Epoch 21/1000\n"
     ]
    },
    {
     "name": "stderr",
     "output_type": "stream",
     "text": [
      "Training: 100%|██████████| 313/313 [00:44<00:00,  6.97it/s]\n",
      "Validating: 100%|██████████| 40/40 [00:02<00:00, 15.36it/s]\n"
     ]
    },
    {
     "name": "stdout",
     "output_type": "stream",
     "text": [
      "New best model saved with val loss 0.02193\n",
      "Train Loss: 0.00354 | Val Loss: 0.02193 | LR: 8.95e-05\n",
      "\n",
      "Epoch 22/1000\n"
     ]
    },
    {
     "name": "stderr",
     "output_type": "stream",
     "text": [
      "Training: 100%|██████████| 313/313 [00:44<00:00,  6.97it/s]\n",
      "Validating: 100%|██████████| 40/40 [00:02<00:00, 15.13it/s]\n"
     ]
    },
    {
     "name": "stdout",
     "output_type": "stream",
     "text": [
      "New best model saved with val loss 0.02190\n",
      "Train Loss: 0.00353 | Val Loss: 0.02190 | LR: 8.85e-05\n",
      "\n",
      "Epoch 23/1000\n"
     ]
    },
    {
     "name": "stderr",
     "output_type": "stream",
     "text": [
      "Training: 100%|██████████| 313/313 [00:45<00:00,  6.95it/s]\n",
      "Validating: 100%|██████████| 40/40 [00:02<00:00, 15.27it/s]\n"
     ]
    },
    {
     "name": "stdout",
     "output_type": "stream",
     "text": [
      "Train Loss: 0.00344 | Val Loss: 0.02191 | LR: 8.75e-05\n",
      "\n",
      "Epoch 24/1000\n"
     ]
    },
    {
     "name": "stderr",
     "output_type": "stream",
     "text": [
      "Training: 100%|██████████| 313/313 [00:44<00:00,  6.96it/s]\n",
      "Validating: 100%|██████████| 40/40 [00:02<00:00, 15.20it/s]\n"
     ]
    },
    {
     "name": "stdout",
     "output_type": "stream",
     "text": [
      "New best model saved with val loss 0.02185\n",
      "Train Loss: 0.00352 | Val Loss: 0.02185 | LR: 8.64e-05\n",
      "\n",
      "Epoch 25/1000\n"
     ]
    },
    {
     "name": "stderr",
     "output_type": "stream",
     "text": [
      "Training: 100%|██████████| 313/313 [00:45<00:00,  6.94it/s]\n",
      "Validating: 100%|██████████| 40/40 [00:02<00:00, 15.19it/s]\n"
     ]
    },
    {
     "name": "stdout",
     "output_type": "stream",
     "text": [
      "Train Loss: 0.00347 | Val Loss: 0.02203 | LR: 8.54e-05\n",
      "\n",
      "Epoch 26/1000\n"
     ]
    },
    {
     "name": "stderr",
     "output_type": "stream",
     "text": [
      "Training: 100%|██████████| 313/313 [00:44<00:00,  6.99it/s]\n",
      "Validating: 100%|██████████| 40/40 [00:02<00:00, 15.36it/s]\n"
     ]
    },
    {
     "name": "stdout",
     "output_type": "stream",
     "text": [
      "New best model saved with val loss 0.02173\n",
      "Train Loss: 0.00347 | Val Loss: 0.02173 | LR: 8.42e-05\n",
      "\n",
      "Epoch 27/1000\n"
     ]
    },
    {
     "name": "stderr",
     "output_type": "stream",
     "text": [
      "Training: 100%|██████████| 313/313 [00:45<00:00,  6.95it/s]\n",
      "Validating: 100%|██████████| 40/40 [00:02<00:00, 15.17it/s]\n"
     ]
    },
    {
     "name": "stdout",
     "output_type": "stream",
     "text": [
      "Train Loss: 0.00343 | Val Loss: 0.02184 | LR: 8.31e-05\n",
      "\n",
      "Epoch 28/1000\n"
     ]
    },
    {
     "name": "stderr",
     "output_type": "stream",
     "text": [
      "Training: 100%|██████████| 313/313 [00:45<00:00,  6.94it/s]\n",
      "Validating: 100%|██████████| 40/40 [00:02<00:00, 14.81it/s]\n"
     ]
    },
    {
     "name": "stdout",
     "output_type": "stream",
     "text": [
      "New best model saved with val loss 0.02162\n",
      "Train Loss: 0.00341 | Val Loss: 0.02162 | LR: 8.19e-05\n",
      "\n",
      "Epoch 29/1000\n"
     ]
    },
    {
     "name": "stderr",
     "output_type": "stream",
     "text": [
      "Training: 100%|██████████| 313/313 [00:44<00:00,  6.99it/s]\n",
      "Validating: 100%|██████████| 40/40 [00:02<00:00, 15.25it/s]\n"
     ]
    },
    {
     "name": "stdout",
     "output_type": "stream",
     "text": [
      "New best model saved with val loss 0.02160\n",
      "Train Loss: 0.00340 | Val Loss: 0.02160 | LR: 8.06e-05\n",
      "\n",
      "Epoch 30/1000\n"
     ]
    },
    {
     "name": "stderr",
     "output_type": "stream",
     "text": [
      "Training: 100%|██████████| 313/313 [00:44<00:00,  6.99it/s]\n",
      "Validating: 100%|██████████| 40/40 [00:02<00:00, 15.29it/s]\n"
     ]
    },
    {
     "name": "stdout",
     "output_type": "stream",
     "text": [
      "New best model saved with val loss 0.02157\n",
      "Train Loss: 0.00342 | Val Loss: 0.02157 | LR: 7.94e-05\n",
      "\n",
      "Epoch 31/1000\n"
     ]
    },
    {
     "name": "stderr",
     "output_type": "stream",
     "text": [
      "Training: 100%|██████████| 313/313 [00:44<00:00,  6.98it/s]\n",
      "Validating: 100%|██████████| 40/40 [00:02<00:00, 15.40it/s]\n"
     ]
    },
    {
     "name": "stdout",
     "output_type": "stream",
     "text": [
      "New best model saved with val loss 0.02151\n",
      "Train Loss: 0.00340 | Val Loss: 0.02151 | LR: 7.81e-05\n",
      "\n",
      "Epoch 32/1000\n"
     ]
    },
    {
     "name": "stderr",
     "output_type": "stream",
     "text": [
      "Training: 100%|██████████| 313/313 [00:44<00:00,  6.97it/s]\n",
      "Validating: 100%|██████████| 40/40 [00:02<00:00, 15.36it/s]\n"
     ]
    },
    {
     "name": "stdout",
     "output_type": "stream",
     "text": [
      "New best model saved with val loss 0.02147\n",
      "Train Loss: 0.00340 | Val Loss: 0.02147 | LR: 7.68e-05\n",
      "\n",
      "Epoch 33/1000\n"
     ]
    },
    {
     "name": "stderr",
     "output_type": "stream",
     "text": [
      "Training: 100%|██████████| 313/313 [00:44<00:00,  6.99it/s]\n",
      "Validating: 100%|██████████| 40/40 [00:02<00:00, 15.38it/s]\n"
     ]
    },
    {
     "name": "stdout",
     "output_type": "stream",
     "text": [
      "New best model saved with val loss 0.02143\n",
      "Train Loss: 0.00340 | Val Loss: 0.02143 | LR: 7.55e-05\n",
      "\n",
      "Epoch 34/1000\n"
     ]
    },
    {
     "name": "stderr",
     "output_type": "stream",
     "text": [
      "Training: 100%|██████████| 313/313 [00:44<00:00,  6.98it/s]\n",
      "Validating: 100%|██████████| 40/40 [00:02<00:00, 15.12it/s]\n"
     ]
    },
    {
     "name": "stdout",
     "output_type": "stream",
     "text": [
      "Train Loss: 0.00335 | Val Loss: 0.02143 | LR: 7.41e-05\n",
      "\n",
      "Epoch 35/1000\n"
     ]
    },
    {
     "name": "stderr",
     "output_type": "stream",
     "text": [
      "Training: 100%|██████████| 313/313 [00:45<00:00,  6.89it/s]\n",
      "Validating: 100%|██████████| 40/40 [00:02<00:00, 15.25it/s]\n"
     ]
    },
    {
     "name": "stdout",
     "output_type": "stream",
     "text": [
      "Train Loss: 0.00337 | Val Loss: 0.02146 | LR: 7.27e-05\n",
      "\n",
      "Epoch 36/1000\n"
     ]
    },
    {
     "name": "stderr",
     "output_type": "stream",
     "text": [
      "Training: 100%|██████████| 313/313 [00:45<00:00,  6.95it/s]\n",
      "Validating: 100%|██████████| 40/40 [00:02<00:00, 15.27it/s]\n"
     ]
    },
    {
     "name": "stdout",
     "output_type": "stream",
     "text": [
      "New best model saved with val loss 0.02136\n",
      "Train Loss: 0.00332 | Val Loss: 0.02136 | LR: 7.13e-05\n",
      "\n",
      "Epoch 37/1000\n"
     ]
    },
    {
     "name": "stderr",
     "output_type": "stream",
     "text": [
      "Training: 100%|██████████| 313/313 [00:44<00:00,  6.98it/s]\n",
      "Validating: 100%|██████████| 40/40 [00:02<00:00, 15.35it/s]\n"
     ]
    },
    {
     "name": "stdout",
     "output_type": "stream",
     "text": [
      "Train Loss: 0.00334 | Val Loss: 0.02136 | LR: 6.99e-05\n",
      "\n",
      "Epoch 38/1000\n"
     ]
    },
    {
     "name": "stderr",
     "output_type": "stream",
     "text": [
      "Training: 100%|██████████| 313/313 [00:44<00:00,  7.01it/s]\n",
      "Validating: 100%|██████████| 40/40 [00:02<00:00, 15.45it/s]\n"
     ]
    },
    {
     "name": "stdout",
     "output_type": "stream",
     "text": [
      "New best model saved with val loss 0.02131\n",
      "Train Loss: 0.00329 | Val Loss: 0.02131 | LR: 6.84e-05\n",
      "\n",
      "Epoch 39/1000\n"
     ]
    },
    {
     "name": "stderr",
     "output_type": "stream",
     "text": [
      "Training: 100%|██████████| 313/313 [00:44<00:00,  7.00it/s]\n",
      "Validating: 100%|██████████| 40/40 [00:02<00:00, 15.36it/s]\n"
     ]
    },
    {
     "name": "stdout",
     "output_type": "stream",
     "text": [
      "Train Loss: 0.00332 | Val Loss: 0.02134 | LR: 6.69e-05\n",
      "\n",
      "Epoch 40/1000\n"
     ]
    },
    {
     "name": "stderr",
     "output_type": "stream",
     "text": [
      "Training: 100%|██████████| 313/313 [00:44<00:00,  7.01it/s]\n",
      "Validating: 100%|██████████| 40/40 [00:02<00:00, 15.38it/s]\n"
     ]
    },
    {
     "name": "stdout",
     "output_type": "stream",
     "text": [
      "Train Loss: 0.00334 | Val Loss: 0.02138 | LR: 6.55e-05\n",
      "\n",
      "Epoch 41/1000\n"
     ]
    },
    {
     "name": "stderr",
     "output_type": "stream",
     "text": [
      "Training: 100%|██████████| 313/313 [00:44<00:00,  7.01it/s]\n",
      "Validating: 100%|██████████| 40/40 [00:02<00:00, 15.21it/s]\n"
     ]
    },
    {
     "name": "stdout",
     "output_type": "stream",
     "text": [
      "Train Loss: 0.00331 | Val Loss: 0.02132 | LR: 6.39e-05\n",
      "\n",
      "Epoch 42/1000\n"
     ]
    },
    {
     "name": "stderr",
     "output_type": "stream",
     "text": [
      "Training: 100%|██████████| 313/313 [00:44<00:00,  6.99it/s]\n",
      "Validating: 100%|██████████| 40/40 [00:02<00:00, 15.42it/s]\n"
     ]
    },
    {
     "name": "stdout",
     "output_type": "stream",
     "text": [
      "New best model saved with val loss 0.02123\n",
      "Train Loss: 0.00332 | Val Loss: 0.02123 | LR: 6.24e-05\n",
      "\n",
      "Epoch 43/1000\n"
     ]
    },
    {
     "name": "stderr",
     "output_type": "stream",
     "text": [
      "Training: 100%|██████████| 313/313 [00:44<00:00,  7.00it/s]\n",
      "Validating: 100%|██████████| 40/40 [00:02<00:00, 15.40it/s]\n"
     ]
    },
    {
     "name": "stdout",
     "output_type": "stream",
     "text": [
      "New best model saved with val loss 0.02122\n",
      "Train Loss: 0.00333 | Val Loss: 0.02122 | LR: 6.09e-05\n",
      "\n",
      "Epoch 44/1000\n"
     ]
    },
    {
     "name": "stderr",
     "output_type": "stream",
     "text": [
      "Training: 100%|██████████| 313/313 [00:44<00:00,  6.99it/s]\n",
      "Validating: 100%|██████████| 40/40 [00:02<00:00, 15.36it/s]\n"
     ]
    },
    {
     "name": "stdout",
     "output_type": "stream",
     "text": [
      "Train Loss: 0.00331 | Val Loss: 0.02123 | LR: 5.94e-05\n",
      "\n",
      "Epoch 45/1000\n"
     ]
    },
    {
     "name": "stderr",
     "output_type": "stream",
     "text": [
      "Training: 100%|██████████| 313/313 [00:44<00:00,  7.00it/s]\n",
      "Validating: 100%|██████████| 40/40 [00:02<00:00, 15.39it/s]\n"
     ]
    },
    {
     "name": "stdout",
     "output_type": "stream",
     "text": [
      "Train Loss: 0.00328 | Val Loss: 0.02126 | LR: 5.78e-05\n",
      "\n",
      "Epoch 46/1000\n"
     ]
    },
    {
     "name": "stderr",
     "output_type": "stream",
     "text": [
      "Training: 100%|██████████| 313/313 [00:44<00:00,  6.98it/s]\n",
      "Validating: 100%|██████████| 40/40 [00:02<00:00, 15.38it/s]\n"
     ]
    },
    {
     "name": "stdout",
     "output_type": "stream",
     "text": [
      "Train Loss: 0.00332 | Val Loss: 0.02146 | LR: 5.63e-05\n",
      "\n",
      "Epoch 47/1000\n"
     ]
    },
    {
     "name": "stderr",
     "output_type": "stream",
     "text": [
      "Training: 100%|██████████| 313/313 [00:44<00:00,  7.00it/s]\n",
      "Validating: 100%|██████████| 40/40 [00:02<00:00, 15.39it/s]\n"
     ]
    },
    {
     "name": "stdout",
     "output_type": "stream",
     "text": [
      "New best model saved with val loss 0.02120\n",
      "Train Loss: 0.00328 | Val Loss: 0.02120 | LR: 5.47e-05\n",
      "\n",
      "Epoch 48/1000\n"
     ]
    },
    {
     "name": "stderr",
     "output_type": "stream",
     "text": [
      "Training: 100%|██████████| 313/313 [00:44<00:00,  7.01it/s]\n",
      "Validating: 100%|██████████| 40/40 [00:02<00:00, 15.46it/s]\n"
     ]
    },
    {
     "name": "stdout",
     "output_type": "stream",
     "text": [
      "New best model saved with val loss 0.02117\n",
      "Train Loss: 0.00331 | Val Loss: 0.02117 | LR: 5.31e-05\n",
      "\n",
      "Epoch 49/1000\n"
     ]
    },
    {
     "name": "stderr",
     "output_type": "stream",
     "text": [
      "Training: 100%|██████████| 313/313 [00:44<00:00,  6.98it/s]\n",
      "Validating: 100%|██████████| 40/40 [00:02<00:00, 15.13it/s]\n"
     ]
    },
    {
     "name": "stdout",
     "output_type": "stream",
     "text": [
      "Train Loss: 0.00328 | Val Loss: 0.02122 | LR: 5.16e-05\n",
      "\n",
      "Epoch 50/1000\n"
     ]
    },
    {
     "name": "stderr",
     "output_type": "stream",
     "text": [
      "Training: 100%|██████████| 313/313 [00:44<00:00,  6.96it/s]\n",
      "Validating: 100%|██████████| 40/40 [00:02<00:00, 15.46it/s]\n"
     ]
    },
    {
     "name": "stdout",
     "output_type": "stream",
     "text": [
      "Train Loss: 0.00330 | Val Loss: 0.02125 | LR: 5.00e-05\n",
      "\n",
      "Epoch 51/1000\n"
     ]
    },
    {
     "name": "stderr",
     "output_type": "stream",
     "text": [
      "Training: 100%|██████████| 313/313 [00:44<00:00,  7.01it/s]\n",
      "Validating: 100%|██████████| 40/40 [00:02<00:00, 15.38it/s]\n"
     ]
    },
    {
     "name": "stdout",
     "output_type": "stream",
     "text": [
      "Train Loss: 0.00327 | Val Loss: 0.02120 | LR: 4.84e-05\n",
      "\n",
      "Epoch 52/1000\n"
     ]
    },
    {
     "name": "stderr",
     "output_type": "stream",
     "text": [
      "Training: 100%|██████████| 313/313 [00:44<00:00,  6.99it/s]\n",
      "Validating: 100%|██████████| 40/40 [00:02<00:00, 15.47it/s]\n"
     ]
    },
    {
     "name": "stdout",
     "output_type": "stream",
     "text": [
      "Train Loss: 0.00330 | Val Loss: 0.02122 | LR: 4.69e-05\n",
      "\n",
      "Epoch 53/1000\n"
     ]
    },
    {
     "name": "stderr",
     "output_type": "stream",
     "text": [
      "Training: 100%|██████████| 313/313 [00:44<00:00,  7.00it/s]\n",
      "Validating: 100%|██████████| 40/40 [00:02<00:00, 15.48it/s]\n"
     ]
    },
    {
     "name": "stdout",
     "output_type": "stream",
     "text": [
      "Train Loss: 0.00327 | Val Loss: 0.02128 | LR: 4.53e-05\n",
      "\n",
      "Epoch 54/1000\n"
     ]
    },
    {
     "name": "stderr",
     "output_type": "stream",
     "text": [
      "Training: 100%|██████████| 313/313 [00:44<00:00,  6.99it/s]\n",
      "Validating: 100%|██████████| 40/40 [00:02<00:00, 15.39it/s]\n"
     ]
    },
    {
     "name": "stdout",
     "output_type": "stream",
     "text": [
      "Train Loss: 0.00327 | Val Loss: 0.02124 | LR: 4.37e-05\n",
      "\n",
      "Epoch 55/1000\n"
     ]
    },
    {
     "name": "stderr",
     "output_type": "stream",
     "text": [
      "Training: 100%|██████████| 313/313 [00:44<00:00,  7.01it/s]\n",
      "Validating: 100%|██████████| 40/40 [00:02<00:00, 15.41it/s]\n"
     ]
    },
    {
     "name": "stdout",
     "output_type": "stream",
     "text": [
      "New best model saved with val loss 0.02111\n",
      "Train Loss: 0.00326 | Val Loss: 0.02111 | LR: 4.22e-05\n",
      "\n",
      "Epoch 56/1000\n"
     ]
    },
    {
     "name": "stderr",
     "output_type": "stream",
     "text": [
      "Training: 100%|██████████| 313/313 [00:44<00:00,  7.01it/s]\n",
      "Validating: 100%|██████████| 40/40 [00:02<00:00, 15.41it/s]\n"
     ]
    },
    {
     "name": "stdout",
     "output_type": "stream",
     "text": [
      "New best model saved with val loss 0.02109\n",
      "Train Loss: 0.00327 | Val Loss: 0.02109 | LR: 4.06e-05\n",
      "\n",
      "Epoch 57/1000\n"
     ]
    },
    {
     "name": "stderr",
     "output_type": "stream",
     "text": [
      "Training: 100%|██████████| 313/313 [00:44<00:00,  6.99it/s]\n",
      "Validating: 100%|██████████| 40/40 [00:02<00:00, 15.37it/s]\n"
     ]
    },
    {
     "name": "stdout",
     "output_type": "stream",
     "text": [
      "New best model saved with val loss 0.02107\n",
      "Train Loss: 0.00327 | Val Loss: 0.02107 | LR: 3.91e-05\n",
      "\n",
      "Epoch 58/1000\n"
     ]
    },
    {
     "name": "stderr",
     "output_type": "stream",
     "text": [
      "Training: 100%|██████████| 313/313 [00:44<00:00,  7.00it/s]\n",
      "Validating: 100%|██████████| 40/40 [00:02<00:00, 15.48it/s]\n"
     ]
    },
    {
     "name": "stdout",
     "output_type": "stream",
     "text": [
      "New best model saved with val loss 0.02105\n",
      "Train Loss: 0.00325 | Val Loss: 0.02105 | LR: 3.76e-05\n",
      "\n",
      "Epoch 59/1000\n"
     ]
    },
    {
     "name": "stderr",
     "output_type": "stream",
     "text": [
      "Training: 100%|██████████| 313/313 [00:44<00:00,  7.01it/s]\n",
      "Validating: 100%|██████████| 40/40 [00:02<00:00, 15.40it/s]\n"
     ]
    },
    {
     "name": "stdout",
     "output_type": "stream",
     "text": [
      "Train Loss: 0.00329 | Val Loss: 0.02107 | LR: 3.61e-05\n",
      "\n",
      "Epoch 60/1000\n"
     ]
    },
    {
     "name": "stderr",
     "output_type": "stream",
     "text": [
      "Training: 100%|██████████| 313/313 [00:44<00:00,  6.98it/s]\n",
      "Validating: 100%|██████████| 40/40 [00:02<00:00, 15.36it/s]\n"
     ]
    },
    {
     "name": "stdout",
     "output_type": "stream",
     "text": [
      "Train Loss: 0.00329 | Val Loss: 0.02107 | LR: 3.45e-05\n",
      "\n",
      "Epoch 61/1000\n"
     ]
    },
    {
     "name": "stderr",
     "output_type": "stream",
     "text": [
      "Training: 100%|██████████| 313/313 [00:44<00:00,  7.01it/s]\n",
      "Validating: 100%|██████████| 40/40 [00:02<00:00, 15.48it/s]\n"
     ]
    },
    {
     "name": "stdout",
     "output_type": "stream",
     "text": [
      "Train Loss: 0.00330 | Val Loss: 0.02107 | LR: 3.31e-05\n",
      "\n",
      "Epoch 62/1000\n"
     ]
    },
    {
     "name": "stderr",
     "output_type": "stream",
     "text": [
      "Training: 100%|██████████| 313/313 [00:44<00:00,  7.02it/s]\n",
      "Validating: 100%|██████████| 40/40 [00:02<00:00, 15.41it/s]\n"
     ]
    },
    {
     "name": "stdout",
     "output_type": "stream",
     "text": [
      "New best model saved with val loss 0.02102\n",
      "Train Loss: 0.00327 | Val Loss: 0.02102 | LR: 3.16e-05\n",
      "\n",
      "Epoch 63/1000\n"
     ]
    },
    {
     "name": "stderr",
     "output_type": "stream",
     "text": [
      "Training: 100%|██████████| 313/313 [00:44<00:00,  7.00it/s]\n",
      "Validating: 100%|██████████| 40/40 [00:02<00:00, 15.39it/s]\n"
     ]
    },
    {
     "name": "stdout",
     "output_type": "stream",
     "text": [
      "Train Loss: 0.00324 | Val Loss: 0.02104 | LR: 3.01e-05\n",
      "\n",
      "Epoch 64/1000\n"
     ]
    },
    {
     "name": "stderr",
     "output_type": "stream",
     "text": [
      "Training: 100%|██████████| 313/313 [00:44<00:00,  7.02it/s]\n",
      "Validating: 100%|██████████| 40/40 [00:02<00:00, 15.46it/s]\n"
     ]
    },
    {
     "name": "stdout",
     "output_type": "stream",
     "text": [
      "New best model saved with val loss 0.02101\n",
      "Train Loss: 0.00323 | Val Loss: 0.02101 | LR: 2.87e-05\n",
      "\n",
      "Epoch 65/1000\n"
     ]
    },
    {
     "name": "stderr",
     "output_type": "stream",
     "text": [
      "Training: 100%|██████████| 313/313 [00:44<00:00,  6.99it/s]\n",
      "Validating: 100%|██████████| 40/40 [00:02<00:00, 15.46it/s]\n"
     ]
    },
    {
     "name": "stdout",
     "output_type": "stream",
     "text": [
      "Train Loss: 0.00321 | Val Loss: 0.02101 | LR: 2.73e-05\n",
      "\n",
      "Epoch 66/1000\n"
     ]
    },
    {
     "name": "stderr",
     "output_type": "stream",
     "text": [
      "Training: 100%|██████████| 313/313 [00:44<00:00,  7.02it/s]\n",
      "Validating: 100%|██████████| 40/40 [00:02<00:00, 15.46it/s]\n"
     ]
    },
    {
     "name": "stdout",
     "output_type": "stream",
     "text": [
      "Train Loss: 0.00324 | Val Loss: 0.02103 | LR: 2.59e-05\n",
      "\n",
      "Epoch 67/1000\n"
     ]
    },
    {
     "name": "stderr",
     "output_type": "stream",
     "text": [
      "Training: 100%|██████████| 313/313 [00:44<00:00,  7.01it/s]\n",
      "Validating: 100%|██████████| 40/40 [00:02<00:00, 15.41it/s]\n"
     ]
    },
    {
     "name": "stdout",
     "output_type": "stream",
     "text": [
      "New best model saved with val loss 0.02100\n",
      "Train Loss: 0.00328 | Val Loss: 0.02100 | LR: 2.45e-05\n",
      "\n",
      "Epoch 68/1000\n"
     ]
    },
    {
     "name": "stderr",
     "output_type": "stream",
     "text": [
      "Training: 100%|██████████| 313/313 [00:44<00:00,  6.99it/s]\n",
      "Validating: 100%|██████████| 40/40 [00:02<00:00, 15.46it/s]\n"
     ]
    },
    {
     "name": "stdout",
     "output_type": "stream",
     "text": [
      "New best model saved with val loss 0.02099\n",
      "Train Loss: 0.00325 | Val Loss: 0.02099 | LR: 2.32e-05\n",
      "\n",
      "Epoch 69/1000\n"
     ]
    },
    {
     "name": "stderr",
     "output_type": "stream",
     "text": [
      "Training: 100%|██████████| 313/313 [00:44<00:00,  7.02it/s]\n",
      "Validating: 100%|██████████| 40/40 [00:02<00:00, 15.46it/s]\n"
     ]
    },
    {
     "name": "stdout",
     "output_type": "stream",
     "text": [
      "Train Loss: 0.00324 | Val Loss: 0.02099 | LR: 2.19e-05\n",
      "\n",
      "Epoch 70/1000\n"
     ]
    },
    {
     "name": "stderr",
     "output_type": "stream",
     "text": [
      "Training: 100%|██████████| 313/313 [00:44<00:00,  7.01it/s]\n",
      "Validating: 100%|██████████| 40/40 [00:02<00:00, 15.50it/s]\n"
     ]
    },
    {
     "name": "stdout",
     "output_type": "stream",
     "text": [
      "Train Loss: 0.00324 | Val Loss: 0.02102 | LR: 2.06e-05\n",
      "\n",
      "Epoch 71/1000\n"
     ]
    },
    {
     "name": "stderr",
     "output_type": "stream",
     "text": [
      "Training: 100%|██████████| 313/313 [00:44<00:00,  7.00it/s]\n",
      "Validating: 100%|██████████| 40/40 [00:02<00:00, 15.46it/s]\n"
     ]
    },
    {
     "name": "stdout",
     "output_type": "stream",
     "text": [
      "New best model saved with val loss 0.02098\n",
      "Train Loss: 0.00320 | Val Loss: 0.02098 | LR: 1.94e-05\n",
      "\n",
      "Epoch 72/1000\n"
     ]
    },
    {
     "name": "stderr",
     "output_type": "stream",
     "text": [
      "Training: 100%|██████████| 313/313 [00:44<00:00,  7.01it/s]\n",
      "Validating: 100%|██████████| 40/40 [00:02<00:00, 15.42it/s]\n"
     ]
    },
    {
     "name": "stdout",
     "output_type": "stream",
     "text": [
      "New best model saved with val loss 0.02094\n",
      "Train Loss: 0.00324 | Val Loss: 0.02094 | LR: 1.81e-05\n",
      "\n",
      "Epoch 73/1000\n"
     ]
    },
    {
     "name": "stderr",
     "output_type": "stream",
     "text": [
      "Training: 100%|██████████| 313/313 [00:44<00:00,  7.01it/s]\n",
      "Validating: 100%|██████████| 40/40 [00:02<00:00, 15.48it/s]\n"
     ]
    },
    {
     "name": "stdout",
     "output_type": "stream",
     "text": [
      "Train Loss: 0.00324 | Val Loss: 0.02095 | LR: 1.69e-05\n",
      "\n",
      "Epoch 74/1000\n"
     ]
    },
    {
     "name": "stderr",
     "output_type": "stream",
     "text": [
      "Training: 100%|██████████| 313/313 [00:44<00:00,  6.99it/s]\n",
      "Validating: 100%|██████████| 40/40 [00:02<00:00, 15.38it/s]\n"
     ]
    },
    {
     "name": "stdout",
     "output_type": "stream",
     "text": [
      "New best model saved with val loss 0.02094\n",
      "Train Loss: 0.00321 | Val Loss: 0.02094 | LR: 1.58e-05\n",
      "\n",
      "Epoch 75/1000\n"
     ]
    },
    {
     "name": "stderr",
     "output_type": "stream",
     "text": [
      "Training: 100%|██████████| 313/313 [00:44<00:00,  7.02it/s]\n",
      "Validating: 100%|██████████| 40/40 [00:02<00:00, 15.42it/s]\n"
     ]
    },
    {
     "name": "stdout",
     "output_type": "stream",
     "text": [
      "Train Loss: 0.00324 | Val Loss: 0.02096 | LR: 1.46e-05\n",
      "\n",
      "Epoch 76/1000\n"
     ]
    },
    {
     "name": "stderr",
     "output_type": "stream",
     "text": [
      "Training: 100%|██████████| 313/313 [00:44<00:00,  7.02it/s]\n",
      "Validating: 100%|██████████| 40/40 [00:02<00:00, 15.49it/s]\n"
     ]
    },
    {
     "name": "stdout",
     "output_type": "stream",
     "text": [
      "New best model saved with val loss 0.02094\n",
      "Train Loss: 0.00322 | Val Loss: 0.02094 | LR: 1.36e-05\n",
      "\n",
      "Epoch 77/1000\n"
     ]
    },
    {
     "name": "stderr",
     "output_type": "stream",
     "text": [
      "Training: 100%|██████████| 313/313 [00:44<00:00,  7.00it/s]\n",
      "Validating: 100%|██████████| 40/40 [00:02<00:00, 15.46it/s]\n"
     ]
    },
    {
     "name": "stdout",
     "output_type": "stream",
     "text": [
      "New best model saved with val loss 0.02093\n",
      "Train Loss: 0.00327 | Val Loss: 0.02093 | LR: 1.25e-05\n",
      "\n",
      "Epoch 78/1000\n"
     ]
    },
    {
     "name": "stderr",
     "output_type": "stream",
     "text": [
      "Training: 100%|██████████| 313/313 [00:44<00:00,  7.00it/s]\n",
      "Validating: 100%|██████████| 40/40 [00:02<00:00, 15.42it/s]\n"
     ]
    },
    {
     "name": "stdout",
     "output_type": "stream",
     "text": [
      "New best model saved with val loss 0.02092\n",
      "Train Loss: 0.00324 | Val Loss: 0.02092 | LR: 1.15e-05\n",
      "\n",
      "Epoch 79/1000\n"
     ]
    },
    {
     "name": "stderr",
     "output_type": "stream",
     "text": [
      "Training: 100%|██████████| 313/313 [00:44<00:00,  7.01it/s]\n",
      "Validating: 100%|██████████| 40/40 [00:02<00:00, 15.47it/s]\n"
     ]
    },
    {
     "name": "stdout",
     "output_type": "stream",
     "text": [
      "New best model saved with val loss 0.02091\n",
      "Train Loss: 0.00322 | Val Loss: 0.02091 | LR: 1.05e-05\n",
      "\n",
      "Epoch 80/1000\n"
     ]
    },
    {
     "name": "stderr",
     "output_type": "stream",
     "text": [
      "Training: 100%|██████████| 313/313 [00:44<00:00,  6.99it/s]\n",
      "Validating: 100%|██████████| 40/40 [00:02<00:00, 15.40it/s]\n"
     ]
    },
    {
     "name": "stdout",
     "output_type": "stream",
     "text": [
      "Train Loss: 0.00323 | Val Loss: 0.02095 | LR: 9.55e-06\n",
      "\n",
      "Epoch 81/1000\n"
     ]
    },
    {
     "name": "stderr",
     "output_type": "stream",
     "text": [
      "Training: 100%|██████████| 313/313 [00:44<00:00,  7.01it/s]\n",
      "Validating: 100%|██████████| 40/40 [00:02<00:00, 15.45it/s]\n"
     ]
    },
    {
     "name": "stdout",
     "output_type": "stream",
     "text": [
      "Train Loss: 0.00320 | Val Loss: 0.02091 | LR: 8.65e-06\n",
      "\n",
      "Epoch 82/1000\n"
     ]
    },
    {
     "name": "stderr",
     "output_type": "stream",
     "text": [
      "Training: 100%|██████████| 313/313 [00:44<00:00,  7.02it/s]\n",
      "Validating: 100%|██████████| 40/40 [00:02<00:00, 15.47it/s]\n"
     ]
    },
    {
     "name": "stdout",
     "output_type": "stream",
     "text": [
      "New best model saved with val loss 0.02091\n",
      "Train Loss: 0.00325 | Val Loss: 0.02091 | LR: 7.78e-06\n",
      "\n",
      "Epoch 83/1000\n"
     ]
    },
    {
     "name": "stderr",
     "output_type": "stream",
     "text": [
      "Training: 100%|██████████| 313/313 [00:44<00:00,  7.03it/s]\n",
      "Validating: 100%|██████████| 40/40 [00:02<00:00, 15.46it/s]\n"
     ]
    },
    {
     "name": "stdout",
     "output_type": "stream",
     "text": [
      "Train Loss: 0.00328 | Val Loss: 0.02091 | LR: 6.96e-06\n",
      "\n",
      "Epoch 84/1000\n"
     ]
    },
    {
     "name": "stderr",
     "output_type": "stream",
     "text": [
      "Training: 100%|██████████| 313/313 [00:44<00:00,  6.98it/s]\n",
      "Validating: 100%|██████████| 40/40 [00:02<00:00, 15.44it/s]\n"
     ]
    },
    {
     "name": "stdout",
     "output_type": "stream",
     "text": [
      "New best model saved with val loss 0.02089\n",
      "Train Loss: 0.00322 | Val Loss: 0.02089 | LR: 6.18e-06\n",
      "\n",
      "Epoch 85/1000\n"
     ]
    },
    {
     "name": "stderr",
     "output_type": "stream",
     "text": [
      "Training: 100%|██████████| 313/313 [00:44<00:00,  7.02it/s]\n",
      "Validating: 100%|██████████| 40/40 [00:02<00:00, 15.46it/s]\n"
     ]
    },
    {
     "name": "stdout",
     "output_type": "stream",
     "text": [
      "Train Loss: 0.00320 | Val Loss: 0.02090 | LR: 5.45e-06\n",
      "\n",
      "Epoch 86/1000\n"
     ]
    },
    {
     "name": "stderr",
     "output_type": "stream",
     "text": [
      "Training: 100%|██████████| 313/313 [00:44<00:00,  7.02it/s]\n",
      "Validating: 100%|██████████| 40/40 [00:02<00:00, 15.49it/s]\n"
     ]
    },
    {
     "name": "stdout",
     "output_type": "stream",
     "text": [
      "New best model saved with val loss 0.02089\n",
      "Train Loss: 0.00321 | Val Loss: 0.02089 | LR: 4.76e-06\n",
      "\n",
      "Epoch 87/1000\n"
     ]
    },
    {
     "name": "stderr",
     "output_type": "stream",
     "text": [
      "Training: 100%|██████████| 313/313 [00:44<00:00,  7.00it/s]\n",
      "Validating: 100%|██████████| 40/40 [00:02<00:00, 15.44it/s]\n"
     ]
    },
    {
     "name": "stdout",
     "output_type": "stream",
     "text": [
      "New best model saved with val loss 0.02088\n",
      "Train Loss: 0.00318 | Val Loss: 0.02088 | LR: 4.11e-06\n",
      "\n",
      "Epoch 88/1000\n"
     ]
    },
    {
     "name": "stderr",
     "output_type": "stream",
     "text": [
      "Training: 100%|██████████| 313/313 [00:44<00:00,  7.02it/s]\n",
      "Validating: 100%|██████████| 40/40 [00:02<00:00, 15.43it/s]\n"
     ]
    },
    {
     "name": "stdout",
     "output_type": "stream",
     "text": [
      "Train Loss: 0.00322 | Val Loss: 0.02088 | LR: 3.51e-06\n",
      "\n",
      "Epoch 89/1000\n"
     ]
    },
    {
     "name": "stderr",
     "output_type": "stream",
     "text": [
      "Training: 100%|██████████| 313/313 [00:44<00:00,  7.01it/s]\n",
      "Validating: 100%|██████████| 40/40 [00:02<00:00, 15.41it/s]\n"
     ]
    },
    {
     "name": "stdout",
     "output_type": "stream",
     "text": [
      "New best model saved with val loss 0.02087\n",
      "Train Loss: 0.00324 | Val Loss: 0.02087 | LR: 2.96e-06\n",
      "\n",
      "Epoch 90/1000\n"
     ]
    },
    {
     "name": "stderr",
     "output_type": "stream",
     "text": [
      "Training: 100%|██████████| 313/313 [00:44<00:00,  6.99it/s]\n",
      "Validating: 100%|██████████| 40/40 [00:02<00:00, 15.36it/s]\n"
     ]
    },
    {
     "name": "stdout",
     "output_type": "stream",
     "text": [
      "New best model saved with val loss 0.02087\n",
      "Train Loss: 0.00318 | Val Loss: 0.02087 | LR: 2.45e-06\n",
      "\n",
      "Epoch 91/1000\n"
     ]
    },
    {
     "name": "stderr",
     "output_type": "stream",
     "text": [
      "Training: 100%|██████████| 313/313 [00:44<00:00,  7.01it/s]\n",
      "Validating: 100%|██████████| 40/40 [00:02<00:00, 15.26it/s]\n"
     ]
    },
    {
     "name": "stdout",
     "output_type": "stream",
     "text": [
      "Train Loss: 0.00320 | Val Loss: 0.02087 | LR: 1.99e-06\n",
      "\n",
      "Epoch 92/1000\n"
     ]
    },
    {
     "name": "stderr",
     "output_type": "stream",
     "text": [
      "Training: 100%|██████████| 313/313 [00:44<00:00,  7.02it/s]\n",
      "Validating: 100%|██████████| 40/40 [00:02<00:00, 15.39it/s]\n"
     ]
    },
    {
     "name": "stdout",
     "output_type": "stream",
     "text": [
      "Train Loss: 0.00318 | Val Loss: 0.02088 | LR: 1.57e-06\n",
      "\n",
      "Epoch 93/1000\n"
     ]
    },
    {
     "name": "stderr",
     "output_type": "stream",
     "text": [
      "Training: 100%|██████████| 313/313 [00:44<00:00,  7.02it/s]\n",
      "Validating: 100%|██████████| 40/40 [00:02<00:00, 15.41it/s]\n"
     ]
    },
    {
     "name": "stdout",
     "output_type": "stream",
     "text": [
      "Train Loss: 0.00318 | Val Loss: 0.02087 | LR: 1.20e-06\n",
      "\n",
      "Epoch 94/1000\n"
     ]
    },
    {
     "name": "stderr",
     "output_type": "stream",
     "text": [
      "Training: 100%|██████████| 313/313 [00:44<00:00,  6.98it/s]\n",
      "Validating: 100%|██████████| 40/40 [00:02<00:00, 15.39it/s]\n"
     ]
    },
    {
     "name": "stdout",
     "output_type": "stream",
     "text": [
      "Train Loss: 0.00318 | Val Loss: 0.02087 | LR: 8.86e-07\n",
      "\n",
      "Epoch 95/1000\n"
     ]
    },
    {
     "name": "stderr",
     "output_type": "stream",
     "text": [
      "Training: 100%|██████████| 313/313 [00:44<00:00,  7.01it/s]\n",
      "Validating: 100%|██████████| 40/40 [00:02<00:00, 15.36it/s]\n"
     ]
    },
    {
     "name": "stdout",
     "output_type": "stream",
     "text": [
      "Train Loss: 0.00324 | Val Loss: 0.02088 | LR: 6.16e-07\n",
      "\n",
      "Epoch 96/1000\n"
     ]
    },
    {
     "name": "stderr",
     "output_type": "stream",
     "text": [
      "Training: 100%|██████████| 313/313 [00:44<00:00,  7.00it/s]\n",
      "Validating: 100%|██████████| 40/40 [00:02<00:00, 15.44it/s]\n"
     ]
    },
    {
     "name": "stdout",
     "output_type": "stream",
     "text": [
      "Train Loss: 0.00323 | Val Loss: 0.02087 | LR: 3.94e-07\n",
      "\n",
      "Epoch 97/1000\n"
     ]
    },
    {
     "name": "stderr",
     "output_type": "stream",
     "text": [
      "Training: 100%|██████████| 313/313 [00:44<00:00,  6.98it/s]\n",
      "Validating: 100%|██████████| 40/40 [00:02<00:00, 15.42it/s]\n"
     ]
    },
    {
     "name": "stdout",
     "output_type": "stream",
     "text": [
      "New best model saved with val loss 0.02087\n",
      "Train Loss: 0.00324 | Val Loss: 0.02087 | LR: 2.22e-07\n",
      "\n",
      "Epoch 98/1000\n"
     ]
    },
    {
     "name": "stderr",
     "output_type": "stream",
     "text": [
      "Training: 100%|██████████| 313/313 [00:44<00:00,  7.01it/s]\n",
      "Validating: 100%|██████████| 40/40 [00:02<00:00, 15.44it/s]\n"
     ]
    },
    {
     "name": "stdout",
     "output_type": "stream",
     "text": [
      "Train Loss: 0.00325 | Val Loss: 0.02087 | LR: 9.87e-08\n",
      "\n",
      "Epoch 99/1000\n"
     ]
    },
    {
     "name": "stderr",
     "output_type": "stream",
     "text": [
      "Training: 100%|██████████| 313/313 [00:44<00:00,  7.02it/s]\n",
      "Validating: 100%|██████████| 40/40 [00:02<00:00, 15.51it/s]\n"
     ]
    },
    {
     "name": "stdout",
     "output_type": "stream",
     "text": [
      "Train Loss: 0.00322 | Val Loss: 0.02087 | LR: 2.47e-08\n",
      "\n",
      "Epoch 100/1000\n"
     ]
    },
    {
     "name": "stderr",
     "output_type": "stream",
     "text": [
      "Training: 100%|██████████| 313/313 [00:44<00:00,  7.01it/s]\n",
      "Validating: 100%|██████████| 40/40 [00:02<00:00, 15.47it/s]\n"
     ]
    },
    {
     "name": "stdout",
     "output_type": "stream",
     "text": [
      "Train Loss: 0.00320 | Val Loss: 0.02087 | LR: 1.00e-04\n",
      "\n",
      "Epoch 101/1000\n"
     ]
    },
    {
     "name": "stderr",
     "output_type": "stream",
     "text": [
      "Training: 100%|██████████| 313/313 [00:44<00:00,  6.98it/s]\n",
      "Validating: 100%|██████████| 40/40 [00:02<00:00, 15.41it/s]\n"
     ]
    },
    {
     "name": "stdout",
     "output_type": "stream",
     "text": [
      "Train Loss: 0.00325 | Val Loss: 0.02124 | LR: 1.00e-04\n",
      "\n",
      "Epoch 102/1000\n"
     ]
    },
    {
     "name": "stderr",
     "output_type": "stream",
     "text": [
      "Training: 100%|██████████| 313/313 [00:44<00:00,  7.00it/s]\n",
      "Validating: 100%|██████████| 40/40 [00:02<00:00, 15.41it/s]\n"
     ]
    },
    {
     "name": "stdout",
     "output_type": "stream",
     "text": [
      "Train Loss: 0.00326 | Val Loss: 0.02111 | LR: 1.00e-04\n",
      "\n",
      "Epoch 103/1000\n"
     ]
    },
    {
     "name": "stderr",
     "output_type": "stream",
     "text": [
      "Training: 100%|██████████| 313/313 [00:44<00:00,  7.02it/s]\n",
      "Validating: 100%|██████████| 40/40 [00:02<00:00, 15.44it/s]\n"
     ]
    },
    {
     "name": "stdout",
     "output_type": "stream",
     "text": [
      "Train Loss: 0.00322 | Val Loss: 0.02107 | LR: 9.99e-05\n",
      "\n",
      "Epoch 104/1000\n"
     ]
    },
    {
     "name": "stderr",
     "output_type": "stream",
     "text": [
      "Training: 100%|██████████| 313/313 [00:44<00:00,  6.98it/s]\n",
      "Validating: 100%|██████████| 40/40 [00:02<00:00, 15.37it/s]\n"
     ]
    },
    {
     "name": "stdout",
     "output_type": "stream",
     "text": [
      "Train Loss: 0.00323 | Val Loss: 0.02113 | LR: 9.99e-05\n",
      "\n",
      "Epoch 105/1000\n"
     ]
    },
    {
     "name": "stderr",
     "output_type": "stream",
     "text": [
      "Training: 100%|██████████| 313/313 [00:44<00:00,  7.01it/s]\n",
      "Validating: 100%|██████████| 40/40 [00:02<00:00, 15.52it/s]\n"
     ]
    },
    {
     "name": "stdout",
     "output_type": "stream",
     "text": [
      "Train Loss: 0.00324 | Val Loss: 0.02105 | LR: 9.98e-05\n",
      "\n",
      "Epoch 106/1000\n"
     ]
    },
    {
     "name": "stderr",
     "output_type": "stream",
     "text": [
      "Training: 100%|██████████| 313/313 [00:44<00:00,  7.01it/s]\n",
      "Validating: 100%|██████████| 40/40 [00:02<00:00, 15.38it/s]\n"
     ]
    },
    {
     "name": "stdout",
     "output_type": "stream",
     "text": [
      "Train Loss: 0.00326 | Val Loss: 0.02109 | LR: 9.98e-05\n",
      "\n",
      "Epoch 107/1000\n"
     ]
    },
    {
     "name": "stderr",
     "output_type": "stream",
     "text": [
      "Training: 100%|██████████| 313/313 [00:44<00:00,  7.01it/s]\n",
      "Validating: 100%|██████████| 40/40 [00:02<00:00, 15.39it/s]\n"
     ]
    },
    {
     "name": "stdout",
     "output_type": "stream",
     "text": [
      "Train Loss: 0.00325 | Val Loss: 0.02112 | LR: 9.97e-05\n",
      "\n",
      "Epoch 108/1000\n"
     ]
    },
    {
     "name": "stderr",
     "output_type": "stream",
     "text": [
      "Training: 100%|██████████| 313/313 [00:44<00:00,  6.97it/s]\n",
      "Validating: 100%|██████████| 40/40 [00:02<00:00, 15.39it/s]\n"
     ]
    },
    {
     "name": "stdout",
     "output_type": "stream",
     "text": [
      "Train Loss: 0.00324 | Val Loss: 0.02117 | LR: 9.96e-05\n",
      "\n",
      "Epoch 109/1000\n"
     ]
    },
    {
     "name": "stderr",
     "output_type": "stream",
     "text": [
      "Training: 100%|██████████| 313/313 [00:44<00:00,  7.01it/s]\n",
      "Validating: 100%|██████████| 40/40 [00:02<00:00, 15.49it/s]\n"
     ]
    },
    {
     "name": "stdout",
     "output_type": "stream",
     "text": [
      "Train Loss: 0.00328 | Val Loss: 0.02105 | LR: 9.95e-05\n",
      "\n",
      "Epoch 110/1000\n"
     ]
    },
    {
     "name": "stderr",
     "output_type": "stream",
     "text": [
      "Training: 100%|██████████| 313/313 [00:44<00:00,  7.02it/s]\n",
      "Validating: 100%|██████████| 40/40 [00:02<00:00, 15.46it/s]\n"
     ]
    },
    {
     "name": "stdout",
     "output_type": "stream",
     "text": [
      "Train Loss: 0.00324 | Val Loss: 0.02108 | LR: 9.94e-05\n",
      "\n",
      "Epoch 111/1000\n"
     ]
    },
    {
     "name": "stderr",
     "output_type": "stream",
     "text": [
      "Training: 100%|██████████| 313/313 [00:44<00:00,  6.99it/s]\n",
      "Validating: 100%|██████████| 40/40 [00:02<00:00, 15.40it/s]\n"
     ]
    },
    {
     "name": "stdout",
     "output_type": "stream",
     "text": [
      "Train Loss: 0.00326 | Val Loss: 0.02129 | LR: 9.93e-05\n",
      "\n",
      "Epoch 112/1000\n"
     ]
    },
    {
     "name": "stderr",
     "output_type": "stream",
     "text": [
      "Training: 100%|██████████| 313/313 [00:44<00:00,  7.02it/s]\n",
      "Validating: 100%|██████████| 40/40 [00:02<00:00, 15.48it/s]\n"
     ]
    },
    {
     "name": "stdout",
     "output_type": "stream",
     "text": [
      "Train Loss: 0.00324 | Val Loss: 0.02110 | LR: 9.91e-05\n",
      "\n",
      "Epoch 113/1000\n"
     ]
    },
    {
     "name": "stderr",
     "output_type": "stream",
     "text": [
      "Training: 100%|██████████| 313/313 [00:44<00:00,  7.03it/s]\n",
      "Validating: 100%|██████████| 40/40 [00:02<00:00, 15.50it/s]\n"
     ]
    },
    {
     "name": "stdout",
     "output_type": "stream",
     "text": [
      "Train Loss: 0.00321 | Val Loss: 0.02104 | LR: 9.90e-05\n",
      "\n",
      "Epoch 114/1000\n"
     ]
    },
    {
     "name": "stderr",
     "output_type": "stream",
     "text": [
      "Training: 100%|██████████| 313/313 [00:44<00:00,  7.02it/s]\n",
      "Validating: 100%|██████████| 40/40 [00:02<00:00, 15.49it/s]\n"
     ]
    },
    {
     "name": "stdout",
     "output_type": "stream",
     "text": [
      "Train Loss: 0.00327 | Val Loss: 0.02107 | LR: 9.88e-05\n",
      "\n",
      "Epoch 115/1000\n"
     ]
    },
    {
     "name": "stderr",
     "output_type": "stream",
     "text": [
      "Training: 100%|██████████| 313/313 [00:44<00:00,  6.99it/s]\n",
      "Validating: 100%|██████████| 40/40 [00:02<00:00, 15.49it/s]\n"
     ]
    },
    {
     "name": "stdout",
     "output_type": "stream",
     "text": [
      "Train Loss: 0.00324 | Val Loss: 0.02108 | LR: 9.86e-05\n",
      "\n",
      "Epoch 116/1000\n"
     ]
    },
    {
     "name": "stderr",
     "output_type": "stream",
     "text": [
      "Training: 100%|██████████| 313/313 [00:44<00:00,  7.01it/s]\n",
      "Validating: 100%|██████████| 40/40 [00:02<00:00, 15.42it/s]\n"
     ]
    },
    {
     "name": "stdout",
     "output_type": "stream",
     "text": [
      "Train Loss: 0.00326 | Val Loss: 0.02099 | LR: 9.84e-05\n",
      "\n",
      "Epoch 117/1000\n"
     ]
    },
    {
     "name": "stderr",
     "output_type": "stream",
     "text": [
      "Training: 100%|██████████| 313/313 [00:44<00:00,  7.02it/s]\n",
      "Validating: 100%|██████████| 40/40 [00:02<00:00, 15.49it/s]\n"
     ]
    },
    {
     "name": "stdout",
     "output_type": "stream",
     "text": [
      "Train Loss: 0.00324 | Val Loss: 0.02101 | LR: 9.82e-05\n",
      "\n",
      "Epoch 118/1000\n"
     ]
    },
    {
     "name": "stderr",
     "output_type": "stream",
     "text": [
      "Training: 100%|██████████| 313/313 [00:44<00:00,  7.01it/s]\n",
      "Validating: 100%|██████████| 40/40 [00:02<00:00, 15.49it/s]\n"
     ]
    },
    {
     "name": "stdout",
     "output_type": "stream",
     "text": [
      "Train Loss: 0.00320 | Val Loss: 0.02102 | LR: 9.80e-05\n",
      "\n",
      "Epoch 119/1000\n"
     ]
    },
    {
     "name": "stderr",
     "output_type": "stream",
     "text": [
      "Training: 100%|██████████| 313/313 [00:44<00:00,  7.01it/s]\n",
      "Validating: 100%|██████████| 40/40 [00:02<00:00, 15.44it/s]\n"
     ]
    },
    {
     "name": "stdout",
     "output_type": "stream",
     "text": [
      "Train Loss: 0.00319 | Val Loss: 0.02106 | LR: 9.78e-05\n",
      "\n",
      "Epoch 120/1000\n"
     ]
    },
    {
     "name": "stderr",
     "output_type": "stream",
     "text": [
      "Training: 100%|██████████| 313/313 [00:44<00:00,  7.02it/s]\n",
      "Validating: 100%|██████████| 40/40 [00:02<00:00, 15.48it/s]\n"
     ]
    },
    {
     "name": "stdout",
     "output_type": "stream",
     "text": [
      "Train Loss: 0.00321 | Val Loss: 0.02105 | LR: 9.76e-05\n",
      "\n",
      "Epoch 121/1000\n"
     ]
    },
    {
     "name": "stderr",
     "output_type": "stream",
     "text": [
      "Training: 100%|██████████| 313/313 [00:44<00:00,  7.01it/s]\n",
      "Validating: 100%|██████████| 40/40 [00:02<00:00, 15.51it/s]\n"
     ]
    },
    {
     "name": "stdout",
     "output_type": "stream",
     "text": [
      "Train Loss: 0.00323 | Val Loss: 0.02099 | LR: 9.73e-05\n",
      "\n",
      "Epoch 122/1000\n"
     ]
    },
    {
     "name": "stderr",
     "output_type": "stream",
     "text": [
      "Training: 100%|██████████| 313/313 [00:44<00:00,  7.02it/s]\n",
      "Validating: 100%|██████████| 40/40 [00:02<00:00, 15.37it/s]\n"
     ]
    },
    {
     "name": "stdout",
     "output_type": "stream",
     "text": [
      "Train Loss: 0.00318 | Val Loss: 0.02104 | LR: 9.70e-05\n",
      "\n",
      "Epoch 123/1000\n"
     ]
    },
    {
     "name": "stderr",
     "output_type": "stream",
     "text": [
      "Training: 100%|██████████| 313/313 [00:44<00:00,  6.98it/s]\n",
      "Validating: 100%|██████████| 40/40 [00:02<00:00, 15.44it/s]\n"
     ]
    },
    {
     "name": "stdout",
     "output_type": "stream",
     "text": [
      "Train Loss: 0.00320 | Val Loss: 0.02113 | LR: 9.68e-05\n",
      "\n",
      "Epoch 124/1000\n"
     ]
    },
    {
     "name": "stderr",
     "output_type": "stream",
     "text": [
      "Training: 100%|██████████| 313/313 [00:44<00:00,  7.02it/s]\n",
      "Validating: 100%|██████████| 40/40 [00:02<00:00, 15.49it/s]\n"
     ]
    },
    {
     "name": "stdout",
     "output_type": "stream",
     "text": [
      "Train Loss: 0.00322 | Val Loss: 0.02099 | LR: 9.65e-05\n",
      "\n",
      "Epoch 125/1000\n"
     ]
    },
    {
     "name": "stderr",
     "output_type": "stream",
     "text": [
      "Training: 100%|██████████| 313/313 [00:44<00:00,  6.99it/s]\n",
      "Validating: 100%|██████████| 40/40 [00:02<00:00, 15.31it/s]\n"
     ]
    },
    {
     "name": "stdout",
     "output_type": "stream",
     "text": [
      "Train Loss: 0.00322 | Val Loss: 0.02103 | LR: 9.62e-05\n",
      "\n",
      "Epoch 126/1000\n"
     ]
    },
    {
     "name": "stderr",
     "output_type": "stream",
     "text": [
      "Training: 100%|██████████| 313/313 [00:44<00:00,  7.01it/s]\n",
      "Validating: 100%|██████████| 40/40 [00:02<00:00, 15.44it/s]\n"
     ]
    },
    {
     "name": "stdout",
     "output_type": "stream",
     "text": [
      "Train Loss: 0.00319 | Val Loss: 0.02096 | LR: 9.59e-05\n",
      "\n",
      "Epoch 127/1000\n"
     ]
    },
    {
     "name": "stderr",
     "output_type": "stream",
     "text": [
      "Training: 100%|██████████| 313/313 [00:44<00:00,  6.97it/s]\n",
      "Validating: 100%|██████████| 40/40 [00:02<00:00, 15.44it/s]\n"
     ]
    },
    {
     "name": "stdout",
     "output_type": "stream",
     "text": [
      "Train Loss: 0.00318 | Val Loss: 0.02098 | LR: 9.56e-05\n",
      "\n",
      "Epoch 128/1000\n"
     ]
    },
    {
     "name": "stderr",
     "output_type": "stream",
     "text": [
      "Training: 100%|██████████| 313/313 [00:44<00:00,  7.00it/s]\n",
      "Validating: 100%|██████████| 40/40 [00:02<00:00, 15.53it/s]\n"
     ]
    },
    {
     "name": "stdout",
     "output_type": "stream",
     "text": [
      "Train Loss: 0.00316 | Val Loss: 0.02096 | LR: 9.52e-05\n",
      "\n",
      "Epoch 129/1000\n"
     ]
    },
    {
     "name": "stderr",
     "output_type": "stream",
     "text": [
      "Training: 100%|██████████| 313/313 [00:44<00:00,  7.03it/s]\n",
      "Validating: 100%|██████████| 40/40 [00:02<00:00, 15.43it/s]\n"
     ]
    },
    {
     "name": "stdout",
     "output_type": "stream",
     "text": [
      "Train Loss: 0.00319 | Val Loss: 0.02103 | LR: 9.49e-05\n",
      "\n",
      "Epoch 130/1000\n"
     ]
    },
    {
     "name": "stderr",
     "output_type": "stream",
     "text": [
      "Training: 100%|██████████| 313/313 [00:44<00:00,  7.03it/s]\n",
      "Validating: 100%|██████████| 40/40 [00:02<00:00, 15.50it/s]\n"
     ]
    },
    {
     "name": "stdout",
     "output_type": "stream",
     "text": [
      "Train Loss: 0.00325 | Val Loss: 0.02104 | LR: 9.46e-05\n",
      "\n",
      "Epoch 131/1000\n"
     ]
    },
    {
     "name": "stderr",
     "output_type": "stream",
     "text": [
      "Training: 100%|██████████| 313/313 [00:44<00:00,  6.97it/s]\n",
      "Validating: 100%|██████████| 40/40 [00:02<00:00, 15.38it/s]\n"
     ]
    },
    {
     "name": "stdout",
     "output_type": "stream",
     "text": [
      "Train Loss: 0.00322 | Val Loss: 0.02101 | LR: 9.42e-05\n",
      "\n",
      "Epoch 132/1000\n"
     ]
    },
    {
     "name": "stderr",
     "output_type": "stream",
     "text": [
      "Training: 100%|██████████| 313/313 [00:44<00:00,  7.02it/s]\n",
      "Validating: 100%|██████████| 40/40 [00:02<00:00, 15.50it/s]\n"
     ]
    },
    {
     "name": "stdout",
     "output_type": "stream",
     "text": [
      "Train Loss: 0.00318 | Val Loss: 0.02106 | LR: 9.38e-05\n",
      "\n",
      "Epoch 133/1000\n"
     ]
    },
    {
     "name": "stderr",
     "output_type": "stream",
     "text": [
      "Training: 100%|██████████| 313/313 [00:44<00:00,  7.02it/s]\n",
      "Validating: 100%|██████████| 40/40 [00:02<00:00, 15.50it/s]\n"
     ]
    },
    {
     "name": "stdout",
     "output_type": "stream",
     "text": [
      "Train Loss: 0.00320 | Val Loss: 0.02098 | LR: 9.34e-05\n",
      "\n",
      "Epoch 134/1000\n"
     ]
    },
    {
     "name": "stderr",
     "output_type": "stream",
     "text": [
      "Training: 100%|██████████| 313/313 [00:44<00:00,  7.01it/s]\n",
      "Validating: 100%|██████████| 40/40 [00:02<00:00, 15.45it/s]\n"
     ]
    },
    {
     "name": "stdout",
     "output_type": "stream",
     "text": [
      "Train Loss: 0.00319 | Val Loss: 0.02096 | LR: 9.30e-05\n",
      "\n",
      "Epoch 135/1000\n"
     ]
    },
    {
     "name": "stderr",
     "output_type": "stream",
     "text": [
      "Training: 100%|██████████| 313/313 [00:44<00:00,  6.99it/s]\n",
      "Validating: 100%|██████████| 40/40 [00:02<00:00, 15.37it/s]\n"
     ]
    },
    {
     "name": "stdout",
     "output_type": "stream",
     "text": [
      "Train Loss: 0.00322 | Val Loss: 0.02099 | LR: 9.26e-05\n",
      "\n",
      "Epoch 136/1000\n"
     ]
    },
    {
     "name": "stderr",
     "output_type": "stream",
     "text": [
      "Training: 100%|██████████| 313/313 [00:44<00:00,  7.02it/s]\n",
      "Validating: 100%|██████████| 40/40 [00:02<00:00, 15.41it/s]\n"
     ]
    },
    {
     "name": "stdout",
     "output_type": "stream",
     "text": [
      "Train Loss: 0.00320 | Val Loss: 0.02091 | LR: 9.22e-05\n",
      "\n",
      "Epoch 137/1000\n"
     ]
    },
    {
     "name": "stderr",
     "output_type": "stream",
     "text": [
      "Training: 100%|██████████| 313/313 [00:44<00:00,  7.02it/s]\n",
      "Validating: 100%|██████████| 40/40 [00:02<00:00, 15.50it/s]\n"
     ]
    },
    {
     "name": "stdout",
     "output_type": "stream",
     "text": [
      "Train Loss: 0.00318 | Val Loss: 0.02105 | LR: 9.18e-05\n",
      "\n",
      "Epoch 138/1000\n"
     ]
    },
    {
     "name": "stderr",
     "output_type": "stream",
     "text": [
      "Training: 100%|██████████| 313/313 [00:44<00:00,  7.02it/s]\n",
      "Validating: 100%|██████████| 40/40 [00:02<00:00, 15.45it/s]\n"
     ]
    },
    {
     "name": "stdout",
     "output_type": "stream",
     "text": [
      "Train Loss: 0.00314 | Val Loss: 0.02093 | LR: 9.14e-05\n",
      "\n",
      "Epoch 139/1000\n"
     ]
    },
    {
     "name": "stderr",
     "output_type": "stream",
     "text": [
      "Training: 100%|██████████| 313/313 [00:44<00:00,  6.98it/s]\n",
      "Validating: 100%|██████████| 40/40 [00:02<00:00, 15.49it/s]\n"
     ]
    },
    {
     "name": "stdout",
     "output_type": "stream",
     "text": [
      "Train Loss: 0.00314 | Val Loss: 0.02098 | LR: 9.09e-05\n",
      "\n",
      "Epoch 140/1000\n"
     ]
    },
    {
     "name": "stderr",
     "output_type": "stream",
     "text": [
      "Training: 100%|██████████| 313/313 [00:44<00:00,  7.01it/s]\n",
      "Validating: 100%|██████████| 40/40 [00:02<00:00, 15.50it/s]\n"
     ]
    },
    {
     "name": "stdout",
     "output_type": "stream",
     "text": [
      "Train Loss: 0.00318 | Val Loss: 0.02098 | LR: 9.05e-05\n",
      "\n",
      "Epoch 141/1000\n"
     ]
    },
    {
     "name": "stderr",
     "output_type": "stream",
     "text": [
      "Training: 100%|██████████| 313/313 [00:44<00:00,  7.02it/s]\n",
      "Validating: 100%|██████████| 40/40 [00:02<00:00, 15.55it/s]\n"
     ]
    },
    {
     "name": "stdout",
     "output_type": "stream",
     "text": [
      "Train Loss: 0.00319 | Val Loss: 0.02093 | LR: 9.00e-05\n",
      "\n",
      "Epoch 142/1000\n"
     ]
    },
    {
     "name": "stderr",
     "output_type": "stream",
     "text": [
      "Training: 100%|██████████| 313/313 [00:44<00:00,  7.01it/s]\n",
      "Validating: 100%|██████████| 40/40 [00:02<00:00, 15.50it/s]\n"
     ]
    },
    {
     "name": "stdout",
     "output_type": "stream",
     "text": [
      "Train Loss: 0.00317 | Val Loss: 0.02106 | LR: 8.95e-05\n",
      "\n",
      "Epoch 143/1000\n"
     ]
    },
    {
     "name": "stderr",
     "output_type": "stream",
     "text": [
      "Training: 100%|██████████| 313/313 [00:44<00:00,  6.99it/s]\n",
      "Validating: 100%|██████████| 40/40 [00:02<00:00, 15.44it/s]\n"
     ]
    },
    {
     "name": "stdout",
     "output_type": "stream",
     "text": [
      "Train Loss: 0.00315 | Val Loss: 0.02092 | LR: 8.90e-05\n",
      "\n",
      "Epoch 144/1000\n"
     ]
    },
    {
     "name": "stderr",
     "output_type": "stream",
     "text": [
      "Training: 100%|██████████| 313/313 [00:44<00:00,  7.01it/s]\n",
      "Validating: 100%|██████████| 40/40 [00:02<00:00, 15.45it/s]\n"
     ]
    },
    {
     "name": "stdout",
     "output_type": "stream",
     "text": [
      "Train Loss: 0.00320 | Val Loss: 0.02099 | LR: 8.85e-05\n",
      "\n",
      "Epoch 145/1000\n"
     ]
    },
    {
     "name": "stderr",
     "output_type": "stream",
     "text": [
      "Training: 100%|██████████| 313/313 [00:44<00:00,  7.01it/s]\n",
      "Validating: 100%|██████████| 40/40 [00:02<00:00, 15.53it/s]\n"
     ]
    },
    {
     "name": "stdout",
     "output_type": "stream",
     "text": [
      "Train Loss: 0.00319 | Val Loss: 0.02091 | LR: 8.80e-05\n",
      "\n",
      "Epoch 146/1000\n"
     ]
    },
    {
     "name": "stderr",
     "output_type": "stream",
     "text": [
      "Training: 100%|██████████| 313/313 [00:44<00:00,  7.01it/s]\n",
      "Validating: 100%|██████████| 40/40 [00:02<00:00, 15.55it/s]\n"
     ]
    },
    {
     "name": "stdout",
     "output_type": "stream",
     "text": [
      "Train Loss: 0.00316 | Val Loss: 0.02092 | LR: 8.75e-05\n",
      "\n",
      "Epoch 147/1000\n"
     ]
    },
    {
     "name": "stderr",
     "output_type": "stream",
     "text": [
      "Training: 100%|██████████| 313/313 [00:44<00:00,  7.02it/s]\n",
      "Validating: 100%|██████████| 40/40 [00:02<00:00, 14.42it/s]\n"
     ]
    },
    {
     "name": "stdout",
     "output_type": "stream",
     "text": [
      "Train Loss: 0.00319 | Val Loss: 0.02096 | LR: 8.70e-05\n",
      "\n",
      "Epoch 148/1000\n"
     ]
    },
    {
     "name": "stderr",
     "output_type": "stream",
     "text": [
      "Training: 100%|██████████| 313/313 [00:44<00:00,  7.01it/s]\n",
      "Validating: 100%|██████████| 40/40 [00:02<00:00, 15.42it/s]\n"
     ]
    },
    {
     "name": "stdout",
     "output_type": "stream",
     "text": [
      "Train Loss: 0.00321 | Val Loss: 0.02088 | LR: 8.64e-05\n",
      "\n",
      "Epoch 149/1000\n"
     ]
    },
    {
     "name": "stderr",
     "output_type": "stream",
     "text": [
      "Training: 100%|██████████| 313/313 [00:44<00:00,  7.03it/s]\n",
      "Validating: 100%|██████████| 40/40 [00:02<00:00, 15.46it/s]\n"
     ]
    },
    {
     "name": "stdout",
     "output_type": "stream",
     "text": [
      "Train Loss: 0.00318 | Val Loss: 0.02097 | LR: 8.59e-05\n",
      "\n",
      "Epoch 150/1000\n"
     ]
    },
    {
     "name": "stderr",
     "output_type": "stream",
     "text": [
      "Training: 100%|██████████| 313/313 [00:44<00:00,  7.02it/s]\n",
      "Validating: 100%|██████████| 40/40 [00:02<00:00, 15.46it/s]\n"
     ]
    },
    {
     "name": "stdout",
     "output_type": "stream",
     "text": [
      "Train Loss: 0.00320 | Val Loss: 0.02090 | LR: 8.54e-05\n",
      "\n",
      "Epoch 151/1000\n"
     ]
    },
    {
     "name": "stderr",
     "output_type": "stream",
     "text": [
      "Training: 100%|██████████| 313/313 [00:44<00:00,  7.01it/s]\n",
      "Validating: 100%|██████████| 40/40 [00:02<00:00, 15.49it/s]\n"
     ]
    },
    {
     "name": "stdout",
     "output_type": "stream",
     "text": [
      "New best model saved with val loss 0.02085\n",
      "Train Loss: 0.00316 | Val Loss: 0.02085 | LR: 8.48e-05\n",
      "\n",
      "Epoch 152/1000\n"
     ]
    },
    {
     "name": "stderr",
     "output_type": "stream",
     "text": [
      "Training: 100%|██████████| 313/313 [00:44<00:00,  6.98it/s]\n",
      "Validating: 100%|██████████| 40/40 [00:02<00:00, 15.52it/s]\n"
     ]
    },
    {
     "name": "stdout",
     "output_type": "stream",
     "text": [
      "Train Loss: 0.00315 | Val Loss: 0.02086 | LR: 8.42e-05\n",
      "\n",
      "Epoch 153/1000\n"
     ]
    },
    {
     "name": "stderr",
     "output_type": "stream",
     "text": [
      "Training: 100%|██████████| 313/313 [00:44<00:00,  7.01it/s]\n",
      "Validating: 100%|██████████| 40/40 [00:02<00:00, 15.51it/s]\n"
     ]
    },
    {
     "name": "stdout",
     "output_type": "stream",
     "text": [
      "Train Loss: 0.00313 | Val Loss: 0.02097 | LR: 8.37e-05\n",
      "\n",
      "Epoch 154/1000\n"
     ]
    },
    {
     "name": "stderr",
     "output_type": "stream",
     "text": [
      "Training: 100%|██████████| 313/313 [00:44<00:00,  7.02it/s]\n",
      "Validating: 100%|██████████| 40/40 [00:02<00:00, 15.44it/s]\n"
     ]
    },
    {
     "name": "stdout",
     "output_type": "stream",
     "text": [
      "Train Loss: 0.00317 | Val Loss: 0.02087 | LR: 8.31e-05\n",
      "\n",
      "Epoch 155/1000\n"
     ]
    },
    {
     "name": "stderr",
     "output_type": "stream",
     "text": [
      "Training: 100%|██████████| 313/313 [00:44<00:00,  7.01it/s]\n",
      "Validating: 100%|██████████| 40/40 [00:02<00:00, 15.52it/s]\n"
     ]
    },
    {
     "name": "stdout",
     "output_type": "stream",
     "text": [
      "Train Loss: 0.00318 | Val Loss: 0.02099 | LR: 8.25e-05\n",
      "\n",
      "Epoch 156/1000\n"
     ]
    },
    {
     "name": "stderr",
     "output_type": "stream",
     "text": [
      "Training: 100%|██████████| 313/313 [00:44<00:00,  6.99it/s]\n",
      "Validating: 100%|██████████| 40/40 [00:02<00:00, 15.39it/s]\n"
     ]
    },
    {
     "name": "stdout",
     "output_type": "stream",
     "text": [
      "New best model saved with val loss 0.02084\n",
      "Train Loss: 0.00312 | Val Loss: 0.02084 | LR: 8.19e-05\n",
      "\n",
      "Epoch 157/1000\n"
     ]
    },
    {
     "name": "stderr",
     "output_type": "stream",
     "text": [
      "Training: 100%|██████████| 313/313 [00:44<00:00,  7.02it/s]\n",
      "Validating: 100%|██████████| 40/40 [00:02<00:00, 15.41it/s]\n"
     ]
    },
    {
     "name": "stdout",
     "output_type": "stream",
     "text": [
      "New best model saved with val loss 0.02083\n",
      "Train Loss: 0.00311 | Val Loss: 0.02083 | LR: 8.13e-05\n",
      "\n",
      "Epoch 158/1000\n"
     ]
    },
    {
     "name": "stderr",
     "output_type": "stream",
     "text": [
      "Training: 100%|██████████| 313/313 [00:44<00:00,  7.02it/s]\n",
      "Validating: 100%|██████████| 40/40 [00:02<00:00, 15.47it/s]\n"
     ]
    },
    {
     "name": "stdout",
     "output_type": "stream",
     "text": [
      "Train Loss: 0.00319 | Val Loss: 0.02088 | LR: 8.06e-05\n",
      "\n",
      "Epoch 159/1000\n"
     ]
    },
    {
     "name": "stderr",
     "output_type": "stream",
     "text": [
      "Training: 100%|██████████| 313/313 [00:44<00:00,  7.02it/s]\n",
      "Validating: 100%|██████████| 40/40 [00:02<00:00, 15.52it/s]\n"
     ]
    },
    {
     "name": "stdout",
     "output_type": "stream",
     "text": [
      "Train Loss: 0.00314 | Val Loss: 0.02085 | LR: 8.00e-05\n",
      "\n",
      "Epoch 160/1000\n"
     ]
    },
    {
     "name": "stderr",
     "output_type": "stream",
     "text": [
      "Training: 100%|██████████| 313/313 [00:44<00:00,  7.02it/s]\n",
      "Validating: 100%|██████████| 40/40 [00:02<00:00, 15.51it/s]\n"
     ]
    },
    {
     "name": "stdout",
     "output_type": "stream",
     "text": [
      "New best model saved with val loss 0.02080\n",
      "Train Loss: 0.00313 | Val Loss: 0.02080 | LR: 7.94e-05\n",
      "\n",
      "Epoch 161/1000\n"
     ]
    },
    {
     "name": "stderr",
     "output_type": "stream",
     "text": [
      "Training: 100%|██████████| 313/313 [00:44<00:00,  6.98it/s]\n",
      "Validating: 100%|██████████| 40/40 [00:02<00:00, 15.41it/s]\n"
     ]
    },
    {
     "name": "stdout",
     "output_type": "stream",
     "text": [
      "Train Loss: 0.00316 | Val Loss: 0.02082 | LR: 7.88e-05\n",
      "\n",
      "Epoch 162/1000\n"
     ]
    },
    {
     "name": "stderr",
     "output_type": "stream",
     "text": [
      "Training: 100%|██████████| 313/313 [00:44<00:00,  7.01it/s]\n",
      "Validating: 100%|██████████| 40/40 [00:02<00:00, 15.44it/s]\n"
     ]
    },
    {
     "name": "stdout",
     "output_type": "stream",
     "text": [
      "Train Loss: 0.00314 | Val Loss: 0.02093 | LR: 7.81e-05\n",
      "\n",
      "Epoch 163/1000\n"
     ]
    },
    {
     "name": "stderr",
     "output_type": "stream",
     "text": [
      "Training: 100%|██████████| 313/313 [00:44<00:00,  7.01it/s]\n",
      "Validating: 100%|██████████| 40/40 [00:02<00:00, 15.46it/s]\n"
     ]
    },
    {
     "name": "stdout",
     "output_type": "stream",
     "text": [
      "Train Loss: 0.00317 | Val Loss: 0.02086 | LR: 7.75e-05\n",
      "\n",
      "Epoch 164/1000\n"
     ]
    },
    {
     "name": "stderr",
     "output_type": "stream",
     "text": [
      "Training: 100%|██████████| 313/313 [00:44<00:00,  7.01it/s]\n",
      "Validating: 100%|██████████| 40/40 [00:02<00:00, 15.41it/s]\n"
     ]
    },
    {
     "name": "stdout",
     "output_type": "stream",
     "text": [
      "Train Loss: 0.00316 | Val Loss: 0.02083 | LR: 7.68e-05\n",
      "\n",
      "Epoch 165/1000\n"
     ]
    },
    {
     "name": "stderr",
     "output_type": "stream",
     "text": [
      "Training: 100%|██████████| 313/313 [00:44<00:00,  7.01it/s]\n",
      "Validating: 100%|██████████| 40/40 [00:02<00:00, 14.47it/s]\n"
     ]
    },
    {
     "name": "stdout",
     "output_type": "stream",
     "text": [
      "Train Loss: 0.00316 | Val Loss: 0.02086 | LR: 7.61e-05\n",
      "\n",
      "Epoch 166/1000\n"
     ]
    },
    {
     "name": "stderr",
     "output_type": "stream",
     "text": [
      "Training: 100%|██████████| 313/313 [00:44<00:00,  7.02it/s]\n",
      "Validating: 100%|██████████| 40/40 [00:02<00:00, 15.44it/s]\n"
     ]
    },
    {
     "name": "stdout",
     "output_type": "stream",
     "text": [
      "Train Loss: 0.00312 | Val Loss: 0.02082 | LR: 7.55e-05\n",
      "\n",
      "Epoch 167/1000\n"
     ]
    },
    {
     "name": "stderr",
     "output_type": "stream",
     "text": [
      "Training: 100%|██████████| 313/313 [00:44<00:00,  7.02it/s]\n",
      "Validating: 100%|██████████| 40/40 [00:02<00:00, 15.45it/s]\n"
     ]
    },
    {
     "name": "stdout",
     "output_type": "stream",
     "text": [
      "Train Loss: 0.00315 | Val Loss: 0.02083 | LR: 7.48e-05\n",
      "\n",
      "Epoch 168/1000\n"
     ]
    },
    {
     "name": "stderr",
     "output_type": "stream",
     "text": [
      "Training: 100%|██████████| 313/313 [00:44<00:00,  7.02it/s]\n",
      "Validating: 100%|██████████| 40/40 [00:02<00:00, 15.58it/s]\n"
     ]
    },
    {
     "name": "stdout",
     "output_type": "stream",
     "text": [
      "New best model saved with val loss 0.02078\n",
      "Train Loss: 0.00309 | Val Loss: 0.02078 | LR: 7.41e-05\n",
      "\n",
      "Epoch 169/1000\n"
     ]
    },
    {
     "name": "stderr",
     "output_type": "stream",
     "text": [
      "Training: 100%|██████████| 313/313 [00:44<00:00,  7.02it/s]\n",
      "Validating: 100%|██████████| 40/40 [00:02<00:00, 15.50it/s]\n"
     ]
    },
    {
     "name": "stdout",
     "output_type": "stream",
     "text": [
      "Train Loss: 0.00309 | Val Loss: 0.02082 | LR: 7.34e-05\n",
      "\n",
      "Epoch 170/1000\n"
     ]
    },
    {
     "name": "stderr",
     "output_type": "stream",
     "text": [
      "Training: 100%|██████████| 313/313 [00:44<00:00,  6.98it/s]\n",
      "Validating: 100%|██████████| 40/40 [00:02<00:00, 15.50it/s]\n"
     ]
    },
    {
     "name": "stdout",
     "output_type": "stream",
     "text": [
      "Train Loss: 0.00314 | Val Loss: 0.02085 | LR: 7.27e-05\n",
      "\n",
      "Epoch 171/1000\n"
     ]
    },
    {
     "name": "stderr",
     "output_type": "stream",
     "text": [
      "Training: 100%|██████████| 313/313 [00:44<00:00,  7.00it/s]\n",
      "Validating: 100%|██████████| 40/40 [00:02<00:00, 15.45it/s]\n"
     ]
    },
    {
     "name": "stdout",
     "output_type": "stream",
     "text": [
      "Train Loss: 0.00317 | Val Loss: 0.02082 | LR: 7.20e-05\n",
      "\n",
      "Epoch 172/1000\n"
     ]
    },
    {
     "name": "stderr",
     "output_type": "stream",
     "text": [
      "Training: 100%|██████████| 313/313 [00:44<00:00,  7.02it/s]\n",
      "Validating: 100%|██████████| 40/40 [00:02<00:00, 15.48it/s]\n"
     ]
    },
    {
     "name": "stdout",
     "output_type": "stream",
     "text": [
      "Train Loss: 0.00313 | Val Loss: 0.02085 | LR: 7.13e-05\n",
      "\n",
      "Epoch 173/1000\n"
     ]
    },
    {
     "name": "stderr",
     "output_type": "stream",
     "text": [
      "Training: 100%|██████████| 313/313 [00:44<00:00,  7.02it/s]\n",
      "Validating: 100%|██████████| 40/40 [00:02<00:00, 15.48it/s]\n"
     ]
    },
    {
     "name": "stdout",
     "output_type": "stream",
     "text": [
      "Train Loss: 0.00312 | Val Loss: 0.02083 | LR: 7.06e-05\n",
      "\n",
      "Epoch 174/1000\n"
     ]
    },
    {
     "name": "stderr",
     "output_type": "stream",
     "text": [
      "Training: 100%|██████████| 313/313 [00:44<00:00,  7.02it/s]\n",
      "Validating: 100%|██████████| 40/40 [00:02<00:00, 15.53it/s]\n"
     ]
    },
    {
     "name": "stdout",
     "output_type": "stream",
     "text": [
      "Train Loss: 0.00315 | Val Loss: 0.02087 | LR: 6.99e-05\n",
      "\n",
      "Epoch 175/1000\n"
     ]
    },
    {
     "name": "stderr",
     "output_type": "stream",
     "text": [
      "Training: 100%|██████████| 313/313 [00:44<00:00,  6.98it/s]\n",
      "Validating: 100%|██████████| 40/40 [00:02<00:00, 15.42it/s]\n"
     ]
    },
    {
     "name": "stdout",
     "output_type": "stream",
     "text": [
      "Train Loss: 0.00315 | Val Loss: 0.02090 | LR: 6.91e-05\n",
      "\n",
      "Epoch 176/1000\n"
     ]
    },
    {
     "name": "stderr",
     "output_type": "stream",
     "text": [
      "Training: 100%|██████████| 313/313 [00:44<00:00,  7.01it/s]\n",
      "Validating: 100%|██████████| 40/40 [00:02<00:00, 15.44it/s]\n"
     ]
    },
    {
     "name": "stdout",
     "output_type": "stream",
     "text": [
      "New best model saved with val loss 0.02076\n",
      "Train Loss: 0.00316 | Val Loss: 0.02076 | LR: 6.84e-05\n",
      "\n",
      "Epoch 177/1000\n"
     ]
    },
    {
     "name": "stderr",
     "output_type": "stream",
     "text": [
      "Training: 100%|██████████| 313/313 [00:44<00:00,  7.01it/s]\n",
      "Validating: 100%|██████████| 40/40 [00:02<00:00, 15.51it/s]\n"
     ]
    },
    {
     "name": "stdout",
     "output_type": "stream",
     "text": [
      "Train Loss: 0.00314 | Val Loss: 0.02080 | LR: 6.77e-05\n",
      "\n",
      "Epoch 178/1000\n"
     ]
    },
    {
     "name": "stderr",
     "output_type": "stream",
     "text": [
      "Training: 100%|██████████| 313/313 [00:44<00:00,  7.01it/s]\n",
      "Validating: 100%|██████████| 40/40 [00:02<00:00, 15.45it/s]\n"
     ]
    },
    {
     "name": "stdout",
     "output_type": "stream",
     "text": [
      "Train Loss: 0.00315 | Val Loss: 0.02078 | LR: 6.69e-05\n",
      "\n",
      "Epoch 179/1000\n"
     ]
    },
    {
     "name": "stderr",
     "output_type": "stream",
     "text": [
      "Training: 100%|██████████| 313/313 [00:44<00:00,  7.01it/s]\n",
      "Validating: 100%|██████████| 40/40 [00:02<00:00, 15.52it/s]\n"
     ]
    },
    {
     "name": "stdout",
     "output_type": "stream",
     "text": [
      "Train Loss: 0.00312 | Val Loss: 0.02081 | LR: 6.62e-05\n",
      "\n",
      "Epoch 180/1000\n"
     ]
    },
    {
     "name": "stderr",
     "output_type": "stream",
     "text": [
      "Training: 100%|██████████| 313/313 [00:44<00:00,  6.98it/s]\n",
      "Validating: 100%|██████████| 40/40 [00:02<00:00, 15.42it/s]\n"
     ]
    },
    {
     "name": "stdout",
     "output_type": "stream",
     "text": [
      "Train Loss: 0.00313 | Val Loss: 0.02079 | LR: 6.55e-05\n",
      "\n",
      "Epoch 181/1000\n"
     ]
    },
    {
     "name": "stderr",
     "output_type": "stream",
     "text": [
      "Training: 100%|██████████| 313/313 [00:44<00:00,  7.02it/s]\n",
      "Validating: 100%|██████████| 40/40 [00:02<00:00, 15.51it/s]\n"
     ]
    },
    {
     "name": "stdout",
     "output_type": "stream",
     "text": [
      "Train Loss: 0.00315 | Val Loss: 0.02084 | LR: 6.47e-05\n",
      "\n",
      "Epoch 182/1000\n"
     ]
    },
    {
     "name": "stderr",
     "output_type": "stream",
     "text": [
      "Training: 100%|██████████| 313/313 [00:44<00:00,  7.02it/s]\n",
      "Validating: 100%|██████████| 40/40 [00:02<00:00, 15.46it/s]\n"
     ]
    },
    {
     "name": "stdout",
     "output_type": "stream",
     "text": [
      "Train Loss: 0.00313 | Val Loss: 0.02081 | LR: 6.39e-05\n",
      "\n",
      "Epoch 183/1000\n"
     ]
    },
    {
     "name": "stderr",
     "output_type": "stream",
     "text": [
      "Training: 100%|██████████| 313/313 [00:44<00:00,  7.02it/s]\n",
      "Validating: 100%|██████████| 40/40 [00:02<00:00, 15.58it/s]\n"
     ]
    },
    {
     "name": "stdout",
     "output_type": "stream",
     "text": [
      "Train Loss: 0.00310 | Val Loss: 0.02082 | LR: 6.32e-05\n",
      "\n",
      "Epoch 184/1000\n"
     ]
    },
    {
     "name": "stderr",
     "output_type": "stream",
     "text": [
      "Training: 100%|██████████| 313/313 [00:44<00:00,  7.02it/s]\n",
      "Validating: 100%|██████████| 40/40 [00:02<00:00, 15.49it/s]\n"
     ]
    },
    {
     "name": "stdout",
     "output_type": "stream",
     "text": [
      "New best model saved with val loss 0.02072\n",
      "Train Loss: 0.00314 | Val Loss: 0.02072 | LR: 6.24e-05\n",
      "\n",
      "Epoch 185/1000\n"
     ]
    },
    {
     "name": "stderr",
     "output_type": "stream",
     "text": [
      "Training: 100%|██████████| 313/313 [00:44<00:00,  6.99it/s]\n",
      "Validating: 100%|██████████| 40/40 [00:02<00:00, 15.45it/s]\n"
     ]
    },
    {
     "name": "stdout",
     "output_type": "stream",
     "text": [
      "Train Loss: 0.00305 | Val Loss: 0.02082 | LR: 6.17e-05\n",
      "\n",
      "Epoch 186/1000\n"
     ]
    },
    {
     "name": "stderr",
     "output_type": "stream",
     "text": [
      "Training: 100%|██████████| 313/313 [00:44<00:00,  7.00it/s]\n",
      "Validating: 100%|██████████| 40/40 [00:02<00:00, 15.43it/s]\n"
     ]
    },
    {
     "name": "stdout",
     "output_type": "stream",
     "text": [
      "Train Loss: 0.00309 | Val Loss: 0.02077 | LR: 6.09e-05\n",
      "\n",
      "Epoch 187/1000\n"
     ]
    },
    {
     "name": "stderr",
     "output_type": "stream",
     "text": [
      "Training: 100%|██████████| 313/313 [00:44<00:00,  7.01it/s]\n",
      "Validating: 100%|██████████| 40/40 [00:02<00:00, 15.46it/s]\n"
     ]
    },
    {
     "name": "stdout",
     "output_type": "stream",
     "text": [
      "Train Loss: 0.00313 | Val Loss: 0.02074 | LR: 6.01e-05\n",
      "\n",
      "Epoch 188/1000\n"
     ]
    },
    {
     "name": "stderr",
     "output_type": "stream",
     "text": [
      "Training: 100%|██████████| 313/313 [00:44<00:00,  7.02it/s]\n",
      "Validating: 100%|██████████| 40/40 [00:02<00:00, 15.46it/s]\n"
     ]
    },
    {
     "name": "stdout",
     "output_type": "stream",
     "text": [
      "Train Loss: 0.00310 | Val Loss: 0.02084 | LR: 5.94e-05\n",
      "\n",
      "Epoch 189/1000\n"
     ]
    },
    {
     "name": "stderr",
     "output_type": "stream",
     "text": [
      "Training: 100%|██████████| 313/313 [00:44<00:00,  7.02it/s]\n",
      "Validating: 100%|██████████| 40/40 [00:02<00:00, 15.51it/s]\n"
     ]
    },
    {
     "name": "stdout",
     "output_type": "stream",
     "text": [
      "Train Loss: 0.00311 | Val Loss: 0.02075 | LR: 5.86e-05\n",
      "\n",
      "Epoch 190/1000\n"
     ]
    },
    {
     "name": "stderr",
     "output_type": "stream",
     "text": [
      "Training: 100%|██████████| 313/313 [00:44<00:00,  6.98it/s]\n",
      "Validating: 100%|██████████| 40/40 [00:02<00:00, 15.50it/s]\n"
     ]
    },
    {
     "name": "stdout",
     "output_type": "stream",
     "text": [
      "Train Loss: 0.00309 | Val Loss: 0.02078 | LR: 5.78e-05\n",
      "\n",
      "Epoch 191/1000\n"
     ]
    },
    {
     "name": "stderr",
     "output_type": "stream",
     "text": [
      "Training: 100%|██████████| 313/313 [00:44<00:00,  7.01it/s]\n",
      "Validating: 100%|██████████| 40/40 [00:02<00:00, 15.49it/s]\n"
     ]
    },
    {
     "name": "stdout",
     "output_type": "stream",
     "text": [
      "Train Loss: 0.00313 | Val Loss: 0.02077 | LR: 5.70e-05\n",
      "\n",
      "Epoch 192/1000\n"
     ]
    },
    {
     "name": "stderr",
     "output_type": "stream",
     "text": [
      "Training: 100%|██████████| 313/313 [00:44<00:00,  7.02it/s]\n",
      "Validating: 100%|██████████| 40/40 [00:02<00:00, 15.53it/s]\n"
     ]
    },
    {
     "name": "stdout",
     "output_type": "stream",
     "text": [
      "Train Loss: 0.00309 | Val Loss: 0.02078 | LR: 5.63e-05\n",
      "\n",
      "Epoch 193/1000\n"
     ]
    },
    {
     "name": "stderr",
     "output_type": "stream",
     "text": [
      "Training: 100%|██████████| 313/313 [00:44<00:00,  7.03it/s]\n",
      "Validating: 100%|██████████| 40/40 [00:02<00:00, 15.53it/s]\n"
     ]
    },
    {
     "name": "stdout",
     "output_type": "stream",
     "text": [
      "Train Loss: 0.00311 | Val Loss: 0.02078 | LR: 5.55e-05\n",
      "\n",
      "Epoch 194/1000\n"
     ]
    },
    {
     "name": "stderr",
     "output_type": "stream",
     "text": [
      "Training: 100%|██████████| 313/313 [00:44<00:00,  7.02it/s]\n",
      "Validating: 100%|██████████| 40/40 [00:02<00:00, 15.48it/s]\n"
     ]
    },
    {
     "name": "stdout",
     "output_type": "stream",
     "text": [
      "Train Loss: 0.00309 | Val Loss: 0.02084 | LR: 5.47e-05\n",
      "\n",
      "Epoch 195/1000\n"
     ]
    },
    {
     "name": "stderr",
     "output_type": "stream",
     "text": [
      "Training: 100%|██████████| 313/313 [00:44<00:00,  6.98it/s]\n",
      "Validating: 100%|██████████| 40/40 [00:02<00:00, 15.45it/s]\n"
     ]
    },
    {
     "name": "stdout",
     "output_type": "stream",
     "text": [
      "Train Loss: 0.00314 | Val Loss: 0.02074 | LR: 5.39e-05\n",
      "\n",
      "Epoch 196/1000\n"
     ]
    },
    {
     "name": "stderr",
     "output_type": "stream",
     "text": [
      "Training: 100%|██████████| 313/313 [00:44<00:00,  7.01it/s]\n",
      "Validating: 100%|██████████| 40/40 [00:02<00:00, 15.46it/s]\n"
     ]
    },
    {
     "name": "stdout",
     "output_type": "stream",
     "text": [
      "Train Loss: 0.00307 | Val Loss: 0.02072 | LR: 5.31e-05\n",
      "\n",
      "Epoch 197/1000\n"
     ]
    },
    {
     "name": "stderr",
     "output_type": "stream",
     "text": [
      "Training: 100%|██████████| 313/313 [00:44<00:00,  7.01it/s]\n",
      "Validating: 100%|██████████| 40/40 [00:02<00:00, 15.45it/s]\n"
     ]
    },
    {
     "name": "stdout",
     "output_type": "stream",
     "text": [
      "Train Loss: 0.00311 | Val Loss: 0.02077 | LR: 5.24e-05\n",
      "\n",
      "Epoch 198/1000\n"
     ]
    },
    {
     "name": "stderr",
     "output_type": "stream",
     "text": [
      "Training: 100%|██████████| 313/313 [00:44<00:00,  7.01it/s]\n",
      "Validating: 100%|██████████| 40/40 [00:02<00:00, 15.52it/s]\n"
     ]
    },
    {
     "name": "stdout",
     "output_type": "stream",
     "text": [
      "Train Loss: 0.00308 | Val Loss: 0.02077 | LR: 5.16e-05\n",
      "\n",
      "Epoch 199/1000\n"
     ]
    },
    {
     "name": "stderr",
     "output_type": "stream",
     "text": [
      "Training: 100%|██████████| 313/313 [00:44<00:00,  7.02it/s]\n",
      "Validating: 100%|██████████| 40/40 [00:02<00:00, 15.53it/s]\n"
     ]
    },
    {
     "name": "stdout",
     "output_type": "stream",
     "text": [
      "Train Loss: 0.00307 | Val Loss: 0.02077 | LR: 5.08e-05\n",
      "\n",
      "Epoch 200/1000\n"
     ]
    },
    {
     "name": "stderr",
     "output_type": "stream",
     "text": [
      "Training: 100%|██████████| 313/313 [00:44<00:00,  6.99it/s]\n",
      "Validating: 100%|██████████| 40/40 [00:02<00:00, 15.36it/s]\n"
     ]
    },
    {
     "name": "stdout",
     "output_type": "stream",
     "text": [
      "Train Loss: 0.00310 | Val Loss: 0.02075 | LR: 5.00e-05\n",
      "\n",
      "Epoch 201/1000\n"
     ]
    },
    {
     "name": "stderr",
     "output_type": "stream",
     "text": [
      "Training: 100%|██████████| 313/313 [00:45<00:00,  6.88it/s]\n",
      "Validating: 100%|██████████| 40/40 [00:02<00:00, 15.49it/s]\n"
     ]
    },
    {
     "name": "stdout",
     "output_type": "stream",
     "text": [
      "Train Loss: 0.00307 | Val Loss: 0.02081 | LR: 4.92e-05\n",
      "\n",
      "Epoch 202/1000\n"
     ]
    },
    {
     "name": "stderr",
     "output_type": "stream",
     "text": [
      "Training: 100%|██████████| 313/313 [00:44<00:00,  7.02it/s]\n",
      "Validating: 100%|██████████| 40/40 [00:02<00:00, 15.39it/s]\n"
     ]
    },
    {
     "name": "stdout",
     "output_type": "stream",
     "text": [
      "Train Loss: 0.00313 | Val Loss: 0.02075 | LR: 4.84e-05\n",
      "\n",
      "Epoch 203/1000\n"
     ]
    },
    {
     "name": "stderr",
     "output_type": "stream",
     "text": [
      "Training: 100%|██████████| 313/313 [00:44<00:00,  6.98it/s]\n",
      "Validating: 100%|██████████| 40/40 [00:02<00:00, 15.53it/s]\n"
     ]
    },
    {
     "name": "stdout",
     "output_type": "stream",
     "text": [
      "New best model saved with val loss 0.02071\n",
      "Train Loss: 0.00311 | Val Loss: 0.02071 | LR: 4.76e-05\n",
      "\n",
      "Epoch 204/1000\n"
     ]
    },
    {
     "name": "stderr",
     "output_type": "stream",
     "text": [
      "Training: 100%|██████████| 313/313 [00:45<00:00,  6.86it/s]\n",
      "Validating: 100%|██████████| 40/40 [00:02<00:00, 15.55it/s]\n"
     ]
    },
    {
     "name": "stdout",
     "output_type": "stream",
     "text": [
      "Train Loss: 0.00308 | Val Loss: 0.02072 | LR: 4.69e-05\n",
      "\n",
      "Epoch 205/1000\n"
     ]
    },
    {
     "name": "stderr",
     "output_type": "stream",
     "text": [
      "Training: 100%|██████████| 313/313 [00:44<00:00,  7.03it/s]\n",
      "Validating: 100%|██████████| 40/40 [00:02<00:00, 15.52it/s]\n"
     ]
    },
    {
     "name": "stdout",
     "output_type": "stream",
     "text": [
      "Train Loss: 0.00314 | Val Loss: 0.02076 | LR: 4.61e-05\n",
      "\n",
      "Epoch 206/1000\n"
     ]
    },
    {
     "name": "stderr",
     "output_type": "stream",
     "text": [
      "Training: 100%|██████████| 313/313 [00:45<00:00,  6.81it/s]\n",
      "Validating: 100%|██████████| 40/40 [00:02<00:00, 15.42it/s]\n"
     ]
    },
    {
     "name": "stdout",
     "output_type": "stream",
     "text": [
      "Train Loss: 0.00308 | Val Loss: 0.02075 | LR: 4.53e-05\n",
      "\n",
      "Epoch 207/1000\n"
     ]
    },
    {
     "name": "stderr",
     "output_type": "stream",
     "text": [
      "Training: 100%|██████████| 313/313 [00:44<00:00,  7.01it/s]\n",
      "Validating: 100%|██████████| 40/40 [00:02<00:00, 15.48it/s]\n"
     ]
    },
    {
     "name": "stdout",
     "output_type": "stream",
     "text": [
      "Train Loss: 0.00309 | Val Loss: 0.02077 | LR: 4.45e-05\n",
      "\n",
      "Epoch 208/1000\n"
     ]
    },
    {
     "name": "stderr",
     "output_type": "stream",
     "text": [
      "Training: 100%|██████████| 313/313 [00:44<00:00,  7.01it/s]\n",
      "Validating: 100%|██████████| 40/40 [00:02<00:00, 15.49it/s]\n"
     ]
    },
    {
     "name": "stdout",
     "output_type": "stream",
     "text": [
      "Train Loss: 0.00309 | Val Loss: 0.02072 | LR: 4.37e-05\n",
      "\n",
      "Epoch 209/1000\n"
     ]
    },
    {
     "name": "stderr",
     "output_type": "stream",
     "text": [
      "Training: 100%|██████████| 313/313 [00:44<00:00,  7.02it/s]\n",
      "Validating: 100%|██████████| 40/40 [00:02<00:00, 15.53it/s]\n"
     ]
    },
    {
     "name": "stdout",
     "output_type": "stream",
     "text": [
      "New best model saved with val loss 0.02070\n",
      "Train Loss: 0.00309 | Val Loss: 0.02070 | LR: 4.30e-05\n",
      "\n",
      "Epoch 210/1000\n"
     ]
    },
    {
     "name": "stderr",
     "output_type": "stream",
     "text": [
      "Training: 100%|██████████| 313/313 [00:44<00:00,  7.03it/s]\n",
      "Validating: 100%|██████████| 40/40 [00:02<00:00, 15.47it/s]\n"
     ]
    },
    {
     "name": "stdout",
     "output_type": "stream",
     "text": [
      "Train Loss: 0.00309 | Val Loss: 0.02075 | LR: 4.22e-05\n",
      "\n",
      "Epoch 211/1000\n"
     ]
    },
    {
     "name": "stderr",
     "output_type": "stream",
     "text": [
      "Training: 100%|██████████| 313/313 [00:44<00:00,  6.98it/s]\n",
      "Validating: 100%|██████████| 40/40 [00:02<00:00, 15.49it/s]\n"
     ]
    },
    {
     "name": "stdout",
     "output_type": "stream",
     "text": [
      "Train Loss: 0.00304 | Val Loss: 0.02075 | LR: 4.14e-05\n",
      "\n",
      "Epoch 212/1000\n"
     ]
    },
    {
     "name": "stderr",
     "output_type": "stream",
     "text": [
      "Training: 100%|██████████| 313/313 [00:44<00:00,  7.01it/s]\n",
      "Validating: 100%|██████████| 40/40 [00:02<00:00, 15.48it/s]\n"
     ]
    },
    {
     "name": "stdout",
     "output_type": "stream",
     "text": [
      "New best model saved with val loss 0.02069\n",
      "Train Loss: 0.00311 | Val Loss: 0.02069 | LR: 4.06e-05\n",
      "\n",
      "Epoch 213/1000\n"
     ]
    },
    {
     "name": "stderr",
     "output_type": "stream",
     "text": [
      "Training: 100%|██████████| 313/313 [00:44<00:00,  7.01it/s]\n",
      "Validating: 100%|██████████| 40/40 [00:02<00:00, 15.49it/s]\n"
     ]
    },
    {
     "name": "stdout",
     "output_type": "stream",
     "text": [
      "Train Loss: 0.00308 | Val Loss: 0.02072 | LR: 3.99e-05\n",
      "\n",
      "Epoch 214/1000\n"
     ]
    },
    {
     "name": "stderr",
     "output_type": "stream",
     "text": [
      "Training: 100%|██████████| 313/313 [00:45<00:00,  6.83it/s]\n",
      "Validating: 100%|██████████| 40/40 [00:02<00:00, 15.51it/s]\n"
     ]
    },
    {
     "name": "stdout",
     "output_type": "stream",
     "text": [
      "Train Loss: 0.00306 | Val Loss: 0.02079 | LR: 3.91e-05\n",
      "\n",
      "Epoch 215/1000\n"
     ]
    },
    {
     "name": "stderr",
     "output_type": "stream",
     "text": [
      "Training: 100%|██████████| 313/313 [00:44<00:00,  7.02it/s]\n",
      "Validating: 100%|██████████| 40/40 [00:02<00:00, 15.56it/s]\n"
     ]
    },
    {
     "name": "stdout",
     "output_type": "stream",
     "text": [
      "Train Loss: 0.00305 | Val Loss: 0.02070 | LR: 3.83e-05\n",
      "\n",
      "Epoch 216/1000\n"
     ]
    },
    {
     "name": "stderr",
     "output_type": "stream",
     "text": [
      "Training: 100%|██████████| 313/313 [00:44<00:00,  7.02it/s]\n",
      "Validating: 100%|██████████| 40/40 [00:02<00:00, 15.54it/s]\n"
     ]
    },
    {
     "name": "stdout",
     "output_type": "stream",
     "text": [
      "Train Loss: 0.00309 | Val Loss: 0.02071 | LR: 3.76e-05\n",
      "\n",
      "Epoch 217/1000\n"
     ]
    },
    {
     "name": "stderr",
     "output_type": "stream",
     "text": [
      "Training: 100%|██████████| 313/313 [00:45<00:00,  6.95it/s]\n",
      "Validating: 100%|██████████| 40/40 [00:02<00:00, 15.38it/s]\n"
     ]
    },
    {
     "name": "stdout",
     "output_type": "stream",
     "text": [
      "New best model saved with val loss 0.02068\n",
      "Train Loss: 0.00309 | Val Loss: 0.02068 | LR: 3.68e-05\n",
      "\n",
      "Epoch 218/1000\n"
     ]
    },
    {
     "name": "stderr",
     "output_type": "stream",
     "text": [
      "Training: 100%|██████████| 313/313 [00:44<00:00,  7.01it/s]\n",
      "Validating: 100%|██████████| 40/40 [00:02<00:00, 15.47it/s]\n"
     ]
    },
    {
     "name": "stdout",
     "output_type": "stream",
     "text": [
      "Train Loss: 0.00308 | Val Loss: 0.02070 | LR: 3.61e-05\n",
      "\n",
      "Epoch 219/1000\n"
     ]
    },
    {
     "name": "stderr",
     "output_type": "stream",
     "text": [
      "Training: 100%|██████████| 313/313 [00:44<00:00,  7.01it/s]\n",
      "Validating: 100%|██████████| 40/40 [00:02<00:00, 15.42it/s]\n"
     ]
    },
    {
     "name": "stdout",
     "output_type": "stream",
     "text": [
      "Train Loss: 0.00302 | Val Loss: 0.02074 | LR: 3.53e-05\n",
      "\n",
      "Epoch 220/1000\n"
     ]
    },
    {
     "name": "stderr",
     "output_type": "stream",
     "text": [
      "Training: 100%|██████████| 313/313 [00:44<00:00,  6.99it/s]\n",
      "Validating: 100%|██████████| 40/40 [00:02<00:00, 15.27it/s]\n"
     ]
    },
    {
     "name": "stdout",
     "output_type": "stream",
     "text": [
      "Train Loss: 0.00307 | Val Loss: 0.02072 | LR: 3.45e-05\n",
      "\n",
      "Epoch 221/1000\n"
     ]
    },
    {
     "name": "stderr",
     "output_type": "stream",
     "text": [
      "Training: 100%|██████████| 313/313 [00:45<00:00,  6.87it/s]\n",
      "Validating: 100%|██████████| 40/40 [00:02<00:00, 15.49it/s]\n"
     ]
    },
    {
     "name": "stdout",
     "output_type": "stream",
     "text": [
      "Train Loss: 0.00304 | Val Loss: 0.02072 | LR: 3.38e-05\n",
      "\n",
      "Epoch 222/1000\n"
     ]
    },
    {
     "name": "stderr",
     "output_type": "stream",
     "text": [
      "Training: 100%|██████████| 313/313 [00:44<00:00,  6.97it/s]\n",
      "Validating: 100%|██████████| 40/40 [00:02<00:00, 15.42it/s]\n"
     ]
    },
    {
     "name": "stdout",
     "output_type": "stream",
     "text": [
      "Train Loss: 0.00310 | Val Loss: 0.02072 | LR: 3.31e-05\n",
      "\n",
      "Epoch 223/1000\n"
     ]
    },
    {
     "name": "stderr",
     "output_type": "stream",
     "text": [
      "Training: 100%|██████████| 313/313 [00:44<00:00,  6.99it/s]\n",
      "Validating: 100%|██████████| 40/40 [00:02<00:00, 15.37it/s]\n"
     ]
    },
    {
     "name": "stdout",
     "output_type": "stream",
     "text": [
      "Train Loss: 0.00306 | Val Loss: 0.02071 | LR: 3.23e-05\n",
      "\n",
      "Epoch 224/1000\n"
     ]
    },
    {
     "name": "stderr",
     "output_type": "stream",
     "text": [
      "Training: 100%|██████████| 313/313 [00:44<00:00,  6.99it/s]\n",
      "Validating: 100%|██████████| 40/40 [00:03<00:00, 12.81it/s]\n"
     ]
    },
    {
     "name": "stdout",
     "output_type": "stream",
     "text": [
      "Train Loss: 0.00311 | Val Loss: 0.02081 | LR: 3.16e-05\n",
      "\n",
      "Epoch 225/1000\n"
     ]
    },
    {
     "name": "stderr",
     "output_type": "stream",
     "text": [
      "Training: 100%|██████████| 313/313 [00:45<00:00,  6.91it/s]\n",
      "Validating: 100%|██████████| 40/40 [00:02<00:00, 15.44it/s]\n"
     ]
    },
    {
     "name": "stdout",
     "output_type": "stream",
     "text": [
      "Train Loss: 0.00306 | Val Loss: 0.02070 | LR: 3.09e-05\n",
      "\n",
      "Epoch 226/1000\n"
     ]
    },
    {
     "name": "stderr",
     "output_type": "stream",
     "text": [
      "Training: 100%|██████████| 313/313 [00:44<00:00,  7.02it/s]\n",
      "Validating: 100%|██████████| 40/40 [00:02<00:00, 15.56it/s]\n"
     ]
    },
    {
     "name": "stdout",
     "output_type": "stream",
     "text": [
      "Train Loss: 0.00304 | Val Loss: 0.02073 | LR: 3.01e-05\n",
      "\n",
      "Epoch 227/1000\n"
     ]
    },
    {
     "name": "stderr",
     "output_type": "stream",
     "text": [
      "Training: 100%|██████████| 313/313 [00:44<00:00,  7.03it/s]\n",
      "Validating: 100%|██████████| 40/40 [00:02<00:00, 15.40it/s]\n"
     ]
    },
    {
     "name": "stdout",
     "output_type": "stream",
     "text": [
      "Train Loss: 0.00308 | Val Loss: 0.02074 | LR: 2.94e-05\n",
      "\n",
      "Epoch 228/1000\n"
     ]
    },
    {
     "name": "stderr",
     "output_type": "stream",
     "text": [
      "Training: 100%|██████████| 313/313 [00:44<00:00,  6.98it/s]\n",
      "Validating: 100%|██████████| 40/40 [00:02<00:00, 15.48it/s]\n"
     ]
    },
    {
     "name": "stdout",
     "output_type": "stream",
     "text": [
      "Train Loss: 0.00306 | Val Loss: 0.02074 | LR: 2.87e-05\n",
      "\n",
      "Epoch 229/1000\n"
     ]
    },
    {
     "name": "stderr",
     "output_type": "stream",
     "text": [
      "Training: 100%|██████████| 313/313 [00:44<00:00,  7.02it/s]\n",
      "Validating: 100%|██████████| 40/40 [00:02<00:00, 15.49it/s]\n"
     ]
    },
    {
     "name": "stdout",
     "output_type": "stream",
     "text": [
      "Train Loss: 0.00306 | Val Loss: 0.02074 | LR: 2.80e-05\n",
      "\n",
      "Epoch 230/1000\n"
     ]
    },
    {
     "name": "stderr",
     "output_type": "stream",
     "text": [
      "Training: 100%|██████████| 313/313 [00:44<00:00,  7.04it/s]\n",
      "Validating: 100%|██████████| 40/40 [00:02<00:00, 15.49it/s]\n"
     ]
    },
    {
     "name": "stdout",
     "output_type": "stream",
     "text": [
      "Train Loss: 0.00307 | Val Loss: 0.02076 | LR: 2.73e-05\n",
      "\n",
      "Epoch 231/1000\n"
     ]
    },
    {
     "name": "stderr",
     "output_type": "stream",
     "text": [
      "Training: 100%|██████████| 313/313 [00:44<00:00,  7.03it/s]\n",
      "Validating: 100%|██████████| 40/40 [00:02<00:00, 15.59it/s]\n"
     ]
    },
    {
     "name": "stdout",
     "output_type": "stream",
     "text": [
      "Train Loss: 0.00306 | Val Loss: 0.02068 | LR: 2.66e-05\n",
      "\n",
      "Epoch 232/1000\n"
     ]
    },
    {
     "name": "stderr",
     "output_type": "stream",
     "text": [
      "Training: 100%|██████████| 313/313 [00:44<00:00,  7.02it/s]\n",
      "Validating: 100%|██████████| 40/40 [00:02<00:00, 15.54it/s]\n"
     ]
    },
    {
     "name": "stdout",
     "output_type": "stream",
     "text": [
      "Train Loss: 0.00305 | Val Loss: 0.02073 | LR: 2.59e-05\n",
      "\n",
      "Epoch 233/1000\n"
     ]
    },
    {
     "name": "stderr",
     "output_type": "stream",
     "text": [
      "Training: 100%|██████████| 313/313 [00:44<00:00,  7.03it/s]\n",
      "Validating: 100%|██████████| 40/40 [00:02<00:00, 15.51it/s]\n"
     ]
    },
    {
     "name": "stdout",
     "output_type": "stream",
     "text": [
      "Train Loss: 0.00304 | Val Loss: 0.02071 | LR: 2.52e-05\n",
      "\n",
      "Epoch 234/1000\n"
     ]
    },
    {
     "name": "stderr",
     "output_type": "stream",
     "text": [
      "Training: 100%|██████████| 313/313 [00:44<00:00,  6.97it/s]\n",
      "Validating: 100%|██████████| 40/40 [00:02<00:00, 15.47it/s]\n"
     ]
    },
    {
     "name": "stdout",
     "output_type": "stream",
     "text": [
      "Train Loss: 0.00302 | Val Loss: 0.02072 | LR: 2.45e-05\n",
      "\n",
      "Epoch 235/1000\n"
     ]
    },
    {
     "name": "stderr",
     "output_type": "stream",
     "text": [
      "Training: 100%|██████████| 313/313 [00:44<00:00,  7.02it/s]\n",
      "Validating: 100%|██████████| 40/40 [00:02<00:00, 15.49it/s]\n"
     ]
    },
    {
     "name": "stdout",
     "output_type": "stream",
     "text": [
      "Train Loss: 0.00307 | Val Loss: 0.02071 | LR: 2.39e-05\n",
      "\n",
      "Epoch 236/1000\n"
     ]
    },
    {
     "name": "stderr",
     "output_type": "stream",
     "text": [
      "Training: 100%|██████████| 313/313 [00:44<00:00,  7.02it/s]\n",
      "Validating: 100%|██████████| 40/40 [00:02<00:00, 15.52it/s]\n"
     ]
    },
    {
     "name": "stdout",
     "output_type": "stream",
     "text": [
      "Train Loss: 0.00305 | Val Loss: 0.02079 | LR: 2.32e-05\n",
      "\n",
      "Epoch 237/1000\n"
     ]
    },
    {
     "name": "stderr",
     "output_type": "stream",
     "text": [
      "Training: 100%|██████████| 313/313 [00:44<00:00,  7.03it/s]\n",
      "Validating: 100%|██████████| 40/40 [00:02<00:00, 15.51it/s]\n"
     ]
    },
    {
     "name": "stdout",
     "output_type": "stream",
     "text": [
      "Train Loss: 0.00303 | Val Loss: 0.02074 | LR: 2.25e-05\n",
      "\n",
      "Epoch 238/1000\n"
     ]
    },
    {
     "name": "stderr",
     "output_type": "stream",
     "text": [
      "Training: 100%|██████████| 313/313 [00:44<00:00,  7.03it/s]\n",
      "Validating: 100%|██████████| 40/40 [00:02<00:00, 15.57it/s]\n"
     ]
    },
    {
     "name": "stdout",
     "output_type": "stream",
     "text": [
      "Train Loss: 0.00306 | Val Loss: 0.02077 | LR: 2.19e-05\n",
      "\n",
      "Epoch 239/1000\n"
     ]
    },
    {
     "name": "stderr",
     "output_type": "stream",
     "text": [
      "Training: 100%|██████████| 313/313 [00:44<00:00,  7.03it/s]\n",
      "Validating: 100%|██████████| 40/40 [00:02<00:00, 15.52it/s]\n"
     ]
    },
    {
     "name": "stdout",
     "output_type": "stream",
     "text": [
      "Train Loss: 0.00310 | Val Loss: 0.02078 | LR: 2.12e-05\n",
      "\n",
      "Epoch 240/1000\n"
     ]
    },
    {
     "name": "stderr",
     "output_type": "stream",
     "text": [
      "Training: 100%|██████████| 313/313 [00:44<00:00,  6.97it/s]\n",
      "Validating: 100%|██████████| 40/40 [00:02<00:00, 15.44it/s]\n"
     ]
    },
    {
     "name": "stdout",
     "output_type": "stream",
     "text": [
      "Train Loss: 0.00308 | Val Loss: 0.02070 | LR: 2.06e-05\n",
      "\n",
      "Epoch 241/1000\n"
     ]
    },
    {
     "name": "stderr",
     "output_type": "stream",
     "text": [
      "Training: 100%|██████████| 313/313 [00:44<00:00,  7.02it/s]\n",
      "Validating: 100%|██████████| 40/40 [00:02<00:00, 15.44it/s]\n"
     ]
    },
    {
     "name": "stdout",
     "output_type": "stream",
     "text": [
      "Train Loss: 0.00305 | Val Loss: 0.02076 | LR: 2.00e-05\n",
      "\n",
      "Epoch 242/1000\n"
     ]
    },
    {
     "name": "stderr",
     "output_type": "stream",
     "text": [
      "Training: 100%|██████████| 313/313 [00:44<00:00,  7.02it/s]\n",
      "Validating: 100%|██████████| 40/40 [00:02<00:00, 15.46it/s]\n"
     ]
    },
    {
     "name": "stdout",
     "output_type": "stream",
     "text": [
      "Train Loss: 0.00305 | Val Loss: 0.02075 | LR: 1.94e-05\n",
      "\n",
      "Epoch 243/1000\n"
     ]
    },
    {
     "name": "stderr",
     "output_type": "stream",
     "text": [
      "Training: 100%|██████████| 313/313 [00:44<00:00,  7.02it/s]\n",
      "Validating: 100%|██████████| 40/40 [00:02<00:00, 15.50it/s]\n"
     ]
    },
    {
     "name": "stdout",
     "output_type": "stream",
     "text": [
      "Train Loss: 0.00304 | Val Loss: 0.02072 | LR: 1.87e-05\n",
      "\n",
      "Epoch 244/1000\n"
     ]
    },
    {
     "name": "stderr",
     "output_type": "stream",
     "text": [
      "Training: 100%|██████████| 313/313 [00:44<00:00,  7.02it/s]\n",
      "Validating: 100%|██████████| 40/40 [00:02<00:00, 15.59it/s]\n"
     ]
    },
    {
     "name": "stdout",
     "output_type": "stream",
     "text": [
      "Train Loss: 0.00304 | Val Loss: 0.02075 | LR: 1.81e-05\n",
      "\n",
      "Epoch 245/1000\n"
     ]
    },
    {
     "name": "stderr",
     "output_type": "stream",
     "text": [
      "Training: 100%|██████████| 313/313 [00:44<00:00,  7.02it/s]\n",
      "Validating: 100%|██████████| 40/40 [00:02<00:00, 15.53it/s]\n"
     ]
    },
    {
     "name": "stdout",
     "output_type": "stream",
     "text": [
      "Train Loss: 0.00305 | Val Loss: 0.02071 | LR: 1.75e-05\n",
      "\n",
      "Epoch 246/1000\n"
     ]
    },
    {
     "name": "stderr",
     "output_type": "stream",
     "text": [
      "Training: 100%|██████████| 313/313 [00:44<00:00,  6.98it/s]\n",
      "Validating: 100%|██████████| 40/40 [00:02<00:00, 15.52it/s]\n"
     ]
    },
    {
     "name": "stdout",
     "output_type": "stream",
     "text": [
      "Train Loss: 0.00306 | Val Loss: 0.02069 | LR: 1.69e-05\n",
      "\n",
      "Epoch 247/1000\n"
     ]
    },
    {
     "name": "stderr",
     "output_type": "stream",
     "text": [
      "Training: 100%|██████████| 313/313 [00:44<00:00,  7.02it/s]\n",
      "Validating: 100%|██████████| 40/40 [00:02<00:00, 15.52it/s]\n"
     ]
    },
    {
     "name": "stdout",
     "output_type": "stream",
     "text": [
      "Train Loss: 0.00304 | Val Loss: 0.02074 | LR: 1.63e-05\n",
      "\n",
      "Epoch 248/1000\n"
     ]
    },
    {
     "name": "stderr",
     "output_type": "stream",
     "text": [
      "Training: 100%|██████████| 313/313 [00:44<00:00,  7.02it/s]\n",
      "Validating: 100%|██████████| 40/40 [00:02<00:00, 15.57it/s]\n"
     ]
    },
    {
     "name": "stdout",
     "output_type": "stream",
     "text": [
      "Train Loss: 0.00303 | Val Loss: 0.02072 | LR: 1.58e-05\n",
      "\n",
      "Epoch 249/1000\n"
     ]
    },
    {
     "name": "stderr",
     "output_type": "stream",
     "text": [
      "Training: 100%|██████████| 313/313 [00:44<00:00,  7.04it/s]\n",
      "Validating: 100%|██████████| 40/40 [00:02<00:00, 15.57it/s]\n"
     ]
    },
    {
     "name": "stdout",
     "output_type": "stream",
     "text": [
      "Train Loss: 0.00302 | Val Loss: 0.02072 | LR: 1.52e-05\n",
      "\n",
      "Epoch 250/1000\n"
     ]
    },
    {
     "name": "stderr",
     "output_type": "stream",
     "text": [
      "Training: 100%|██████████| 313/313 [00:44<00:00,  7.03it/s]\n",
      "Validating: 100%|██████████| 40/40 [00:02<00:00, 15.51it/s]\n"
     ]
    },
    {
     "name": "stdout",
     "output_type": "stream",
     "text": [
      "Train Loss: 0.00308 | Val Loss: 0.02069 | LR: 1.46e-05\n",
      "\n",
      "Epoch 251/1000\n"
     ]
    },
    {
     "name": "stderr",
     "output_type": "stream",
     "text": [
      "Training: 100%|██████████| 313/313 [00:44<00:00,  7.02it/s]\n",
      "Validating: 100%|██████████| 40/40 [00:02<00:00, 15.51it/s]\n"
     ]
    },
    {
     "name": "stdout",
     "output_type": "stream",
     "text": [
      "Train Loss: 0.00303 | Val Loss: 0.02074 | LR: 1.41e-05\n",
      "\n",
      "Epoch 252/1000\n"
     ]
    },
    {
     "name": "stderr",
     "output_type": "stream",
     "text": [
      "Training: 100%|██████████| 313/313 [00:44<00:00,  6.98it/s]\n",
      "Validating: 100%|██████████| 40/40 [00:02<00:00, 15.53it/s]\n"
     ]
    },
    {
     "name": "stdout",
     "output_type": "stream",
     "text": [
      "Train Loss: 0.00306 | Val Loss: 0.02076 | LR: 1.36e-05\n",
      "\n",
      "Epoch 253/1000\n"
     ]
    },
    {
     "name": "stderr",
     "output_type": "stream",
     "text": [
      "Training: 100%|██████████| 313/313 [00:44<00:00,  7.02it/s]\n",
      "Validating: 100%|██████████| 40/40 [00:02<00:00, 15.48it/s]\n"
     ]
    },
    {
     "name": "stdout",
     "output_type": "stream",
     "text": [
      "Train Loss: 0.00302 | Val Loss: 0.02079 | LR: 1.30e-05\n",
      "\n",
      "Epoch 254/1000\n"
     ]
    },
    {
     "name": "stderr",
     "output_type": "stream",
     "text": [
      "Training: 100%|██████████| 313/313 [00:44<00:00,  7.02it/s]\n",
      "Validating: 100%|██████████| 40/40 [00:02<00:00, 15.55it/s]\n"
     ]
    },
    {
     "name": "stdout",
     "output_type": "stream",
     "text": [
      "Train Loss: 0.00304 | Val Loss: 0.02073 | LR: 1.25e-05\n",
      "\n",
      "Epoch 255/1000\n"
     ]
    },
    {
     "name": "stderr",
     "output_type": "stream",
     "text": [
      "Training: 100%|██████████| 313/313 [00:44<00:00,  7.02it/s]\n",
      "Validating: 100%|██████████| 40/40 [00:02<00:00, 15.45it/s]\n"
     ]
    },
    {
     "name": "stdout",
     "output_type": "stream",
     "text": [
      "Train Loss: 0.00303 | Val Loss: 0.02072 | LR: 1.20e-05\n",
      "\n",
      "Epoch 256/1000\n"
     ]
    },
    {
     "name": "stderr",
     "output_type": "stream",
     "text": [
      "Training: 100%|██████████| 313/313 [00:44<00:00,  7.03it/s]\n",
      "Validating: 100%|██████████| 40/40 [00:02<00:00, 15.55it/s]\n"
     ]
    },
    {
     "name": "stdout",
     "output_type": "stream",
     "text": [
      "Train Loss: 0.00302 | Val Loss: 0.02072 | LR: 1.15e-05\n",
      "\n",
      "Epoch 257/1000\n"
     ]
    },
    {
     "name": "stderr",
     "output_type": "stream",
     "text": [
      "Training: 100%|██████████| 313/313 [00:44<00:00,  7.02it/s]\n",
      "Validating: 100%|██████████| 40/40 [00:02<00:00, 15.54it/s]\n"
     ]
    },
    {
     "name": "stdout",
     "output_type": "stream",
     "text": [
      "Train Loss: 0.00305 | Val Loss: 0.02073 | LR: 1.10e-05\n",
      "\n",
      "Epoch 258/1000\n"
     ]
    },
    {
     "name": "stderr",
     "output_type": "stream",
     "text": [
      "Training: 100%|██████████| 313/313 [00:44<00:00,  6.98it/s]\n",
      "Validating: 100%|██████████| 40/40 [00:02<00:00, 15.45it/s]\n"
     ]
    },
    {
     "name": "stdout",
     "output_type": "stream",
     "text": [
      "New best model saved with val loss 0.02067\n",
      "Train Loss: 0.00304 | Val Loss: 0.02067 | LR: 1.05e-05\n",
      "\n",
      "Epoch 259/1000\n"
     ]
    },
    {
     "name": "stderr",
     "output_type": "stream",
     "text": [
      "Training: 100%|██████████| 313/313 [00:44<00:00,  7.01it/s]\n",
      "Validating: 100%|██████████| 40/40 [00:02<00:00, 15.47it/s]\n"
     ]
    },
    {
     "name": "stdout",
     "output_type": "stream",
     "text": [
      "Train Loss: 0.00305 | Val Loss: 0.02073 | LR: 1.00e-05\n",
      "\n",
      "Epoch 260/1000\n"
     ]
    },
    {
     "name": "stderr",
     "output_type": "stream",
     "text": [
      "Training: 100%|██████████| 313/313 [00:44<00:00,  7.01it/s]\n",
      "Validating: 100%|██████████| 40/40 [00:02<00:00, 15.44it/s]\n"
     ]
    },
    {
     "name": "stdout",
     "output_type": "stream",
     "text": [
      "Train Loss: 0.00302 | Val Loss: 0.02075 | LR: 9.55e-06\n",
      "\n",
      "Epoch 261/1000\n"
     ]
    },
    {
     "name": "stderr",
     "output_type": "stream",
     "text": [
      "Training: 100%|██████████| 313/313 [00:44<00:00,  7.01it/s]\n",
      "Validating: 100%|██████████| 40/40 [00:02<00:00, 15.56it/s]\n"
     ]
    },
    {
     "name": "stdout",
     "output_type": "stream",
     "text": [
      "Train Loss: 0.00299 | Val Loss: 0.02076 | LR: 9.09e-06\n",
      "\n",
      "Epoch 262/1000\n"
     ]
    },
    {
     "name": "stderr",
     "output_type": "stream",
     "text": [
      "Training: 100%|██████████| 313/313 [00:44<00:00,  7.02it/s]\n",
      "Validating: 100%|██████████| 40/40 [00:02<00:00, 15.55it/s]\n"
     ]
    },
    {
     "name": "stdout",
     "output_type": "stream",
     "text": [
      "Train Loss: 0.00299 | Val Loss: 0.02074 | LR: 8.65e-06\n",
      "\n",
      "Epoch 263/1000\n"
     ]
    },
    {
     "name": "stderr",
     "output_type": "stream",
     "text": [
      "Training: 100%|██████████| 313/313 [00:44<00:00,  7.02it/s]\n",
      "Validating: 100%|██████████| 40/40 [00:02<00:00, 15.43it/s]\n"
     ]
    },
    {
     "name": "stdout",
     "output_type": "stream",
     "text": [
      "Train Loss: 0.00300 | Val Loss: 0.02074 | LR: 8.21e-06\n",
      "\n",
      "Epoch 264/1000\n"
     ]
    },
    {
     "name": "stderr",
     "output_type": "stream",
     "text": [
      "Training: 100%|██████████| 313/313 [00:44<00:00,  7.02it/s]\n",
      "Validating: 100%|██████████| 40/40 [00:02<00:00, 15.52it/s]\n"
     ]
    },
    {
     "name": "stdout",
     "output_type": "stream",
     "text": [
      "Train Loss: 0.00303 | Val Loss: 0.02074 | LR: 7.78e-06\n",
      "\n",
      "Epoch 265/1000\n"
     ]
    },
    {
     "name": "stderr",
     "output_type": "stream",
     "text": [
      "Training: 100%|██████████| 313/313 [00:45<00:00,  6.94it/s]\n",
      "Validating: 100%|██████████| 40/40 [00:02<00:00, 15.49it/s]\n"
     ]
    },
    {
     "name": "stdout",
     "output_type": "stream",
     "text": [
      "Train Loss: 0.00300 | Val Loss: 0.02072 | LR: 7.37e-06\n",
      "\n",
      "Epoch 266/1000\n"
     ]
    },
    {
     "name": "stderr",
     "output_type": "stream",
     "text": [
      "Training: 100%|██████████| 313/313 [00:44<00:00,  7.02it/s]\n",
      "Validating: 100%|██████████| 40/40 [00:02<00:00, 15.48it/s]\n"
     ]
    },
    {
     "name": "stdout",
     "output_type": "stream",
     "text": [
      "Train Loss: 0.00303 | Val Loss: 0.02076 | LR: 6.96e-06\n",
      "\n",
      "Epoch 267/1000\n"
     ]
    },
    {
     "name": "stderr",
     "output_type": "stream",
     "text": [
      "Training: 100%|██████████| 313/313 [00:44<00:00,  7.02it/s]\n",
      "Validating: 100%|██████████| 40/40 [00:02<00:00, 15.48it/s]\n"
     ]
    },
    {
     "name": "stdout",
     "output_type": "stream",
     "text": [
      "Train Loss: 0.00300 | Val Loss: 0.02074 | LR: 6.57e-06\n",
      "\n",
      "Epoch 268/1000\n"
     ]
    },
    {
     "name": "stderr",
     "output_type": "stream",
     "text": [
      "Training: 100%|██████████| 313/313 [00:44<00:00,  7.02it/s]\n",
      "Validating: 100%|██████████| 40/40 [00:02<00:00, 15.51it/s]\n"
     ]
    },
    {
     "name": "stdout",
     "output_type": "stream",
     "text": [
      "Train Loss: 0.00302 | Val Loss: 0.02077 | LR: 6.18e-06\n",
      "\n",
      "Epoch 269/1000\n"
     ]
    },
    {
     "name": "stderr",
     "output_type": "stream",
     "text": [
      "Training: 100%|██████████| 313/313 [00:44<00:00,  7.03it/s]\n",
      "Validating: 100%|██████████| 40/40 [00:02<00:00, 15.51it/s]\n"
     ]
    },
    {
     "name": "stdout",
     "output_type": "stream",
     "text": [
      "Train Loss: 0.00303 | Val Loss: 0.02074 | LR: 5.81e-06\n",
      "\n",
      "Epoch 270/1000\n"
     ]
    },
    {
     "name": "stderr",
     "output_type": "stream",
     "text": [
      "Training: 100%|██████████| 313/313 [00:44<00:00,  7.02it/s]\n",
      "Validating: 100%|██████████| 40/40 [00:02<00:00, 15.57it/s]\n"
     ]
    },
    {
     "name": "stdout",
     "output_type": "stream",
     "text": [
      "Train Loss: 0.00299 | Val Loss: 0.02074 | LR: 5.45e-06\n",
      "\n",
      "Epoch 271/1000\n"
     ]
    },
    {
     "name": "stderr",
     "output_type": "stream",
     "text": [
      "Training: 100%|██████████| 313/313 [00:44<00:00,  6.99it/s]\n",
      "Validating: 100%|██████████| 40/40 [00:02<00:00, 15.55it/s]\n"
     ]
    },
    {
     "name": "stdout",
     "output_type": "stream",
     "text": [
      "Train Loss: 0.00300 | Val Loss: 0.02073 | LR: 5.10e-06\n",
      "\n",
      "Epoch 272/1000\n"
     ]
    },
    {
     "name": "stderr",
     "output_type": "stream",
     "text": [
      "Training: 100%|██████████| 313/313 [00:44<00:00,  7.01it/s]\n",
      "Validating: 100%|██████████| 40/40 [00:02<00:00, 15.54it/s]\n"
     ]
    },
    {
     "name": "stdout",
     "output_type": "stream",
     "text": [
      "Train Loss: 0.00302 | Val Loss: 0.02073 | LR: 4.76e-06\n",
      "\n",
      "Epoch 273/1000\n"
     ]
    },
    {
     "name": "stderr",
     "output_type": "stream",
     "text": [
      "Training: 100%|██████████| 313/313 [00:44<00:00,  7.01it/s]\n",
      "Validating: 100%|██████████| 40/40 [00:02<00:00, 15.48it/s]\n"
     ]
    },
    {
     "name": "stdout",
     "output_type": "stream",
     "text": [
      "Train Loss: 0.00299 | Val Loss: 0.02073 | LR: 4.43e-06\n",
      "\n",
      "Epoch 274/1000\n"
     ]
    },
    {
     "name": "stderr",
     "output_type": "stream",
     "text": [
      "Training: 100%|██████████| 313/313 [00:44<00:00,  7.02it/s]\n",
      "Validating: 100%|██████████| 40/40 [00:02<00:00, 15.49it/s]\n"
     ]
    },
    {
     "name": "stdout",
     "output_type": "stream",
     "text": [
      "Train Loss: 0.00301 | Val Loss: 0.02070 | LR: 4.11e-06\n",
      "\n",
      "Epoch 275/1000\n"
     ]
    },
    {
     "name": "stderr",
     "output_type": "stream",
     "text": [
      "Training: 100%|██████████| 313/313 [00:44<00:00,  7.02it/s]\n",
      "Validating: 100%|██████████| 40/40 [00:02<00:00, 15.54it/s]\n"
     ]
    },
    {
     "name": "stdout",
     "output_type": "stream",
     "text": [
      "Train Loss: 0.00300 | Val Loss: 0.02073 | LR: 3.81e-06\n",
      "\n",
      "Epoch 276/1000\n"
     ]
    },
    {
     "name": "stderr",
     "output_type": "stream",
     "text": [
      "Training: 100%|██████████| 313/313 [00:44<00:00,  7.02it/s]\n",
      "Validating: 100%|██████████| 40/40 [00:02<00:00, 15.47it/s]\n"
     ]
    },
    {
     "name": "stdout",
     "output_type": "stream",
     "text": [
      "Train Loss: 0.00300 | Val Loss: 0.02075 | LR: 3.51e-06\n",
      "\n",
      "Epoch 277/1000\n"
     ]
    },
    {
     "name": "stderr",
     "output_type": "stream",
     "text": [
      "Training: 100%|██████████| 313/313 [00:44<00:00,  7.03it/s]\n",
      "Validating: 100%|██████████| 40/40 [00:02<00:00, 15.53it/s]\n"
     ]
    },
    {
     "name": "stdout",
     "output_type": "stream",
     "text": [
      "Train Loss: 0.00299 | Val Loss: 0.02075 | LR: 3.23e-06\n",
      "\n",
      "Epoch 278/1000\n"
     ]
    },
    {
     "name": "stderr",
     "output_type": "stream",
     "text": [
      "Training: 100%|██████████| 313/313 [00:44<00:00,  6.98it/s]\n",
      "Validating: 100%|██████████| 40/40 [00:02<00:00, 15.46it/s]\n"
     ]
    },
    {
     "name": "stdout",
     "output_type": "stream",
     "text": [
      "Train Loss: 0.00299 | Val Loss: 0.02075 | LR: 2.96e-06\n",
      "\n",
      "Epoch 279/1000\n"
     ]
    },
    {
     "name": "stderr",
     "output_type": "stream",
     "text": [
      "Training: 100%|██████████| 313/313 [00:44<00:00,  7.02it/s]\n",
      "Validating: 100%|██████████| 40/40 [00:02<00:00, 15.48it/s]\n"
     ]
    },
    {
     "name": "stdout",
     "output_type": "stream",
     "text": [
      "Train Loss: 0.00301 | Val Loss: 0.02075 | LR: 2.70e-06\n",
      "\n",
      "Epoch 280/1000\n"
     ]
    },
    {
     "name": "stderr",
     "output_type": "stream",
     "text": [
      "Training: 100%|██████████| 313/313 [00:44<00:00,  7.02it/s]\n",
      "Validating: 100%|██████████| 40/40 [00:02<00:00, 15.54it/s]\n"
     ]
    },
    {
     "name": "stdout",
     "output_type": "stream",
     "text": [
      "Train Loss: 0.00303 | Val Loss: 0.02075 | LR: 2.45e-06\n",
      "\n",
      "Epoch 281/1000\n"
     ]
    },
    {
     "name": "stderr",
     "output_type": "stream",
     "text": [
      "Training: 100%|██████████| 313/313 [00:44<00:00,  7.03it/s]\n",
      "Validating: 100%|██████████| 40/40 [00:02<00:00, 15.51it/s]\n"
     ]
    },
    {
     "name": "stdout",
     "output_type": "stream",
     "text": [
      "Train Loss: 0.00303 | Val Loss: 0.02075 | LR: 2.21e-06\n",
      "\n",
      "Epoch 282/1000\n"
     ]
    },
    {
     "name": "stderr",
     "output_type": "stream",
     "text": [
      "Training: 100%|██████████| 313/313 [00:44<00:00,  7.02it/s]\n",
      "Validating: 100%|██████████| 40/40 [00:02<00:00, 15.55it/s]\n"
     ]
    },
    {
     "name": "stdout",
     "output_type": "stream",
     "text": [
      "Train Loss: 0.00299 | Val Loss: 0.02074 | LR: 1.99e-06\n",
      "\n",
      "Epoch 283/1000\n"
     ]
    },
    {
     "name": "stderr",
     "output_type": "stream",
     "text": [
      "Training: 100%|██████████| 313/313 [00:44<00:00,  7.03it/s]\n",
      "Validating: 100%|██████████| 40/40 [00:02<00:00, 15.54it/s]\n"
     ]
    },
    {
     "name": "stdout",
     "output_type": "stream",
     "text": [
      "Train Loss: 0.00301 | Val Loss: 0.02074 | LR: 1.77e-06\n",
      "\n",
      "Epoch 284/1000\n"
     ]
    },
    {
     "name": "stderr",
     "output_type": "stream",
     "text": [
      "Training: 100%|██████████| 313/313 [00:44<00:00,  6.99it/s]\n",
      "Validating: 100%|██████████| 40/40 [00:02<00:00, 15.41it/s]\n"
     ]
    },
    {
     "name": "stdout",
     "output_type": "stream",
     "text": [
      "Train Loss: 0.00299 | Val Loss: 0.02073 | LR: 1.57e-06\n",
      "\n",
      "Epoch 285/1000\n"
     ]
    },
    {
     "name": "stderr",
     "output_type": "stream",
     "text": [
      "Training: 100%|██████████| 313/313 [00:44<00:00,  7.02it/s]\n",
      "Validating: 100%|██████████| 40/40 [00:02<00:00, 15.55it/s]\n"
     ]
    },
    {
     "name": "stdout",
     "output_type": "stream",
     "text": [
      "Train Loss: 0.00305 | Val Loss: 0.02076 | LR: 1.38e-06\n",
      "\n",
      "Epoch 286/1000\n"
     ]
    },
    {
     "name": "stderr",
     "output_type": "stream",
     "text": [
      "Training: 100%|██████████| 313/313 [00:44<00:00,  7.03it/s]\n",
      "Validating: 100%|██████████| 40/40 [00:02<00:00, 15.59it/s]\n"
     ]
    },
    {
     "name": "stdout",
     "output_type": "stream",
     "text": [
      "Train Loss: 0.00301 | Val Loss: 0.02075 | LR: 1.20e-06\n",
      "\n",
      "Epoch 287/1000\n"
     ]
    },
    {
     "name": "stderr",
     "output_type": "stream",
     "text": [
      "Training: 100%|██████████| 313/313 [00:44<00:00,  7.04it/s]\n",
      "Validating: 100%|██████████| 40/40 [00:02<00:00, 15.50it/s]\n"
     ]
    },
    {
     "name": "stdout",
     "output_type": "stream",
     "text": [
      "Train Loss: 0.00299 | Val Loss: 0.02075 | LR: 1.04e-06\n",
      "\n",
      "Epoch 288/1000\n"
     ]
    },
    {
     "name": "stderr",
     "output_type": "stream",
     "text": [
      "Training: 100%|██████████| 313/313 [00:44<00:00,  7.03it/s]\n",
      "Validating: 100%|██████████| 40/40 [00:02<00:00, 15.61it/s]\n"
     ]
    },
    {
     "name": "stdout",
     "output_type": "stream",
     "text": [
      "Train Loss: 0.00304 | Val Loss: 0.02073 | LR: 8.86e-07\n",
      "\n",
      "Epoch 289/1000\n"
     ]
    },
    {
     "name": "stderr",
     "output_type": "stream",
     "text": [
      "Training: 100%|██████████| 313/313 [00:44<00:00,  7.03it/s]\n",
      "Validating: 100%|██████████| 40/40 [00:02<00:00, 15.57it/s]\n"
     ]
    },
    {
     "name": "stdout",
     "output_type": "stream",
     "text": [
      "Train Loss: 0.00304 | Val Loss: 0.02074 | LR: 7.45e-07\n",
      "\n",
      "Epoch 290/1000\n"
     ]
    },
    {
     "name": "stderr",
     "output_type": "stream",
     "text": [
      "Training: 100%|██████████| 313/313 [00:44<00:00,  7.04it/s]\n",
      "Validating: 100%|██████████| 40/40 [00:02<00:00, 15.62it/s]\n"
     ]
    },
    {
     "name": "stdout",
     "output_type": "stream",
     "text": [
      "Train Loss: 0.00300 | Val Loss: 0.02074 | LR: 6.16e-07\n",
      "\n",
      "Epoch 291/1000\n"
     ]
    },
    {
     "name": "stderr",
     "output_type": "stream",
     "text": [
      "Training: 100%|██████████| 313/313 [00:44<00:00,  6.97it/s]\n",
      "Validating: 100%|██████████| 40/40 [00:02<00:00, 15.53it/s]\n"
     ]
    },
    {
     "name": "stdout",
     "output_type": "stream",
     "text": [
      "Train Loss: 0.00305 | Val Loss: 0.02074 | LR: 4.99e-07\n",
      "\n",
      "Epoch 292/1000\n"
     ]
    },
    {
     "name": "stderr",
     "output_type": "stream",
     "text": [
      "Training: 100%|██████████| 313/313 [00:44<00:00,  7.01it/s]\n",
      "Validating: 100%|██████████| 40/40 [00:02<00:00, 15.51it/s]\n"
     ]
    },
    {
     "name": "stdout",
     "output_type": "stream",
     "text": [
      "Train Loss: 0.00302 | Val Loss: 0.02074 | LR: 3.94e-07\n",
      "\n",
      "Epoch 293/1000\n"
     ]
    },
    {
     "name": "stderr",
     "output_type": "stream",
     "text": [
      "Training: 100%|██████████| 313/313 [00:44<00:00,  7.02it/s]\n",
      "Validating: 100%|██████████| 40/40 [00:02<00:00, 15.51it/s]\n"
     ]
    },
    {
     "name": "stdout",
     "output_type": "stream",
     "text": [
      "Train Loss: 0.00299 | Val Loss: 0.02073 | LR: 3.02e-07\n",
      "\n",
      "Epoch 294/1000\n"
     ]
    },
    {
     "name": "stderr",
     "output_type": "stream",
     "text": [
      "Training: 100%|██████████| 313/313 [00:44<00:00,  7.02it/s]\n",
      "Validating: 100%|██████████| 40/40 [00:02<00:00, 15.47it/s]\n"
     ]
    },
    {
     "name": "stdout",
     "output_type": "stream",
     "text": [
      "Train Loss: 0.00301 | Val Loss: 0.02074 | LR: 2.22e-07\n",
      "\n",
      "Epoch 295/1000\n"
     ]
    },
    {
     "name": "stderr",
     "output_type": "stream",
     "text": [
      "Training: 100%|██████████| 313/313 [00:44<00:00,  7.03it/s]\n",
      "Validating: 100%|██████████| 40/40 [00:02<00:00, 15.54it/s]\n"
     ]
    },
    {
     "name": "stdout",
     "output_type": "stream",
     "text": [
      "Train Loss: 0.00303 | Val Loss: 0.02074 | LR: 1.54e-07\n",
      "\n",
      "Epoch 296/1000\n"
     ]
    },
    {
     "name": "stderr",
     "output_type": "stream",
     "text": [
      "Training: 100%|██████████| 313/313 [00:44<00:00,  7.03it/s]\n",
      "Validating: 100%|██████████| 40/40 [00:02<00:00, 15.59it/s]\n"
     ]
    },
    {
     "name": "stdout",
     "output_type": "stream",
     "text": [
      "Train Loss: 0.00301 | Val Loss: 0.02074 | LR: 9.87e-08\n",
      "\n",
      "Epoch 297/1000\n"
     ]
    },
    {
     "name": "stderr",
     "output_type": "stream",
     "text": [
      "Training: 100%|██████████| 313/313 [00:44<00:00,  7.02it/s]\n",
      "Validating: 100%|██████████| 40/40 [00:02<00:00, 15.59it/s]\n"
     ]
    },
    {
     "name": "stdout",
     "output_type": "stream",
     "text": [
      "Train Loss: 0.00301 | Val Loss: 0.02074 | LR: 5.55e-08\n",
      "\n",
      "Epoch 298/1000\n"
     ]
    },
    {
     "name": "stderr",
     "output_type": "stream",
     "text": [
      "Training: 100%|██████████| 313/313 [00:44<00:00,  6.96it/s]\n",
      "Validating: 100%|██████████| 40/40 [00:02<00:00, 15.49it/s]\n"
     ]
    },
    {
     "name": "stdout",
     "output_type": "stream",
     "text": [
      "Train Loss: 0.00300 | Val Loss: 0.02074 | LR: 2.47e-08\n",
      "\n",
      "Epoch 299/1000\n"
     ]
    },
    {
     "name": "stderr",
     "output_type": "stream",
     "text": [
      "Training: 100%|██████████| 313/313 [00:44<00:00,  7.00it/s]\n",
      "Validating: 100%|██████████| 40/40 [00:02<00:00, 15.53it/s]\n"
     ]
    },
    {
     "name": "stdout",
     "output_type": "stream",
     "text": [
      "Train Loss: 0.00302 | Val Loss: 0.02074 | LR: 6.17e-09\n",
      "\n",
      "Epoch 300/1000\n"
     ]
    },
    {
     "name": "stderr",
     "output_type": "stream",
     "text": [
      "Training: 100%|██████████| 313/313 [00:44<00:00,  7.01it/s]\n",
      "Validating: 100%|██████████| 40/40 [00:02<00:00, 15.47it/s]\n"
     ]
    },
    {
     "name": "stdout",
     "output_type": "stream",
     "text": [
      "Train Loss: 0.00305 | Val Loss: 0.02074 | LR: 1.00e-04\n",
      "\n",
      "Epoch 301/1000\n"
     ]
    },
    {
     "name": "stderr",
     "output_type": "stream",
     "text": [
      "Training: 100%|██████████| 313/313 [00:44<00:00,  7.02it/s]\n",
      "Validating: 100%|██████████| 40/40 [00:02<00:00, 15.49it/s]\n"
     ]
    },
    {
     "name": "stdout",
     "output_type": "stream",
     "text": [
      "Train Loss: 0.00310 | Val Loss: 0.02081 | LR: 1.00e-04\n",
      "\n",
      "Epoch 302/1000\n"
     ]
    },
    {
     "name": "stderr",
     "output_type": "stream",
     "text": [
      "Training: 100%|██████████| 313/313 [00:44<00:00,  7.02it/s]\n",
      "Validating: 100%|██████████| 40/40 [00:02<00:00, 15.54it/s]\n"
     ]
    },
    {
     "name": "stdout",
     "output_type": "stream",
     "text": [
      "Train Loss: 0.00311 | Val Loss: 0.02089 | LR: 1.00e-04\n",
      "\n",
      "Epoch 303/1000\n"
     ]
    },
    {
     "name": "stderr",
     "output_type": "stream",
     "text": [
      "Training: 100%|██████████| 313/313 [00:44<00:00,  7.03it/s]\n",
      "Validating: 100%|██████████| 40/40 [00:02<00:00, 15.63it/s]\n"
     ]
    },
    {
     "name": "stdout",
     "output_type": "stream",
     "text": [
      "Train Loss: 0.00310 | Val Loss: 0.02090 | LR: 1.00e-04\n",
      "\n",
      "Epoch 304/1000\n"
     ]
    },
    {
     "name": "stderr",
     "output_type": "stream",
     "text": [
      "Training: 100%|██████████| 313/313 [00:44<00:00,  7.03it/s]\n",
      "Validating: 100%|██████████| 40/40 [00:02<00:00, 15.60it/s]\n"
     ]
    },
    {
     "name": "stdout",
     "output_type": "stream",
     "text": [
      "Train Loss: 0.00308 | Val Loss: 0.02081 | LR: 1.00e-04\n",
      "\n",
      "Epoch 305/1000\n"
     ]
    },
    {
     "name": "stderr",
     "output_type": "stream",
     "text": [
      "Training: 100%|██████████| 313/313 [00:44<00:00,  6.97it/s]\n",
      "Validating: 100%|██████████| 40/40 [00:02<00:00, 15.41it/s]\n"
     ]
    },
    {
     "name": "stdout",
     "output_type": "stream",
     "text": [
      "Train Loss: 0.00310 | Val Loss: 0.02086 | LR: 1.00e-04\n",
      "\n",
      "Epoch 306/1000\n"
     ]
    },
    {
     "name": "stderr",
     "output_type": "stream",
     "text": [
      "Training: 100%|██████████| 313/313 [00:44<00:00,  7.02it/s]\n",
      "Validating: 100%|██████████| 40/40 [00:02<00:00, 15.46it/s]\n"
     ]
    },
    {
     "name": "stdout",
     "output_type": "stream",
     "text": [
      "Train Loss: 0.00308 | Val Loss: 0.02075 | LR: 9.99e-05\n",
      "\n",
      "Epoch 307/1000\n"
     ]
    },
    {
     "name": "stderr",
     "output_type": "stream",
     "text": [
      "Training: 100%|██████████| 313/313 [00:44<00:00,  7.01it/s]\n",
      "Validating: 100%|██████████| 40/40 [00:02<00:00, 15.51it/s]\n"
     ]
    },
    {
     "name": "stdout",
     "output_type": "stream",
     "text": [
      "Train Loss: 0.00309 | Val Loss: 0.02082 | LR: 9.99e-05\n",
      "\n",
      "Epoch 308/1000\n"
     ]
    },
    {
     "name": "stderr",
     "output_type": "stream",
     "text": [
      "Training: 100%|██████████| 313/313 [00:44<00:00,  7.01it/s]\n",
      "Validating: 100%|██████████| 40/40 [00:02<00:00, 15.62it/s]\n"
     ]
    },
    {
     "name": "stdout",
     "output_type": "stream",
     "text": [
      "Train Loss: 0.00308 | Val Loss: 0.02089 | LR: 9.99e-05\n",
      "\n",
      "Epoch 309/1000\n"
     ]
    },
    {
     "name": "stderr",
     "output_type": "stream",
     "text": [
      "Training: 100%|██████████| 313/313 [00:44<00:00,  7.02it/s]\n",
      "Validating: 100%|██████████| 40/40 [00:02<00:00, 15.59it/s]\n"
     ]
    },
    {
     "name": "stdout",
     "output_type": "stream",
     "text": [
      "Train Loss: 0.00307 | Val Loss: 0.02090 | LR: 9.99e-05\n",
      "\n",
      "Epoch 310/1000\n"
     ]
    },
    {
     "name": "stderr",
     "output_type": "stream",
     "text": [
      "Training: 100%|██████████| 313/313 [00:44<00:00,  7.03it/s]\n",
      "Validating: 100%|██████████| 40/40 [00:02<00:00, 15.54it/s]\n"
     ]
    },
    {
     "name": "stdout",
     "output_type": "stream",
     "text": [
      "Train Loss: 0.00306 | Val Loss: 0.02087 | LR: 9.98e-05\n",
      "\n",
      "Epoch 311/1000\n"
     ]
    },
    {
     "name": "stderr",
     "output_type": "stream",
     "text": [
      "Training: 100%|██████████| 313/313 [00:44<00:00,  7.03it/s]\n",
      "Validating: 100%|██████████| 40/40 [00:02<00:00, 15.59it/s]\n"
     ]
    },
    {
     "name": "stdout",
     "output_type": "stream",
     "text": [
      "Train Loss: 0.00312 | Val Loss: 0.02077 | LR: 9.98e-05\n",
      "\n",
      "Epoch 312/1000\n"
     ]
    },
    {
     "name": "stderr",
     "output_type": "stream",
     "text": [
      "Training: 100%|██████████| 313/313 [00:44<00:00,  6.98it/s]\n",
      "Validating: 100%|██████████| 40/40 [00:02<00:00, 15.47it/s]\n"
     ]
    },
    {
     "name": "stdout",
     "output_type": "stream",
     "text": [
      "Train Loss: 0.00307 | Val Loss: 0.02073 | LR: 9.98e-05\n",
      "\n",
      "Epoch 313/1000\n"
     ]
    },
    {
     "name": "stderr",
     "output_type": "stream",
     "text": [
      "Training: 100%|██████████| 313/313 [00:44<00:00,  7.02it/s]\n",
      "Validating: 100%|██████████| 40/40 [00:02<00:00, 15.54it/s]\n"
     ]
    },
    {
     "name": "stdout",
     "output_type": "stream",
     "text": [
      "Train Loss: 0.00313 | Val Loss: 0.02076 | LR: 9.97e-05\n",
      "\n",
      "Epoch 314/1000\n"
     ]
    },
    {
     "name": "stderr",
     "output_type": "stream",
     "text": [
      "Training: 100%|██████████| 313/313 [00:44<00:00,  7.02it/s]\n",
      "Validating: 100%|██████████| 40/40 [00:02<00:00, 15.49it/s]\n"
     ]
    },
    {
     "name": "stdout",
     "output_type": "stream",
     "text": [
      "Train Loss: 0.00309 | Val Loss: 0.02093 | LR: 9.97e-05\n",
      "\n",
      "Epoch 315/1000\n"
     ]
    },
    {
     "name": "stderr",
     "output_type": "stream",
     "text": [
      "Training: 100%|██████████| 313/313 [00:44<00:00,  7.01it/s]\n",
      "Validating: 100%|██████████| 40/40 [00:02<00:00, 15.50it/s]\n"
     ]
    },
    {
     "name": "stdout",
     "output_type": "stream",
     "text": [
      "Train Loss: 0.00305 | Val Loss: 0.02079 | LR: 9.97e-05\n",
      "\n",
      "Epoch 316/1000\n"
     ]
    },
    {
     "name": "stderr",
     "output_type": "stream",
     "text": [
      "Training: 100%|██████████| 313/313 [00:44<00:00,  7.02it/s]\n",
      "Validating: 100%|██████████| 40/40 [00:02<00:00, 15.56it/s]\n"
     ]
    },
    {
     "name": "stdout",
     "output_type": "stream",
     "text": [
      "Train Loss: 0.00313 | Val Loss: 0.02079 | LR: 9.96e-05\n",
      "\n",
      "Epoch 317/1000\n"
     ]
    },
    {
     "name": "stderr",
     "output_type": "stream",
     "text": [
      "Training: 100%|██████████| 313/313 [00:44<00:00,  7.03it/s]\n",
      "Validating: 100%|██████████| 40/40 [00:02<00:00, 15.55it/s]\n"
     ]
    },
    {
     "name": "stdout",
     "output_type": "stream",
     "text": [
      "Train Loss: 0.00310 | Val Loss: 0.02074 | LR: 9.96e-05\n",
      "\n",
      "Epoch 318/1000\n"
     ]
    },
    {
     "name": "stderr",
     "output_type": "stream",
     "text": [
      "Training: 100%|██████████| 313/313 [00:44<00:00,  7.03it/s]\n",
      "Validating: 100%|██████████| 40/40 [00:02<00:00, 15.63it/s]\n"
     ]
    },
    {
     "name": "stdout",
     "output_type": "stream",
     "text": [
      "Train Loss: 0.00311 | Val Loss: 0.02078 | LR: 9.95e-05\n",
      "\n",
      "Epoch 319/1000\n"
     ]
    },
    {
     "name": "stderr",
     "output_type": "stream",
     "text": [
      "Training: 100%|██████████| 313/313 [00:44<00:00,  7.03it/s]\n",
      "Validating: 100%|██████████| 40/40 [00:02<00:00, 15.60it/s]\n"
     ]
    },
    {
     "name": "stdout",
     "output_type": "stream",
     "text": [
      "Train Loss: 0.00306 | Val Loss: 0.02087 | LR: 9.94e-05\n",
      "\n",
      "Epoch 320/1000\n"
     ]
    },
    {
     "name": "stderr",
     "output_type": "stream",
     "text": [
      "Training: 100%|██████████| 313/313 [00:44<00:00,  7.02it/s]\n",
      "Validating: 100%|██████████| 40/40 [00:02<00:00, 15.44it/s]\n"
     ]
    },
    {
     "name": "stdout",
     "output_type": "stream",
     "text": [
      "Train Loss: 0.00310 | Val Loss: 0.02089 | LR: 9.94e-05\n",
      "\n",
      "Epoch 321/1000\n"
     ]
    },
    {
     "name": "stderr",
     "output_type": "stream",
     "text": [
      "Training: 100%|██████████| 313/313 [00:44<00:00,  7.03it/s]\n",
      "Validating: 100%|██████████| 40/40 [00:02<00:00, 15.49it/s]\n"
     ]
    },
    {
     "name": "stdout",
     "output_type": "stream",
     "text": [
      "Train Loss: 0.00307 | Val Loss: 0.02085 | LR: 9.93e-05\n",
      "\n",
      "Epoch 322/1000\n"
     ]
    },
    {
     "name": "stderr",
     "output_type": "stream",
     "text": [
      "Training: 100%|██████████| 313/313 [00:44<00:00,  7.03it/s]\n",
      "Validating: 100%|██████████| 40/40 [00:02<00:00, 15.54it/s]\n"
     ]
    },
    {
     "name": "stdout",
     "output_type": "stream",
     "text": [
      "Train Loss: 0.00309 | Val Loss: 0.02076 | LR: 9.93e-05\n",
      "\n",
      "Epoch 323/1000\n"
     ]
    },
    {
     "name": "stderr",
     "output_type": "stream",
     "text": [
      "Training: 100%|██████████| 313/313 [00:44<00:00,  7.02it/s]\n",
      "Validating: 100%|██████████| 40/40 [00:02<00:00, 15.54it/s]\n"
     ]
    },
    {
     "name": "stdout",
     "output_type": "stream",
     "text": [
      "Train Loss: 0.00308 | Val Loss: 0.02085 | LR: 9.92e-05\n",
      "\n",
      "Epoch 324/1000\n"
     ]
    },
    {
     "name": "stderr",
     "output_type": "stream",
     "text": [
      "Training: 100%|██████████| 313/313 [00:44<00:00,  7.03it/s]\n",
      "Validating: 100%|██████████| 40/40 [00:02<00:00, 15.60it/s]\n"
     ]
    },
    {
     "name": "stdout",
     "output_type": "stream",
     "text": [
      "Train Loss: 0.00308 | Val Loss: 0.02080 | LR: 9.91e-05\n",
      "\n",
      "Epoch 325/1000\n"
     ]
    },
    {
     "name": "stderr",
     "output_type": "stream",
     "text": [
      "Training: 100%|██████████| 313/313 [00:44<00:00,  7.03it/s]\n",
      "Validating: 100%|██████████| 40/40 [00:02<00:00, 15.55it/s]\n"
     ]
    },
    {
     "name": "stdout",
     "output_type": "stream",
     "text": [
      "Train Loss: 0.00307 | Val Loss: 0.02087 | LR: 9.90e-05\n",
      "\n",
      "Epoch 326/1000\n"
     ]
    },
    {
     "name": "stderr",
     "output_type": "stream",
     "text": [
      "Training: 100%|██████████| 313/313 [00:44<00:00,  7.04it/s]\n",
      "Validating: 100%|██████████| 40/40 [00:02<00:00, 15.59it/s]\n"
     ]
    },
    {
     "name": "stdout",
     "output_type": "stream",
     "text": [
      "Train Loss: 0.00308 | Val Loss: 0.02078 | LR: 9.90e-05\n",
      "\n",
      "Epoch 327/1000\n"
     ]
    },
    {
     "name": "stderr",
     "output_type": "stream",
     "text": [
      "Training: 100%|██████████| 313/313 [00:44<00:00,  6.96it/s]\n",
      "Validating: 100%|██████████| 40/40 [00:02<00:00, 15.45it/s]\n"
     ]
    },
    {
     "name": "stdout",
     "output_type": "stream",
     "text": [
      "Train Loss: 0.00308 | Val Loss: 0.02077 | LR: 9.89e-05\n",
      "\n",
      "Epoch 328/1000\n"
     ]
    },
    {
     "name": "stderr",
     "output_type": "stream",
     "text": [
      "Training: 100%|██████████| 313/313 [00:44<00:00,  7.01it/s]\n",
      "Validating: 100%|██████████| 40/40 [00:02<00:00, 15.47it/s]\n"
     ]
    },
    {
     "name": "stdout",
     "output_type": "stream",
     "text": [
      "Train Loss: 0.00310 | Val Loss: 0.02079 | LR: 9.88e-05\n",
      "\n",
      "Epoch 329/1000\n"
     ]
    },
    {
     "name": "stderr",
     "output_type": "stream",
     "text": [
      "Training: 100%|██████████| 313/313 [00:44<00:00,  7.01it/s]\n",
      "Validating: 100%|██████████| 40/40 [00:02<00:00, 15.56it/s]\n"
     ]
    },
    {
     "name": "stdout",
     "output_type": "stream",
     "text": [
      "Train Loss: 0.00307 | Val Loss: 0.02080 | LR: 9.87e-05\n",
      "\n",
      "Epoch 330/1000\n"
     ]
    },
    {
     "name": "stderr",
     "output_type": "stream",
     "text": [
      "Training: 100%|██████████| 313/313 [00:44<00:00,  7.02it/s]\n",
      "Validating: 100%|██████████| 40/40 [00:02<00:00, 15.56it/s]\n"
     ]
    },
    {
     "name": "stdout",
     "output_type": "stream",
     "text": [
      "Train Loss: 0.00306 | Val Loss: 0.02087 | LR: 9.86e-05\n",
      "\n",
      "Epoch 331/1000\n"
     ]
    },
    {
     "name": "stderr",
     "output_type": "stream",
     "text": [
      "Training: 100%|██████████| 313/313 [00:44<00:00,  7.02it/s]\n",
      "Validating: 100%|██████████| 40/40 [00:02<00:00, 15.53it/s]\n"
     ]
    },
    {
     "name": "stdout",
     "output_type": "stream",
     "text": [
      "Train Loss: 0.00309 | Val Loss: 0.02093 | LR: 9.85e-05\n",
      "\n",
      "Epoch 332/1000\n"
     ]
    },
    {
     "name": "stderr",
     "output_type": "stream",
     "text": [
      "Training: 100%|██████████| 313/313 [00:44<00:00,  7.02it/s]\n",
      "Validating: 100%|██████████| 40/40 [00:02<00:00, 15.45it/s]\n"
     ]
    },
    {
     "name": "stdout",
     "output_type": "stream",
     "text": [
      "Train Loss: 0.00306 | Val Loss: 0.02082 | LR: 9.84e-05\n",
      "\n",
      "Epoch 333/1000\n"
     ]
    },
    {
     "name": "stderr",
     "output_type": "stream",
     "text": [
      "Training: 100%|██████████| 313/313 [00:44<00:00,  7.01it/s]\n",
      "Validating: 100%|██████████| 40/40 [00:02<00:00, 15.56it/s]\n"
     ]
    },
    {
     "name": "stdout",
     "output_type": "stream",
     "text": [
      "Train Loss: 0.00304 | Val Loss: 0.02082 | LR: 9.83e-05\n",
      "\n",
      "Epoch 334/1000\n"
     ]
    },
    {
     "name": "stderr",
     "output_type": "stream",
     "text": [
      "Training: 100%|██████████| 313/313 [00:44<00:00,  7.02it/s]\n",
      "Validating: 100%|██████████| 40/40 [00:02<00:00, 13.99it/s]\n"
     ]
    },
    {
     "name": "stdout",
     "output_type": "stream",
     "text": [
      "Train Loss: 0.00308 | Val Loss: 0.02078 | LR: 9.82e-05\n",
      "\n",
      "Epoch 335/1000\n"
     ]
    },
    {
     "name": "stderr",
     "output_type": "stream",
     "text": [
      "Training: 100%|██████████| 313/313 [00:44<00:00,  7.01it/s]\n",
      "Validating: 100%|██████████| 40/40 [00:02<00:00, 15.54it/s]\n"
     ]
    },
    {
     "name": "stdout",
     "output_type": "stream",
     "text": [
      "Train Loss: 0.00305 | Val Loss: 0.02080 | LR: 9.81e-05\n",
      "\n",
      "Epoch 336/1000\n"
     ]
    },
    {
     "name": "stderr",
     "output_type": "stream",
     "text": [
      "Training: 100%|██████████| 313/313 [00:44<00:00,  7.01it/s]\n",
      "Validating: 100%|██████████| 40/40 [00:02<00:00, 15.50it/s]\n"
     ]
    },
    {
     "name": "stdout",
     "output_type": "stream",
     "text": [
      "Train Loss: 0.00305 | Val Loss: 0.02082 | LR: 9.80e-05\n",
      "\n",
      "Epoch 337/1000\n"
     ]
    },
    {
     "name": "stderr",
     "output_type": "stream",
     "text": [
      "Training: 100%|██████████| 313/313 [00:44<00:00,  7.03it/s]\n",
      "Validating: 100%|██████████| 40/40 [00:02<00:00, 15.52it/s]\n"
     ]
    },
    {
     "name": "stdout",
     "output_type": "stream",
     "text": [
      "Train Loss: 0.00306 | Val Loss: 0.02078 | LR: 9.79e-05\n",
      "\n",
      "Epoch 338/1000\n"
     ]
    },
    {
     "name": "stderr",
     "output_type": "stream",
     "text": [
      "Training: 100%|██████████| 313/313 [00:44<00:00,  7.03it/s]\n",
      "Validating: 100%|██████████| 40/40 [00:02<00:00, 15.43it/s]\n"
     ]
    },
    {
     "name": "stdout",
     "output_type": "stream",
     "text": [
      "Train Loss: 0.00305 | Val Loss: 0.02075 | LR: 9.78e-05\n",
      "\n",
      "Epoch 339/1000\n"
     ]
    },
    {
     "name": "stderr",
     "output_type": "stream",
     "text": [
      "Training: 100%|██████████| 313/313 [00:44<00:00,  7.03it/s]\n",
      "Validating: 100%|██████████| 40/40 [00:02<00:00, 15.59it/s]\n"
     ]
    },
    {
     "name": "stdout",
     "output_type": "stream",
     "text": [
      "Train Loss: 0.00306 | Val Loss: 0.02084 | LR: 9.77e-05\n",
      "\n",
      "Epoch 340/1000\n"
     ]
    },
    {
     "name": "stderr",
     "output_type": "stream",
     "text": [
      "Training: 100%|██████████| 313/313 [00:44<00:00,  7.03it/s]\n",
      "Validating: 100%|██████████| 40/40 [00:02<00:00, 15.56it/s]\n"
     ]
    },
    {
     "name": "stdout",
     "output_type": "stream",
     "text": [
      "Train Loss: 0.00302 | Val Loss: 0.02081 | LR: 9.76e-05\n",
      "\n",
      "Epoch 341/1000\n"
     ]
    },
    {
     "name": "stderr",
     "output_type": "stream",
     "text": [
      "Training: 100%|██████████| 313/313 [00:44<00:00,  7.04it/s]\n",
      "Validating: 100%|██████████| 40/40 [00:02<00:00, 15.67it/s]\n"
     ]
    },
    {
     "name": "stdout",
     "output_type": "stream",
     "text": [
      "Train Loss: 0.00305 | Val Loss: 0.02087 | LR: 9.74e-05\n",
      "\n",
      "Epoch 342/1000\n"
     ]
    },
    {
     "name": "stderr",
     "output_type": "stream",
     "text": [
      "Training: 100%|██████████| 313/313 [00:44<00:00,  6.97it/s]\n",
      "Validating: 100%|██████████| 40/40 [00:02<00:00, 15.46it/s]\n"
     ]
    },
    {
     "name": "stdout",
     "output_type": "stream",
     "text": [
      "Train Loss: 0.00306 | Val Loss: 0.02083 | LR: 9.73e-05\n",
      "\n",
      "Epoch 343/1000\n"
     ]
    },
    {
     "name": "stderr",
     "output_type": "stream",
     "text": [
      "Training: 100%|██████████| 313/313 [00:44<00:00,  7.01it/s]\n",
      "Validating: 100%|██████████| 40/40 [00:02<00:00, 15.49it/s]\n"
     ]
    },
    {
     "name": "stdout",
     "output_type": "stream",
     "text": [
      "Train Loss: 0.00303 | Val Loss: 0.02080 | LR: 9.72e-05\n",
      "\n",
      "Epoch 344/1000\n"
     ]
    },
    {
     "name": "stderr",
     "output_type": "stream",
     "text": [
      "Training: 100%|██████████| 313/313 [00:44<00:00,  7.01it/s]\n",
      "Validating: 100%|██████████| 40/40 [00:02<00:00, 15.54it/s]\n"
     ]
    },
    {
     "name": "stdout",
     "output_type": "stream",
     "text": [
      "Train Loss: 0.00302 | Val Loss: 0.02077 | LR: 9.70e-05\n",
      "\n",
      "Epoch 345/1000\n"
     ]
    },
    {
     "name": "stderr",
     "output_type": "stream",
     "text": [
      "Training: 100%|██████████| 313/313 [00:44<00:00,  7.02it/s]\n",
      "Validating: 100%|██████████| 40/40 [00:02<00:00, 15.58it/s]\n"
     ]
    },
    {
     "name": "stdout",
     "output_type": "stream",
     "text": [
      "Train Loss: 0.00301 | Val Loss: 0.02080 | LR: 9.69e-05\n",
      "\n",
      "Epoch 346/1000\n"
     ]
    },
    {
     "name": "stderr",
     "output_type": "stream",
     "text": [
      "Training: 100%|██████████| 313/313 [00:44<00:00,  7.02it/s]\n",
      "Validating: 100%|██████████| 40/40 [00:02<00:00, 15.58it/s]\n"
     ]
    },
    {
     "name": "stdout",
     "output_type": "stream",
     "text": [
      "Train Loss: 0.00305 | Val Loss: 0.02077 | LR: 9.68e-05\n",
      "\n",
      "Epoch 347/1000\n"
     ]
    },
    {
     "name": "stderr",
     "output_type": "stream",
     "text": [
      "Training: 100%|██████████| 313/313 [00:44<00:00,  7.03it/s]\n",
      "Validating: 100%|██████████| 40/40 [00:02<00:00, 15.60it/s]\n"
     ]
    },
    {
     "name": "stdout",
     "output_type": "stream",
     "text": [
      "Train Loss: 0.00307 | Val Loss: 0.02081 | LR: 9.66e-05\n",
      "\n",
      "Epoch 348/1000\n"
     ]
    },
    {
     "name": "stderr",
     "output_type": "stream",
     "text": [
      "Training: 100%|██████████| 313/313 [00:44<00:00,  7.02it/s]\n",
      "Validating: 100%|██████████| 40/40 [00:02<00:00, 15.58it/s]\n"
     ]
    },
    {
     "name": "stdout",
     "output_type": "stream",
     "text": [
      "Train Loss: 0.00306 | Val Loss: 0.02083 | LR: 9.65e-05\n",
      "\n",
      "Epoch 349/1000\n"
     ]
    },
    {
     "name": "stderr",
     "output_type": "stream",
     "text": [
      "Training: 100%|██████████| 313/313 [00:44<00:00,  7.03it/s]\n",
      "Validating: 100%|██████████| 40/40 [00:02<00:00, 15.58it/s]\n"
     ]
    },
    {
     "name": "stdout",
     "output_type": "stream",
     "text": [
      "Train Loss: 0.00302 | Val Loss: 0.02090 | LR: 9.63e-05\n",
      "\n",
      "Epoch 350/1000\n"
     ]
    },
    {
     "name": "stderr",
     "output_type": "stream",
     "text": [
      "Training: 100%|██████████| 313/313 [00:44<00:00,  6.96it/s]\n",
      "Validating: 100%|██████████| 40/40 [00:02<00:00, 15.49it/s]\n"
     ]
    },
    {
     "name": "stdout",
     "output_type": "stream",
     "text": [
      "Train Loss: 0.00305 | Val Loss: 0.02072 | LR: 9.62e-05\n",
      "\n",
      "Epoch 351/1000\n"
     ]
    },
    {
     "name": "stderr",
     "output_type": "stream",
     "text": [
      "Training: 100%|██████████| 313/313 [00:44<00:00,  7.01it/s]\n",
      "Validating: 100%|██████████| 40/40 [00:02<00:00, 15.51it/s]\n"
     ]
    },
    {
     "name": "stdout",
     "output_type": "stream",
     "text": [
      "Train Loss: 0.00304 | Val Loss: 0.02079 | LR: 9.60e-05\n",
      "\n",
      "Epoch 352/1000\n"
     ]
    },
    {
     "name": "stderr",
     "output_type": "stream",
     "text": [
      "Training: 100%|██████████| 313/313 [00:44<00:00,  7.01it/s]\n",
      "Validating: 100%|██████████| 40/40 [00:02<00:00, 15.48it/s]\n"
     ]
    },
    {
     "name": "stdout",
     "output_type": "stream",
     "text": [
      "Train Loss: 0.00300 | Val Loss: 0.02080 | LR: 9.59e-05\n",
      "\n",
      "Epoch 353/1000\n"
     ]
    },
    {
     "name": "stderr",
     "output_type": "stream",
     "text": [
      "Training: 100%|██████████| 313/313 [00:44<00:00,  7.01it/s]\n",
      "Validating: 100%|██████████| 40/40 [00:02<00:00, 15.46it/s]\n"
     ]
    },
    {
     "name": "stdout",
     "output_type": "stream",
     "text": [
      "Train Loss: 0.00306 | Val Loss: 0.02076 | LR: 9.57e-05\n",
      "\n",
      "Epoch 354/1000\n"
     ]
    },
    {
     "name": "stderr",
     "output_type": "stream",
     "text": [
      "Training: 100%|██████████| 313/313 [00:44<00:00,  7.01it/s]\n",
      "Validating: 100%|██████████| 40/40 [00:02<00:00, 15.54it/s]\n"
     ]
    },
    {
     "name": "stdout",
     "output_type": "stream",
     "text": [
      "Train Loss: 0.00303 | Val Loss: 0.02074 | LR: 9.56e-05\n",
      "\n",
      "Epoch 355/1000\n"
     ]
    },
    {
     "name": "stderr",
     "output_type": "stream",
     "text": [
      "Training: 100%|██████████| 313/313 [00:44<00:00,  7.02it/s]\n",
      "Validating: 100%|██████████| 40/40 [00:02<00:00, 15.51it/s]\n"
     ]
    },
    {
     "name": "stdout",
     "output_type": "stream",
     "text": [
      "Train Loss: 0.00300 | Val Loss: 0.02076 | LR: 9.54e-05\n",
      "\n",
      "Epoch 356/1000\n"
     ]
    },
    {
     "name": "stderr",
     "output_type": "stream",
     "text": [
      "Training: 100%|██████████| 313/313 [00:44<00:00,  7.02it/s]\n",
      "Validating: 100%|██████████| 40/40 [00:02<00:00, 15.51it/s]\n"
     ]
    },
    {
     "name": "stdout",
     "output_type": "stream",
     "text": [
      "Train Loss: 0.00306 | Val Loss: 0.02074 | LR: 9.52e-05\n",
      "\n",
      "Epoch 357/1000\n"
     ]
    },
    {
     "name": "stderr",
     "output_type": "stream",
     "text": [
      "Training: 100%|██████████| 313/313 [00:44<00:00,  7.02it/s]\n",
      "Validating: 100%|██████████| 40/40 [00:02<00:00, 15.60it/s]\n"
     ]
    },
    {
     "name": "stdout",
     "output_type": "stream",
     "text": [
      "Train Loss: 0.00303 | Val Loss: 0.02075 | LR: 9.51e-05\n",
      "\n",
      "Epoch 358/1000\n"
     ]
    },
    {
     "name": "stderr",
     "output_type": "stream",
     "text": [
      "Training: 100%|██████████| 313/313 [00:44<00:00,  6.96it/s]\n",
      "Validating: 100%|██████████| 40/40 [00:02<00:00, 15.45it/s]\n"
     ]
    },
    {
     "name": "stdout",
     "output_type": "stream",
     "text": [
      "Train Loss: 0.00305 | Val Loss: 0.02087 | LR: 9.49e-05\n",
      "\n",
      "Epoch 359/1000\n"
     ]
    },
    {
     "name": "stderr",
     "output_type": "stream",
     "text": [
      "Training: 100%|██████████| 313/313 [00:44<00:00,  7.01it/s]\n",
      "Validating: 100%|██████████| 40/40 [00:02<00:00, 15.52it/s]\n"
     ]
    },
    {
     "name": "stdout",
     "output_type": "stream",
     "text": [
      "Train Loss: 0.00302 | Val Loss: 0.02079 | LR: 9.47e-05\n",
      "\n",
      "Epoch 360/1000\n"
     ]
    },
    {
     "name": "stderr",
     "output_type": "stream",
     "text": [
      "Training: 100%|██████████| 313/313 [00:44<00:00,  7.02it/s]\n",
      "Validating: 100%|██████████| 40/40 [00:02<00:00, 15.62it/s]\n"
     ]
    },
    {
     "name": "stdout",
     "output_type": "stream",
     "text": [
      "Train Loss: 0.00305 | Val Loss: 0.02072 | LR: 9.46e-05\n",
      "\n",
      "Epoch 361/1000\n"
     ]
    },
    {
     "name": "stderr",
     "output_type": "stream",
     "text": [
      "Training: 100%|██████████| 313/313 [00:44<00:00,  7.03it/s]\n",
      "Validating: 100%|██████████| 40/40 [00:02<00:00, 15.54it/s]\n"
     ]
    },
    {
     "name": "stdout",
     "output_type": "stream",
     "text": [
      "Train Loss: 0.00300 | Val Loss: 0.02072 | LR: 9.44e-05\n",
      "\n",
      "Epoch 362/1000\n"
     ]
    },
    {
     "name": "stderr",
     "output_type": "stream",
     "text": [
      "Training: 100%|██████████| 313/313 [00:44<00:00,  7.02it/s]\n",
      "Validating: 100%|██████████| 40/40 [00:02<00:00, 15.52it/s]\n"
     ]
    },
    {
     "name": "stdout",
     "output_type": "stream",
     "text": [
      "Train Loss: 0.00302 | Val Loss: 0.02076 | LR: 9.42e-05\n",
      "\n",
      "Epoch 363/1000\n"
     ]
    },
    {
     "name": "stderr",
     "output_type": "stream",
     "text": [
      "Training: 100%|██████████| 313/313 [00:44<00:00,  7.02it/s]\n",
      "Validating: 100%|██████████| 40/40 [00:02<00:00, 15.51it/s]\n"
     ]
    },
    {
     "name": "stdout",
     "output_type": "stream",
     "text": [
      "Train Loss: 0.00304 | Val Loss: 0.02080 | LR: 9.40e-05\n",
      "\n",
      "Epoch 364/1000\n"
     ]
    },
    {
     "name": "stderr",
     "output_type": "stream",
     "text": [
      "Training: 100%|██████████| 313/313 [00:44<00:00,  7.02it/s]\n",
      "Validating: 100%|██████████| 40/40 [00:02<00:00, 15.56it/s]\n"
     ]
    },
    {
     "name": "stdout",
     "output_type": "stream",
     "text": [
      "Train Loss: 0.00305 | Val Loss: 0.02088 | LR: 9.38e-05\n",
      "\n",
      "Epoch 365/1000\n"
     ]
    },
    {
     "name": "stderr",
     "output_type": "stream",
     "text": [
      "Training: 100%|██████████| 313/313 [00:44<00:00,  7.03it/s]\n",
      "Validating: 100%|██████████| 40/40 [00:02<00:00, 15.52it/s]\n"
     ]
    },
    {
     "name": "stdout",
     "output_type": "stream",
     "text": [
      "Train Loss: 0.00303 | Val Loss: 0.02077 | LR: 9.36e-05\n",
      "\n",
      "Epoch 366/1000\n"
     ]
    },
    {
     "name": "stderr",
     "output_type": "stream",
     "text": [
      "Training: 100%|██████████| 313/313 [00:44<00:00,  6.96it/s]\n",
      "Validating: 100%|██████████| 40/40 [00:02<00:00, 15.39it/s]\n"
     ]
    },
    {
     "name": "stdout",
     "output_type": "stream",
     "text": [
      "Train Loss: 0.00303 | Val Loss: 0.02084 | LR: 9.34e-05\n",
      "\n",
      "Epoch 367/1000\n"
     ]
    },
    {
     "name": "stderr",
     "output_type": "stream",
     "text": [
      "Training: 100%|██████████| 313/313 [00:44<00:00,  7.01it/s]\n",
      "Validating: 100%|██████████| 40/40 [00:02<00:00, 15.53it/s]\n"
     ]
    },
    {
     "name": "stdout",
     "output_type": "stream",
     "text": [
      "Train Loss: 0.00302 | Val Loss: 0.02075 | LR: 9.32e-05\n",
      "\n",
      "Epoch 368/1000\n"
     ]
    },
    {
     "name": "stderr",
     "output_type": "stream",
     "text": [
      "Training: 100%|██████████| 313/313 [00:44<00:00,  7.02it/s]\n",
      "Validating: 100%|██████████| 40/40 [00:02<00:00, 15.60it/s]\n"
     ]
    },
    {
     "name": "stdout",
     "output_type": "stream",
     "text": [
      "Train Loss: 0.00302 | Val Loss: 0.02088 | LR: 9.30e-05\n",
      "\n",
      "Epoch 369/1000\n"
     ]
    },
    {
     "name": "stderr",
     "output_type": "stream",
     "text": [
      "Training: 100%|██████████| 313/313 [00:44<00:00,  7.01it/s]\n",
      "Validating: 100%|██████████| 40/40 [00:02<00:00, 15.61it/s]\n"
     ]
    },
    {
     "name": "stdout",
     "output_type": "stream",
     "text": [
      "Train Loss: 0.00300 | Val Loss: 0.02082 | LR: 9.28e-05\n",
      "\n",
      "Epoch 370/1000\n"
     ]
    },
    {
     "name": "stderr",
     "output_type": "stream",
     "text": [
      "Training: 100%|██████████| 313/313 [00:44<00:00,  7.02it/s]\n",
      "Validating: 100%|██████████| 40/40 [00:02<00:00, 15.51it/s]\n"
     ]
    },
    {
     "name": "stdout",
     "output_type": "stream",
     "text": [
      "Train Loss: 0.00304 | Val Loss: 0.02080 | LR: 9.26e-05\n",
      "\n",
      "Epoch 371/1000\n"
     ]
    },
    {
     "name": "stderr",
     "output_type": "stream",
     "text": [
      "Training: 100%|██████████| 313/313 [00:44<00:00,  7.02it/s]\n",
      "Validating: 100%|██████████| 40/40 [00:02<00:00, 15.65it/s]\n"
     ]
    },
    {
     "name": "stdout",
     "output_type": "stream",
     "text": [
      "Train Loss: 0.00305 | Val Loss: 0.02086 | LR: 9.24e-05\n",
      "\n",
      "Epoch 372/1000\n"
     ]
    },
    {
     "name": "stderr",
     "output_type": "stream",
     "text": [
      "Training: 100%|██████████| 313/313 [00:44<00:00,  7.03it/s]\n",
      "Validating: 100%|██████████| 40/40 [00:02<00:00, 15.56it/s]\n"
     ]
    },
    {
     "name": "stdout",
     "output_type": "stream",
     "text": [
      "Train Loss: 0.00302 | Val Loss: 0.02088 | LR: 9.22e-05\n",
      "\n",
      "Epoch 373/1000\n"
     ]
    },
    {
     "name": "stderr",
     "output_type": "stream",
     "text": [
      "Training: 100%|██████████| 313/313 [00:44<00:00,  7.03it/s]\n",
      "Validating: 100%|██████████| 40/40 [00:02<00:00, 15.60it/s]\n"
     ]
    },
    {
     "name": "stdout",
     "output_type": "stream",
     "text": [
      "Train Loss: 0.00303 | Val Loss: 0.02085 | LR: 9.20e-05\n",
      "\n",
      "Epoch 374/1000\n"
     ]
    },
    {
     "name": "stderr",
     "output_type": "stream",
     "text": [
      "Training: 100%|██████████| 313/313 [00:44<00:00,  6.97it/s]\n",
      "Validating: 100%|██████████| 40/40 [00:02<00:00, 15.47it/s]\n"
     ]
    },
    {
     "name": "stdout",
     "output_type": "stream",
     "text": [
      "Train Loss: 0.00299 | Val Loss: 0.02083 | LR: 9.18e-05\n",
      "\n",
      "Epoch 375/1000\n"
     ]
    },
    {
     "name": "stderr",
     "output_type": "stream",
     "text": [
      "Training: 100%|██████████| 313/313 [00:44<00:00,  7.02it/s]\n",
      "Validating: 100%|██████████| 40/40 [00:02<00:00, 15.56it/s]\n"
     ]
    },
    {
     "name": "stdout",
     "output_type": "stream",
     "text": [
      "Train Loss: 0.00303 | Val Loss: 0.02069 | LR: 9.16e-05\n",
      "\n",
      "Epoch 376/1000\n"
     ]
    },
    {
     "name": "stderr",
     "output_type": "stream",
     "text": [
      "Training: 100%|██████████| 313/313 [00:44<00:00,  7.02it/s]\n",
      "Validating: 100%|██████████| 40/40 [00:02<00:00, 15.57it/s]\n"
     ]
    },
    {
     "name": "stdout",
     "output_type": "stream",
     "text": [
      "Train Loss: 0.00299 | Val Loss: 0.02088 | LR: 9.14e-05\n",
      "\n",
      "Epoch 377/1000\n"
     ]
    },
    {
     "name": "stderr",
     "output_type": "stream",
     "text": [
      "Training: 100%|██████████| 313/313 [00:44<00:00,  7.04it/s]\n",
      "Validating: 100%|██████████| 40/40 [00:02<00:00, 15.56it/s]\n"
     ]
    },
    {
     "name": "stdout",
     "output_type": "stream",
     "text": [
      "Train Loss: 0.00301 | Val Loss: 0.02087 | LR: 9.11e-05\n",
      "\n",
      "Epoch 378/1000\n"
     ]
    },
    {
     "name": "stderr",
     "output_type": "stream",
     "text": [
      "Training: 100%|██████████| 313/313 [00:44<00:00,  7.03it/s]\n",
      "Validating: 100%|██████████| 40/40 [00:02<00:00, 15.64it/s]\n"
     ]
    },
    {
     "name": "stdout",
     "output_type": "stream",
     "text": [
      "Train Loss: 0.00302 | Val Loss: 0.02081 | LR: 9.09e-05\n",
      "\n",
      "Epoch 379/1000\n"
     ]
    },
    {
     "name": "stderr",
     "output_type": "stream",
     "text": [
      "Training: 100%|██████████| 313/313 [00:44<00:00,  7.04it/s]\n",
      "Validating: 100%|██████████| 40/40 [00:02<00:00, 15.58it/s]\n"
     ]
    },
    {
     "name": "stdout",
     "output_type": "stream",
     "text": [
      "Train Loss: 0.00303 | Val Loss: 0.02070 | LR: 9.07e-05\n",
      "\n",
      "Epoch 380/1000\n"
     ]
    },
    {
     "name": "stderr",
     "output_type": "stream",
     "text": [
      "Training: 100%|██████████| 313/313 [00:44<00:00,  7.03it/s]\n",
      "Validating: 100%|██████████| 40/40 [00:02<00:00, 15.50it/s]\n"
     ]
    },
    {
     "name": "stdout",
     "output_type": "stream",
     "text": [
      "Train Loss: 0.00301 | Val Loss: 0.02076 | LR: 9.05e-05\n",
      "\n",
      "Epoch 381/1000\n"
     ]
    },
    {
     "name": "stderr",
     "output_type": "stream",
     "text": [
      "Training: 100%|██████████| 313/313 [00:44<00:00,  7.03it/s]\n",
      "Validating: 100%|██████████| 40/40 [00:02<00:00, 15.58it/s]\n"
     ]
    },
    {
     "name": "stdout",
     "output_type": "stream",
     "text": [
      "Train Loss: 0.00300 | Val Loss: 0.02082 | LR: 9.02e-05\n",
      "\n",
      "Epoch 382/1000\n"
     ]
    },
    {
     "name": "stderr",
     "output_type": "stream",
     "text": [
      "Training: 100%|██████████| 313/313 [00:44<00:00,  7.03it/s]\n",
      "Validating: 100%|██████████| 40/40 [00:02<00:00, 15.52it/s]\n"
     ]
    },
    {
     "name": "stdout",
     "output_type": "stream",
     "text": [
      "Train Loss: 0.00301 | Val Loss: 0.02076 | LR: 9.00e-05\n",
      "\n",
      "Epoch 383/1000\n"
     ]
    },
    {
     "name": "stderr",
     "output_type": "stream",
     "text": [
      "Training: 100%|██████████| 313/313 [00:45<00:00,  6.93it/s]\n",
      "Validating: 100%|██████████| 40/40 [00:02<00:00, 15.50it/s]\n"
     ]
    },
    {
     "name": "stdout",
     "output_type": "stream",
     "text": [
      "Train Loss: 0.00302 | Val Loss: 0.02072 | LR: 8.97e-05\n",
      "\n",
      "Epoch 384/1000\n"
     ]
    },
    {
     "name": "stderr",
     "output_type": "stream",
     "text": [
      "Training: 100%|██████████| 313/313 [00:44<00:00,  7.01it/s]\n",
      "Validating: 100%|██████████| 40/40 [00:02<00:00, 15.52it/s]\n"
     ]
    },
    {
     "name": "stdout",
     "output_type": "stream",
     "text": [
      "Train Loss: 0.00301 | Val Loss: 0.02076 | LR: 8.95e-05\n",
      "\n",
      "Epoch 385/1000\n"
     ]
    },
    {
     "name": "stderr",
     "output_type": "stream",
     "text": [
      "Training: 100%|██████████| 313/313 [00:44<00:00,  7.01it/s]\n",
      "Validating: 100%|██████████| 40/40 [00:02<00:00, 15.48it/s]\n"
     ]
    },
    {
     "name": "stdout",
     "output_type": "stream",
     "text": [
      "Train Loss: 0.00300 | Val Loss: 0.02080 | LR: 8.93e-05\n",
      "\n",
      "Epoch 386/1000\n"
     ]
    },
    {
     "name": "stderr",
     "output_type": "stream",
     "text": [
      "Training: 100%|██████████| 313/313 [00:44<00:00,  7.02it/s]\n",
      "Validating: 100%|██████████| 40/40 [00:02<00:00, 15.52it/s]\n"
     ]
    },
    {
     "name": "stdout",
     "output_type": "stream",
     "text": [
      "Train Loss: 0.00299 | Val Loss: 0.02092 | LR: 8.90e-05\n",
      "\n",
      "Epoch 387/1000\n"
     ]
    },
    {
     "name": "stderr",
     "output_type": "stream",
     "text": [
      "Training: 100%|██████████| 313/313 [00:44<00:00,  7.01it/s]\n",
      "Validating: 100%|██████████| 40/40 [00:02<00:00, 15.55it/s]\n"
     ]
    },
    {
     "name": "stdout",
     "output_type": "stream",
     "text": [
      "Train Loss: 0.00303 | Val Loss: 0.02088 | LR: 8.88e-05\n",
      "\n",
      "Epoch 388/1000\n"
     ]
    },
    {
     "name": "stderr",
     "output_type": "stream",
     "text": [
      "Training: 100%|██████████| 313/313 [00:44<00:00,  7.02it/s]\n",
      "Validating: 100%|██████████| 40/40 [00:02<00:00, 15.48it/s]\n"
     ]
    },
    {
     "name": "stdout",
     "output_type": "stream",
     "text": [
      "Train Loss: 0.00305 | Val Loss: 0.02075 | LR: 8.85e-05\n",
      "\n",
      "Epoch 389/1000\n"
     ]
    },
    {
     "name": "stderr",
     "output_type": "stream",
     "text": [
      "Training: 100%|██████████| 313/313 [00:44<00:00,  7.02it/s]\n",
      "Validating: 100%|██████████| 40/40 [00:02<00:00, 15.60it/s]\n"
     ]
    },
    {
     "name": "stdout",
     "output_type": "stream",
     "text": [
      "Train Loss: 0.00299 | Val Loss: 0.02087 | LR: 8.83e-05\n",
      "\n",
      "Epoch 390/1000\n"
     ]
    },
    {
     "name": "stderr",
     "output_type": "stream",
     "text": [
      "Training: 100%|██████████| 313/313 [00:44<00:00,  7.02it/s]\n",
      "Validating: 100%|██████████| 40/40 [00:02<00:00, 15.54it/s]\n"
     ]
    },
    {
     "name": "stdout",
     "output_type": "stream",
     "text": [
      "Train Loss: 0.00302 | Val Loss: 0.02079 | LR: 8.80e-05\n",
      "\n",
      "Epoch 391/1000\n"
     ]
    },
    {
     "name": "stderr",
     "output_type": "stream",
     "text": [
      "Training: 100%|██████████| 313/313 [00:44<00:00,  6.97it/s]\n",
      "Validating: 100%|██████████| 40/40 [00:02<00:00, 15.56it/s]\n"
     ]
    },
    {
     "name": "stdout",
     "output_type": "stream",
     "text": [
      "Train Loss: 0.00299 | Val Loss: 0.02079 | LR: 8.78e-05\n",
      "\n",
      "Epoch 392/1000\n"
     ]
    },
    {
     "name": "stderr",
     "output_type": "stream",
     "text": [
      "Training: 100%|██████████| 313/313 [00:44<00:00,  7.01it/s]\n",
      "Validating: 100%|██████████| 40/40 [00:02<00:00, 15.50it/s]\n"
     ]
    },
    {
     "name": "stdout",
     "output_type": "stream",
     "text": [
      "Train Loss: 0.00303 | Val Loss: 0.02075 | LR: 8.75e-05\n",
      "\n",
      "Epoch 393/1000\n"
     ]
    },
    {
     "name": "stderr",
     "output_type": "stream",
     "text": [
      "Training: 100%|██████████| 313/313 [00:44<00:00,  7.02it/s]\n",
      "Validating: 100%|██████████| 40/40 [00:02<00:00, 15.53it/s]\n"
     ]
    },
    {
     "name": "stdout",
     "output_type": "stream",
     "text": [
      "Train Loss: 0.00300 | Val Loss: 0.02085 | LR: 8.72e-05\n",
      "\n",
      "Epoch 394/1000\n"
     ]
    },
    {
     "name": "stderr",
     "output_type": "stream",
     "text": [
      "Training: 100%|██████████| 313/313 [00:44<00:00,  7.03it/s]\n",
      "Validating: 100%|██████████| 40/40 [00:02<00:00, 15.50it/s]\n"
     ]
    },
    {
     "name": "stdout",
     "output_type": "stream",
     "text": [
      "Train Loss: 0.00299 | Val Loss: 0.02080 | LR: 8.70e-05\n",
      "\n",
      "Epoch 395/1000\n"
     ]
    },
    {
     "name": "stderr",
     "output_type": "stream",
     "text": [
      "Training: 100%|██████████| 313/313 [00:44<00:00,  7.03it/s]\n",
      "Validating: 100%|██████████| 40/40 [00:02<00:00, 15.52it/s]\n"
     ]
    },
    {
     "name": "stdout",
     "output_type": "stream",
     "text": [
      "Train Loss: 0.00303 | Val Loss: 0.02081 | LR: 8.67e-05\n",
      "\n",
      "Epoch 396/1000\n"
     ]
    },
    {
     "name": "stderr",
     "output_type": "stream",
     "text": [
      "Training: 100%|██████████| 313/313 [00:44<00:00,  7.02it/s]\n",
      "Validating: 100%|██████████| 40/40 [00:02<00:00, 15.51it/s]\n"
     ]
    },
    {
     "name": "stdout",
     "output_type": "stream",
     "text": [
      "Train Loss: 0.00301 | Val Loss: 0.02076 | LR: 8.64e-05\n",
      "\n",
      "Epoch 397/1000\n"
     ]
    },
    {
     "name": "stderr",
     "output_type": "stream",
     "text": [
      "Training: 100%|██████████| 313/313 [00:44<00:00,  7.02it/s]\n",
      "Validating: 100%|██████████| 40/40 [00:02<00:00, 15.50it/s]\n"
     ]
    },
    {
     "name": "stdout",
     "output_type": "stream",
     "text": [
      "Train Loss: 0.00302 | Val Loss: 0.02081 | LR: 8.62e-05\n",
      "\n",
      "Epoch 398/1000\n"
     ]
    },
    {
     "name": "stderr",
     "output_type": "stream",
     "text": [
      "Training: 100%|██████████| 313/313 [00:44<00:00,  7.02it/s]\n",
      "Validating: 100%|██████████| 40/40 [00:02<00:00, 15.57it/s]\n"
     ]
    },
    {
     "name": "stdout",
     "output_type": "stream",
     "text": [
      "Train Loss: 0.00295 | Val Loss: 0.02087 | LR: 8.59e-05\n",
      "\n",
      "Epoch 399/1000\n"
     ]
    },
    {
     "name": "stderr",
     "output_type": "stream",
     "text": [
      "Training: 100%|██████████| 313/313 [00:44<00:00,  7.02it/s]\n",
      "Validating: 100%|██████████| 40/40 [00:02<00:00, 15.52it/s]\n"
     ]
    },
    {
     "name": "stdout",
     "output_type": "stream",
     "text": [
      "Train Loss: 0.00297 | Val Loss: 0.02075 | LR: 8.56e-05\n",
      "\n",
      "Epoch 400/1000\n"
     ]
    },
    {
     "name": "stderr",
     "output_type": "stream",
     "text": [
      "Training: 100%|██████████| 313/313 [00:45<00:00,  6.94it/s]\n",
      "Validating: 100%|██████████| 40/40 [00:02<00:00, 15.49it/s]\n"
     ]
    },
    {
     "name": "stdout",
     "output_type": "stream",
     "text": [
      "Train Loss: 0.00298 | Val Loss: 0.02077 | LR: 8.54e-05\n",
      "\n",
      "Epoch 401/1000\n"
     ]
    },
    {
     "name": "stderr",
     "output_type": "stream",
     "text": [
      "Training: 100%|██████████| 313/313 [00:44<00:00,  7.00it/s]\n",
      "Validating: 100%|██████████| 40/40 [00:02<00:00, 15.51it/s]\n"
     ]
    },
    {
     "name": "stdout",
     "output_type": "stream",
     "text": [
      "Train Loss: 0.00300 | Val Loss: 0.02085 | LR: 8.51e-05\n",
      "\n",
      "Epoch 402/1000\n"
     ]
    },
    {
     "name": "stderr",
     "output_type": "stream",
     "text": [
      "Training: 100%|██████████| 313/313 [00:44<00:00,  7.00it/s]\n",
      "Validating: 100%|██████████| 40/40 [00:02<00:00, 15.48it/s]\n"
     ]
    },
    {
     "name": "stdout",
     "output_type": "stream",
     "text": [
      "Train Loss: 0.00301 | Val Loss: 0.02076 | LR: 8.48e-05\n",
      "\n",
      "Epoch 403/1000\n"
     ]
    },
    {
     "name": "stderr",
     "output_type": "stream",
     "text": [
      "Training: 100%|██████████| 313/313 [00:44<00:00,  7.01it/s]\n",
      "Validating: 100%|██████████| 40/40 [00:02<00:00, 15.47it/s]\n"
     ]
    },
    {
     "name": "stdout",
     "output_type": "stream",
     "text": [
      "Train Loss: 0.00298 | Val Loss: 0.02095 | LR: 8.45e-05\n",
      "\n",
      "Epoch 404/1000\n"
     ]
    },
    {
     "name": "stderr",
     "output_type": "stream",
     "text": [
      "Training: 100%|██████████| 313/313 [00:44<00:00,  7.02it/s]\n",
      "Validating: 100%|██████████| 40/40 [00:02<00:00, 15.56it/s]\n"
     ]
    },
    {
     "name": "stdout",
     "output_type": "stream",
     "text": [
      "Train Loss: 0.00299 | Val Loss: 0.02073 | LR: 8.42e-05\n",
      "\n",
      "Epoch 405/1000\n"
     ]
    },
    {
     "name": "stderr",
     "output_type": "stream",
     "text": [
      "Training: 100%|██████████| 313/313 [00:44<00:00,  7.03it/s]\n",
      "Validating: 100%|██████████| 40/40 [00:02<00:00, 15.50it/s]\n"
     ]
    },
    {
     "name": "stdout",
     "output_type": "stream",
     "text": [
      "Train Loss: 0.00294 | Val Loss: 0.02080 | LR: 8.39e-05\n",
      "\n",
      "Epoch 406/1000\n"
     ]
    },
    {
     "name": "stderr",
     "output_type": "stream",
     "text": [
      "Training: 100%|██████████| 313/313 [00:44<00:00,  7.02it/s]\n",
      "Validating: 100%|██████████| 40/40 [00:02<00:00, 15.53it/s]\n"
     ]
    },
    {
     "name": "stdout",
     "output_type": "stream",
     "text": [
      "Train Loss: 0.00297 | Val Loss: 0.02086 | LR: 8.37e-05\n",
      "\n",
      "Epoch 407/1000\n"
     ]
    },
    {
     "name": "stderr",
     "output_type": "stream",
     "text": [
      "Training: 100%|██████████| 313/313 [00:44<00:00,  7.03it/s]\n",
      "Validating: 100%|██████████| 40/40 [00:02<00:00, 15.53it/s]\n"
     ]
    },
    {
     "name": "stdout",
     "output_type": "stream",
     "text": [
      "Train Loss: 0.00298 | Val Loss: 0.02082 | LR: 8.34e-05\n",
      "\n",
      "Epoch 408/1000\n"
     ]
    },
    {
     "name": "stderr",
     "output_type": "stream",
     "text": [
      "Training: 100%|██████████| 313/313 [00:44<00:00,  7.04it/s]\n",
      "Validating: 100%|██████████| 40/40 [00:02<00:00, 15.55it/s]\n"
     ]
    },
    {
     "name": "stdout",
     "output_type": "stream",
     "text": [
      "Train Loss: 0.00297 | Val Loss: 0.02080 | LR: 8.31e-05\n",
      "\n",
      "Epoch 409/1000\n"
     ]
    },
    {
     "name": "stderr",
     "output_type": "stream",
     "text": [
      "Training: 100%|██████████| 313/313 [00:45<00:00,  6.92it/s]\n",
      "Validating: 100%|██████████| 40/40 [00:02<00:00, 15.44it/s]\n"
     ]
    },
    {
     "name": "stdout",
     "output_type": "stream",
     "text": [
      "Train Loss: 0.00301 | Val Loss: 0.02081 | LR: 8.28e-05\n",
      "\n",
      "Epoch 410/1000\n"
     ]
    },
    {
     "name": "stderr",
     "output_type": "stream",
     "text": [
      "Training: 100%|██████████| 313/313 [00:44<00:00,  7.00it/s]\n",
      "Validating: 100%|██████████| 40/40 [00:02<00:00, 15.48it/s]\n"
     ]
    },
    {
     "name": "stdout",
     "output_type": "stream",
     "text": [
      "Train Loss: 0.00296 | Val Loss: 0.02095 | LR: 8.25e-05\n",
      "\n",
      "Epoch 411/1000\n"
     ]
    },
    {
     "name": "stderr",
     "output_type": "stream",
     "text": [
      "Training: 100%|██████████| 313/313 [00:44<00:00,  7.01it/s]\n",
      "Validating: 100%|██████████| 40/40 [00:02<00:00, 15.45it/s]\n"
     ]
    },
    {
     "name": "stdout",
     "output_type": "stream",
     "text": [
      "Train Loss: 0.00297 | Val Loss: 0.02080 | LR: 8.22e-05\n",
      "\n",
      "Epoch 412/1000\n"
     ]
    },
    {
     "name": "stderr",
     "output_type": "stream",
     "text": [
      "Training: 100%|██████████| 313/313 [00:44<00:00,  7.02it/s]\n",
      "Validating: 100%|██████████| 40/40 [00:02<00:00, 15.48it/s]\n"
     ]
    },
    {
     "name": "stdout",
     "output_type": "stream",
     "text": [
      "Train Loss: 0.00295 | Val Loss: 0.02093 | LR: 8.19e-05\n",
      "\n",
      "Epoch 413/1000\n"
     ]
    },
    {
     "name": "stderr",
     "output_type": "stream",
     "text": [
      "Training: 100%|██████████| 313/313 [00:44<00:00,  7.02it/s]\n",
      "Validating: 100%|██████████| 40/40 [00:02<00:00, 15.48it/s]\n"
     ]
    },
    {
     "name": "stdout",
     "output_type": "stream",
     "text": [
      "Train Loss: 0.00300 | Val Loss: 0.02079 | LR: 8.16e-05\n",
      "\n",
      "Epoch 414/1000\n"
     ]
    },
    {
     "name": "stderr",
     "output_type": "stream",
     "text": [
      "Training: 100%|██████████| 313/313 [00:44<00:00,  7.02it/s]\n",
      "Validating: 100%|██████████| 40/40 [00:02<00:00, 15.52it/s]\n"
     ]
    },
    {
     "name": "stdout",
     "output_type": "stream",
     "text": [
      "Train Loss: 0.00299 | Val Loss: 0.02080 | LR: 8.13e-05\n",
      "\n",
      "Epoch 415/1000\n"
     ]
    },
    {
     "name": "stderr",
     "output_type": "stream",
     "text": [
      "Training: 100%|██████████| 313/313 [00:44<00:00,  7.02it/s]\n",
      "Validating: 100%|██████████| 40/40 [00:02<00:00, 15.64it/s]\n"
     ]
    },
    {
     "name": "stdout",
     "output_type": "stream",
     "text": [
      "Train Loss: 0.00295 | Val Loss: 0.02086 | LR: 8.10e-05\n",
      "\n",
      "Epoch 416/1000\n"
     ]
    },
    {
     "name": "stderr",
     "output_type": "stream",
     "text": [
      "Training: 100%|██████████| 313/313 [00:44<00:00,  7.03it/s]\n",
      "Validating: 100%|██████████| 40/40 [00:02<00:00, 15.57it/s]\n"
     ]
    },
    {
     "name": "stdout",
     "output_type": "stream",
     "text": [
      "Train Loss: 0.00296 | Val Loss: 0.02093 | LR: 8.06e-05\n",
      "\n",
      "Epoch 417/1000\n"
     ]
    },
    {
     "name": "stderr",
     "output_type": "stream",
     "text": [
      "Training: 100%|██████████| 313/313 [00:44<00:00,  7.02it/s]\n",
      "Validating: 100%|██████████| 40/40 [00:02<00:00, 15.54it/s]\n"
     ]
    },
    {
     "name": "stdout",
     "output_type": "stream",
     "text": [
      "Train Loss: 0.00295 | Val Loss: 0.02080 | LR: 8.03e-05\n",
      "\n",
      "Epoch 418/1000\n"
     ]
    },
    {
     "name": "stderr",
     "output_type": "stream",
     "text": [
      "Training: 100%|██████████| 313/313 [00:45<00:00,  6.94it/s]\n",
      "Validating: 100%|██████████| 40/40 [00:02<00:00, 15.50it/s]\n"
     ]
    },
    {
     "name": "stdout",
     "output_type": "stream",
     "text": [
      "Train Loss: 0.00300 | Val Loss: 0.02078 | LR: 8.00e-05\n",
      "\n",
      "Epoch 419/1000\n"
     ]
    },
    {
     "name": "stderr",
     "output_type": "stream",
     "text": [
      "Training: 100%|██████████| 313/313 [00:44<00:00,  7.01it/s]\n",
      "Validating: 100%|██████████| 40/40 [00:02<00:00, 15.52it/s]\n"
     ]
    },
    {
     "name": "stdout",
     "output_type": "stream",
     "text": [
      "Train Loss: 0.00296 | Val Loss: 0.02090 | LR: 7.97e-05\n",
      "\n",
      "Epoch 420/1000\n"
     ]
    },
    {
     "name": "stderr",
     "output_type": "stream",
     "text": [
      "Training: 100%|██████████| 313/313 [00:44<00:00,  7.02it/s]\n",
      "Validating: 100%|██████████| 40/40 [00:02<00:00, 15.58it/s]\n"
     ]
    },
    {
     "name": "stdout",
     "output_type": "stream",
     "text": [
      "Train Loss: 0.00295 | Val Loss: 0.02077 | LR: 7.94e-05\n",
      "\n",
      "Epoch 421/1000\n"
     ]
    },
    {
     "name": "stderr",
     "output_type": "stream",
     "text": [
      "Training: 100%|██████████| 313/313 [00:44<00:00,  7.02it/s]\n",
      "Validating: 100%|██████████| 40/40 [00:02<00:00, 15.58it/s]\n"
     ]
    },
    {
     "name": "stdout",
     "output_type": "stream",
     "text": [
      "Train Loss: 0.00296 | Val Loss: 0.02084 | LR: 7.91e-05\n",
      "\n",
      "Epoch 422/1000\n"
     ]
    },
    {
     "name": "stderr",
     "output_type": "stream",
     "text": [
      "Training: 100%|██████████| 313/313 [00:44<00:00,  7.03it/s]\n",
      "Validating: 100%|██████████| 40/40 [00:02<00:00, 15.57it/s]\n"
     ]
    },
    {
     "name": "stdout",
     "output_type": "stream",
     "text": [
      "Train Loss: 0.00297 | Val Loss: 0.02078 | LR: 7.88e-05\n",
      "\n",
      "Epoch 423/1000\n"
     ]
    },
    {
     "name": "stderr",
     "output_type": "stream",
     "text": [
      "Training: 100%|██████████| 313/313 [00:44<00:00,  7.02it/s]\n",
      "Validating: 100%|██████████| 40/40 [00:02<00:00, 15.58it/s]\n"
     ]
    },
    {
     "name": "stdout",
     "output_type": "stream",
     "text": [
      "Train Loss: 0.00297 | Val Loss: 0.02077 | LR: 7.84e-05\n",
      "\n",
      "Epoch 424/1000\n"
     ]
    },
    {
     "name": "stderr",
     "output_type": "stream",
     "text": [
      "Training: 100%|██████████| 313/313 [00:44<00:00,  7.03it/s]\n",
      "Validating: 100%|██████████| 40/40 [00:02<00:00, 15.58it/s]\n"
     ]
    },
    {
     "name": "stdout",
     "output_type": "stream",
     "text": [
      "Train Loss: 0.00297 | Val Loss: 0.02078 | LR: 7.81e-05\n",
      "\n",
      "Epoch 425/1000\n"
     ]
    },
    {
     "name": "stderr",
     "output_type": "stream",
     "text": [
      "Training: 100%|██████████| 313/313 [00:44<00:00,  7.03it/s]\n",
      "Validating: 100%|██████████| 40/40 [00:02<00:00, 15.57it/s]\n"
     ]
    },
    {
     "name": "stdout",
     "output_type": "stream",
     "text": [
      "Train Loss: 0.00299 | Val Loss: 0.02083 | LR: 7.78e-05\n",
      "\n",
      "Epoch 426/1000\n"
     ]
    },
    {
     "name": "stderr",
     "output_type": "stream",
     "text": [
      "Training: 100%|██████████| 313/313 [00:44<00:00,  7.03it/s]\n",
      "Validating: 100%|██████████| 40/40 [00:02<00:00, 15.64it/s]\n"
     ]
    },
    {
     "name": "stdout",
     "output_type": "stream",
     "text": [
      "Train Loss: 0.00298 | Val Loss: 0.02085 | LR: 7.75e-05\n",
      "\n",
      "Epoch 427/1000\n"
     ]
    },
    {
     "name": "stderr",
     "output_type": "stream",
     "text": [
      "Training: 100%|██████████| 313/313 [00:45<00:00,  6.94it/s]\n",
      "Validating: 100%|██████████| 40/40 [00:02<00:00, 15.41it/s]\n"
     ]
    },
    {
     "name": "stdout",
     "output_type": "stream",
     "text": [
      "Train Loss: 0.00295 | Val Loss: 0.02086 | LR: 7.71e-05\n",
      "\n",
      "Epoch 428/1000\n"
     ]
    },
    {
     "name": "stderr",
     "output_type": "stream",
     "text": [
      "Training: 100%|██████████| 313/313 [00:44<00:00,  7.01it/s]\n",
      "Validating: 100%|██████████| 40/40 [00:02<00:00, 15.51it/s]\n"
     ]
    },
    {
     "name": "stdout",
     "output_type": "stream",
     "text": [
      "Train Loss: 0.00297 | Val Loss: 0.02083 | LR: 7.68e-05\n",
      "\n",
      "Epoch 429/1000\n"
     ]
    },
    {
     "name": "stderr",
     "output_type": "stream",
     "text": [
      "Training: 100%|██████████| 313/313 [00:44<00:00,  7.00it/s]\n",
      "Validating: 100%|██████████| 40/40 [00:02<00:00, 15.48it/s]\n"
     ]
    },
    {
     "name": "stdout",
     "output_type": "stream",
     "text": [
      "Train Loss: 0.00298 | Val Loss: 0.02084 | LR: 7.65e-05\n",
      "\n",
      "Epoch 430/1000\n"
     ]
    },
    {
     "name": "stderr",
     "output_type": "stream",
     "text": [
      "Training: 100%|██████████| 313/313 [00:44<00:00,  7.01it/s]\n",
      "Validating: 100%|██████████| 40/40 [00:02<00:00, 15.55it/s]\n"
     ]
    },
    {
     "name": "stdout",
     "output_type": "stream",
     "text": [
      "Train Loss: 0.00292 | Val Loss: 0.02081 | LR: 7.61e-05\n",
      "\n",
      "Epoch 431/1000\n"
     ]
    },
    {
     "name": "stderr",
     "output_type": "stream",
     "text": [
      "Training: 100%|██████████| 313/313 [00:44<00:00,  7.02it/s]\n",
      "Validating: 100%|██████████| 40/40 [00:02<00:00, 15.57it/s]\n"
     ]
    },
    {
     "name": "stdout",
     "output_type": "stream",
     "text": [
      "Train Loss: 0.00298 | Val Loss: 0.02079 | LR: 7.58e-05\n",
      "\n",
      "Epoch 432/1000\n"
     ]
    },
    {
     "name": "stderr",
     "output_type": "stream",
     "text": [
      "Training: 100%|██████████| 313/313 [00:44<00:00,  7.03it/s]\n",
      "Validating: 100%|██████████| 40/40 [00:02<00:00, 15.56it/s]\n"
     ]
    },
    {
     "name": "stdout",
     "output_type": "stream",
     "text": [
      "Train Loss: 0.00294 | Val Loss: 0.02096 | LR: 7.55e-05\n",
      "\n",
      "Epoch 433/1000\n"
     ]
    },
    {
     "name": "stderr",
     "output_type": "stream",
     "text": [
      "Training: 100%|██████████| 313/313 [00:44<00:00,  7.02it/s]\n",
      "Validating: 100%|██████████| 40/40 [00:02<00:00, 15.55it/s]\n"
     ]
    },
    {
     "name": "stdout",
     "output_type": "stream",
     "text": [
      "Train Loss: 0.00295 | Val Loss: 0.02100 | LR: 7.51e-05\n",
      "\n",
      "Epoch 434/1000\n"
     ]
    },
    {
     "name": "stderr",
     "output_type": "stream",
     "text": [
      "Training: 100%|██████████| 313/313 [00:44<00:00,  7.02it/s]\n",
      "Validating: 100%|██████████| 40/40 [00:02<00:00, 15.54it/s]\n"
     ]
    },
    {
     "name": "stdout",
     "output_type": "stream",
     "text": [
      "Train Loss: 0.00296 | Val Loss: 0.02087 | LR: 7.48e-05\n",
      "\n",
      "Epoch 435/1000\n"
     ]
    },
    {
     "name": "stderr",
     "output_type": "stream",
     "text": [
      "Training: 100%|██████████| 313/313 [00:44<00:00,  7.03it/s]\n",
      "Validating: 100%|██████████| 40/40 [00:02<00:00, 15.61it/s]\n"
     ]
    },
    {
     "name": "stdout",
     "output_type": "stream",
     "text": [
      "Train Loss: 0.00297 | Val Loss: 0.02081 | LR: 7.44e-05\n",
      "\n",
      "Epoch 436/1000\n"
     ]
    },
    {
     "name": "stderr",
     "output_type": "stream",
     "text": [
      "Training: 100%|██████████| 313/313 [00:45<00:00,  6.95it/s]\n",
      "Validating: 100%|██████████| 40/40 [00:02<00:00, 15.44it/s]\n"
     ]
    },
    {
     "name": "stdout",
     "output_type": "stream",
     "text": [
      "Train Loss: 0.00298 | Val Loss: 0.02088 | LR: 7.41e-05\n",
      "\n",
      "Epoch 437/1000\n"
     ]
    },
    {
     "name": "stderr",
     "output_type": "stream",
     "text": [
      "Training: 100%|██████████| 313/313 [00:44<00:00,  7.01it/s]\n",
      "Validating: 100%|██████████| 40/40 [00:02<00:00, 15.53it/s]\n"
     ]
    },
    {
     "name": "stdout",
     "output_type": "stream",
     "text": [
      "Train Loss: 0.00295 | Val Loss: 0.02081 | LR: 7.37e-05\n",
      "\n",
      "Epoch 438/1000\n"
     ]
    },
    {
     "name": "stderr",
     "output_type": "stream",
     "text": [
      "Training: 100%|██████████| 313/313 [00:44<00:00,  7.01it/s]\n",
      "Validating: 100%|██████████| 40/40 [00:02<00:00, 15.51it/s]\n"
     ]
    },
    {
     "name": "stdout",
     "output_type": "stream",
     "text": [
      "Train Loss: 0.00296 | Val Loss: 0.02089 | LR: 7.34e-05\n",
      "\n",
      "Epoch 439/1000\n"
     ]
    },
    {
     "name": "stderr",
     "output_type": "stream",
     "text": [
      "Training: 100%|██████████| 313/313 [00:44<00:00,  7.02it/s]\n",
      "Validating: 100%|██████████| 40/40 [00:02<00:00, 15.45it/s]\n"
     ]
    },
    {
     "name": "stdout",
     "output_type": "stream",
     "text": [
      "Train Loss: 0.00296 | Val Loss: 0.02093 | LR: 7.30e-05\n",
      "\n",
      "Epoch 440/1000\n"
     ]
    },
    {
     "name": "stderr",
     "output_type": "stream",
     "text": [
      "Training: 100%|██████████| 313/313 [00:44<00:00,  7.01it/s]\n",
      "Validating: 100%|██████████| 40/40 [00:02<00:00, 15.47it/s]\n"
     ]
    },
    {
     "name": "stdout",
     "output_type": "stream",
     "text": [
      "Train Loss: 0.00291 | Val Loss: 0.02090 | LR: 7.27e-05\n",
      "\n",
      "Epoch 441/1000\n"
     ]
    },
    {
     "name": "stderr",
     "output_type": "stream",
     "text": [
      "Training: 100%|██████████| 313/313 [00:44<00:00,  7.02it/s]\n",
      "Validating: 100%|██████████| 40/40 [00:02<00:00, 15.63it/s]\n"
     ]
    },
    {
     "name": "stdout",
     "output_type": "stream",
     "text": [
      "Train Loss: 0.00297 | Val Loss: 0.02080 | LR: 7.23e-05\n",
      "\n",
      "Epoch 442/1000\n"
     ]
    },
    {
     "name": "stderr",
     "output_type": "stream",
     "text": [
      "Training: 100%|██████████| 313/313 [00:44<00:00,  7.01it/s]\n",
      "Validating: 100%|██████████| 40/40 [00:02<00:00, 15.50it/s]\n"
     ]
    },
    {
     "name": "stdout",
     "output_type": "stream",
     "text": [
      "Train Loss: 0.00292 | Val Loss: 0.02086 | LR: 7.20e-05\n",
      "\n",
      "Epoch 443/1000\n"
     ]
    },
    {
     "name": "stderr",
     "output_type": "stream",
     "text": [
      "Training: 100%|██████████| 313/313 [00:44<00:00,  7.01it/s]\n",
      "Validating: 100%|██████████| 40/40 [00:02<00:00, 15.49it/s]\n"
     ]
    },
    {
     "name": "stdout",
     "output_type": "stream",
     "text": [
      "Train Loss: 0.00294 | Val Loss: 0.02086 | LR: 7.16e-05\n",
      "\n",
      "Epoch 444/1000\n"
     ]
    },
    {
     "name": "stderr",
     "output_type": "stream",
     "text": [
      "Training: 100%|██████████| 313/313 [00:44<00:00,  7.01it/s]\n",
      "Validating: 100%|██████████| 40/40 [00:02<00:00, 15.49it/s]\n"
     ]
    },
    {
     "name": "stdout",
     "output_type": "stream",
     "text": [
      "Train Loss: 0.00295 | Val Loss: 0.02088 | LR: 7.13e-05\n",
      "\n",
      "Epoch 445/1000\n"
     ]
    },
    {
     "name": "stderr",
     "output_type": "stream",
     "text": [
      "Training: 100%|██████████| 313/313 [00:44<00:00,  7.02it/s]\n",
      "Validating: 100%|██████████| 40/40 [00:02<00:00, 15.52it/s]\n"
     ]
    },
    {
     "name": "stdout",
     "output_type": "stream",
     "text": [
      "Train Loss: 0.00296 | Val Loss: 0.02100 | LR: 7.09e-05\n",
      "\n",
      "Epoch 446/1000\n"
     ]
    },
    {
     "name": "stderr",
     "output_type": "stream",
     "text": [
      "Training: 100%|██████████| 313/313 [00:45<00:00,  6.93it/s]\n",
      "Validating: 100%|██████████| 40/40 [00:02<00:00, 15.50it/s]\n"
     ]
    },
    {
     "name": "stdout",
     "output_type": "stream",
     "text": [
      "Train Loss: 0.00295 | Val Loss: 0.02096 | LR: 7.06e-05\n",
      "\n",
      "Epoch 447/1000\n"
     ]
    },
    {
     "name": "stderr",
     "output_type": "stream",
     "text": [
      "Training: 100%|██████████| 313/313 [00:44<00:00,  7.00it/s]\n",
      "Validating: 100%|██████████| 40/40 [00:02<00:00, 15.48it/s]\n"
     ]
    },
    {
     "name": "stdout",
     "output_type": "stream",
     "text": [
      "Train Loss: 0.00296 | Val Loss: 0.02081 | LR: 7.02e-05\n",
      "\n",
      "Epoch 448/1000\n"
     ]
    },
    {
     "name": "stderr",
     "output_type": "stream",
     "text": [
      "Training: 100%|██████████| 313/313 [00:44<00:00,  7.02it/s]\n",
      "Validating: 100%|██████████| 40/40 [00:02<00:00, 15.48it/s]\n"
     ]
    },
    {
     "name": "stdout",
     "output_type": "stream",
     "text": [
      "Train Loss: 0.00293 | Val Loss: 0.02088 | LR: 6.99e-05\n",
      "\n",
      "Epoch 449/1000\n"
     ]
    },
    {
     "name": "stderr",
     "output_type": "stream",
     "text": [
      "Training: 100%|██████████| 313/313 [00:44<00:00,  7.00it/s]\n",
      "Validating: 100%|██████████| 40/40 [00:02<00:00, 15.50it/s]\n"
     ]
    },
    {
     "name": "stdout",
     "output_type": "stream",
     "text": [
      "Train Loss: 0.00295 | Val Loss: 0.02089 | LR: 6.95e-05\n",
      "\n",
      "Epoch 450/1000\n"
     ]
    },
    {
     "name": "stderr",
     "output_type": "stream",
     "text": [
      "Training: 100%|██████████| 313/313 [00:44<00:00,  7.02it/s]\n",
      "Validating: 100%|██████████| 40/40 [00:02<00:00, 15.59it/s]\n"
     ]
    },
    {
     "name": "stdout",
     "output_type": "stream",
     "text": [
      "Train Loss: 0.00291 | Val Loss: 0.02075 | LR: 6.91e-05\n",
      "\n",
      "Epoch 451/1000\n"
     ]
    },
    {
     "name": "stderr",
     "output_type": "stream",
     "text": [
      "Training: 100%|██████████| 313/313 [00:44<00:00,  7.02it/s]\n",
      "Validating: 100%|██████████| 40/40 [00:02<00:00, 15.51it/s]\n"
     ]
    },
    {
     "name": "stdout",
     "output_type": "stream",
     "text": [
      "Train Loss: 0.00294 | Val Loss: 0.02092 | LR: 6.88e-05\n",
      "\n",
      "Epoch 452/1000\n"
     ]
    },
    {
     "name": "stderr",
     "output_type": "stream",
     "text": [
      "Training: 100%|██████████| 313/313 [00:44<00:00,  7.03it/s]\n",
      "Validating: 100%|██████████| 40/40 [00:02<00:00, 15.56it/s]\n"
     ]
    },
    {
     "name": "stdout",
     "output_type": "stream",
     "text": [
      "Train Loss: 0.00298 | Val Loss: 0.02099 | LR: 6.84e-05\n",
      "\n",
      "Epoch 453/1000\n"
     ]
    },
    {
     "name": "stderr",
     "output_type": "stream",
     "text": [
      "Training: 100%|██████████| 313/313 [00:44<00:00,  7.03it/s]\n",
      "Validating: 100%|██████████| 40/40 [00:02<00:00, 15.59it/s]\n"
     ]
    },
    {
     "name": "stdout",
     "output_type": "stream",
     "text": [
      "Train Loss: 0.00293 | Val Loss: 0.02090 | LR: 6.80e-05\n",
      "\n",
      "Epoch 454/1000\n"
     ]
    },
    {
     "name": "stderr",
     "output_type": "stream",
     "text": [
      "Training: 100%|██████████| 313/313 [00:44<00:00,  7.03it/s]\n",
      "Validating: 100%|██████████| 40/40 [00:02<00:00, 15.56it/s]\n"
     ]
    },
    {
     "name": "stdout",
     "output_type": "stream",
     "text": [
      "Train Loss: 0.00292 | Val Loss: 0.02089 | LR: 6.77e-05\n",
      "\n",
      "Epoch 455/1000\n"
     ]
    },
    {
     "name": "stderr",
     "output_type": "stream",
     "text": [
      "Training: 100%|██████████| 313/313 [00:45<00:00,  6.95it/s]\n",
      "Validating: 100%|██████████| 40/40 [00:02<00:00, 15.45it/s]\n"
     ]
    },
    {
     "name": "stdout",
     "output_type": "stream",
     "text": [
      "Train Loss: 0.00296 | Val Loss: 0.02092 | LR: 6.73e-05\n",
      "\n",
      "Epoch 456/1000\n"
     ]
    },
    {
     "name": "stderr",
     "output_type": "stream",
     "text": [
      "Training: 100%|██████████| 313/313 [00:44<00:00,  7.00it/s]\n",
      "Validating: 100%|██████████| 40/40 [00:02<00:00, 15.47it/s]\n"
     ]
    },
    {
     "name": "stdout",
     "output_type": "stream",
     "text": [
      "Train Loss: 0.00291 | Val Loss: 0.02084 | LR: 6.69e-05\n",
      "\n",
      "Epoch 457/1000\n"
     ]
    },
    {
     "name": "stderr",
     "output_type": "stream",
     "text": [
      "Training: 100%|██████████| 313/313 [00:44<00:00,  7.02it/s]\n",
      "Validating: 100%|██████████| 40/40 [00:02<00:00, 15.43it/s]\n"
     ]
    },
    {
     "name": "stdout",
     "output_type": "stream",
     "text": [
      "Train Loss: 0.00290 | Val Loss: 0.02096 | LR: 6.66e-05\n",
      "\n",
      "Epoch 458/1000\n"
     ]
    },
    {
     "name": "stderr",
     "output_type": "stream",
     "text": [
      "Training: 100%|██████████| 313/313 [00:44<00:00,  7.01it/s]\n",
      "Validating: 100%|██████████| 40/40 [00:02<00:00, 15.53it/s]\n"
     ]
    },
    {
     "name": "stdout",
     "output_type": "stream",
     "text": [
      "Train Loss: 0.00292 | Val Loss: 0.02087 | LR: 6.62e-05\n",
      "\n",
      "Epoch 459/1000\n"
     ]
    },
    {
     "name": "stderr",
     "output_type": "stream",
     "text": [
      "Training: 100%|██████████| 313/313 [00:44<00:00,  7.02it/s]\n",
      "Validating: 100%|██████████| 40/40 [00:02<00:00, 15.62it/s]\n"
     ]
    },
    {
     "name": "stdout",
     "output_type": "stream",
     "text": [
      "Train Loss: 0.00291 | Val Loss: 0.02097 | LR: 6.58e-05\n",
      "\n",
      "Epoch 460/1000\n"
     ]
    },
    {
     "name": "stderr",
     "output_type": "stream",
     "text": [
      "Training: 100%|██████████| 313/313 [00:44<00:00,  7.02it/s]\n",
      "Validating: 100%|██████████| 40/40 [00:02<00:00, 15.51it/s]\n"
     ]
    },
    {
     "name": "stdout",
     "output_type": "stream",
     "text": [
      "Train Loss: 0.00293 | Val Loss: 0.02084 | LR: 6.55e-05\n",
      "\n",
      "Epoch 461/1000\n"
     ]
    },
    {
     "name": "stderr",
     "output_type": "stream",
     "text": [
      "Training: 100%|██████████| 313/313 [00:44<00:00,  7.03it/s]\n",
      "Validating: 100%|██████████| 40/40 [00:02<00:00, 15.59it/s]\n"
     ]
    },
    {
     "name": "stdout",
     "output_type": "stream",
     "text": [
      "Train Loss: 0.00292 | Val Loss: 0.02099 | LR: 6.51e-05\n",
      "\n",
      "Epoch 462/1000\n"
     ]
    },
    {
     "name": "stderr",
     "output_type": "stream",
     "text": [
      "Training: 100%|██████████| 313/313 [00:44<00:00,  7.03it/s]\n",
      "Validating: 100%|██████████| 40/40 [00:02<00:00, 15.59it/s]\n"
     ]
    },
    {
     "name": "stdout",
     "output_type": "stream",
     "text": [
      "Train Loss: 0.00294 | Val Loss: 0.02089 | LR: 6.47e-05\n",
      "\n",
      "Epoch 463/1000\n"
     ]
    },
    {
     "name": "stderr",
     "output_type": "stream",
     "text": [
      "Training: 100%|██████████| 313/313 [00:44<00:00,  7.03it/s]\n",
      "Validating: 100%|██████████| 40/40 [00:02<00:00, 15.59it/s]\n"
     ]
    },
    {
     "name": "stdout",
     "output_type": "stream",
     "text": [
      "Train Loss: 0.00289 | Val Loss: 0.02082 | LR: 6.43e-05\n",
      "\n",
      "Epoch 464/1000\n"
     ]
    },
    {
     "name": "stderr",
     "output_type": "stream",
     "text": [
      "Training: 100%|██████████| 313/313 [00:44<00:00,  7.03it/s]\n",
      "Validating: 100%|██████████| 40/40 [00:02<00:00, 15.53it/s]\n"
     ]
    },
    {
     "name": "stdout",
     "output_type": "stream",
     "text": [
      "Train Loss: 0.00291 | Val Loss: 0.02092 | LR: 6.39e-05\n",
      "\n",
      "Epoch 465/1000\n"
     ]
    },
    {
     "name": "stderr",
     "output_type": "stream",
     "text": [
      "Training: 100%|██████████| 313/313 [00:45<00:00,  6.96it/s]\n",
      "Validating: 100%|██████████| 40/40 [00:02<00:00, 15.48it/s]\n"
     ]
    },
    {
     "name": "stdout",
     "output_type": "stream",
     "text": [
      "Train Loss: 0.00290 | Val Loss: 0.02088 | LR: 6.36e-05\n",
      "\n",
      "Epoch 466/1000\n"
     ]
    },
    {
     "name": "stderr",
     "output_type": "stream",
     "text": [
      "Training: 100%|██████████| 313/313 [00:44<00:00,  7.01it/s]\n",
      "Validating: 100%|██████████| 40/40 [00:02<00:00, 15.46it/s]\n"
     ]
    },
    {
     "name": "stdout",
     "output_type": "stream",
     "text": [
      "Train Loss: 0.00293 | Val Loss: 0.02083 | LR: 6.32e-05\n",
      "\n",
      "Epoch 467/1000\n"
     ]
    },
    {
     "name": "stderr",
     "output_type": "stream",
     "text": [
      "Training: 100%|██████████| 313/313 [00:44<00:00,  7.01it/s]\n",
      "Validating: 100%|██████████| 40/40 [00:02<00:00, 15.48it/s]\n"
     ]
    },
    {
     "name": "stdout",
     "output_type": "stream",
     "text": [
      "Train Loss: 0.00290 | Val Loss: 0.02089 | LR: 6.28e-05\n",
      "\n",
      "Epoch 468/1000\n"
     ]
    },
    {
     "name": "stderr",
     "output_type": "stream",
     "text": [
      "Training: 100%|██████████| 313/313 [00:44<00:00,  7.02it/s]\n",
      "Validating: 100%|██████████| 40/40 [00:02<00:00, 15.47it/s]\n"
     ]
    },
    {
     "name": "stdout",
     "output_type": "stream",
     "text": [
      "Train Loss: 0.00290 | Val Loss: 0.02077 | LR: 6.24e-05\n",
      "\n",
      "Epoch 469/1000\n"
     ]
    },
    {
     "name": "stderr",
     "output_type": "stream",
     "text": [
      "Training: 100%|██████████| 313/313 [00:44<00:00,  7.03it/s]\n",
      "Validating: 100%|██████████| 40/40 [00:02<00:00, 15.58it/s]\n"
     ]
    },
    {
     "name": "stdout",
     "output_type": "stream",
     "text": [
      "Train Loss: 0.00289 | Val Loss: 0.02079 | LR: 6.21e-05\n",
      "\n",
      "Epoch 470/1000\n"
     ]
    },
    {
     "name": "stderr",
     "output_type": "stream",
     "text": [
      "Training: 100%|██████████| 313/313 [00:44<00:00,  7.02it/s]\n",
      "Validating: 100%|██████████| 40/40 [00:02<00:00, 15.55it/s]\n"
     ]
    },
    {
     "name": "stdout",
     "output_type": "stream",
     "text": [
      "Train Loss: 0.00294 | Val Loss: 0.02089 | LR: 6.17e-05\n",
      "\n",
      "Epoch 471/1000\n"
     ]
    },
    {
     "name": "stderr",
     "output_type": "stream",
     "text": [
      "Training: 100%|██████████| 313/313 [00:44<00:00,  7.02it/s]\n",
      "Validating: 100%|██████████| 40/40 [00:02<00:00, 15.58it/s]\n"
     ]
    },
    {
     "name": "stdout",
     "output_type": "stream",
     "text": [
      "Train Loss: 0.00292 | Val Loss: 0.02095 | LR: 6.13e-05\n",
      "\n",
      "Epoch 472/1000\n"
     ]
    },
    {
     "name": "stderr",
     "output_type": "stream",
     "text": [
      "Training: 100%|██████████| 313/313 [00:44<00:00,  7.01it/s]\n",
      "Validating: 100%|██████████| 40/40 [00:02<00:00, 15.51it/s]\n"
     ]
    },
    {
     "name": "stdout",
     "output_type": "stream",
     "text": [
      "Train Loss: 0.00293 | Val Loss: 0.02084 | LR: 6.09e-05\n",
      "\n",
      "Epoch 473/1000\n"
     ]
    },
    {
     "name": "stderr",
     "output_type": "stream",
     "text": [
      "Training: 100%|██████████| 313/313 [00:44<00:00,  7.01it/s]\n",
      "Validating: 100%|██████████| 40/40 [00:02<00:00, 15.53it/s]\n"
     ]
    },
    {
     "name": "stdout",
     "output_type": "stream",
     "text": [
      "Train Loss: 0.00291 | Val Loss: 0.02091 | LR: 6.05e-05\n",
      "\n",
      "Epoch 474/1000\n"
     ]
    },
    {
     "name": "stderr",
     "output_type": "stream",
     "text": [
      "Training: 100%|██████████| 313/313 [00:44<00:00,  7.01it/s]\n",
      "Validating: 100%|██████████| 40/40 [00:02<00:00, 15.47it/s]\n"
     ]
    },
    {
     "name": "stdout",
     "output_type": "stream",
     "text": [
      "Train Loss: 0.00291 | Val Loss: 0.02092 | LR: 6.01e-05\n",
      "\n",
      "Epoch 475/1000\n"
     ]
    },
    {
     "name": "stderr",
     "output_type": "stream",
     "text": [
      "Training: 100%|██████████| 313/313 [00:45<00:00,  6.95it/s]\n",
      "Validating: 100%|██████████| 40/40 [00:02<00:00, 15.44it/s]\n"
     ]
    },
    {
     "name": "stdout",
     "output_type": "stream",
     "text": [
      "Train Loss: 0.00289 | Val Loss: 0.02085 | LR: 5.98e-05\n",
      "\n",
      "Epoch 476/1000\n"
     ]
    },
    {
     "name": "stderr",
     "output_type": "stream",
     "text": [
      "Training: 100%|██████████| 313/313 [00:44<00:00,  6.99it/s]\n",
      "Validating: 100%|██████████| 40/40 [00:02<00:00, 15.39it/s]\n"
     ]
    },
    {
     "name": "stdout",
     "output_type": "stream",
     "text": [
      "Train Loss: 0.00289 | Val Loss: 0.02096 | LR: 5.94e-05\n",
      "\n",
      "Epoch 477/1000\n"
     ]
    },
    {
     "name": "stderr",
     "output_type": "stream",
     "text": [
      "Training: 100%|██████████| 313/313 [00:44<00:00,  7.01it/s]\n",
      "Validating: 100%|██████████| 40/40 [00:02<00:00, 15.41it/s]\n"
     ]
    },
    {
     "name": "stdout",
     "output_type": "stream",
     "text": [
      "Train Loss: 0.00290 | Val Loss: 0.02093 | LR: 5.90e-05\n",
      "\n",
      "Epoch 478/1000\n"
     ]
    },
    {
     "name": "stderr",
     "output_type": "stream",
     "text": [
      "Training: 100%|██████████| 313/313 [00:44<00:00,  7.01it/s]\n",
      "Validating: 100%|██████████| 40/40 [00:02<00:00, 15.51it/s]\n"
     ]
    },
    {
     "name": "stdout",
     "output_type": "stream",
     "text": [
      "Train Loss: 0.00289 | Val Loss: 0.02092 | LR: 5.86e-05\n",
      "\n",
      "Epoch 479/1000\n"
     ]
    },
    {
     "name": "stderr",
     "output_type": "stream",
     "text": [
      "Training: 100%|██████████| 313/313 [00:44<00:00,  7.01it/s]\n",
      "Validating: 100%|██████████| 40/40 [00:02<00:00, 15.48it/s]\n"
     ]
    },
    {
     "name": "stdout",
     "output_type": "stream",
     "text": [
      "Train Loss: 0.00290 | Val Loss: 0.02087 | LR: 5.82e-05\n",
      "\n",
      "Epoch 480/1000\n"
     ]
    },
    {
     "name": "stderr",
     "output_type": "stream",
     "text": [
      "Training: 100%|██████████| 313/313 [00:44<00:00,  7.01it/s]\n",
      "Validating: 100%|██████████| 40/40 [00:02<00:00, 15.53it/s]\n"
     ]
    },
    {
     "name": "stdout",
     "output_type": "stream",
     "text": [
      "Train Loss: 0.00289 | Val Loss: 0.02098 | LR: 5.78e-05\n",
      "\n",
      "Epoch 481/1000\n"
     ]
    },
    {
     "name": "stderr",
     "output_type": "stream",
     "text": [
      "Training: 100%|██████████| 313/313 [00:44<00:00,  6.99it/s]\n",
      "Validating: 100%|██████████| 40/40 [00:02<00:00, 15.45it/s]\n"
     ]
    },
    {
     "name": "stdout",
     "output_type": "stream",
     "text": [
      "Train Loss: 0.00294 | Val Loss: 0.02091 | LR: 5.74e-05\n",
      "\n",
      "Epoch 482/1000\n"
     ]
    },
    {
     "name": "stderr",
     "output_type": "stream",
     "text": [
      "Training: 100%|██████████| 313/313 [00:44<00:00,  7.01it/s]\n",
      "Validating: 100%|██████████| 40/40 [00:02<00:00, 15.51it/s]\n"
     ]
    },
    {
     "name": "stdout",
     "output_type": "stream",
     "text": [
      "Train Loss: 0.00291 | Val Loss: 0.02084 | LR: 5.70e-05\n",
      "\n",
      "Epoch 483/1000\n"
     ]
    },
    {
     "name": "stderr",
     "output_type": "stream",
     "text": [
      "Training: 100%|██████████| 313/313 [00:44<00:00,  7.02it/s]\n",
      "Validating: 100%|██████████| 40/40 [00:02<00:00, 15.53it/s]\n"
     ]
    },
    {
     "name": "stdout",
     "output_type": "stream",
     "text": [
      "Train Loss: 0.00291 | Val Loss: 0.02099 | LR: 5.67e-05\n",
      "\n",
      "Epoch 484/1000\n"
     ]
    },
    {
     "name": "stderr",
     "output_type": "stream",
     "text": [
      "Training: 100%|██████████| 313/313 [00:44<00:00,  7.02it/s]\n",
      "Validating: 100%|██████████| 40/40 [00:02<00:00, 15.55it/s]\n"
     ]
    },
    {
     "name": "stdout",
     "output_type": "stream",
     "text": [
      "Train Loss: 0.00290 | Val Loss: 0.02096 | LR: 5.63e-05\n",
      "\n",
      "Epoch 485/1000\n"
     ]
    },
    {
     "name": "stderr",
     "output_type": "stream",
     "text": [
      "Training: 100%|██████████| 313/313 [00:44<00:00,  6.96it/s]\n",
      "Validating: 100%|██████████| 40/40 [00:02<00:00, 15.46it/s]\n"
     ]
    },
    {
     "name": "stdout",
     "output_type": "stream",
     "text": [
      "Train Loss: 0.00292 | Val Loss: 0.02100 | LR: 5.59e-05\n",
      "\n",
      "Epoch 486/1000\n"
     ]
    },
    {
     "name": "stderr",
     "output_type": "stream",
     "text": [
      "Training: 100%|██████████| 313/313 [00:44<00:00,  7.00it/s]\n",
      "Validating: 100%|██████████| 40/40 [00:02<00:00, 15.44it/s]\n"
     ]
    },
    {
     "name": "stdout",
     "output_type": "stream",
     "text": [
      "Train Loss: 0.00290 | Val Loss: 0.02094 | LR: 5.55e-05\n",
      "\n",
      "Epoch 487/1000\n"
     ]
    },
    {
     "name": "stderr",
     "output_type": "stream",
     "text": [
      "Training: 100%|██████████| 313/313 [00:44<00:00,  7.00it/s]\n",
      "Validating: 100%|██████████| 40/40 [00:02<00:00, 15.53it/s]\n"
     ]
    },
    {
     "name": "stdout",
     "output_type": "stream",
     "text": [
      "Train Loss: 0.00287 | Val Loss: 0.02094 | LR: 5.51e-05\n",
      "\n",
      "Epoch 488/1000\n"
     ]
    },
    {
     "name": "stderr",
     "output_type": "stream",
     "text": [
      "Training: 100%|██████████| 313/313 [00:44<00:00,  7.01it/s]\n",
      "Validating: 100%|██████████| 40/40 [00:02<00:00, 15.49it/s]\n"
     ]
    },
    {
     "name": "stdout",
     "output_type": "stream",
     "text": [
      "Train Loss: 0.00290 | Val Loss: 0.02103 | LR: 5.47e-05\n",
      "\n",
      "Epoch 489/1000\n"
     ]
    },
    {
     "name": "stderr",
     "output_type": "stream",
     "text": [
      "Training: 100%|██████████| 313/313 [00:44<00:00,  7.01it/s]\n",
      "Validating: 100%|██████████| 40/40 [00:02<00:00, 15.49it/s]\n"
     ]
    },
    {
     "name": "stdout",
     "output_type": "stream",
     "text": [
      "Train Loss: 0.00292 | Val Loss: 0.02094 | LR: 5.43e-05\n",
      "\n",
      "Epoch 490/1000\n"
     ]
    },
    {
     "name": "stderr",
     "output_type": "stream",
     "text": [
      "Training: 100%|██████████| 313/313 [00:44<00:00,  7.01it/s]\n",
      "Validating: 100%|██████████| 40/40 [00:02<00:00, 15.51it/s]\n"
     ]
    },
    {
     "name": "stdout",
     "output_type": "stream",
     "text": [
      "Train Loss: 0.00291 | Val Loss: 0.02096 | LR: 5.39e-05\n",
      "\n",
      "Epoch 491/1000\n"
     ]
    },
    {
     "name": "stderr",
     "output_type": "stream",
     "text": [
      "Training: 100%|██████████| 313/313 [00:44<00:00,  7.01it/s]\n",
      "Validating: 100%|██████████| 40/40 [00:02<00:00, 15.51it/s]\n"
     ]
    },
    {
     "name": "stdout",
     "output_type": "stream",
     "text": [
      "Train Loss: 0.00288 | Val Loss: 0.02103 | LR: 5.35e-05\n",
      "\n",
      "Epoch 492/1000\n"
     ]
    },
    {
     "name": "stderr",
     "output_type": "stream",
     "text": [
      "Training: 100%|██████████| 313/313 [00:44<00:00,  7.01it/s]\n",
      "Validating: 100%|██████████| 40/40 [00:02<00:00, 15.52it/s]\n"
     ]
    },
    {
     "name": "stdout",
     "output_type": "stream",
     "text": [
      "Train Loss: 0.00287 | Val Loss: 0.02093 | LR: 5.31e-05\n",
      "\n",
      "Epoch 493/1000\n"
     ]
    },
    {
     "name": "stderr",
     "output_type": "stream",
     "text": [
      "Training: 100%|██████████| 313/313 [00:44<00:00,  7.02it/s]\n",
      "Validating: 100%|██████████| 40/40 [00:02<00:00, 15.46it/s]\n"
     ]
    },
    {
     "name": "stdout",
     "output_type": "stream",
     "text": [
      "Train Loss: 0.00293 | Val Loss: 0.02093 | LR: 5.27e-05\n",
      "\n",
      "Epoch 494/1000\n"
     ]
    },
    {
     "name": "stderr",
     "output_type": "stream",
     "text": [
      "Training: 100%|██████████| 313/313 [00:44<00:00,  7.02it/s]\n",
      "Validating: 100%|██████████| 40/40 [00:02<00:00, 15.58it/s]\n"
     ]
    },
    {
     "name": "stdout",
     "output_type": "stream",
     "text": [
      "Train Loss: 0.00286 | Val Loss: 0.02101 | LR: 5.24e-05\n",
      "\n",
      "Epoch 495/1000\n"
     ]
    },
    {
     "name": "stderr",
     "output_type": "stream",
     "text": [
      "Training: 100%|██████████| 313/313 [00:44<00:00,  7.02it/s]\n",
      "Validating: 100%|██████████| 40/40 [00:02<00:00, 15.58it/s]\n"
     ]
    },
    {
     "name": "stdout",
     "output_type": "stream",
     "text": [
      "Train Loss: 0.00289 | Val Loss: 0.02087 | LR: 5.20e-05\n",
      "\n",
      "Epoch 496/1000\n"
     ]
    },
    {
     "name": "stderr",
     "output_type": "stream",
     "text": [
      "Training: 100%|██████████| 313/313 [00:45<00:00,  6.93it/s]\n",
      "Validating: 100%|██████████| 40/40 [00:02<00:00, 15.42it/s]\n"
     ]
    },
    {
     "name": "stdout",
     "output_type": "stream",
     "text": [
      "Train Loss: 0.00288 | Val Loss: 0.02092 | LR: 5.16e-05\n",
      "\n",
      "Epoch 497/1000\n"
     ]
    },
    {
     "name": "stderr",
     "output_type": "stream",
     "text": [
      "Training: 100%|██████████| 313/313 [00:44<00:00,  6.98it/s]\n",
      "Validating: 100%|██████████| 40/40 [00:02<00:00, 15.49it/s]\n"
     ]
    },
    {
     "name": "stdout",
     "output_type": "stream",
     "text": [
      "Train Loss: 0.00294 | Val Loss: 0.02094 | LR: 5.12e-05\n",
      "\n",
      "Epoch 498/1000\n"
     ]
    },
    {
     "name": "stderr",
     "output_type": "stream",
     "text": [
      "Training: 100%|██████████| 313/313 [00:44<00:00,  7.01it/s]\n",
      "Validating: 100%|██████████| 40/40 [00:02<00:00, 15.49it/s]\n"
     ]
    },
    {
     "name": "stdout",
     "output_type": "stream",
     "text": [
      "Train Loss: 0.00291 | Val Loss: 0.02090 | LR: 5.08e-05\n",
      "\n",
      "Epoch 499/1000\n"
     ]
    },
    {
     "name": "stderr",
     "output_type": "stream",
     "text": [
      "Training: 100%|██████████| 313/313 [00:44<00:00,  6.99it/s]\n",
      "Validating: 100%|██████████| 40/40 [00:02<00:00, 15.45it/s]\n"
     ]
    },
    {
     "name": "stdout",
     "output_type": "stream",
     "text": [
      "Train Loss: 0.00286 | Val Loss: 0.02096 | LR: 5.04e-05\n",
      "\n",
      "Epoch 500/1000\n"
     ]
    },
    {
     "name": "stderr",
     "output_type": "stream",
     "text": [
      "Training: 100%|██████████| 313/313 [00:44<00:00,  7.00it/s]\n",
      "Validating: 100%|██████████| 40/40 [00:02<00:00, 15.48it/s]\n"
     ]
    },
    {
     "name": "stdout",
     "output_type": "stream",
     "text": [
      "Train Loss: 0.00286 | Val Loss: 0.02095 | LR: 5.00e-05\n",
      "\n",
      "Epoch 501/1000\n"
     ]
    },
    {
     "name": "stderr",
     "output_type": "stream",
     "text": [
      "Training: 100%|██████████| 313/313 [00:44<00:00,  7.02it/s]\n",
      "Validating: 100%|██████████| 40/40 [00:02<00:00, 15.51it/s]\n"
     ]
    },
    {
     "name": "stdout",
     "output_type": "stream",
     "text": [
      "Train Loss: 0.00285 | Val Loss: 0.02097 | LR: 4.96e-05\n",
      "\n",
      "Epoch 502/1000\n"
     ]
    },
    {
     "name": "stderr",
     "output_type": "stream",
     "text": [
      "Training: 100%|██████████| 313/313 [00:44<00:00,  7.02it/s]\n",
      "Validating: 100%|██████████| 40/40 [00:02<00:00, 15.54it/s]\n"
     ]
    },
    {
     "name": "stdout",
     "output_type": "stream",
     "text": [
      "Train Loss: 0.00292 | Val Loss: 0.02092 | LR: 4.92e-05\n",
      "\n",
      "Epoch 503/1000\n"
     ]
    },
    {
     "name": "stderr",
     "output_type": "stream",
     "text": [
      "Training: 100%|██████████| 313/313 [00:44<00:00,  7.02it/s]\n",
      "Validating: 100%|██████████| 40/40 [00:02<00:00, 15.57it/s]\n"
     ]
    },
    {
     "name": "stdout",
     "output_type": "stream",
     "text": [
      "Train Loss: 0.00291 | Val Loss: 0.02090 | LR: 4.88e-05\n",
      "\n",
      "Epoch 504/1000\n"
     ]
    },
    {
     "name": "stderr",
     "output_type": "stream",
     "text": [
      "Training: 100%|██████████| 313/313 [00:44<00:00,  7.01it/s]\n",
      "Validating: 100%|██████████| 40/40 [00:02<00:00, 15.52it/s]\n"
     ]
    },
    {
     "name": "stdout",
     "output_type": "stream",
     "text": [
      "Train Loss: 0.00295 | Val Loss: 0.02097 | LR: 4.84e-05\n",
      "\n",
      "Epoch 505/1000\n"
     ]
    },
    {
     "name": "stderr",
     "output_type": "stream",
     "text": [
      "Training: 100%|██████████| 313/313 [00:44<00:00,  7.03it/s]\n",
      "Validating: 100%|██████████| 40/40 [00:02<00:00, 15.57it/s]\n"
     ]
    },
    {
     "name": "stdout",
     "output_type": "stream",
     "text": [
      "Train Loss: 0.00285 | Val Loss: 0.02098 | LR: 4.80e-05\n",
      "\n",
      "Epoch 506/1000\n"
     ]
    },
    {
     "name": "stderr",
     "output_type": "stream",
     "text": [
      "Training: 100%|██████████| 313/313 [00:45<00:00,  6.95it/s]\n",
      "Validating: 100%|██████████| 40/40 [00:02<00:00, 15.48it/s]\n"
     ]
    },
    {
     "name": "stdout",
     "output_type": "stream",
     "text": [
      "Train Loss: 0.00291 | Val Loss: 0.02092 | LR: 4.76e-05\n",
      "\n",
      "Epoch 507/1000\n"
     ]
    },
    {
     "name": "stderr",
     "output_type": "stream",
     "text": [
      "Training: 100%|██████████| 313/313 [00:44<00:00,  7.00it/s]\n",
      "Validating: 100%|██████████| 40/40 [00:02<00:00, 15.44it/s]\n"
     ]
    },
    {
     "name": "stdout",
     "output_type": "stream",
     "text": [
      "Train Loss: 0.00285 | Val Loss: 0.02091 | LR: 4.73e-05\n",
      "\n",
      "Epoch 508/1000\n"
     ]
    },
    {
     "name": "stderr",
     "output_type": "stream",
     "text": [
      "Training: 100%|██████████| 313/313 [00:44<00:00,  7.01it/s]\n",
      "Validating: 100%|██████████| 40/40 [00:02<00:00, 15.48it/s]\n"
     ]
    },
    {
     "name": "stdout",
     "output_type": "stream",
     "text": [
      "Train Loss: 0.00289 | Val Loss: 0.02094 | LR: 4.69e-05\n",
      "\n",
      "Epoch 509/1000\n"
     ]
    },
    {
     "name": "stderr",
     "output_type": "stream",
     "text": [
      "Training: 100%|██████████| 313/313 [00:44<00:00,  7.00it/s]\n",
      "Validating: 100%|██████████| 40/40 [00:02<00:00, 15.51it/s]\n"
     ]
    },
    {
     "name": "stdout",
     "output_type": "stream",
     "text": [
      "Train Loss: 0.00288 | Val Loss: 0.02097 | LR: 4.65e-05\n",
      "\n",
      "Epoch 510/1000\n"
     ]
    },
    {
     "name": "stderr",
     "output_type": "stream",
     "text": [
      "Training: 100%|██████████| 313/313 [00:44<00:00,  7.01it/s]\n",
      "Validating: 100%|██████████| 40/40 [00:02<00:00, 15.55it/s]\n"
     ]
    },
    {
     "name": "stdout",
     "output_type": "stream",
     "text": [
      "Train Loss: 0.00285 | Val Loss: 0.02099 | LR: 4.61e-05\n",
      "\n",
      "Epoch 511/1000\n"
     ]
    },
    {
     "name": "stderr",
     "output_type": "stream",
     "text": [
      "Training: 100%|██████████| 313/313 [00:44<00:00,  7.00it/s]\n",
      "Validating: 100%|██████████| 40/40 [00:02<00:00, 15.51it/s]\n"
     ]
    },
    {
     "name": "stdout",
     "output_type": "stream",
     "text": [
      "Train Loss: 0.00284 | Val Loss: 0.02092 | LR: 4.57e-05\n",
      "\n",
      "Epoch 512/1000\n"
     ]
    },
    {
     "name": "stderr",
     "output_type": "stream",
     "text": [
      "Training: 100%|██████████| 313/313 [00:44<00:00,  7.01it/s]\n",
      "Validating: 100%|██████████| 40/40 [00:02<00:00, 15.48it/s]\n"
     ]
    },
    {
     "name": "stdout",
     "output_type": "stream",
     "text": [
      "Train Loss: 0.00287 | Val Loss: 0.02105 | LR: 4.53e-05\n",
      "\n",
      "Epoch 513/1000\n"
     ]
    },
    {
     "name": "stderr",
     "output_type": "stream",
     "text": [
      "Training: 100%|██████████| 313/313 [00:44<00:00,  7.02it/s]\n",
      "Validating: 100%|██████████| 40/40 [00:02<00:00, 15.50it/s]\n"
     ]
    },
    {
     "name": "stdout",
     "output_type": "stream",
     "text": [
      "Train Loss: 0.00289 | Val Loss: 0.02107 | LR: 4.49e-05\n",
      "\n",
      "Epoch 514/1000\n"
     ]
    },
    {
     "name": "stderr",
     "output_type": "stream",
     "text": [
      "Training: 100%|██████████| 313/313 [00:44<00:00,  7.03it/s]\n",
      "Validating: 100%|██████████| 40/40 [00:02<00:00, 15.62it/s]\n"
     ]
    },
    {
     "name": "stdout",
     "output_type": "stream",
     "text": [
      "Train Loss: 0.00291 | Val Loss: 0.02104 | LR: 4.45e-05\n",
      "\n",
      "Epoch 515/1000\n"
     ]
    },
    {
     "name": "stderr",
     "output_type": "stream",
     "text": [
      "Training: 100%|██████████| 313/313 [00:44<00:00,  7.02it/s]\n",
      "Validating: 100%|██████████| 40/40 [00:02<00:00, 15.57it/s]\n"
     ]
    },
    {
     "name": "stdout",
     "output_type": "stream",
     "text": [
      "Train Loss: 0.00292 | Val Loss: 0.02105 | LR: 4.41e-05\n",
      "\n",
      "Epoch 516/1000\n"
     ]
    },
    {
     "name": "stderr",
     "output_type": "stream",
     "text": [
      "Training: 100%|██████████| 313/313 [00:44<00:00,  7.02it/s]\n",
      "Validating: 100%|██████████| 40/40 [00:02<00:00, 15.48it/s]\n"
     ]
    },
    {
     "name": "stdout",
     "output_type": "stream",
     "text": [
      "Train Loss: 0.00282 | Val Loss: 0.02101 | LR: 4.37e-05\n",
      "\n",
      "Epoch 517/1000\n"
     ]
    },
    {
     "name": "stderr",
     "output_type": "stream",
     "text": [
      "Training: 100%|██████████| 313/313 [00:45<00:00,  6.92it/s]\n",
      "Validating: 100%|██████████| 40/40 [00:02<00:00, 15.45it/s]\n"
     ]
    },
    {
     "name": "stdout",
     "output_type": "stream",
     "text": [
      "Train Loss: 0.00288 | Val Loss: 0.02100 | LR: 4.33e-05\n",
      "\n",
      "Epoch 518/1000\n"
     ]
    },
    {
     "name": "stderr",
     "output_type": "stream",
     "text": [
      "Training: 100%|██████████| 313/313 [00:44<00:00,  6.99it/s]\n",
      "Validating: 100%|██████████| 40/40 [00:02<00:00, 15.46it/s]\n"
     ]
    },
    {
     "name": "stdout",
     "output_type": "stream",
     "text": [
      "Train Loss: 0.00287 | Val Loss: 0.02104 | LR: 4.30e-05\n",
      "\n",
      "Epoch 519/1000\n"
     ]
    },
    {
     "name": "stderr",
     "output_type": "stream",
     "text": [
      "Training: 100%|██████████| 313/313 [00:44<00:00,  7.00it/s]\n",
      "Validating: 100%|██████████| 40/40 [00:02<00:00, 15.48it/s]\n"
     ]
    },
    {
     "name": "stdout",
     "output_type": "stream",
     "text": [
      "Train Loss: 0.00285 | Val Loss: 0.02107 | LR: 4.26e-05\n",
      "\n",
      "Epoch 520/1000\n"
     ]
    },
    {
     "name": "stderr",
     "output_type": "stream",
     "text": [
      "Training: 100%|██████████| 313/313 [00:44<00:00,  7.01it/s]\n",
      "Validating: 100%|██████████| 40/40 [00:02<00:00, 15.50it/s]\n"
     ]
    },
    {
     "name": "stdout",
     "output_type": "stream",
     "text": [
      "Train Loss: 0.00288 | Val Loss: 0.02100 | LR: 4.22e-05\n",
      "\n",
      "Epoch 521/1000\n"
     ]
    },
    {
     "name": "stderr",
     "output_type": "stream",
     "text": [
      "Training: 100%|██████████| 313/313 [00:44<00:00,  7.02it/s]\n",
      "Validating: 100%|██████████| 40/40 [00:02<00:00, 15.57it/s]\n"
     ]
    },
    {
     "name": "stdout",
     "output_type": "stream",
     "text": [
      "Train Loss: 0.00286 | Val Loss: 0.02095 | LR: 4.18e-05\n",
      "\n",
      "Epoch 522/1000\n"
     ]
    },
    {
     "name": "stderr",
     "output_type": "stream",
     "text": [
      "Training: 100%|██████████| 313/313 [00:44<00:00,  7.01it/s]\n",
      "Validating: 100%|██████████| 40/40 [00:02<00:00, 15.56it/s]\n"
     ]
    },
    {
     "name": "stdout",
     "output_type": "stream",
     "text": [
      "Train Loss: 0.00288 | Val Loss: 0.02099 | LR: 4.14e-05\n",
      "\n",
      "Epoch 523/1000\n"
     ]
    },
    {
     "name": "stderr",
     "output_type": "stream",
     "text": [
      "Training: 100%|██████████| 313/313 [00:44<00:00,  7.02it/s]\n",
      "Validating: 100%|██████████| 40/40 [00:02<00:00, 15.53it/s]\n"
     ]
    },
    {
     "name": "stdout",
     "output_type": "stream",
     "text": [
      "Train Loss: 0.00285 | Val Loss: 0.02103 | LR: 4.10e-05\n",
      "\n",
      "Epoch 524/1000\n"
     ]
    },
    {
     "name": "stderr",
     "output_type": "stream",
     "text": [
      "Training: 100%|██████████| 313/313 [00:44<00:00,  7.02it/s]\n",
      "Validating: 100%|██████████| 40/40 [00:02<00:00, 15.60it/s]\n"
     ]
    },
    {
     "name": "stdout",
     "output_type": "stream",
     "text": [
      "Train Loss: 0.00280 | Val Loss: 0.02106 | LR: 4.06e-05\n",
      "\n",
      "Epoch 525/1000\n"
     ]
    },
    {
     "name": "stderr",
     "output_type": "stream",
     "text": [
      "Training: 100%|██████████| 313/313 [00:44<00:00,  7.02it/s]\n",
      "Validating: 100%|██████████| 40/40 [00:02<00:00, 15.66it/s]\n"
     ]
    },
    {
     "name": "stdout",
     "output_type": "stream",
     "text": [
      "Train Loss: 0.00285 | Val Loss: 0.02100 | LR: 4.02e-05\n",
      "\n",
      "Epoch 526/1000\n"
     ]
    },
    {
     "name": "stderr",
     "output_type": "stream",
     "text": [
      "Training: 100%|██████████| 313/313 [00:44<00:00,  7.02it/s]\n",
      "Validating: 100%|██████████| 40/40 [00:02<00:00, 15.66it/s]\n"
     ]
    },
    {
     "name": "stdout",
     "output_type": "stream",
     "text": [
      "Train Loss: 0.00284 | Val Loss: 0.02094 | LR: 3.99e-05\n",
      "\n",
      "Epoch 527/1000\n"
     ]
    },
    {
     "name": "stderr",
     "output_type": "stream",
     "text": [
      "Training: 100%|██████████| 313/313 [00:44<00:00,  7.03it/s]\n",
      "Validating: 100%|██████████| 40/40 [00:02<00:00, 15.50it/s]\n"
     ]
    },
    {
     "name": "stdout",
     "output_type": "stream",
     "text": [
      "Train Loss: 0.00283 | Val Loss: 0.02096 | LR: 3.95e-05\n",
      "\n",
      "Epoch 528/1000\n"
     ]
    },
    {
     "name": "stderr",
     "output_type": "stream",
     "text": [
      "Training: 100%|██████████| 313/313 [00:45<00:00,  6.93it/s]\n",
      "Validating: 100%|██████████| 40/40 [00:02<00:00, 15.36it/s]\n"
     ]
    },
    {
     "name": "stdout",
     "output_type": "stream",
     "text": [
      "Train Loss: 0.00284 | Val Loss: 0.02103 | LR: 3.91e-05\n",
      "\n",
      "Epoch 529/1000\n"
     ]
    },
    {
     "name": "stderr",
     "output_type": "stream",
     "text": [
      "Training: 100%|██████████| 313/313 [00:44<00:00,  7.01it/s]\n",
      "Validating: 100%|██████████| 40/40 [00:02<00:00, 15.49it/s]\n"
     ]
    },
    {
     "name": "stdout",
     "output_type": "stream",
     "text": [
      "Train Loss: 0.00284 | Val Loss: 0.02101 | LR: 3.87e-05\n",
      "\n",
      "Epoch 530/1000\n"
     ]
    },
    {
     "name": "stderr",
     "output_type": "stream",
     "text": [
      "Training: 100%|██████████| 313/313 [00:44<00:00,  7.02it/s]\n",
      "Validating: 100%|██████████| 40/40 [00:02<00:00, 15.50it/s]\n"
     ]
    },
    {
     "name": "stdout",
     "output_type": "stream",
     "text": [
      "Train Loss: 0.00284 | Val Loss: 0.02103 | LR: 3.83e-05\n",
      "\n",
      "Epoch 531/1000\n"
     ]
    },
    {
     "name": "stderr",
     "output_type": "stream",
     "text": [
      "Training: 100%|██████████| 313/313 [00:44<00:00,  7.02it/s]\n",
      "Validating: 100%|██████████| 40/40 [00:02<00:00, 15.49it/s]\n"
     ]
    },
    {
     "name": "stdout",
     "output_type": "stream",
     "text": [
      "Train Loss: 0.00284 | Val Loss: 0.02099 | LR: 3.79e-05\n",
      "\n",
      "Epoch 532/1000\n"
     ]
    },
    {
     "name": "stderr",
     "output_type": "stream",
     "text": [
      "Training: 100%|██████████| 313/313 [00:44<00:00,  7.01it/s]\n",
      "Validating: 100%|██████████| 40/40 [00:02<00:00, 15.56it/s]\n"
     ]
    },
    {
     "name": "stdout",
     "output_type": "stream",
     "text": [
      "Train Loss: 0.00285 | Val Loss: 0.02100 | LR: 3.76e-05\n",
      "\n",
      "Epoch 533/1000\n"
     ]
    },
    {
     "name": "stderr",
     "output_type": "stream",
     "text": [
      "Training: 100%|██████████| 313/313 [00:44<00:00,  7.02it/s]\n",
      "Validating: 100%|██████████| 40/40 [00:02<00:00, 15.51it/s]\n"
     ]
    },
    {
     "name": "stdout",
     "output_type": "stream",
     "text": [
      "Train Loss: 0.00284 | Val Loss: 0.02104 | LR: 3.72e-05\n",
      "\n",
      "Epoch 534/1000\n"
     ]
    },
    {
     "name": "stderr",
     "output_type": "stream",
     "text": [
      "Training: 100%|██████████| 313/313 [00:44<00:00,  7.01it/s]\n",
      "Validating: 100%|██████████| 40/40 [00:02<00:00, 15.55it/s]\n"
     ]
    },
    {
     "name": "stdout",
     "output_type": "stream",
     "text": [
      "Train Loss: 0.00284 | Val Loss: 0.02100 | LR: 3.68e-05\n",
      "\n",
      "Epoch 535/1000\n"
     ]
    },
    {
     "name": "stderr",
     "output_type": "stream",
     "text": [
      "Training: 100%|██████████| 313/313 [00:44<00:00,  7.02it/s]\n",
      "Validating: 100%|██████████| 40/40 [00:02<00:00, 15.55it/s]\n"
     ]
    },
    {
     "name": "stdout",
     "output_type": "stream",
     "text": [
      "Train Loss: 0.00282 | Val Loss: 0.02106 | LR: 3.64e-05\n",
      "\n",
      "Epoch 536/1000\n"
     ]
    },
    {
     "name": "stderr",
     "output_type": "stream",
     "text": [
      "Training: 100%|██████████| 313/313 [00:44<00:00,  7.01it/s]\n",
      "Validating: 100%|██████████| 40/40 [00:02<00:00, 15.54it/s]\n"
     ]
    },
    {
     "name": "stdout",
     "output_type": "stream",
     "text": [
      "Train Loss: 0.00284 | Val Loss: 0.02107 | LR: 3.61e-05\n",
      "\n",
      "Epoch 537/1000\n"
     ]
    },
    {
     "name": "stderr",
     "output_type": "stream",
     "text": [
      "Training: 100%|██████████| 313/313 [00:44<00:00,  7.02it/s]\n",
      "Validating: 100%|██████████| 40/40 [00:02<00:00, 15.55it/s]\n"
     ]
    },
    {
     "name": "stdout",
     "output_type": "stream",
     "text": [
      "Train Loss: 0.00284 | Val Loss: 0.02103 | LR: 3.57e-05\n",
      "\n",
      "Epoch 538/1000\n"
     ]
    },
    {
     "name": "stderr",
     "output_type": "stream",
     "text": [
      "Training: 100%|██████████| 313/313 [00:44<00:00,  7.02it/s]\n",
      "Validating: 100%|██████████| 40/40 [00:02<00:00, 15.60it/s]\n"
     ]
    },
    {
     "name": "stdout",
     "output_type": "stream",
     "text": [
      "Train Loss: 0.00282 | Val Loss: 0.02105 | LR: 3.53e-05\n",
      "\n",
      "Epoch 539/1000\n"
     ]
    },
    {
     "name": "stderr",
     "output_type": "stream",
     "text": [
      "Training: 100%|██████████| 313/313 [00:45<00:00,  6.93it/s]\n",
      "Validating: 100%|██████████| 40/40 [00:02<00:00, 15.41it/s]\n"
     ]
    },
    {
     "name": "stdout",
     "output_type": "stream",
     "text": [
      "Train Loss: 0.00286 | Val Loss: 0.02097 | LR: 3.49e-05\n",
      "\n",
      "Epoch 540/1000\n"
     ]
    },
    {
     "name": "stderr",
     "output_type": "stream",
     "text": [
      "Training: 100%|██████████| 313/313 [00:44<00:00,  7.00it/s]\n",
      "Validating: 100%|██████████| 40/40 [00:02<00:00, 15.37it/s]\n"
     ]
    },
    {
     "name": "stdout",
     "output_type": "stream",
     "text": [
      "Train Loss: 0.00283 | Val Loss: 0.02099 | LR: 3.45e-05\n",
      "\n",
      "Epoch 541/1000\n"
     ]
    },
    {
     "name": "stderr",
     "output_type": "stream",
     "text": [
      "Training: 100%|██████████| 313/313 [00:44<00:00,  6.99it/s]\n",
      "Validating: 100%|██████████| 40/40 [00:02<00:00, 15.39it/s]\n"
     ]
    },
    {
     "name": "stdout",
     "output_type": "stream",
     "text": [
      "Train Loss: 0.00284 | Val Loss: 0.02108 | LR: 3.42e-05\n",
      "\n",
      "Epoch 542/1000\n"
     ]
    },
    {
     "name": "stderr",
     "output_type": "stream",
     "text": [
      "Training: 100%|██████████| 313/313 [00:44<00:00,  7.01it/s]\n",
      "Validating: 100%|██████████| 40/40 [00:02<00:00, 15.52it/s]\n"
     ]
    },
    {
     "name": "stdout",
     "output_type": "stream",
     "text": [
      "Train Loss: 0.00280 | Val Loss: 0.02106 | LR: 3.38e-05\n",
      "\n",
      "Epoch 543/1000\n"
     ]
    },
    {
     "name": "stderr",
     "output_type": "stream",
     "text": [
      "Training: 100%|██████████| 313/313 [00:44<00:00,  7.01it/s]\n",
      "Validating: 100%|██████████| 40/40 [00:02<00:00, 15.52it/s]\n"
     ]
    },
    {
     "name": "stdout",
     "output_type": "stream",
     "text": [
      "Train Loss: 0.00284 | Val Loss: 0.02108 | LR: 3.34e-05\n",
      "\n",
      "Epoch 544/1000\n"
     ]
    },
    {
     "name": "stderr",
     "output_type": "stream",
     "text": [
      "Training: 100%|██████████| 313/313 [00:44<00:00,  7.01it/s]\n",
      "Validating: 100%|██████████| 40/40 [00:02<00:00, 15.54it/s]\n"
     ]
    },
    {
     "name": "stdout",
     "output_type": "stream",
     "text": [
      "Train Loss: 0.00285 | Val Loss: 0.02105 | LR: 3.31e-05\n",
      "\n",
      "Epoch 545/1000\n"
     ]
    },
    {
     "name": "stderr",
     "output_type": "stream",
     "text": [
      "Training: 100%|██████████| 313/313 [00:44<00:00,  7.01it/s]\n",
      "Validating: 100%|██████████| 40/40 [00:02<00:00, 15.53it/s]\n"
     ]
    },
    {
     "name": "stdout",
     "output_type": "stream",
     "text": [
      "Train Loss: 0.00282 | Val Loss: 0.02099 | LR: 3.27e-05\n",
      "\n",
      "Epoch 546/1000\n"
     ]
    },
    {
     "name": "stderr",
     "output_type": "stream",
     "text": [
      "Training: 100%|██████████| 313/313 [00:44<00:00,  7.01it/s]\n",
      "Validating: 100%|██████████| 40/40 [00:02<00:00, 15.59it/s]\n"
     ]
    },
    {
     "name": "stdout",
     "output_type": "stream",
     "text": [
      "Train Loss: 0.00282 | Val Loss: 0.02109 | LR: 3.23e-05\n",
      "\n",
      "Epoch 547/1000\n"
     ]
    },
    {
     "name": "stderr",
     "output_type": "stream",
     "text": [
      "Training: 100%|██████████| 313/313 [00:44<00:00,  7.01it/s]\n",
      "Validating: 100%|██████████| 40/40 [00:02<00:00, 15.48it/s]\n"
     ]
    },
    {
     "name": "stdout",
     "output_type": "stream",
     "text": [
      "Train Loss: 0.00284 | Val Loss: 0.02112 | LR: 3.20e-05\n",
      "\n",
      "Epoch 548/1000\n"
     ]
    },
    {
     "name": "stderr",
     "output_type": "stream",
     "text": [
      "Training: 100%|██████████| 313/313 [00:44<00:00,  7.03it/s]\n",
      "Validating: 100%|██████████| 40/40 [00:02<00:00, 15.63it/s]\n"
     ]
    },
    {
     "name": "stdout",
     "output_type": "stream",
     "text": [
      "Train Loss: 0.00281 | Val Loss: 0.02107 | LR: 3.16e-05\n",
      "\n",
      "Epoch 549/1000\n"
     ]
    },
    {
     "name": "stderr",
     "output_type": "stream",
     "text": [
      "Training: 100%|██████████| 313/313 [00:44<00:00,  7.03it/s]\n",
      "Validating: 100%|██████████| 40/40 [00:02<00:00, 15.58it/s]\n"
     ]
    },
    {
     "name": "stdout",
     "output_type": "stream",
     "text": [
      "Train Loss: 0.00284 | Val Loss: 0.02104 | LR: 3.12e-05\n",
      "\n",
      "Epoch 550/1000\n"
     ]
    },
    {
     "name": "stderr",
     "output_type": "stream",
     "text": [
      "Training: 100%|██████████| 313/313 [00:45<00:00,  6.94it/s]\n",
      "Validating: 100%|██████████| 40/40 [00:02<00:00, 15.45it/s]\n"
     ]
    },
    {
     "name": "stdout",
     "output_type": "stream",
     "text": [
      "Train Loss: 0.00284 | Val Loss: 0.02108 | LR: 3.09e-05\n",
      "\n",
      "Epoch 551/1000\n"
     ]
    },
    {
     "name": "stderr",
     "output_type": "stream",
     "text": [
      "Training: 100%|██████████| 313/313 [00:44<00:00,  7.00it/s]\n",
      "Validating: 100%|██████████| 40/40 [00:02<00:00, 15.52it/s]\n"
     ]
    },
    {
     "name": "stdout",
     "output_type": "stream",
     "text": [
      "Train Loss: 0.00282 | Val Loss: 0.02109 | LR: 3.05e-05\n",
      "\n",
      "Epoch 552/1000\n"
     ]
    },
    {
     "name": "stderr",
     "output_type": "stream",
     "text": [
      "Training: 100%|██████████| 313/313 [00:44<00:00,  7.00it/s]\n",
      "Validating: 100%|██████████| 40/40 [00:02<00:00, 15.51it/s]\n"
     ]
    },
    {
     "name": "stdout",
     "output_type": "stream",
     "text": [
      "Train Loss: 0.00283 | Val Loss: 0.02100 | LR: 3.01e-05\n",
      "\n",
      "Epoch 553/1000\n"
     ]
    },
    {
     "name": "stderr",
     "output_type": "stream",
     "text": [
      "Training: 100%|██████████| 313/313 [00:44<00:00,  7.01it/s]\n",
      "Validating: 100%|██████████| 40/40 [00:02<00:00, 15.60it/s]\n"
     ]
    },
    {
     "name": "stdout",
     "output_type": "stream",
     "text": [
      "Train Loss: 0.00283 | Val Loss: 0.02097 | LR: 2.98e-05\n",
      "\n",
      "Epoch 554/1000\n"
     ]
    },
    {
     "name": "stderr",
     "output_type": "stream",
     "text": [
      "Training: 100%|██████████| 313/313 [00:44<00:00,  7.01it/s]\n",
      "Validating: 100%|██████████| 40/40 [00:02<00:00, 15.50it/s]\n"
     ]
    },
    {
     "name": "stdout",
     "output_type": "stream",
     "text": [
      "Train Loss: 0.00282 | Val Loss: 0.02106 | LR: 2.94e-05\n",
      "\n",
      "Epoch 555/1000\n"
     ]
    },
    {
     "name": "stderr",
     "output_type": "stream",
     "text": [
      "Training: 100%|██████████| 313/313 [00:44<00:00,  7.00it/s]\n",
      "Validating: 100%|██████████| 40/40 [00:02<00:00, 15.53it/s]\n"
     ]
    },
    {
     "name": "stdout",
     "output_type": "stream",
     "text": [
      "Train Loss: 0.00284 | Val Loss: 0.02108 | LR: 2.91e-05\n",
      "\n",
      "Epoch 556/1000\n"
     ]
    },
    {
     "name": "stderr",
     "output_type": "stream",
     "text": [
      "Training: 100%|██████████| 313/313 [00:44<00:00,  7.00it/s]\n",
      "Validating: 100%|██████████| 40/40 [00:02<00:00, 15.46it/s]\n"
     ]
    },
    {
     "name": "stdout",
     "output_type": "stream",
     "text": [
      "Train Loss: 0.00281 | Val Loss: 0.02111 | LR: 2.87e-05\n",
      "\n",
      "Epoch 557/1000\n"
     ]
    },
    {
     "name": "stderr",
     "output_type": "stream",
     "text": [
      "Training: 100%|██████████| 313/313 [00:44<00:00,  7.01it/s]\n",
      "Validating: 100%|██████████| 40/40 [00:02<00:00, 15.62it/s]\n"
     ]
    },
    {
     "name": "stdout",
     "output_type": "stream",
     "text": [
      "Train Loss: 0.00280 | Val Loss: 0.02111 | LR: 2.84e-05\n",
      "\n",
      "Epoch 558/1000\n"
     ]
    },
    {
     "name": "stderr",
     "output_type": "stream",
     "text": [
      "Training: 100%|██████████| 313/313 [00:44<00:00,  7.01it/s]\n",
      "Validating: 100%|██████████| 40/40 [00:02<00:00, 15.47it/s]\n"
     ]
    },
    {
     "name": "stdout",
     "output_type": "stream",
     "text": [
      "Train Loss: 0.00286 | Val Loss: 0.02106 | LR: 2.80e-05\n",
      "\n",
      "Epoch 559/1000\n"
     ]
    },
    {
     "name": "stderr",
     "output_type": "stream",
     "text": [
      "Training: 100%|██████████| 313/313 [00:44<00:00,  7.02it/s]\n",
      "Validating: 100%|██████████| 40/40 [00:02<00:00, 15.56it/s]\n"
     ]
    },
    {
     "name": "stdout",
     "output_type": "stream",
     "text": [
      "Train Loss: 0.00283 | Val Loss: 0.02104 | LR: 2.77e-05\n",
      "\n",
      "Epoch 560/1000\n"
     ]
    },
    {
     "name": "stderr",
     "output_type": "stream",
     "text": [
      "Training: 100%|██████████| 313/313 [00:44<00:00,  7.03it/s]\n",
      "Validating: 100%|██████████| 40/40 [00:02<00:00, 15.54it/s]\n"
     ]
    },
    {
     "name": "stdout",
     "output_type": "stream",
     "text": [
      "Train Loss: 0.00281 | Val Loss: 0.02103 | LR: 2.73e-05\n",
      "\n",
      "Epoch 561/1000\n"
     ]
    },
    {
     "name": "stderr",
     "output_type": "stream",
     "text": [
      "Training: 100%|██████████| 313/313 [00:44<00:00,  7.02it/s]\n",
      "Validating: 100%|██████████| 40/40 [00:02<00:00, 15.57it/s]\n"
     ]
    },
    {
     "name": "stdout",
     "output_type": "stream",
     "text": [
      "Train Loss: 0.00282 | Val Loss: 0.02111 | LR: 2.70e-05\n",
      "\n",
      "Epoch 562/1000\n"
     ]
    },
    {
     "name": "stderr",
     "output_type": "stream",
     "text": [
      "Training: 100%|██████████| 313/313 [00:45<00:00,  6.92it/s]\n",
      "Validating: 100%|██████████| 40/40 [00:02<00:00, 15.44it/s]\n"
     ]
    },
    {
     "name": "stdout",
     "output_type": "stream",
     "text": [
      "Train Loss: 0.00281 | Val Loss: 0.02108 | LR: 2.66e-05\n",
      "\n",
      "Epoch 563/1000\n"
     ]
    },
    {
     "name": "stderr",
     "output_type": "stream",
     "text": [
      "Training: 100%|██████████| 313/313 [00:44<00:00,  6.98it/s]\n",
      "Validating: 100%|██████████| 40/40 [00:02<00:00, 15.37it/s]\n"
     ]
    },
    {
     "name": "stdout",
     "output_type": "stream",
     "text": [
      "Train Loss: 0.00277 | Val Loss: 0.02111 | LR: 2.63e-05\n",
      "\n",
      "Epoch 564/1000\n"
     ]
    },
    {
     "name": "stderr",
     "output_type": "stream",
     "text": [
      "Training: 100%|██████████| 313/313 [00:44<00:00,  7.00it/s]\n",
      "Validating: 100%|██████████| 40/40 [00:02<00:00, 15.41it/s]\n"
     ]
    },
    {
     "name": "stdout",
     "output_type": "stream",
     "text": [
      "Train Loss: 0.00281 | Val Loss: 0.02098 | LR: 2.59e-05\n",
      "\n",
      "Epoch 565/1000\n"
     ]
    },
    {
     "name": "stderr",
     "output_type": "stream",
     "text": [
      "Training: 100%|██████████| 313/313 [00:44<00:00,  7.01it/s]\n",
      "Validating: 100%|██████████| 40/40 [00:02<00:00, 15.50it/s]\n"
     ]
    },
    {
     "name": "stdout",
     "output_type": "stream",
     "text": [
      "Train Loss: 0.00281 | Val Loss: 0.02110 | LR: 2.56e-05\n",
      "\n",
      "Epoch 566/1000\n"
     ]
    },
    {
     "name": "stderr",
     "output_type": "stream",
     "text": [
      "Training: 100%|██████████| 313/313 [00:44<00:00,  7.02it/s]\n",
      "Validating: 100%|██████████| 40/40 [00:02<00:00, 15.51it/s]\n"
     ]
    },
    {
     "name": "stdout",
     "output_type": "stream",
     "text": [
      "Train Loss: 0.00279 | Val Loss: 0.02115 | LR: 2.52e-05\n",
      "\n",
      "Epoch 567/1000\n"
     ]
    },
    {
     "name": "stderr",
     "output_type": "stream",
     "text": [
      "Training: 100%|██████████| 313/313 [00:44<00:00,  7.01it/s]\n",
      "Validating: 100%|██████████| 40/40 [00:02<00:00, 15.44it/s]\n"
     ]
    },
    {
     "name": "stdout",
     "output_type": "stream",
     "text": [
      "Train Loss: 0.00281 | Val Loss: 0.02112 | LR: 2.49e-05\n",
      "\n",
      "Epoch 568/1000\n"
     ]
    },
    {
     "name": "stderr",
     "output_type": "stream",
     "text": [
      "Training: 100%|██████████| 313/313 [00:44<00:00,  7.01it/s]\n",
      "Validating: 100%|██████████| 40/40 [00:02<00:00, 15.60it/s]\n"
     ]
    },
    {
     "name": "stdout",
     "output_type": "stream",
     "text": [
      "Train Loss: 0.00284 | Val Loss: 0.02110 | LR: 2.45e-05\n",
      "\n",
      "Epoch 569/1000\n"
     ]
    },
    {
     "name": "stderr",
     "output_type": "stream",
     "text": [
      "Training: 100%|██████████| 313/313 [00:44<00:00,  7.01it/s]\n",
      "Validating: 100%|██████████| 40/40 [00:02<00:00, 15.52it/s]\n"
     ]
    },
    {
     "name": "stdout",
     "output_type": "stream",
     "text": [
      "Train Loss: 0.00284 | Val Loss: 0.02109 | LR: 2.42e-05\n",
      "\n",
      "Epoch 570/1000\n"
     ]
    },
    {
     "name": "stderr",
     "output_type": "stream",
     "text": [
      "Training: 100%|██████████| 313/313 [00:44<00:00,  7.02it/s]\n",
      "Validating: 100%|██████████| 40/40 [00:02<00:00, 15.50it/s]\n"
     ]
    },
    {
     "name": "stdout",
     "output_type": "stream",
     "text": [
      "Train Loss: 0.00283 | Val Loss: 0.02114 | LR: 2.39e-05\n",
      "\n",
      "Epoch 571/1000\n"
     ]
    },
    {
     "name": "stderr",
     "output_type": "stream",
     "text": [
      "Training: 100%|██████████| 313/313 [00:44<00:00,  7.01it/s]\n",
      "Validating: 100%|██████████| 40/40 [00:02<00:00, 15.55it/s]\n"
     ]
    },
    {
     "name": "stdout",
     "output_type": "stream",
     "text": [
      "Train Loss: 0.00282 | Val Loss: 0.02105 | LR: 2.35e-05\n",
      "\n",
      "Epoch 572/1000\n"
     ]
    },
    {
     "name": "stderr",
     "output_type": "stream",
     "text": [
      "Training: 100%|██████████| 313/313 [00:44<00:00,  7.01it/s]\n",
      "Validating: 100%|██████████| 40/40 [00:02<00:00, 15.57it/s]\n"
     ]
    },
    {
     "name": "stdout",
     "output_type": "stream",
     "text": [
      "Train Loss: 0.00278 | Val Loss: 0.02109 | LR: 2.32e-05\n",
      "\n",
      "Epoch 573/1000\n"
     ]
    },
    {
     "name": "stderr",
     "output_type": "stream",
     "text": [
      "Training: 100%|██████████| 313/313 [00:45<00:00,  6.94it/s]\n",
      "Validating: 100%|██████████| 40/40 [00:02<00:00, 15.46it/s]\n"
     ]
    },
    {
     "name": "stdout",
     "output_type": "stream",
     "text": [
      "Train Loss: 0.00283 | Val Loss: 0.02109 | LR: 2.29e-05\n",
      "\n",
      "Epoch 574/1000\n"
     ]
    },
    {
     "name": "stderr",
     "output_type": "stream",
     "text": [
      "Training: 100%|██████████| 313/313 [00:44<00:00,  7.01it/s]\n",
      "Validating: 100%|██████████| 40/40 [00:02<00:00, 15.40it/s]\n"
     ]
    },
    {
     "name": "stdout",
     "output_type": "stream",
     "text": [
      "Train Loss: 0.00282 | Val Loss: 0.02114 | LR: 2.25e-05\n",
      "\n",
      "Epoch 575/1000\n"
     ]
    },
    {
     "name": "stderr",
     "output_type": "stream",
     "text": [
      "Training: 100%|██████████| 313/313 [00:44<00:00,  7.01it/s]\n",
      "Validating: 100%|██████████| 40/40 [00:02<00:00, 15.55it/s]\n"
     ]
    },
    {
     "name": "stdout",
     "output_type": "stream",
     "text": [
      "Train Loss: 0.00277 | Val Loss: 0.02112 | LR: 2.22e-05\n",
      "\n",
      "Epoch 576/1000\n"
     ]
    },
    {
     "name": "stderr",
     "output_type": "stream",
     "text": [
      "Training: 100%|██████████| 313/313 [00:44<00:00,  7.02it/s]\n",
      "Validating: 100%|██████████| 40/40 [00:02<00:00, 15.53it/s]\n"
     ]
    },
    {
     "name": "stdout",
     "output_type": "stream",
     "text": [
      "Train Loss: 0.00281 | Val Loss: 0.02105 | LR: 2.19e-05\n",
      "\n",
      "Epoch 577/1000\n"
     ]
    },
    {
     "name": "stderr",
     "output_type": "stream",
     "text": [
      "Training: 100%|██████████| 313/313 [00:44<00:00,  7.02it/s]\n",
      "Validating: 100%|██████████| 40/40 [00:02<00:00, 15.50it/s]\n"
     ]
    },
    {
     "name": "stdout",
     "output_type": "stream",
     "text": [
      "Train Loss: 0.00283 | Val Loss: 0.02112 | LR: 2.16e-05\n",
      "\n",
      "Epoch 578/1000\n"
     ]
    },
    {
     "name": "stderr",
     "output_type": "stream",
     "text": [
      "Training: 100%|██████████| 313/313 [00:44<00:00,  7.02it/s]\n",
      "Validating: 100%|██████████| 40/40 [00:02<00:00, 15.55it/s]\n"
     ]
    },
    {
     "name": "stdout",
     "output_type": "stream",
     "text": [
      "Train Loss: 0.00281 | Val Loss: 0.02108 | LR: 2.12e-05\n",
      "\n",
      "Epoch 579/1000\n"
     ]
    },
    {
     "name": "stderr",
     "output_type": "stream",
     "text": [
      "Training: 100%|██████████| 313/313 [00:44<00:00,  7.01it/s]\n",
      "Validating: 100%|██████████| 40/40 [00:02<00:00, 15.51it/s]\n"
     ]
    },
    {
     "name": "stdout",
     "output_type": "stream",
     "text": [
      "Train Loss: 0.00279 | Val Loss: 0.02116 | LR: 2.09e-05\n",
      "\n",
      "Epoch 580/1000\n"
     ]
    },
    {
     "name": "stderr",
     "output_type": "stream",
     "text": [
      "Training: 100%|██████████| 313/313 [00:44<00:00,  7.02it/s]\n",
      "Validating: 100%|██████████| 40/40 [00:02<00:00, 15.54it/s]\n"
     ]
    },
    {
     "name": "stdout",
     "output_type": "stream",
     "text": [
      "Train Loss: 0.00279 | Val Loss: 0.02121 | LR: 2.06e-05\n",
      "\n",
      "Epoch 581/1000\n"
     ]
    },
    {
     "name": "stderr",
     "output_type": "stream",
     "text": [
      "Training: 100%|██████████| 313/313 [00:44<00:00,  7.02it/s]\n",
      "Validating: 100%|██████████| 40/40 [00:02<00:00, 15.54it/s]\n"
     ]
    },
    {
     "name": "stdout",
     "output_type": "stream",
     "text": [
      "Train Loss: 0.00279 | Val Loss: 0.02114 | LR: 2.03e-05\n",
      "\n",
      "Epoch 582/1000\n"
     ]
    },
    {
     "name": "stderr",
     "output_type": "stream",
     "text": [
      "Training: 100%|██████████| 313/313 [00:44<00:00,  7.02it/s]\n",
      "Validating: 100%|██████████| 40/40 [00:02<00:00, 15.58it/s]\n"
     ]
    },
    {
     "name": "stdout",
     "output_type": "stream",
     "text": [
      "Train Loss: 0.00280 | Val Loss: 0.02110 | LR: 2.00e-05\n",
      "\n",
      "Epoch 583/1000\n"
     ]
    },
    {
     "name": "stderr",
     "output_type": "stream",
     "text": [
      "Training: 100%|██████████| 313/313 [00:44<00:00,  7.02it/s]\n",
      "Validating: 100%|██████████| 40/40 [00:02<00:00, 15.67it/s]\n"
     ]
    },
    {
     "name": "stdout",
     "output_type": "stream",
     "text": [
      "Train Loss: 0.00279 | Val Loss: 0.02108 | LR: 1.97e-05\n",
      "\n",
      "Epoch 584/1000\n"
     ]
    },
    {
     "name": "stderr",
     "output_type": "stream",
     "text": [
      "Training: 100%|██████████| 313/313 [00:44<00:00,  7.03it/s]\n",
      "Validating: 100%|██████████| 40/40 [00:02<00:00, 15.55it/s]\n"
     ]
    },
    {
     "name": "stdout",
     "output_type": "stream",
     "text": [
      "Train Loss: 0.00281 | Val Loss: 0.02105 | LR: 1.94e-05\n",
      "\n",
      "Epoch 585/1000\n"
     ]
    },
    {
     "name": "stderr",
     "output_type": "stream",
     "text": [
      "Training: 100%|██████████| 313/313 [00:45<00:00,  6.93it/s]\n",
      "Validating: 100%|██████████| 40/40 [00:02<00:00, 15.40it/s]\n"
     ]
    },
    {
     "name": "stdout",
     "output_type": "stream",
     "text": [
      "Train Loss: 0.00277 | Val Loss: 0.02114 | LR: 1.90e-05\n",
      "\n",
      "Epoch 586/1000\n"
     ]
    },
    {
     "name": "stderr",
     "output_type": "stream",
     "text": [
      "Training: 100%|██████████| 313/313 [00:44<00:00,  7.00it/s]\n",
      "Validating: 100%|██████████| 40/40 [00:02<00:00, 15.49it/s]\n"
     ]
    },
    {
     "name": "stdout",
     "output_type": "stream",
     "text": [
      "Train Loss: 0.00279 | Val Loss: 0.02112 | LR: 1.87e-05\n",
      "\n",
      "Epoch 587/1000\n"
     ]
    },
    {
     "name": "stderr",
     "output_type": "stream",
     "text": [
      "Training: 100%|██████████| 313/313 [00:44<00:00,  7.00it/s]\n",
      "Validating: 100%|██████████| 40/40 [00:02<00:00, 15.51it/s]\n"
     ]
    },
    {
     "name": "stdout",
     "output_type": "stream",
     "text": [
      "Train Loss: 0.00282 | Val Loss: 0.02113 | LR: 1.84e-05\n",
      "\n",
      "Epoch 588/1000\n"
     ]
    },
    {
     "name": "stderr",
     "output_type": "stream",
     "text": [
      "Training: 100%|██████████| 313/313 [00:44<00:00,  7.01it/s]\n",
      "Validating: 100%|██████████| 40/40 [00:02<00:00, 15.47it/s]\n"
     ]
    },
    {
     "name": "stdout",
     "output_type": "stream",
     "text": [
      "Train Loss: 0.00282 | Val Loss: 0.02116 | LR: 1.81e-05\n",
      "\n",
      "Epoch 589/1000\n"
     ]
    },
    {
     "name": "stderr",
     "output_type": "stream",
     "text": [
      "Training: 100%|██████████| 313/313 [00:44<00:00,  7.00it/s]\n",
      "Validating: 100%|██████████| 40/40 [00:02<00:00, 15.53it/s]\n"
     ]
    },
    {
     "name": "stdout",
     "output_type": "stream",
     "text": [
      "Train Loss: 0.00279 | Val Loss: 0.02110 | LR: 1.78e-05\n",
      "\n",
      "Epoch 590/1000\n"
     ]
    },
    {
     "name": "stderr",
     "output_type": "stream",
     "text": [
      "Training: 100%|██████████| 313/313 [00:44<00:00,  7.01it/s]\n",
      "Validating: 100%|██████████| 40/40 [00:02<00:00, 15.56it/s]\n"
     ]
    },
    {
     "name": "stdout",
     "output_type": "stream",
     "text": [
      "Train Loss: 0.00278 | Val Loss: 0.02118 | LR: 1.75e-05\n",
      "\n",
      "Epoch 591/1000\n"
     ]
    },
    {
     "name": "stderr",
     "output_type": "stream",
     "text": [
      "Training: 100%|██████████| 313/313 [00:44<00:00,  7.01it/s]\n",
      "Validating: 100%|██████████| 40/40 [00:02<00:00, 15.54it/s]\n"
     ]
    },
    {
     "name": "stdout",
     "output_type": "stream",
     "text": [
      "Train Loss: 0.00279 | Val Loss: 0.02115 | LR: 1.72e-05\n",
      "\n",
      "Epoch 592/1000\n"
     ]
    },
    {
     "name": "stderr",
     "output_type": "stream",
     "text": [
      "Training: 100%|██████████| 313/313 [00:44<00:00,  7.01it/s]\n",
      "Validating: 100%|██████████| 40/40 [00:02<00:00, 15.49it/s]\n"
     ]
    },
    {
     "name": "stdout",
     "output_type": "stream",
     "text": [
      "Train Loss: 0.00280 | Val Loss: 0.02121 | LR: 1.69e-05\n",
      "\n",
      "Epoch 593/1000\n"
     ]
    },
    {
     "name": "stderr",
     "output_type": "stream",
     "text": [
      "Training: 100%|██████████| 313/313 [00:44<00:00,  7.01it/s]\n",
      "Validating: 100%|██████████| 40/40 [00:02<00:00, 15.58it/s]\n"
     ]
    },
    {
     "name": "stdout",
     "output_type": "stream",
     "text": [
      "Train Loss: 0.00281 | Val Loss: 0.02121 | LR: 1.66e-05\n",
      "\n",
      "Epoch 594/1000\n"
     ]
    },
    {
     "name": "stderr",
     "output_type": "stream",
     "text": [
      "Training: 100%|██████████| 313/313 [00:44<00:00,  7.01it/s]\n",
      "Validating: 100%|██████████| 40/40 [00:02<00:00, 15.53it/s]\n"
     ]
    },
    {
     "name": "stdout",
     "output_type": "stream",
     "text": [
      "Train Loss: 0.00279 | Val Loss: 0.02116 | LR: 1.63e-05\n",
      "\n",
      "Epoch 595/1000\n"
     ]
    },
    {
     "name": "stderr",
     "output_type": "stream",
     "text": [
      "Training: 100%|██████████| 313/313 [00:44<00:00,  7.00it/s]\n",
      "Validating: 100%|██████████| 40/40 [00:02<00:00, 15.51it/s]\n"
     ]
    },
    {
     "name": "stdout",
     "output_type": "stream",
     "text": [
      "Train Loss: 0.00278 | Val Loss: 0.02117 | LR: 1.61e-05\n",
      "\n",
      "Epoch 596/1000\n"
     ]
    },
    {
     "name": "stderr",
     "output_type": "stream",
     "text": [
      "Training: 100%|██████████| 313/313 [00:44<00:00,  7.02it/s]\n",
      "Validating: 100%|██████████| 40/40 [00:02<00:00, 15.58it/s]\n"
     ]
    },
    {
     "name": "stdout",
     "output_type": "stream",
     "text": [
      "Train Loss: 0.00276 | Val Loss: 0.02126 | LR: 1.58e-05\n",
      "\n",
      "Epoch 597/1000\n"
     ]
    },
    {
     "name": "stderr",
     "output_type": "stream",
     "text": [
      "Training: 100%|██████████| 313/313 [00:45<00:00,  6.94it/s]\n",
      "Validating: 100%|██████████| 40/40 [00:02<00:00, 15.51it/s]\n"
     ]
    },
    {
     "name": "stdout",
     "output_type": "stream",
     "text": [
      "Train Loss: 0.00282 | Val Loss: 0.02116 | LR: 1.55e-05\n",
      "\n",
      "Epoch 598/1000\n"
     ]
    },
    {
     "name": "stderr",
     "output_type": "stream",
     "text": [
      "Training: 100%|██████████| 313/313 [00:44<00:00,  7.00it/s]\n",
      "Validating: 100%|██████████| 40/40 [00:02<00:00, 15.44it/s]\n"
     ]
    },
    {
     "name": "stdout",
     "output_type": "stream",
     "text": [
      "Train Loss: 0.00278 | Val Loss: 0.02108 | LR: 1.52e-05\n",
      "\n",
      "Epoch 599/1000\n"
     ]
    },
    {
     "name": "stderr",
     "output_type": "stream",
     "text": [
      "Training: 100%|██████████| 313/313 [00:44<00:00,  7.00it/s]\n",
      "Validating: 100%|██████████| 40/40 [00:02<00:00, 15.53it/s]\n"
     ]
    },
    {
     "name": "stdout",
     "output_type": "stream",
     "text": [
      "Train Loss: 0.00280 | Val Loss: 0.02112 | LR: 1.49e-05\n",
      "\n",
      "Epoch 600/1000\n"
     ]
    },
    {
     "name": "stderr",
     "output_type": "stream",
     "text": [
      "Training: 100%|██████████| 313/313 [00:44<00:00,  7.01it/s]\n",
      "Validating: 100%|██████████| 40/40 [00:02<00:00, 15.51it/s]\n"
     ]
    },
    {
     "name": "stdout",
     "output_type": "stream",
     "text": [
      "Train Loss: 0.00278 | Val Loss: 0.02111 | LR: 1.46e-05\n",
      "\n",
      "Epoch 601/1000\n"
     ]
    },
    {
     "name": "stderr",
     "output_type": "stream",
     "text": [
      "Training: 100%|██████████| 313/313 [00:44<00:00,  7.01it/s]\n",
      "Validating: 100%|██████████| 40/40 [00:02<00:00, 15.49it/s]\n"
     ]
    },
    {
     "name": "stdout",
     "output_type": "stream",
     "text": [
      "Train Loss: 0.00279 | Val Loss: 0.02117 | LR: 1.44e-05\n",
      "\n",
      "Epoch 602/1000\n"
     ]
    },
    {
     "name": "stderr",
     "output_type": "stream",
     "text": [
      "Training: 100%|██████████| 313/313 [00:44<00:00,  7.00it/s]\n",
      "Validating: 100%|██████████| 40/40 [00:02<00:00, 15.54it/s]\n"
     ]
    },
    {
     "name": "stdout",
     "output_type": "stream",
     "text": [
      "Train Loss: 0.00283 | Val Loss: 0.02123 | LR: 1.41e-05\n",
      "\n",
      "Epoch 603/1000\n"
     ]
    },
    {
     "name": "stderr",
     "output_type": "stream",
     "text": [
      "Training: 100%|██████████| 313/313 [00:44<00:00,  7.01it/s]\n",
      "Validating: 100%|██████████| 40/40 [00:02<00:00, 15.57it/s]\n"
     ]
    },
    {
     "name": "stdout",
     "output_type": "stream",
     "text": [
      "Train Loss: 0.00281 | Val Loss: 0.02117 | LR: 1.38e-05\n",
      "\n",
      "Epoch 604/1000\n"
     ]
    },
    {
     "name": "stderr",
     "output_type": "stream",
     "text": [
      "Training: 100%|██████████| 313/313 [00:44<00:00,  7.01it/s]\n",
      "Validating: 100%|██████████| 40/40 [00:02<00:00, 15.55it/s]\n"
     ]
    },
    {
     "name": "stdout",
     "output_type": "stream",
     "text": [
      "Train Loss: 0.00279 | Val Loss: 0.02121 | LR: 1.36e-05\n",
      "\n",
      "Epoch 605/1000\n"
     ]
    },
    {
     "name": "stderr",
     "output_type": "stream",
     "text": [
      "Training: 100%|██████████| 313/313 [00:44<00:00,  7.01it/s]\n",
      "Validating: 100%|██████████| 40/40 [00:02<00:00, 15.49it/s]\n"
     ]
    },
    {
     "name": "stdout",
     "output_type": "stream",
     "text": [
      "Train Loss: 0.00279 | Val Loss: 0.02114 | LR: 1.33e-05\n",
      "\n",
      "Epoch 606/1000\n"
     ]
    },
    {
     "name": "stderr",
     "output_type": "stream",
     "text": [
      "Training: 100%|██████████| 313/313 [00:44<00:00,  7.02it/s]\n",
      "Validating: 100%|██████████| 40/40 [00:02<00:00, 15.55it/s]\n"
     ]
    },
    {
     "name": "stdout",
     "output_type": "stream",
     "text": [
      "Train Loss: 0.00275 | Val Loss: 0.02122 | LR: 1.30e-05\n",
      "\n",
      "Epoch 607/1000\n"
     ]
    },
    {
     "name": "stderr",
     "output_type": "stream",
     "text": [
      "Training: 100%|██████████| 313/313 [00:44<00:00,  7.01it/s]\n",
      "Validating: 100%|██████████| 40/40 [00:02<00:00, 15.53it/s]\n"
     ]
    },
    {
     "name": "stdout",
     "output_type": "stream",
     "text": [
      "Train Loss: 0.00281 | Val Loss: 0.02125 | LR: 1.28e-05\n",
      "\n",
      "Epoch 608/1000\n"
     ]
    },
    {
     "name": "stderr",
     "output_type": "stream",
     "text": [
      "Training: 100%|██████████| 313/313 [00:44<00:00,  7.01it/s]\n",
      "Validating: 100%|██████████| 40/40 [00:02<00:00, 15.58it/s]\n"
     ]
    },
    {
     "name": "stdout",
     "output_type": "stream",
     "text": [
      "Train Loss: 0.00280 | Val Loss: 0.02117 | LR: 1.25e-05\n",
      "\n",
      "Epoch 609/1000\n"
     ]
    },
    {
     "name": "stderr",
     "output_type": "stream",
     "text": [
      "Training: 100%|██████████| 313/313 [00:44<00:00,  7.02it/s]\n",
      "Validating: 100%|██████████| 40/40 [00:02<00:00, 15.61it/s]\n"
     ]
    },
    {
     "name": "stdout",
     "output_type": "stream",
     "text": [
      "Train Loss: 0.00275 | Val Loss: 0.02121 | LR: 1.22e-05\n",
      "\n",
      "Epoch 610/1000\n"
     ]
    },
    {
     "name": "stderr",
     "output_type": "stream",
     "text": [
      "Training: 100%|██████████| 313/313 [00:45<00:00,  6.90it/s]\n",
      "Validating: 100%|██████████| 40/40 [00:02<00:00, 15.38it/s]\n"
     ]
    },
    {
     "name": "stdout",
     "output_type": "stream",
     "text": [
      "Train Loss: 0.00278 | Val Loss: 0.02120 | LR: 1.20e-05\n",
      "\n",
      "Epoch 611/1000\n"
     ]
    },
    {
     "name": "stderr",
     "output_type": "stream",
     "text": [
      "Training: 100%|██████████| 313/313 [00:44<00:00,  6.99it/s]\n",
      "Validating: 100%|██████████| 40/40 [00:02<00:00, 15.48it/s]\n"
     ]
    },
    {
     "name": "stdout",
     "output_type": "stream",
     "text": [
      "Train Loss: 0.00279 | Val Loss: 0.02118 | LR: 1.17e-05\n",
      "\n",
      "Epoch 612/1000\n"
     ]
    },
    {
     "name": "stderr",
     "output_type": "stream",
     "text": [
      "Training: 100%|██████████| 313/313 [00:44<00:00,  7.02it/s]\n",
      "Validating: 100%|██████████| 40/40 [00:02<00:00, 15.45it/s]\n"
     ]
    },
    {
     "name": "stdout",
     "output_type": "stream",
     "text": [
      "Train Loss: 0.00277 | Val Loss: 0.02120 | LR: 1.15e-05\n",
      "\n",
      "Epoch 613/1000\n"
     ]
    },
    {
     "name": "stderr",
     "output_type": "stream",
     "text": [
      "Training: 100%|██████████| 313/313 [00:44<00:00,  7.01it/s]\n",
      "Validating: 100%|██████████| 40/40 [00:02<00:00, 15.48it/s]\n"
     ]
    },
    {
     "name": "stdout",
     "output_type": "stream",
     "text": [
      "Train Loss: 0.00276 | Val Loss: 0.02122 | LR: 1.12e-05\n",
      "\n",
      "Epoch 614/1000\n"
     ]
    },
    {
     "name": "stderr",
     "output_type": "stream",
     "text": [
      "Training: 100%|██████████| 313/313 [00:44<00:00,  7.01it/s]\n",
      "Validating: 100%|██████████| 40/40 [00:02<00:00, 15.52it/s]\n"
     ]
    },
    {
     "name": "stdout",
     "output_type": "stream",
     "text": [
      "Train Loss: 0.00277 | Val Loss: 0.02125 | LR: 1.10e-05\n",
      "\n",
      "Epoch 615/1000\n"
     ]
    },
    {
     "name": "stderr",
     "output_type": "stream",
     "text": [
      "Training: 100%|██████████| 313/313 [00:44<00:00,  7.02it/s]\n",
      "Validating: 100%|██████████| 40/40 [00:02<00:00, 15.57it/s]\n"
     ]
    },
    {
     "name": "stdout",
     "output_type": "stream",
     "text": [
      "Train Loss: 0.00277 | Val Loss: 0.02120 | LR: 1.07e-05\n",
      "\n",
      "Epoch 616/1000\n"
     ]
    },
    {
     "name": "stderr",
     "output_type": "stream",
     "text": [
      "Training: 100%|██████████| 313/313 [00:44<00:00,  7.03it/s]\n",
      "Validating: 100%|██████████| 40/40 [00:02<00:00, 15.55it/s]\n"
     ]
    },
    {
     "name": "stdout",
     "output_type": "stream",
     "text": [
      "Train Loss: 0.00277 | Val Loss: 0.02118 | LR: 1.05e-05\n",
      "\n",
      "Epoch 617/1000\n"
     ]
    },
    {
     "name": "stderr",
     "output_type": "stream",
     "text": [
      "Training: 100%|██████████| 313/313 [00:44<00:00,  7.01it/s]\n",
      "Validating: 100%|██████████| 40/40 [00:02<00:00, 15.56it/s]\n"
     ]
    },
    {
     "name": "stdout",
     "output_type": "stream",
     "text": [
      "Train Loss: 0.00278 | Val Loss: 0.02122 | LR: 1.03e-05\n",
      "\n",
      "Epoch 618/1000\n"
     ]
    },
    {
     "name": "stderr",
     "output_type": "stream",
     "text": [
      "Training: 100%|██████████| 313/313 [00:44<00:00,  7.02it/s]\n",
      "Validating: 100%|██████████| 40/40 [00:02<00:00, 15.52it/s]\n"
     ]
    },
    {
     "name": "stdout",
     "output_type": "stream",
     "text": [
      "Train Loss: 0.00278 | Val Loss: 0.02124 | LR: 1.00e-05\n",
      "\n",
      "Epoch 619/1000\n"
     ]
    },
    {
     "name": "stderr",
     "output_type": "stream",
     "text": [
      "Training: 100%|██████████| 313/313 [00:44<00:00,  7.02it/s]\n",
      "Validating: 100%|██████████| 40/40 [00:02<00:00, 15.51it/s]\n"
     ]
    },
    {
     "name": "stdout",
     "output_type": "stream",
     "text": [
      "Train Loss: 0.00276 | Val Loss: 0.02120 | LR: 9.78e-06\n",
      "\n",
      "Epoch 620/1000\n"
     ]
    },
    {
     "name": "stderr",
     "output_type": "stream",
     "text": [
      "Training: 100%|██████████| 313/313 [00:44<00:00,  7.02it/s]\n",
      "Validating: 100%|██████████| 40/40 [00:02<00:00, 15.50it/s]\n"
     ]
    },
    {
     "name": "stdout",
     "output_type": "stream",
     "text": [
      "Train Loss: 0.00275 | Val Loss: 0.02120 | LR: 9.55e-06\n",
      "\n",
      "Epoch 621/1000\n"
     ]
    },
    {
     "name": "stderr",
     "output_type": "stream",
     "text": [
      "Training: 100%|██████████| 313/313 [00:44<00:00,  7.02it/s]\n",
      "Validating: 100%|██████████| 40/40 [00:02<00:00, 15.50it/s]\n"
     ]
    },
    {
     "name": "stdout",
     "output_type": "stream",
     "text": [
      "Train Loss: 0.00276 | Val Loss: 0.02122 | LR: 9.32e-06\n",
      "\n",
      "Epoch 622/1000\n"
     ]
    },
    {
     "name": "stderr",
     "output_type": "stream",
     "text": [
      "Training: 100%|██████████| 313/313 [00:45<00:00,  6.92it/s]\n",
      "Validating: 100%|██████████| 40/40 [00:02<00:00, 15.46it/s]\n"
     ]
    },
    {
     "name": "stdout",
     "output_type": "stream",
     "text": [
      "Train Loss: 0.00278 | Val Loss: 0.02116 | LR: 9.09e-06\n",
      "\n",
      "Epoch 623/1000\n"
     ]
    },
    {
     "name": "stderr",
     "output_type": "stream",
     "text": [
      "Training: 100%|██████████| 313/313 [00:44<00:00,  7.00it/s]\n",
      "Validating: 100%|██████████| 40/40 [00:02<00:00, 15.49it/s]\n"
     ]
    },
    {
     "name": "stdout",
     "output_type": "stream",
     "text": [
      "Train Loss: 0.00275 | Val Loss: 0.02122 | LR: 8.87e-06\n",
      "\n",
      "Epoch 624/1000\n"
     ]
    },
    {
     "name": "stderr",
     "output_type": "stream",
     "text": [
      "Training: 100%|██████████| 313/313 [00:44<00:00,  7.00it/s]\n",
      "Validating: 100%|██████████| 40/40 [00:02<00:00, 15.55it/s]\n"
     ]
    },
    {
     "name": "stdout",
     "output_type": "stream",
     "text": [
      "Train Loss: 0.00276 | Val Loss: 0.02126 | LR: 8.65e-06\n",
      "\n",
      "Epoch 625/1000\n"
     ]
    },
    {
     "name": "stderr",
     "output_type": "stream",
     "text": [
      "Training: 100%|██████████| 313/313 [00:44<00:00,  7.01it/s]\n",
      "Validating: 100%|██████████| 40/40 [00:02<00:00, 15.55it/s]\n"
     ]
    },
    {
     "name": "stdout",
     "output_type": "stream",
     "text": [
      "Train Loss: 0.00277 | Val Loss: 0.02120 | LR: 8.43e-06\n",
      "\n",
      "Epoch 626/1000\n"
     ]
    },
    {
     "name": "stderr",
     "output_type": "stream",
     "text": [
      "Training: 100%|██████████| 313/313 [00:44<00:00,  7.01it/s]\n",
      "Validating: 100%|██████████| 40/40 [00:02<00:00, 15.57it/s]\n"
     ]
    },
    {
     "name": "stdout",
     "output_type": "stream",
     "text": [
      "Train Loss: 0.00275 | Val Loss: 0.02119 | LR: 8.21e-06\n",
      "\n",
      "Epoch 627/1000\n"
     ]
    },
    {
     "name": "stderr",
     "output_type": "stream",
     "text": [
      "Training: 100%|██████████| 313/313 [00:44<00:00,  7.01it/s]\n",
      "Validating: 100%|██████████| 40/40 [00:02<00:00, 15.56it/s]\n"
     ]
    },
    {
     "name": "stdout",
     "output_type": "stream",
     "text": [
      "Train Loss: 0.00276 | Val Loss: 0.02123 | LR: 8.00e-06\n",
      "\n",
      "Epoch 628/1000\n"
     ]
    },
    {
     "name": "stderr",
     "output_type": "stream",
     "text": [
      "Training: 100%|██████████| 313/313 [00:44<00:00,  7.01it/s]\n",
      "Validating: 100%|██████████| 40/40 [00:02<00:00, 15.51it/s]\n"
     ]
    },
    {
     "name": "stdout",
     "output_type": "stream",
     "text": [
      "Train Loss: 0.00281 | Val Loss: 0.02121 | LR: 7.78e-06\n",
      "\n",
      "Epoch 629/1000\n"
     ]
    },
    {
     "name": "stderr",
     "output_type": "stream",
     "text": [
      "Training: 100%|██████████| 313/313 [00:44<00:00,  7.02it/s]\n",
      "Validating: 100%|██████████| 40/40 [00:02<00:00, 15.55it/s]\n"
     ]
    },
    {
     "name": "stdout",
     "output_type": "stream",
     "text": [
      "Train Loss: 0.00278 | Val Loss: 0.02127 | LR: 7.57e-06\n",
      "\n",
      "Epoch 630/1000\n"
     ]
    },
    {
     "name": "stderr",
     "output_type": "stream",
     "text": [
      "Training: 100%|██████████| 313/313 [00:44<00:00,  7.02it/s]\n",
      "Validating: 100%|██████████| 40/40 [00:02<00:00, 15.62it/s]\n"
     ]
    },
    {
     "name": "stdout",
     "output_type": "stream",
     "text": [
      "Train Loss: 0.00278 | Val Loss: 0.02124 | LR: 7.37e-06\n",
      "\n",
      "Epoch 631/1000\n"
     ]
    },
    {
     "name": "stderr",
     "output_type": "stream",
     "text": [
      "Training: 100%|██████████| 313/313 [00:44<00:00,  7.02it/s]\n",
      "Validating: 100%|██████████| 40/40 [00:02<00:00, 15.58it/s]\n"
     ]
    },
    {
     "name": "stdout",
     "output_type": "stream",
     "text": [
      "Train Loss: 0.00275 | Val Loss: 0.02124 | LR: 7.16e-06\n",
      "\n",
      "Epoch 632/1000\n"
     ]
    },
    {
     "name": "stderr",
     "output_type": "stream",
     "text": [
      "Training: 100%|██████████| 313/313 [00:44<00:00,  7.01it/s]\n",
      "Validating: 100%|██████████| 40/40 [00:02<00:00, 15.50it/s]\n"
     ]
    },
    {
     "name": "stdout",
     "output_type": "stream",
     "text": [
      "Train Loss: 0.00275 | Val Loss: 0.02119 | LR: 6.96e-06\n",
      "\n",
      "Epoch 633/1000\n"
     ]
    },
    {
     "name": "stderr",
     "output_type": "stream",
     "text": [
      "Training: 100%|██████████| 313/313 [00:44<00:00,  7.02it/s]\n",
      "Validating: 100%|██████████| 40/40 [00:02<00:00, 15.50it/s]\n"
     ]
    },
    {
     "name": "stdout",
     "output_type": "stream",
     "text": [
      "Train Loss: 0.00278 | Val Loss: 0.02123 | LR: 6.76e-06\n",
      "\n",
      "Epoch 634/1000\n"
     ]
    },
    {
     "name": "stderr",
     "output_type": "stream",
     "text": [
      "Training: 100%|██████████| 313/313 [00:44<00:00,  7.03it/s]\n",
      "Validating: 100%|██████████| 40/40 [00:02<00:00, 15.58it/s]\n"
     ]
    },
    {
     "name": "stdout",
     "output_type": "stream",
     "text": [
      "Train Loss: 0.00276 | Val Loss: 0.02119 | LR: 6.57e-06\n",
      "\n",
      "Epoch 635/1000\n"
     ]
    },
    {
     "name": "stderr",
     "output_type": "stream",
     "text": [
      "Training: 100%|██████████| 313/313 [00:45<00:00,  6.90it/s]\n",
      "Validating: 100%|██████████| 40/40 [00:02<00:00, 15.44it/s]\n"
     ]
    },
    {
     "name": "stdout",
     "output_type": "stream",
     "text": [
      "Train Loss: 0.00277 | Val Loss: 0.02123 | LR: 6.38e-06\n",
      "\n",
      "Epoch 636/1000\n"
     ]
    },
    {
     "name": "stderr",
     "output_type": "stream",
     "text": [
      "Training: 100%|██████████| 313/313 [00:44<00:00,  6.99it/s]\n",
      "Validating: 100%|██████████| 40/40 [00:02<00:00, 15.44it/s]\n"
     ]
    },
    {
     "name": "stdout",
     "output_type": "stream",
     "text": [
      "Train Loss: 0.00276 | Val Loss: 0.02122 | LR: 6.18e-06\n",
      "\n",
      "Epoch 637/1000\n"
     ]
    },
    {
     "name": "stderr",
     "output_type": "stream",
     "text": [
      "Training: 100%|██████████| 313/313 [00:44<00:00,  6.99it/s]\n",
      "Validating: 100%|██████████| 40/40 [00:02<00:00, 15.36it/s]\n"
     ]
    },
    {
     "name": "stdout",
     "output_type": "stream",
     "text": [
      "Train Loss: 0.00280 | Val Loss: 0.02122 | LR: 6.00e-06\n",
      "\n",
      "Epoch 638/1000\n"
     ]
    },
    {
     "name": "stderr",
     "output_type": "stream",
     "text": [
      "Training: 100%|██████████| 313/313 [00:44<00:00,  7.00it/s]\n",
      "Validating: 100%|██████████| 40/40 [00:02<00:00, 15.49it/s]\n"
     ]
    },
    {
     "name": "stdout",
     "output_type": "stream",
     "text": [
      "Train Loss: 0.00276 | Val Loss: 0.02120 | LR: 5.81e-06\n",
      "\n",
      "Epoch 639/1000\n"
     ]
    },
    {
     "name": "stderr",
     "output_type": "stream",
     "text": [
      "Training: 100%|██████████| 313/313 [00:44<00:00,  7.01it/s]\n",
      "Validating: 100%|██████████| 40/40 [00:02<00:00, 15.53it/s]\n"
     ]
    },
    {
     "name": "stdout",
     "output_type": "stream",
     "text": [
      "Train Loss: 0.00275 | Val Loss: 0.02122 | LR: 5.63e-06\n",
      "\n",
      "Epoch 640/1000\n"
     ]
    },
    {
     "name": "stderr",
     "output_type": "stream",
     "text": [
      "Training: 100%|██████████| 313/313 [00:44<00:00,  7.00it/s]\n",
      "Validating: 100%|██████████| 40/40 [00:02<00:00, 15.57it/s]\n"
     ]
    },
    {
     "name": "stdout",
     "output_type": "stream",
     "text": [
      "Train Loss: 0.00277 | Val Loss: 0.02123 | LR: 5.45e-06\n",
      "\n",
      "Epoch 641/1000\n"
     ]
    },
    {
     "name": "stderr",
     "output_type": "stream",
     "text": [
      "Training: 100%|██████████| 313/313 [00:44<00:00,  7.00it/s]\n",
      "Validating: 100%|██████████| 40/40 [00:02<00:00, 15.55it/s]\n"
     ]
    },
    {
     "name": "stdout",
     "output_type": "stream",
     "text": [
      "Train Loss: 0.00278 | Val Loss: 0.02123 | LR: 5.27e-06\n",
      "\n",
      "Epoch 642/1000\n"
     ]
    },
    {
     "name": "stderr",
     "output_type": "stream",
     "text": [
      "Training: 100%|██████████| 313/313 [00:44<00:00,  7.01it/s]\n",
      "Validating: 100%|██████████| 40/40 [00:02<00:00, 15.51it/s]\n"
     ]
    },
    {
     "name": "stdout",
     "output_type": "stream",
     "text": [
      "Train Loss: 0.00277 | Val Loss: 0.02123 | LR: 5.10e-06\n",
      "\n",
      "Epoch 643/1000\n"
     ]
    },
    {
     "name": "stderr",
     "output_type": "stream",
     "text": [
      "Training: 100%|██████████| 313/313 [00:44<00:00,  7.01it/s]\n",
      "Validating: 100%|██████████| 40/40 [00:02<00:00, 15.57it/s]\n"
     ]
    },
    {
     "name": "stdout",
     "output_type": "stream",
     "text": [
      "Train Loss: 0.00281 | Val Loss: 0.02123 | LR: 4.93e-06\n",
      "\n",
      "Epoch 644/1000\n"
     ]
    },
    {
     "name": "stderr",
     "output_type": "stream",
     "text": [
      "Training: 100%|██████████| 313/313 [00:44<00:00,  7.00it/s]\n",
      "Validating: 100%|██████████| 40/40 [00:02<00:00, 15.55it/s]\n"
     ]
    },
    {
     "name": "stdout",
     "output_type": "stream",
     "text": [
      "Train Loss: 0.00277 | Val Loss: 0.02128 | LR: 4.76e-06\n",
      "\n",
      "Epoch 645/1000\n"
     ]
    },
    {
     "name": "stderr",
     "output_type": "stream",
     "text": [
      "Training: 100%|██████████| 313/313 [00:44<00:00,  7.01it/s]\n",
      "Validating: 100%|██████████| 40/40 [00:02<00:00, 15.49it/s]\n"
     ]
    },
    {
     "name": "stdout",
     "output_type": "stream",
     "text": [
      "Train Loss: 0.00278 | Val Loss: 0.02125 | LR: 4.59e-06\n",
      "\n",
      "Epoch 646/1000\n"
     ]
    },
    {
     "name": "stderr",
     "output_type": "stream",
     "text": [
      "Training: 100%|██████████| 313/313 [00:44<00:00,  7.00it/s]\n",
      "Validating: 100%|██████████| 40/40 [00:02<00:00, 15.55it/s]\n"
     ]
    },
    {
     "name": "stdout",
     "output_type": "stream",
     "text": [
      "Train Loss: 0.00275 | Val Loss: 0.02127 | LR: 4.43e-06\n",
      "\n",
      "Epoch 647/1000\n"
     ]
    },
    {
     "name": "stderr",
     "output_type": "stream",
     "text": [
      "Training: 100%|██████████| 313/313 [00:44<00:00,  7.01it/s]\n",
      "Validating: 100%|██████████| 40/40 [00:02<00:00, 15.62it/s]\n"
     ]
    },
    {
     "name": "stdout",
     "output_type": "stream",
     "text": [
      "Train Loss: 0.00276 | Val Loss: 0.02123 | LR: 4.27e-06\n",
      "\n",
      "Epoch 648/1000\n"
     ]
    },
    {
     "name": "stderr",
     "output_type": "stream",
     "text": [
      "Training: 100%|██████████| 313/313 [00:45<00:00,  6.90it/s]\n",
      "Validating: 100%|██████████| 40/40 [00:02<00:00, 15.44it/s]\n"
     ]
    },
    {
     "name": "stdout",
     "output_type": "stream",
     "text": [
      "Train Loss: 0.00274 | Val Loss: 0.02125 | LR: 4.11e-06\n",
      "\n",
      "Epoch 649/1000\n"
     ]
    },
    {
     "name": "stderr",
     "output_type": "stream",
     "text": [
      "Training: 100%|██████████| 313/313 [00:44<00:00,  6.99it/s]\n",
      "Validating: 100%|██████████| 40/40 [00:02<00:00, 15.50it/s]\n"
     ]
    },
    {
     "name": "stdout",
     "output_type": "stream",
     "text": [
      "Train Loss: 0.00275 | Val Loss: 0.02125 | LR: 3.96e-06\n",
      "\n",
      "Epoch 650/1000\n"
     ]
    },
    {
     "name": "stderr",
     "output_type": "stream",
     "text": [
      "Training: 100%|██████████| 313/313 [00:44<00:00,  7.00it/s]\n",
      "Validating: 100%|██████████| 40/40 [00:02<00:00, 15.49it/s]\n"
     ]
    },
    {
     "name": "stdout",
     "output_type": "stream",
     "text": [
      "Train Loss: 0.00275 | Val Loss: 0.02124 | LR: 3.81e-06\n",
      "\n",
      "Epoch 651/1000\n"
     ]
    },
    {
     "name": "stderr",
     "output_type": "stream",
     "text": [
      "Training: 100%|██████████| 313/313 [00:44<00:00,  7.01it/s]\n",
      "Validating: 100%|██████████| 40/40 [00:02<00:00, 15.47it/s]\n"
     ]
    },
    {
     "name": "stdout",
     "output_type": "stream",
     "text": [
      "Train Loss: 0.00277 | Val Loss: 0.02125 | LR: 3.66e-06\n",
      "\n",
      "Epoch 652/1000\n"
     ]
    },
    {
     "name": "stderr",
     "output_type": "stream",
     "text": [
      "Training: 100%|██████████| 313/313 [00:44<00:00,  7.01it/s]\n",
      "Validating: 100%|██████████| 40/40 [00:02<00:00, 15.57it/s]\n"
     ]
    },
    {
     "name": "stdout",
     "output_type": "stream",
     "text": [
      "Train Loss: 0.00274 | Val Loss: 0.02127 | LR: 3.51e-06\n",
      "\n",
      "Epoch 653/1000\n"
     ]
    },
    {
     "name": "stderr",
     "output_type": "stream",
     "text": [
      "Training: 100%|██████████| 313/313 [00:44<00:00,  7.00it/s]\n",
      "Validating: 100%|██████████| 40/40 [00:02<00:00, 15.49it/s]\n"
     ]
    },
    {
     "name": "stdout",
     "output_type": "stream",
     "text": [
      "Train Loss: 0.00275 | Val Loss: 0.02122 | LR: 3.37e-06\n",
      "\n",
      "Epoch 654/1000\n"
     ]
    },
    {
     "name": "stderr",
     "output_type": "stream",
     "text": [
      "Training: 100%|██████████| 313/313 [00:44<00:00,  7.00it/s]\n",
      "Validating: 100%|██████████| 40/40 [00:02<00:00, 15.49it/s]\n"
     ]
    },
    {
     "name": "stdout",
     "output_type": "stream",
     "text": [
      "Train Loss: 0.00278 | Val Loss: 0.02122 | LR: 3.23e-06\n",
      "\n",
      "Epoch 655/1000\n"
     ]
    },
    {
     "name": "stderr",
     "output_type": "stream",
     "text": [
      "Training: 100%|██████████| 313/313 [00:44<00:00,  7.00it/s]\n",
      "Validating: 100%|██████████| 40/40 [00:02<00:00, 15.55it/s]\n"
     ]
    },
    {
     "name": "stdout",
     "output_type": "stream",
     "text": [
      "Train Loss: 0.00271 | Val Loss: 0.02126 | LR: 3.09e-06\n",
      "\n",
      "Epoch 656/1000\n"
     ]
    },
    {
     "name": "stderr",
     "output_type": "stream",
     "text": [
      "Training: 100%|██████████| 313/313 [00:44<00:00,  7.00it/s]\n",
      "Validating: 100%|██████████| 40/40 [00:02<00:00, 15.54it/s]\n"
     ]
    },
    {
     "name": "stdout",
     "output_type": "stream",
     "text": [
      "Train Loss: 0.00277 | Val Loss: 0.02127 | LR: 2.96e-06\n",
      "\n",
      "Epoch 657/1000\n"
     ]
    },
    {
     "name": "stderr",
     "output_type": "stream",
     "text": [
      "Training: 100%|██████████| 313/313 [00:44<00:00,  7.01it/s]\n",
      "Validating: 100%|██████████| 40/40 [00:02<00:00, 15.54it/s]\n"
     ]
    },
    {
     "name": "stdout",
     "output_type": "stream",
     "text": [
      "Train Loss: 0.00276 | Val Loss: 0.02127 | LR: 2.82e-06\n",
      "\n",
      "Epoch 658/1000\n"
     ]
    },
    {
     "name": "stderr",
     "output_type": "stream",
     "text": [
      "Training: 100%|██████████| 313/313 [00:44<00:00,  7.01it/s]\n",
      "Validating: 100%|██████████| 40/40 [00:02<00:00, 15.57it/s]\n"
     ]
    },
    {
     "name": "stdout",
     "output_type": "stream",
     "text": [
      "Train Loss: 0.00276 | Val Loss: 0.02126 | LR: 2.70e-06\n",
      "\n",
      "Epoch 659/1000\n"
     ]
    },
    {
     "name": "stderr",
     "output_type": "stream",
     "text": [
      "Training: 100%|██████████| 313/313 [00:44<00:00,  7.02it/s]\n",
      "Validating: 100%|██████████| 40/40 [00:02<00:00, 15.55it/s]\n"
     ]
    },
    {
     "name": "stdout",
     "output_type": "stream",
     "text": [
      "Train Loss: 0.00274 | Val Loss: 0.02125 | LR: 2.57e-06\n",
      "\n",
      "Epoch 660/1000\n"
     ]
    },
    {
     "name": "stderr",
     "output_type": "stream",
     "text": [
      "Training: 100%|██████████| 313/313 [00:44<00:00,  7.02it/s]\n",
      "Validating: 100%|██████████| 40/40 [00:02<00:00, 15.45it/s]\n"
     ]
    },
    {
     "name": "stdout",
     "output_type": "stream",
     "text": [
      "Train Loss: 0.00277 | Val Loss: 0.02125 | LR: 2.45e-06\n",
      "\n",
      "Epoch 661/1000\n"
     ]
    },
    {
     "name": "stderr",
     "output_type": "stream",
     "text": [
      "Training: 100%|██████████| 313/313 [00:45<00:00,  6.91it/s]\n",
      "Validating: 100%|██████████| 40/40 [00:02<00:00, 15.42it/s]\n"
     ]
    },
    {
     "name": "stdout",
     "output_type": "stream",
     "text": [
      "Train Loss: 0.00276 | Val Loss: 0.02128 | LR: 2.33e-06\n",
      "\n",
      "Epoch 662/1000\n"
     ]
    },
    {
     "name": "stderr",
     "output_type": "stream",
     "text": [
      "Training: 100%|██████████| 313/313 [00:44<00:00,  6.98it/s]\n",
      "Validating: 100%|██████████| 40/40 [00:02<00:00, 15.40it/s]\n"
     ]
    },
    {
     "name": "stdout",
     "output_type": "stream",
     "text": [
      "Train Loss: 0.00277 | Val Loss: 0.02126 | LR: 2.21e-06\n",
      "\n",
      "Epoch 663/1000\n"
     ]
    },
    {
     "name": "stderr",
     "output_type": "stream",
     "text": [
      "Training: 100%|██████████| 313/313 [00:44<00:00,  6.98it/s]\n",
      "Validating: 100%|██████████| 40/40 [00:02<00:00, 15.39it/s]\n"
     ]
    },
    {
     "name": "stdout",
     "output_type": "stream",
     "text": [
      "Train Loss: 0.00274 | Val Loss: 0.02126 | LR: 2.10e-06\n",
      "\n",
      "Epoch 664/1000\n"
     ]
    },
    {
     "name": "stderr",
     "output_type": "stream",
     "text": [
      "Training: 100%|██████████| 313/313 [00:44<00:00,  6.98it/s]\n",
      "Validating: 100%|██████████| 40/40 [00:02<00:00, 15.54it/s]\n"
     ]
    },
    {
     "name": "stdout",
     "output_type": "stream",
     "text": [
      "Train Loss: 0.00276 | Val Loss: 0.02128 | LR: 1.99e-06\n",
      "\n",
      "Epoch 665/1000\n"
     ]
    },
    {
     "name": "stderr",
     "output_type": "stream",
     "text": [
      "Training: 100%|██████████| 313/313 [00:44<00:00,  7.00it/s]\n",
      "Validating: 100%|██████████| 40/40 [00:02<00:00, 15.45it/s]\n"
     ]
    },
    {
     "name": "stdout",
     "output_type": "stream",
     "text": [
      "Train Loss: 0.00278 | Val Loss: 0.02127 | LR: 1.88e-06\n",
      "\n",
      "Epoch 666/1000\n"
     ]
    },
    {
     "name": "stderr",
     "output_type": "stream",
     "text": [
      "Training: 100%|██████████| 313/313 [00:44<00:00,  7.00it/s]\n",
      "Validating: 100%|██████████| 40/40 [00:02<00:00, 15.51it/s]\n"
     ]
    },
    {
     "name": "stdout",
     "output_type": "stream",
     "text": [
      "Train Loss: 0.00276 | Val Loss: 0.02125 | LR: 1.77e-06\n",
      "\n",
      "Epoch 667/1000\n"
     ]
    },
    {
     "name": "stderr",
     "output_type": "stream",
     "text": [
      "Training: 100%|██████████| 313/313 [00:44<00:00,  7.00it/s]\n",
      "Validating: 100%|██████████| 40/40 [00:02<00:00, 15.51it/s]\n"
     ]
    },
    {
     "name": "stdout",
     "output_type": "stream",
     "text": [
      "Train Loss: 0.00274 | Val Loss: 0.02125 | LR: 1.67e-06\n",
      "\n",
      "Epoch 668/1000\n"
     ]
    },
    {
     "name": "stderr",
     "output_type": "stream",
     "text": [
      "Training: 100%|██████████| 313/313 [00:44<00:00,  7.01it/s]\n",
      "Validating: 100%|██████████| 40/40 [00:02<00:00, 15.55it/s]\n"
     ]
    },
    {
     "name": "stdout",
     "output_type": "stream",
     "text": [
      "Train Loss: 0.00277 | Val Loss: 0.02124 | LR: 1.57e-06\n",
      "\n",
      "Epoch 669/1000\n"
     ]
    },
    {
     "name": "stderr",
     "output_type": "stream",
     "text": [
      "Training: 100%|██████████| 313/313 [00:44<00:00,  7.01it/s]\n",
      "Validating: 100%|██████████| 40/40 [00:02<00:00, 15.51it/s]\n"
     ]
    },
    {
     "name": "stdout",
     "output_type": "stream",
     "text": [
      "Train Loss: 0.00276 | Val Loss: 0.02126 | LR: 1.47e-06\n",
      "\n",
      "Epoch 670/1000\n"
     ]
    },
    {
     "name": "stderr",
     "output_type": "stream",
     "text": [
      "Training: 100%|██████████| 313/313 [00:44<00:00,  7.01it/s]\n",
      "Validating: 100%|██████████| 40/40 [00:02<00:00, 15.52it/s]\n"
     ]
    },
    {
     "name": "stdout",
     "output_type": "stream",
     "text": [
      "Train Loss: 0.00275 | Val Loss: 0.02127 | LR: 1.38e-06\n",
      "\n",
      "Epoch 671/1000\n"
     ]
    },
    {
     "name": "stderr",
     "output_type": "stream",
     "text": [
      "Training: 100%|██████████| 313/313 [00:44<00:00,  7.01it/s]\n",
      "Validating: 100%|██████████| 40/40 [00:02<00:00, 15.43it/s]\n"
     ]
    },
    {
     "name": "stdout",
     "output_type": "stream",
     "text": [
      "Train Loss: 0.00277 | Val Loss: 0.02127 | LR: 1.29e-06\n",
      "\n",
      "Epoch 672/1000\n"
     ]
    },
    {
     "name": "stderr",
     "output_type": "stream",
     "text": [
      "Training: 100%|██████████| 313/313 [00:44<00:00,  7.01it/s]\n",
      "Validating: 100%|██████████| 40/40 [00:02<00:00, 15.51it/s]\n"
     ]
    },
    {
     "name": "stdout",
     "output_type": "stream",
     "text": [
      "Train Loss: 0.00276 | Val Loss: 0.02127 | LR: 1.20e-06\n",
      "\n",
      "Epoch 673/1000\n"
     ]
    },
    {
     "name": "stderr",
     "output_type": "stream",
     "text": [
      "Training: 100%|██████████| 313/313 [00:44<00:00,  7.02it/s]\n",
      "Validating: 100%|██████████| 40/40 [00:02<00:00, 15.51it/s]\n"
     ]
    },
    {
     "name": "stdout",
     "output_type": "stream",
     "text": [
      "Train Loss: 0.00275 | Val Loss: 0.02127 | LR: 1.12e-06\n",
      "\n",
      "Epoch 674/1000\n"
     ]
    },
    {
     "name": "stderr",
     "output_type": "stream",
     "text": [
      "Training: 100%|██████████| 313/313 [00:45<00:00,  6.92it/s]\n",
      "Validating: 100%|██████████| 40/40 [00:02<00:00, 15.40it/s]\n"
     ]
    },
    {
     "name": "stdout",
     "output_type": "stream",
     "text": [
      "Train Loss: 0.00273 | Val Loss: 0.02127 | LR: 1.04e-06\n",
      "\n",
      "Epoch 675/1000\n"
     ]
    },
    {
     "name": "stderr",
     "output_type": "stream",
     "text": [
      "Training: 100%|██████████| 313/313 [00:44<00:00,  6.99it/s]\n",
      "Validating: 100%|██████████| 40/40 [00:02<00:00, 15.51it/s]\n"
     ]
    },
    {
     "name": "stdout",
     "output_type": "stream",
     "text": [
      "Train Loss: 0.00275 | Val Loss: 0.02126 | LR: 9.61e-07\n",
      "\n",
      "Epoch 676/1000\n"
     ]
    },
    {
     "name": "stderr",
     "output_type": "stream",
     "text": [
      "Training: 100%|██████████| 313/313 [00:44<00:00,  7.00it/s]\n",
      "Validating: 100%|██████████| 40/40 [00:02<00:00, 15.53it/s]\n"
     ]
    },
    {
     "name": "stdout",
     "output_type": "stream",
     "text": [
      "Train Loss: 0.00279 | Val Loss: 0.02126 | LR: 8.86e-07\n",
      "\n",
      "Epoch 677/1000\n"
     ]
    },
    {
     "name": "stderr",
     "output_type": "stream",
     "text": [
      "Training: 100%|██████████| 313/313 [00:44<00:00,  7.01it/s]\n",
      "Validating: 100%|██████████| 40/40 [00:02<00:00, 15.52it/s]\n"
     ]
    },
    {
     "name": "stdout",
     "output_type": "stream",
     "text": [
      "Train Loss: 0.00277 | Val Loss: 0.02129 | LR: 8.14e-07\n",
      "\n",
      "Epoch 678/1000\n"
     ]
    },
    {
     "name": "stderr",
     "output_type": "stream",
     "text": [
      "Training: 100%|██████████| 313/313 [00:44<00:00,  7.00it/s]\n",
      "Validating: 100%|██████████| 40/40 [00:02<00:00, 15.49it/s]\n"
     ]
    },
    {
     "name": "stdout",
     "output_type": "stream",
     "text": [
      "Train Loss: 0.00277 | Val Loss: 0.02127 | LR: 7.45e-07\n",
      "\n",
      "Epoch 679/1000\n"
     ]
    },
    {
     "name": "stderr",
     "output_type": "stream",
     "text": [
      "Training: 100%|██████████| 313/313 [00:44<00:00,  7.02it/s]\n",
      "Validating: 100%|██████████| 40/40 [00:02<00:00, 15.44it/s]\n"
     ]
    },
    {
     "name": "stdout",
     "output_type": "stream",
     "text": [
      "Train Loss: 0.00280 | Val Loss: 0.02127 | LR: 6.79e-07\n",
      "\n",
      "Epoch 680/1000\n"
     ]
    },
    {
     "name": "stderr",
     "output_type": "stream",
     "text": [
      "Training: 100%|██████████| 313/313 [00:44<00:00,  6.99it/s]\n",
      "Validating: 100%|██████████| 40/40 [00:02<00:00, 15.48it/s]\n"
     ]
    },
    {
     "name": "stdout",
     "output_type": "stream",
     "text": [
      "Train Loss: 0.00275 | Val Loss: 0.02128 | LR: 6.16e-07\n",
      "\n",
      "Epoch 681/1000\n"
     ]
    },
    {
     "name": "stderr",
     "output_type": "stream",
     "text": [
      "Training: 100%|██████████| 313/313 [00:44<00:00,  7.01it/s]\n",
      "Validating: 100%|██████████| 40/40 [00:02<00:00, 15.54it/s]\n"
     ]
    },
    {
     "name": "stdout",
     "output_type": "stream",
     "text": [
      "Train Loss: 0.00276 | Val Loss: 0.02128 | LR: 5.56e-07\n",
      "\n",
      "Epoch 682/1000\n"
     ]
    },
    {
     "name": "stderr",
     "output_type": "stream",
     "text": [
      "Training: 100%|██████████| 313/313 [00:44<00:00,  7.00it/s]\n",
      "Validating: 100%|██████████| 40/40 [00:02<00:00, 15.52it/s]\n"
     ]
    },
    {
     "name": "stdout",
     "output_type": "stream",
     "text": [
      "Train Loss: 0.00276 | Val Loss: 0.02127 | LR: 4.99e-07\n",
      "\n",
      "Epoch 683/1000\n"
     ]
    },
    {
     "name": "stderr",
     "output_type": "stream",
     "text": [
      "Training: 100%|██████████| 313/313 [00:44<00:00,  7.00it/s]\n",
      "Validating: 100%|██████████| 40/40 [00:02<00:00, 15.46it/s]\n"
     ]
    },
    {
     "name": "stdout",
     "output_type": "stream",
     "text": [
      "Train Loss: 0.00276 | Val Loss: 0.02127 | LR: 4.45e-07\n",
      "\n",
      "Epoch 684/1000\n"
     ]
    },
    {
     "name": "stderr",
     "output_type": "stream",
     "text": [
      "Training: 100%|██████████| 313/313 [00:44<00:00,  7.00it/s]\n",
      "Validating: 100%|██████████| 40/40 [00:02<00:00, 15.50it/s]\n"
     ]
    },
    {
     "name": "stdout",
     "output_type": "stream",
     "text": [
      "Train Loss: 0.00274 | Val Loss: 0.02127 | LR: 3.94e-07\n",
      "\n",
      "Epoch 685/1000\n"
     ]
    },
    {
     "name": "stderr",
     "output_type": "stream",
     "text": [
      "Training: 100%|██████████| 313/313 [00:44<00:00,  7.02it/s]\n",
      "Validating: 100%|██████████| 40/40 [00:02<00:00, 15.53it/s]\n"
     ]
    },
    {
     "name": "stdout",
     "output_type": "stream",
     "text": [
      "Train Loss: 0.00273 | Val Loss: 0.02128 | LR: 3.47e-07\n",
      "\n",
      "Epoch 686/1000\n"
     ]
    },
    {
     "name": "stderr",
     "output_type": "stream",
     "text": [
      "Training: 100%|██████████| 313/313 [00:44<00:00,  7.01it/s]\n",
      "Validating: 100%|██████████| 40/40 [00:02<00:00, 15.56it/s]\n"
     ]
    },
    {
     "name": "stdout",
     "output_type": "stream",
     "text": [
      "Train Loss: 0.00275 | Val Loss: 0.02127 | LR: 3.02e-07\n",
      "\n",
      "Epoch 687/1000\n"
     ]
    },
    {
     "name": "stderr",
     "output_type": "stream",
     "text": [
      "Training: 100%|██████████| 313/313 [00:44<00:00,  7.01it/s]\n",
      "Validating: 100%|██████████| 40/40 [00:02<00:00, 15.55it/s]\n"
     ]
    },
    {
     "name": "stdout",
     "output_type": "stream",
     "text": [
      "Train Loss: 0.00276 | Val Loss: 0.02127 | LR: 2.60e-07\n",
      "\n",
      "Epoch 688/1000\n"
     ]
    },
    {
     "name": "stderr",
     "output_type": "stream",
     "text": [
      "Training: 100%|██████████| 313/313 [00:45<00:00,  6.91it/s]\n",
      "Validating: 100%|██████████| 40/40 [00:02<00:00, 15.40it/s]\n"
     ]
    },
    {
     "name": "stdout",
     "output_type": "stream",
     "text": [
      "Train Loss: 0.00276 | Val Loss: 0.02126 | LR: 2.22e-07\n",
      "\n",
      "Epoch 689/1000\n"
     ]
    },
    {
     "name": "stderr",
     "output_type": "stream",
     "text": [
      "Training: 100%|██████████| 313/313 [00:44<00:00,  6.98it/s]\n",
      "Validating: 100%|██████████| 40/40 [00:02<00:00, 15.47it/s]\n"
     ]
    },
    {
     "name": "stdout",
     "output_type": "stream",
     "text": [
      "Train Loss: 0.00275 | Val Loss: 0.02127 | LR: 1.86e-07\n",
      "\n",
      "Epoch 690/1000\n"
     ]
    },
    {
     "name": "stderr",
     "output_type": "stream",
     "text": [
      "Training: 100%|██████████| 313/313 [00:44<00:00,  6.99it/s]\n",
      "Validating: 100%|██████████| 40/40 [00:02<00:00, 15.45it/s]\n"
     ]
    },
    {
     "name": "stdout",
     "output_type": "stream",
     "text": [
      "Train Loss: 0.00277 | Val Loss: 0.02127 | LR: 1.54e-07\n",
      "\n",
      "Epoch 691/1000\n"
     ]
    },
    {
     "name": "stderr",
     "output_type": "stream",
     "text": [
      "Training: 100%|██████████| 313/313 [00:44<00:00,  6.99it/s]\n",
      "Validating: 100%|██████████| 40/40 [00:02<00:00, 15.50it/s]\n"
     ]
    },
    {
     "name": "stdout",
     "output_type": "stream",
     "text": [
      "Train Loss: 0.00277 | Val Loss: 0.02127 | LR: 1.25e-07\n",
      "\n",
      "Epoch 692/1000\n"
     ]
    },
    {
     "name": "stderr",
     "output_type": "stream",
     "text": [
      "Training: 100%|██████████| 313/313 [00:44<00:00,  7.00it/s]\n",
      "Validating: 100%|██████████| 40/40 [00:02<00:00, 15.59it/s]\n"
     ]
    },
    {
     "name": "stdout",
     "output_type": "stream",
     "text": [
      "Train Loss: 0.00276 | Val Loss: 0.02127 | LR: 9.87e-08\n",
      "\n",
      "Epoch 693/1000\n"
     ]
    },
    {
     "name": "stderr",
     "output_type": "stream",
     "text": [
      "Training: 100%|██████████| 313/313 [00:44<00:00,  7.00it/s]\n",
      "Validating: 100%|██████████| 40/40 [00:02<00:00, 15.56it/s]\n"
     ]
    },
    {
     "name": "stdout",
     "output_type": "stream",
     "text": [
      "Train Loss: 0.00274 | Val Loss: 0.02127 | LR: 7.55e-08\n",
      "\n",
      "Epoch 694/1000\n"
     ]
    },
    {
     "name": "stderr",
     "output_type": "stream",
     "text": [
      "Training: 100%|██████████| 313/313 [00:44<00:00,  7.01it/s]\n",
      "Validating: 100%|██████████| 40/40 [00:02<00:00, 15.55it/s]\n"
     ]
    },
    {
     "name": "stdout",
     "output_type": "stream",
     "text": [
      "Train Loss: 0.00273 | Val Loss: 0.02127 | LR: 5.55e-08\n",
      "\n",
      "Epoch 695/1000\n"
     ]
    },
    {
     "name": "stderr",
     "output_type": "stream",
     "text": [
      "Training: 100%|██████████| 313/313 [00:44<00:00,  7.00it/s]\n",
      "Validating: 100%|██████████| 40/40 [00:02<00:00, 15.52it/s]\n"
     ]
    },
    {
     "name": "stdout",
     "output_type": "stream",
     "text": [
      "Train Loss: 0.00274 | Val Loss: 0.02127 | LR: 3.85e-08\n",
      "\n",
      "Epoch 696/1000\n"
     ]
    },
    {
     "name": "stderr",
     "output_type": "stream",
     "text": [
      "Training: 100%|██████████| 313/313 [00:44<00:00,  7.02it/s]\n",
      "Validating: 100%|██████████| 40/40 [00:02<00:00, 15.58it/s]\n"
     ]
    },
    {
     "name": "stdout",
     "output_type": "stream",
     "text": [
      "Train Loss: 0.00277 | Val Loss: 0.02127 | LR: 2.47e-08\n",
      "\n",
      "Epoch 697/1000\n"
     ]
    },
    {
     "name": "stderr",
     "output_type": "stream",
     "text": [
      "Training: 100%|██████████| 313/313 [00:44<00:00,  7.02it/s]\n",
      "Validating: 100%|██████████| 40/40 [00:02<00:00, 15.62it/s]\n"
     ]
    },
    {
     "name": "stdout",
     "output_type": "stream",
     "text": [
      "Train Loss: 0.00275 | Val Loss: 0.02127 | LR: 1.39e-08\n",
      "\n",
      "Epoch 698/1000\n"
     ]
    },
    {
     "name": "stderr",
     "output_type": "stream",
     "text": [
      "Training: 100%|██████████| 313/313 [00:44<00:00,  7.01it/s]\n",
      "Validating: 100%|██████████| 40/40 [00:02<00:00, 15.59it/s]\n"
     ]
    },
    {
     "name": "stdout",
     "output_type": "stream",
     "text": [
      "Train Loss: 0.00278 | Val Loss: 0.02127 | LR: 6.17e-09\n",
      "\n",
      "Epoch 699/1000\n"
     ]
    },
    {
     "name": "stderr",
     "output_type": "stream",
     "text": [
      "Training: 100%|██████████| 313/313 [00:44<00:00,  7.02it/s]\n",
      "Validating: 100%|██████████| 40/40 [00:02<00:00, 15.48it/s]\n"
     ]
    },
    {
     "name": "stdout",
     "output_type": "stream",
     "text": [
      "Train Loss: 0.00275 | Val Loss: 0.02127 | LR: 1.54e-09\n",
      "\n",
      "Epoch 700/1000\n"
     ]
    },
    {
     "name": "stderr",
     "output_type": "stream",
     "text": [
      "Training: 100%|██████████| 313/313 [00:44<00:00,  7.01it/s]\n",
      "Validating: 100%|██████████| 40/40 [00:02<00:00, 15.59it/s]\n"
     ]
    },
    {
     "name": "stdout",
     "output_type": "stream",
     "text": [
      "Train Loss: 0.00277 | Val Loss: 0.02127 | LR: 1.00e-04\n",
      "\n",
      "Epoch 701/1000\n"
     ]
    },
    {
     "name": "stderr",
     "output_type": "stream",
     "text": [
      "Training: 100%|██████████| 313/313 [00:44<00:00,  7.02it/s]\n",
      "Validating: 100%|██████████| 40/40 [00:02<00:00, 15.57it/s]\n"
     ]
    },
    {
     "name": "stdout",
     "output_type": "stream",
     "text": [
      "Train Loss: 0.00284 | Val Loss: 0.02121 | LR: 1.00e-04\n",
      "\n",
      "Epoch 702/1000\n"
     ]
    },
    {
     "name": "stderr",
     "output_type": "stream",
     "text": [
      "Training: 100%|██████████| 313/313 [00:45<00:00,  6.90it/s]\n",
      "Validating: 100%|██████████| 40/40 [00:02<00:00, 15.46it/s]\n"
     ]
    },
    {
     "name": "stdout",
     "output_type": "stream",
     "text": [
      "Train Loss: 0.00286 | Val Loss: 0.02107 | LR: 1.00e-04\n",
      "\n",
      "Epoch 703/1000\n"
     ]
    },
    {
     "name": "stderr",
     "output_type": "stream",
     "text": [
      "Training: 100%|██████████| 313/313 [00:44<00:00,  7.00it/s]\n",
      "Validating: 100%|██████████| 40/40 [00:02<00:00, 15.46it/s]\n"
     ]
    },
    {
     "name": "stdout",
     "output_type": "stream",
     "text": [
      "Train Loss: 0.00284 | Val Loss: 0.02117 | LR: 1.00e-04\n",
      "\n",
      "Epoch 704/1000\n"
     ]
    },
    {
     "name": "stderr",
     "output_type": "stream",
     "text": [
      "Training: 100%|██████████| 313/313 [00:44<00:00,  7.01it/s]\n",
      "Validating: 100%|██████████| 40/40 [00:02<00:00, 15.47it/s]\n"
     ]
    },
    {
     "name": "stdout",
     "output_type": "stream",
     "text": [
      "Train Loss: 0.00288 | Val Loss: 0.02098 | LR: 1.00e-04\n",
      "\n",
      "Epoch 705/1000\n"
     ]
    },
    {
     "name": "stderr",
     "output_type": "stream",
     "text": [
      "Training: 100%|██████████| 313/313 [00:44<00:00,  7.00it/s]\n",
      "Validating: 100%|██████████| 40/40 [00:02<00:00, 15.47it/s]\n"
     ]
    },
    {
     "name": "stdout",
     "output_type": "stream",
     "text": [
      "Train Loss: 0.00290 | Val Loss: 0.02125 | LR: 1.00e-04\n",
      "\n",
      "Epoch 706/1000\n"
     ]
    },
    {
     "name": "stderr",
     "output_type": "stream",
     "text": [
      "Training: 100%|██████████| 313/313 [00:44<00:00,  7.01it/s]\n",
      "Validating: 100%|██████████| 40/40 [00:02<00:00, 15.56it/s]\n"
     ]
    },
    {
     "name": "stdout",
     "output_type": "stream",
     "text": [
      "Train Loss: 0.00290 | Val Loss: 0.02110 | LR: 1.00e-04\n",
      "\n",
      "Epoch 707/1000\n"
     ]
    },
    {
     "name": "stderr",
     "output_type": "stream",
     "text": [
      "Training: 100%|██████████| 313/313 [00:44<00:00,  7.00it/s]\n",
      "Validating: 100%|██████████| 40/40 [00:02<00:00, 15.55it/s]\n"
     ]
    },
    {
     "name": "stdout",
     "output_type": "stream",
     "text": [
      "Train Loss: 0.00286 | Val Loss: 0.02114 | LR: 1.00e-04\n",
      "\n",
      "Epoch 708/1000\n"
     ]
    },
    {
     "name": "stderr",
     "output_type": "stream",
     "text": [
      "Training: 100%|██████████| 313/313 [00:44<00:00,  7.01it/s]\n",
      "Validating: 100%|██████████| 40/40 [00:02<00:00, 15.53it/s]\n"
     ]
    },
    {
     "name": "stdout",
     "output_type": "stream",
     "text": [
      "Train Loss: 0.00285 | Val Loss: 0.02111 | LR: 1.00e-04\n",
      "\n",
      "Epoch 709/1000\n"
     ]
    },
    {
     "name": "stderr",
     "output_type": "stream",
     "text": [
      "Training: 100%|██████████| 313/313 [00:44<00:00,  7.01it/s]\n",
      "Validating: 100%|██████████| 40/40 [00:02<00:00, 15.64it/s]\n"
     ]
    },
    {
     "name": "stdout",
     "output_type": "stream",
     "text": [
      "Train Loss: 0.00288 | Val Loss: 0.02119 | LR: 1.00e-04\n",
      "\n",
      "Epoch 710/1000\n"
     ]
    },
    {
     "name": "stderr",
     "output_type": "stream",
     "text": [
      "Training: 100%|██████████| 313/313 [00:44<00:00,  7.01it/s]\n",
      "Validating: 100%|██████████| 40/40 [00:02<00:00, 15.54it/s]\n"
     ]
    },
    {
     "name": "stdout",
     "output_type": "stream",
     "text": [
      "Train Loss: 0.00289 | Val Loss: 0.02126 | LR: 1.00e-04\n",
      "\n",
      "Epoch 711/1000\n"
     ]
    },
    {
     "name": "stderr",
     "output_type": "stream",
     "text": [
      "Training: 100%|██████████| 313/313 [00:44<00:00,  7.03it/s]\n",
      "Validating: 100%|██████████| 40/40 [00:02<00:00, 15.57it/s]\n"
     ]
    },
    {
     "name": "stdout",
     "output_type": "stream",
     "text": [
      "Train Loss: 0.00283 | Val Loss: 0.02121 | LR: 1.00e-04\n",
      "\n",
      "Epoch 712/1000\n"
     ]
    },
    {
     "name": "stderr",
     "output_type": "stream",
     "text": [
      "Training: 100%|██████████| 313/313 [00:44<00:00,  7.01it/s]\n",
      "Validating: 100%|██████████| 40/40 [00:02<00:00, 15.60it/s]\n"
     ]
    },
    {
     "name": "stdout",
     "output_type": "stream",
     "text": [
      "Train Loss: 0.00285 | Val Loss: 0.02114 | LR: 9.99e-05\n",
      "\n",
      "Epoch 713/1000\n"
     ]
    },
    {
     "name": "stderr",
     "output_type": "stream",
     "text": [
      "Training: 100%|██████████| 313/313 [00:44<00:00,  7.01it/s]\n",
      "Validating: 100%|██████████| 40/40 [00:02<00:00, 15.60it/s]\n"
     ]
    },
    {
     "name": "stdout",
     "output_type": "stream",
     "text": [
      "Train Loss: 0.00292 | Val Loss: 0.02097 | LR: 9.99e-05\n",
      "\n",
      "Epoch 714/1000\n"
     ]
    },
    {
     "name": "stderr",
     "output_type": "stream",
     "text": [
      "Training: 100%|██████████| 313/313 [00:44<00:00,  7.02it/s]\n",
      "Validating: 100%|██████████| 40/40 [00:02<00:00, 15.59it/s]\n"
     ]
    },
    {
     "name": "stdout",
     "output_type": "stream",
     "text": [
      "Train Loss: 0.00287 | Val Loss: 0.02088 | LR: 9.99e-05\n",
      "\n",
      "Epoch 715/1000\n"
     ]
    },
    {
     "name": "stderr",
     "output_type": "stream",
     "text": [
      "Training: 100%|██████████| 313/313 [00:44<00:00,  7.03it/s]\n",
      "Validating: 100%|██████████| 40/40 [00:02<00:00, 15.58it/s]\n"
     ]
    },
    {
     "name": "stdout",
     "output_type": "stream",
     "text": [
      "Train Loss: 0.00288 | Val Loss: 0.02111 | LR: 9.99e-05\n",
      "\n",
      "Epoch 716/1000\n"
     ]
    },
    {
     "name": "stderr",
     "output_type": "stream",
     "text": [
      "Training: 100%|██████████| 313/313 [00:45<00:00,  6.88it/s]\n",
      "Validating: 100%|██████████| 40/40 [00:02<00:00, 15.41it/s]\n"
     ]
    },
    {
     "name": "stdout",
     "output_type": "stream",
     "text": [
      "Train Loss: 0.00290 | Val Loss: 0.02130 | LR: 9.99e-05\n",
      "\n",
      "Epoch 717/1000\n"
     ]
    },
    {
     "name": "stderr",
     "output_type": "stream",
     "text": [
      "Training: 100%|██████████| 313/313 [00:44<00:00,  6.98it/s]\n",
      "Validating: 100%|██████████| 40/40 [00:02<00:00, 15.44it/s]\n"
     ]
    },
    {
     "name": "stdout",
     "output_type": "stream",
     "text": [
      "Train Loss: 0.00285 | Val Loss: 0.02121 | LR: 9.99e-05\n",
      "\n",
      "Epoch 718/1000\n"
     ]
    },
    {
     "name": "stderr",
     "output_type": "stream",
     "text": [
      "Training: 100%|██████████| 313/313 [00:44<00:00,  7.00it/s]\n",
      "Validating: 100%|██████████| 40/40 [00:02<00:00, 15.52it/s]\n"
     ]
    },
    {
     "name": "stdout",
     "output_type": "stream",
     "text": [
      "Train Loss: 0.00286 | Val Loss: 0.02108 | LR: 9.99e-05\n",
      "\n",
      "Epoch 719/1000\n"
     ]
    },
    {
     "name": "stderr",
     "output_type": "stream",
     "text": [
      "Training: 100%|██████████| 313/313 [00:44<00:00,  7.00it/s]\n",
      "Validating: 100%|██████████| 40/40 [00:02<00:00, 15.39it/s]\n"
     ]
    },
    {
     "name": "stdout",
     "output_type": "stream",
     "text": [
      "Train Loss: 0.00289 | Val Loss: 0.02105 | LR: 9.99e-05\n",
      "\n",
      "Epoch 720/1000\n"
     ]
    },
    {
     "name": "stderr",
     "output_type": "stream",
     "text": [
      "Training: 100%|██████████| 313/313 [00:44<00:00,  7.01it/s]\n",
      "Validating: 100%|██████████| 40/40 [00:02<00:00, 15.50it/s]\n"
     ]
    },
    {
     "name": "stdout",
     "output_type": "stream",
     "text": [
      "Train Loss: 0.00287 | Val Loss: 0.02117 | LR: 9.98e-05\n",
      "\n",
      "Epoch 721/1000\n"
     ]
    },
    {
     "name": "stderr",
     "output_type": "stream",
     "text": [
      "Training: 100%|██████████| 313/313 [00:44<00:00,  7.00it/s]\n",
      "Validating: 100%|██████████| 40/40 [00:02<00:00, 15.58it/s]\n"
     ]
    },
    {
     "name": "stdout",
     "output_type": "stream",
     "text": [
      "Train Loss: 0.00284 | Val Loss: 0.02113 | LR: 9.98e-05\n",
      "\n",
      "Epoch 722/1000\n"
     ]
    },
    {
     "name": "stderr",
     "output_type": "stream",
     "text": [
      "Training: 100%|██████████| 313/313 [00:44<00:00,  7.01it/s]\n",
      "Validating: 100%|██████████| 40/40 [00:02<00:00, 15.51it/s]\n"
     ]
    },
    {
     "name": "stdout",
     "output_type": "stream",
     "text": [
      "Train Loss: 0.00287 | Val Loss: 0.02110 | LR: 9.98e-05\n",
      "\n",
      "Epoch 723/1000\n"
     ]
    },
    {
     "name": "stderr",
     "output_type": "stream",
     "text": [
      "Training: 100%|██████████| 313/313 [00:44<00:00,  7.01it/s]\n",
      "Validating: 100%|██████████| 40/40 [00:02<00:00, 15.54it/s]\n"
     ]
    },
    {
     "name": "stdout",
     "output_type": "stream",
     "text": [
      "Train Loss: 0.00288 | Val Loss: 0.02098 | LR: 9.98e-05\n",
      "\n",
      "Epoch 724/1000\n"
     ]
    },
    {
     "name": "stderr",
     "output_type": "stream",
     "text": [
      "Training: 100%|██████████| 313/313 [00:44<00:00,  7.01it/s]\n",
      "Validating: 100%|██████████| 40/40 [00:02<00:00, 15.53it/s]\n"
     ]
    },
    {
     "name": "stdout",
     "output_type": "stream",
     "text": [
      "Train Loss: 0.00286 | Val Loss: 0.02102 | LR: 9.98e-05\n",
      "\n",
      "Epoch 725/1000\n"
     ]
    },
    {
     "name": "stderr",
     "output_type": "stream",
     "text": [
      "Training: 100%|██████████| 313/313 [00:44<00:00,  7.02it/s]\n",
      "Validating: 100%|██████████| 40/40 [00:02<00:00, 15.57it/s]\n"
     ]
    },
    {
     "name": "stdout",
     "output_type": "stream",
     "text": [
      "Train Loss: 0.00289 | Val Loss: 0.02111 | LR: 9.98e-05\n",
      "\n",
      "Epoch 726/1000\n"
     ]
    },
    {
     "name": "stderr",
     "output_type": "stream",
     "text": [
      "Training: 100%|██████████| 313/313 [00:44<00:00,  7.01it/s]\n",
      "Validating: 100%|██████████| 40/40 [00:02<00:00, 15.60it/s]\n"
     ]
    },
    {
     "name": "stdout",
     "output_type": "stream",
     "text": [
      "Train Loss: 0.00287 | Val Loss: 0.02116 | LR: 9.97e-05\n",
      "\n",
      "Epoch 727/1000\n"
     ]
    },
    {
     "name": "stderr",
     "output_type": "stream",
     "text": [
      "Training: 100%|██████████| 313/313 [00:44<00:00,  7.01it/s]\n",
      "Validating: 100%|██████████| 40/40 [00:02<00:00, 15.54it/s]\n"
     ]
    },
    {
     "name": "stdout",
     "output_type": "stream",
     "text": [
      "Train Loss: 0.00287 | Val Loss: 0.02114 | LR: 9.97e-05\n",
      "\n",
      "Epoch 728/1000\n"
     ]
    },
    {
     "name": "stderr",
     "output_type": "stream",
     "text": [
      "Training: 100%|██████████| 313/313 [00:44<00:00,  7.01it/s]\n",
      "Validating: 100%|██████████| 40/40 [00:02<00:00, 15.66it/s]\n"
     ]
    },
    {
     "name": "stdout",
     "output_type": "stream",
     "text": [
      "Train Loss: 0.00287 | Val Loss: 0.02115 | LR: 9.97e-05\n",
      "\n",
      "Epoch 729/1000\n"
     ]
    },
    {
     "name": "stderr",
     "output_type": "stream",
     "text": [
      "Training: 100%|██████████| 313/313 [00:44<00:00,  7.01it/s]\n",
      "Validating: 100%|██████████| 40/40 [00:02<00:00, 15.56it/s]\n"
     ]
    },
    {
     "name": "stdout",
     "output_type": "stream",
     "text": [
      "Train Loss: 0.00289 | Val Loss: 0.02103 | LR: 9.97e-05\n",
      "\n",
      "Epoch 730/1000\n"
     ]
    },
    {
     "name": "stderr",
     "output_type": "stream",
     "text": [
      "Training: 100%|██████████| 313/313 [00:45<00:00,  6.91it/s]\n",
      "Validating: 100%|██████████| 40/40 [00:02<00:00, 15.45it/s]\n"
     ]
    },
    {
     "name": "stdout",
     "output_type": "stream",
     "text": [
      "Train Loss: 0.00287 | Val Loss: 0.02105 | LR: 9.97e-05\n",
      "\n",
      "Epoch 731/1000\n"
     ]
    },
    {
     "name": "stderr",
     "output_type": "stream",
     "text": [
      "Training: 100%|██████████| 313/313 [00:44<00:00,  6.99it/s]\n",
      "Validating: 100%|██████████| 40/40 [00:02<00:00, 15.45it/s]\n"
     ]
    },
    {
     "name": "stdout",
     "output_type": "stream",
     "text": [
      "Train Loss: 0.00286 | Val Loss: 0.02103 | LR: 9.96e-05\n",
      "\n",
      "Epoch 732/1000\n"
     ]
    },
    {
     "name": "stderr",
     "output_type": "stream",
     "text": [
      "Training: 100%|██████████| 313/313 [00:44<00:00,  7.00it/s]\n",
      "Validating: 100%|██████████| 40/40 [00:02<00:00, 15.54it/s]\n"
     ]
    },
    {
     "name": "stdout",
     "output_type": "stream",
     "text": [
      "Train Loss: 0.00285 | Val Loss: 0.02125 | LR: 9.96e-05\n",
      "\n",
      "Epoch 733/1000\n"
     ]
    },
    {
     "name": "stderr",
     "output_type": "stream",
     "text": [
      "Training: 100%|██████████| 313/313 [00:44<00:00,  7.01it/s]\n",
      "Validating: 100%|██████████| 40/40 [00:02<00:00, 15.55it/s]\n"
     ]
    },
    {
     "name": "stdout",
     "output_type": "stream",
     "text": [
      "Train Loss: 0.00287 | Val Loss: 0.02120 | LR: 9.96e-05\n",
      "\n",
      "Epoch 734/1000\n"
     ]
    },
    {
     "name": "stderr",
     "output_type": "stream",
     "text": [
      "Training: 100%|██████████| 313/313 [00:44<00:00,  7.00it/s]\n",
      "Validating: 100%|██████████| 40/40 [00:02<00:00, 15.53it/s]\n"
     ]
    },
    {
     "name": "stdout",
     "output_type": "stream",
     "text": [
      "Train Loss: 0.00284 | Val Loss: 0.02113 | LR: 9.96e-05\n",
      "\n",
      "Epoch 735/1000\n"
     ]
    },
    {
     "name": "stderr",
     "output_type": "stream",
     "text": [
      "Training: 100%|██████████| 313/313 [00:44<00:00,  7.01it/s]\n",
      "Validating: 100%|██████████| 40/40 [00:02<00:00, 15.50it/s]\n"
     ]
    },
    {
     "name": "stdout",
     "output_type": "stream",
     "text": [
      "Train Loss: 0.00286 | Val Loss: 0.02104 | LR: 9.95e-05\n",
      "\n",
      "Epoch 736/1000\n"
     ]
    },
    {
     "name": "stderr",
     "output_type": "stream",
     "text": [
      "Training: 100%|██████████| 313/313 [00:44<00:00,  7.01it/s]\n",
      "Validating: 100%|██████████| 40/40 [00:02<00:00, 15.53it/s]\n"
     ]
    },
    {
     "name": "stdout",
     "output_type": "stream",
     "text": [
      "Train Loss: 0.00287 | Val Loss: 0.02098 | LR: 9.95e-05\n",
      "\n",
      "Epoch 737/1000\n"
     ]
    },
    {
     "name": "stderr",
     "output_type": "stream",
     "text": [
      "Training: 100%|██████████| 313/313 [00:44<00:00,  7.01it/s]\n",
      "Validating: 100%|██████████| 40/40 [00:02<00:00, 15.58it/s]\n"
     ]
    },
    {
     "name": "stdout",
     "output_type": "stream",
     "text": [
      "Train Loss: 0.00287 | Val Loss: 0.02119 | LR: 9.95e-05\n",
      "\n",
      "Epoch 738/1000\n"
     ]
    },
    {
     "name": "stderr",
     "output_type": "stream",
     "text": [
      "Training: 100%|██████████| 313/313 [00:44<00:00,  7.01it/s]\n",
      "Validating: 100%|██████████| 40/40 [00:02<00:00, 15.58it/s]\n"
     ]
    },
    {
     "name": "stdout",
     "output_type": "stream",
     "text": [
      "Train Loss: 0.00287 | Val Loss: 0.02106 | LR: 9.94e-05\n",
      "\n",
      "Epoch 739/1000\n"
     ]
    },
    {
     "name": "stderr",
     "output_type": "stream",
     "text": [
      "Training: 100%|██████████| 313/313 [00:44<00:00,  7.00it/s]\n",
      "Validating: 100%|██████████| 40/40 [00:02<00:00, 15.55it/s]\n"
     ]
    },
    {
     "name": "stdout",
     "output_type": "stream",
     "text": [
      "Train Loss: 0.00287 | Val Loss: 0.02123 | LR: 9.94e-05\n",
      "\n",
      "Epoch 740/1000\n"
     ]
    },
    {
     "name": "stderr",
     "output_type": "stream",
     "text": [
      "Training: 100%|██████████| 313/313 [00:44<00:00,  7.00it/s]\n",
      "Validating: 100%|██████████| 40/40 [00:02<00:00, 15.51it/s]\n"
     ]
    },
    {
     "name": "stdout",
     "output_type": "stream",
     "text": [
      "Train Loss: 0.00286 | Val Loss: 0.02106 | LR: 9.94e-05\n",
      "\n",
      "Epoch 741/1000\n"
     ]
    },
    {
     "name": "stderr",
     "output_type": "stream",
     "text": [
      "Training: 100%|██████████| 313/313 [00:44<00:00,  7.01it/s]\n",
      "Validating: 100%|██████████| 40/40 [00:02<00:00, 15.51it/s]\n"
     ]
    },
    {
     "name": "stdout",
     "output_type": "stream",
     "text": [
      "Train Loss: 0.00285 | Val Loss: 0.02105 | LR: 9.94e-05\n",
      "\n",
      "Epoch 742/1000\n"
     ]
    },
    {
     "name": "stderr",
     "output_type": "stream",
     "text": [
      "Training: 100%|██████████| 313/313 [00:44<00:00,  7.00it/s]\n",
      "Validating: 100%|██████████| 40/40 [00:02<00:00, 15.55it/s]\n"
     ]
    },
    {
     "name": "stdout",
     "output_type": "stream",
     "text": [
      "Train Loss: 0.00291 | Val Loss: 0.02108 | LR: 9.93e-05\n",
      "\n",
      "Epoch 743/1000\n"
     ]
    },
    {
     "name": "stderr",
     "output_type": "stream",
     "text": [
      "Training: 100%|██████████| 313/313 [00:44<00:00,  7.02it/s]\n",
      "Validating: 100%|██████████| 40/40 [00:02<00:00, 15.51it/s]\n"
     ]
    },
    {
     "name": "stdout",
     "output_type": "stream",
     "text": [
      "Train Loss: 0.00285 | Val Loss: 0.02130 | LR: 9.93e-05\n",
      "\n",
      "Epoch 744/1000\n"
     ]
    },
    {
     "name": "stderr",
     "output_type": "stream",
     "text": [
      "Training: 100%|██████████| 313/313 [00:44<00:00,  7.00it/s]\n",
      "Validating: 100%|██████████| 40/40 [00:02<00:00, 15.55it/s]\n"
     ]
    },
    {
     "name": "stdout",
     "output_type": "stream",
     "text": [
      "Train Loss: 0.00287 | Val Loss: 0.02108 | LR: 9.93e-05\n",
      "\n",
      "Epoch 745/1000\n"
     ]
    },
    {
     "name": "stderr",
     "output_type": "stream",
     "text": [
      "Training: 100%|██████████| 313/313 [00:45<00:00,  6.88it/s]\n",
      "Validating: 100%|██████████| 40/40 [00:02<00:00, 15.39it/s]\n"
     ]
    },
    {
     "name": "stdout",
     "output_type": "stream",
     "text": [
      "Train Loss: 0.00290 | Val Loss: 0.02107 | LR: 9.92e-05\n",
      "\n",
      "Epoch 746/1000\n"
     ]
    },
    {
     "name": "stderr",
     "output_type": "stream",
     "text": [
      "Training: 100%|██████████| 313/313 [00:44<00:00,  6.97it/s]\n",
      "Validating: 100%|██████████| 40/40 [00:02<00:00, 15.40it/s]\n"
     ]
    },
    {
     "name": "stdout",
     "output_type": "stream",
     "text": [
      "Train Loss: 0.00287 | Val Loss: 0.02109 | LR: 9.92e-05\n",
      "\n",
      "Epoch 747/1000\n"
     ]
    },
    {
     "name": "stderr",
     "output_type": "stream",
     "text": [
      "Training: 100%|██████████| 313/313 [00:44<00:00,  6.99it/s]\n",
      "Validating: 100%|██████████| 40/40 [00:02<00:00, 15.44it/s]\n"
     ]
    },
    {
     "name": "stdout",
     "output_type": "stream",
     "text": [
      "Train Loss: 0.00284 | Val Loss: 0.02106 | LR: 9.92e-05\n",
      "\n",
      "Epoch 748/1000\n"
     ]
    },
    {
     "name": "stderr",
     "output_type": "stream",
     "text": [
      "Training: 100%|██████████| 313/313 [00:44<00:00,  7.00it/s]\n",
      "Validating: 100%|██████████| 40/40 [00:02<00:00, 15.39it/s]\n"
     ]
    },
    {
     "name": "stdout",
     "output_type": "stream",
     "text": [
      "Train Loss: 0.00286 | Val Loss: 0.02111 | LR: 9.91e-05\n",
      "\n",
      "Epoch 749/1000\n"
     ]
    },
    {
     "name": "stderr",
     "output_type": "stream",
     "text": [
      "Training: 100%|██████████| 313/313 [00:44<00:00,  7.00it/s]\n",
      "Validating: 100%|██████████| 40/40 [00:02<00:00, 15.50it/s]\n"
     ]
    },
    {
     "name": "stdout",
     "output_type": "stream",
     "text": [
      "Train Loss: 0.00287 | Val Loss: 0.02102 | LR: 9.91e-05\n",
      "\n",
      "Epoch 750/1000\n"
     ]
    },
    {
     "name": "stderr",
     "output_type": "stream",
     "text": [
      "Training: 100%|██████████| 313/313 [00:44<00:00,  7.00it/s]\n",
      "Validating: 100%|██████████| 40/40 [00:02<00:00, 15.54it/s]\n"
     ]
    },
    {
     "name": "stdout",
     "output_type": "stream",
     "text": [
      "Train Loss: 0.00285 | Val Loss: 0.02107 | LR: 9.90e-05\n",
      "\n",
      "Epoch 751/1000\n"
     ]
    },
    {
     "name": "stderr",
     "output_type": "stream",
     "text": [
      "Training: 100%|██████████| 313/313 [00:44<00:00,  7.01it/s]\n",
      "Validating: 100%|██████████| 40/40 [00:02<00:00, 15.53it/s]\n"
     ]
    },
    {
     "name": "stdout",
     "output_type": "stream",
     "text": [
      "Train Loss: 0.00287 | Val Loss: 0.02114 | LR: 9.90e-05\n",
      "\n",
      "Epoch 752/1000\n"
     ]
    },
    {
     "name": "stderr",
     "output_type": "stream",
     "text": [
      "Training: 100%|██████████| 313/313 [00:44<00:00,  7.02it/s]\n",
      "Validating: 100%|██████████| 40/40 [00:02<00:00, 15.54it/s]\n"
     ]
    },
    {
     "name": "stdout",
     "output_type": "stream",
     "text": [
      "Train Loss: 0.00286 | Val Loss: 0.02103 | LR: 9.90e-05\n",
      "\n",
      "Epoch 753/1000\n"
     ]
    },
    {
     "name": "stderr",
     "output_type": "stream",
     "text": [
      "Training: 100%|██████████| 313/313 [00:44<00:00,  7.00it/s]\n",
      "Validating: 100%|██████████| 40/40 [00:02<00:00, 15.52it/s]\n"
     ]
    },
    {
     "name": "stdout",
     "output_type": "stream",
     "text": [
      "Train Loss: 0.00287 | Val Loss: 0.02117 | LR: 9.89e-05\n",
      "\n",
      "Epoch 754/1000\n"
     ]
    },
    {
     "name": "stderr",
     "output_type": "stream",
     "text": [
      "Training: 100%|██████████| 313/313 [00:44<00:00,  7.01it/s]\n",
      "Validating: 100%|██████████| 40/40 [00:02<00:00, 15.53it/s]\n"
     ]
    },
    {
     "name": "stdout",
     "output_type": "stream",
     "text": [
      "Train Loss: 0.00285 | Val Loss: 0.02115 | LR: 9.89e-05\n",
      "\n",
      "Epoch 755/1000\n"
     ]
    },
    {
     "name": "stderr",
     "output_type": "stream",
     "text": [
      "Training: 100%|██████████| 313/313 [00:44<00:00,  7.00it/s]\n",
      "Validating: 100%|██████████| 40/40 [00:02<00:00, 15.48it/s]\n"
     ]
    },
    {
     "name": "stdout",
     "output_type": "stream",
     "text": [
      "Train Loss: 0.00286 | Val Loss: 0.02110 | LR: 9.88e-05\n",
      "\n",
      "Epoch 756/1000\n"
     ]
    },
    {
     "name": "stderr",
     "output_type": "stream",
     "text": [
      "Training: 100%|██████████| 313/313 [00:44<00:00,  7.00it/s]\n",
      "Validating: 100%|██████████| 40/40 [00:02<00:00, 15.51it/s]\n"
     ]
    },
    {
     "name": "stdout",
     "output_type": "stream",
     "text": [
      "Train Loss: 0.00283 | Val Loss: 0.02112 | LR: 9.88e-05\n",
      "\n",
      "Epoch 757/1000\n"
     ]
    },
    {
     "name": "stderr",
     "output_type": "stream",
     "text": [
      "Training: 100%|██████████| 313/313 [00:44<00:00,  7.01it/s]\n",
      "Validating: 100%|██████████| 40/40 [00:02<00:00, 15.57it/s]\n"
     ]
    },
    {
     "name": "stdout",
     "output_type": "stream",
     "text": [
      "Train Loss: 0.00286 | Val Loss: 0.02108 | LR: 9.88e-05\n",
      "\n",
      "Epoch 758/1000\n"
     ]
    },
    {
     "name": "stderr",
     "output_type": "stream",
     "text": [
      "Training: 100%|██████████| 313/313 [00:44<00:00,  7.01it/s]\n",
      "Validating: 100%|██████████| 40/40 [00:02<00:00, 15.48it/s]\n"
     ]
    },
    {
     "name": "stdout",
     "output_type": "stream",
     "text": [
      "Train Loss: 0.00285 | Val Loss: 0.02108 | LR: 9.87e-05\n",
      "\n",
      "Epoch 759/1000\n"
     ]
    },
    {
     "name": "stderr",
     "output_type": "stream",
     "text": [
      "Training: 100%|██████████| 313/313 [00:44<00:00,  7.02it/s]\n",
      "Validating: 100%|██████████| 40/40 [00:02<00:00, 15.54it/s]\n"
     ]
    },
    {
     "name": "stdout",
     "output_type": "stream",
     "text": [
      "Train Loss: 0.00286 | Val Loss: 0.02107 | LR: 9.87e-05\n",
      "\n",
      "Epoch 760/1000\n"
     ]
    },
    {
     "name": "stderr",
     "output_type": "stream",
     "text": [
      "Training: 100%|██████████| 313/313 [00:45<00:00,  6.88it/s]\n",
      "Validating: 100%|██████████| 40/40 [00:02<00:00, 15.43it/s]\n"
     ]
    },
    {
     "name": "stdout",
     "output_type": "stream",
     "text": [
      "Train Loss: 0.00284 | Val Loss: 0.02101 | LR: 9.86e-05\n",
      "\n",
      "Epoch 761/1000\n"
     ]
    },
    {
     "name": "stderr",
     "output_type": "stream",
     "text": [
      "Training: 100%|██████████| 313/313 [00:44<00:00,  7.00it/s]\n",
      "Validating: 100%|██████████| 40/40 [00:02<00:00, 15.51it/s]\n"
     ]
    },
    {
     "name": "stdout",
     "output_type": "stream",
     "text": [
      "Train Loss: 0.00285 | Val Loss: 0.02132 | LR: 9.86e-05\n",
      "\n",
      "Epoch 762/1000\n"
     ]
    },
    {
     "name": "stderr",
     "output_type": "stream",
     "text": [
      "Training: 100%|██████████| 313/313 [00:44<00:00,  7.00it/s]\n",
      "Validating: 100%|██████████| 40/40 [00:02<00:00, 15.51it/s]\n"
     ]
    },
    {
     "name": "stdout",
     "output_type": "stream",
     "text": [
      "Train Loss: 0.00283 | Val Loss: 0.02104 | LR: 9.85e-05\n",
      "\n",
      "Epoch 763/1000\n"
     ]
    },
    {
     "name": "stderr",
     "output_type": "stream",
     "text": [
      "Training: 100%|██████████| 313/313 [00:44<00:00,  7.01it/s]\n",
      "Validating: 100%|██████████| 40/40 [00:02<00:00, 15.54it/s]\n"
     ]
    },
    {
     "name": "stdout",
     "output_type": "stream",
     "text": [
      "Train Loss: 0.00285 | Val Loss: 0.02108 | LR: 9.85e-05\n",
      "\n",
      "Epoch 764/1000\n"
     ]
    },
    {
     "name": "stderr",
     "output_type": "stream",
     "text": [
      "Training: 100%|██████████| 313/313 [00:44<00:00,  7.00it/s]\n",
      "Validating: 100%|██████████| 40/40 [00:02<00:00, 15.44it/s]\n"
     ]
    },
    {
     "name": "stdout",
     "output_type": "stream",
     "text": [
      "Train Loss: 0.00286 | Val Loss: 0.02099 | LR: 9.84e-05\n",
      "\n",
      "Epoch 765/1000\n"
     ]
    },
    {
     "name": "stderr",
     "output_type": "stream",
     "text": [
      "Training: 100%|██████████| 313/313 [00:44<00:00,  7.01it/s]\n",
      "Validating: 100%|██████████| 40/40 [00:02<00:00, 15.45it/s]\n"
     ]
    },
    {
     "name": "stdout",
     "output_type": "stream",
     "text": [
      "Train Loss: 0.00287 | Val Loss: 0.02103 | LR: 9.84e-05\n",
      "\n",
      "Epoch 766/1000\n"
     ]
    },
    {
     "name": "stderr",
     "output_type": "stream",
     "text": [
      "Training: 100%|██████████| 313/313 [00:44<00:00,  6.99it/s]\n",
      "Validating: 100%|██████████| 40/40 [00:02<00:00, 15.45it/s]\n"
     ]
    },
    {
     "name": "stdout",
     "output_type": "stream",
     "text": [
      "Train Loss: 0.00288 | Val Loss: 0.02104 | LR: 9.83e-05\n",
      "\n",
      "Epoch 767/1000\n"
     ]
    },
    {
     "name": "stderr",
     "output_type": "stream",
     "text": [
      "Training: 100%|██████████| 313/313 [00:44<00:00,  7.00it/s]\n",
      "Validating: 100%|██████████| 40/40 [00:02<00:00, 15.50it/s]\n"
     ]
    },
    {
     "name": "stdout",
     "output_type": "stream",
     "text": [
      "Train Loss: 0.00287 | Val Loss: 0.02114 | LR: 9.83e-05\n",
      "\n",
      "Epoch 768/1000\n"
     ]
    },
    {
     "name": "stderr",
     "output_type": "stream",
     "text": [
      "Training: 100%|██████████| 313/313 [00:44<00:00,  7.01it/s]\n",
      "Validating: 100%|██████████| 40/40 [00:02<00:00, 15.31it/s]\n"
     ]
    },
    {
     "name": "stdout",
     "output_type": "stream",
     "text": [
      "Train Loss: 0.00287 | Val Loss: 0.02119 | LR: 9.82e-05\n",
      "\n",
      "Epoch 769/1000\n"
     ]
    },
    {
     "name": "stderr",
     "output_type": "stream",
     "text": [
      "Training: 100%|██████████| 313/313 [00:44<00:00,  7.00it/s]\n",
      "Validating: 100%|██████████| 40/40 [00:02<00:00, 15.51it/s]\n"
     ]
    },
    {
     "name": "stdout",
     "output_type": "stream",
     "text": [
      "Train Loss: 0.00284 | Val Loss: 0.02103 | LR: 9.82e-05\n",
      "\n",
      "Epoch 770/1000\n"
     ]
    },
    {
     "name": "stderr",
     "output_type": "stream",
     "text": [
      "Training: 100%|██████████| 313/313 [00:44<00:00,  7.00it/s]\n",
      "Validating: 100%|██████████| 40/40 [00:02<00:00, 15.46it/s]\n"
     ]
    },
    {
     "name": "stdout",
     "output_type": "stream",
     "text": [
      "Train Loss: 0.00282 | Val Loss: 0.02104 | LR: 9.81e-05\n",
      "\n",
      "Epoch 771/1000\n"
     ]
    },
    {
     "name": "stderr",
     "output_type": "stream",
     "text": [
      "Training: 100%|██████████| 313/313 [00:44<00:00,  7.00it/s]\n",
      "Validating: 100%|██████████| 40/40 [00:02<00:00, 15.52it/s]\n"
     ]
    },
    {
     "name": "stdout",
     "output_type": "stream",
     "text": [
      "Train Loss: 0.00284 | Val Loss: 0.02115 | LR: 9.81e-05\n",
      "\n",
      "Epoch 772/1000\n"
     ]
    },
    {
     "name": "stderr",
     "output_type": "stream",
     "text": [
      "Training: 100%|██████████| 313/313 [00:44<00:00,  7.01it/s]\n",
      "Validating: 100%|██████████| 40/40 [00:02<00:00, 15.56it/s]\n"
     ]
    },
    {
     "name": "stdout",
     "output_type": "stream",
     "text": [
      "Train Loss: 0.00284 | Val Loss: 0.02104 | LR: 9.80e-05\n",
      "\n",
      "Epoch 773/1000\n"
     ]
    },
    {
     "name": "stderr",
     "output_type": "stream",
     "text": [
      "Training: 100%|██████████| 313/313 [00:44<00:00,  7.01it/s]\n",
      "Validating: 100%|██████████| 40/40 [00:02<00:00, 15.53it/s]\n"
     ]
    },
    {
     "name": "stdout",
     "output_type": "stream",
     "text": [
      "Train Loss: 0.00284 | Val Loss: 0.02108 | LR: 9.80e-05\n",
      "\n",
      "Epoch 774/1000\n"
     ]
    },
    {
     "name": "stderr",
     "output_type": "stream",
     "text": [
      "Training: 100%|██████████| 313/313 [00:44<00:00,  7.01it/s]\n",
      "Validating: 100%|██████████| 40/40 [00:02<00:00, 15.54it/s]\n"
     ]
    },
    {
     "name": "stdout",
     "output_type": "stream",
     "text": [
      "Train Loss: 0.00285 | Val Loss: 0.02114 | LR: 9.79e-05\n",
      "\n",
      "Epoch 775/1000\n"
     ]
    },
    {
     "name": "stderr",
     "output_type": "stream",
     "text": [
      "Training: 100%|██████████| 313/313 [00:45<00:00,  6.88it/s]\n",
      "Validating: 100%|██████████| 40/40 [00:02<00:00, 15.40it/s]\n"
     ]
    },
    {
     "name": "stdout",
     "output_type": "stream",
     "text": [
      "Train Loss: 0.00288 | Val Loss: 0.02127 | LR: 9.78e-05\n",
      "\n",
      "Epoch 776/1000\n"
     ]
    },
    {
     "name": "stderr",
     "output_type": "stream",
     "text": [
      "Training: 100%|██████████| 313/313 [00:44<00:00,  6.99it/s]\n",
      "Validating: 100%|██████████| 40/40 [00:02<00:00, 15.37it/s]\n"
     ]
    },
    {
     "name": "stdout",
     "output_type": "stream",
     "text": [
      "Train Loss: 0.00285 | Val Loss: 0.02117 | LR: 9.78e-05\n",
      "\n",
      "Epoch 777/1000\n"
     ]
    },
    {
     "name": "stderr",
     "output_type": "stream",
     "text": [
      "Training: 100%|██████████| 313/313 [00:44<00:00,  6.99it/s]\n",
      "Validating: 100%|██████████| 40/40 [00:02<00:00, 15.50it/s]\n"
     ]
    },
    {
     "name": "stdout",
     "output_type": "stream",
     "text": [
      "Train Loss: 0.00284 | Val Loss: 0.02110 | LR: 9.77e-05\n",
      "\n",
      "Epoch 778/1000\n"
     ]
    },
    {
     "name": "stderr",
     "output_type": "stream",
     "text": [
      "Training: 100%|██████████| 313/313 [00:44<00:00,  6.98it/s]\n",
      "Validating: 100%|██████████| 40/40 [00:02<00:00, 15.41it/s]\n"
     ]
    },
    {
     "name": "stdout",
     "output_type": "stream",
     "text": [
      "Train Loss: 0.00285 | Val Loss: 0.02114 | LR: 9.77e-05\n",
      "\n",
      "Epoch 779/1000\n"
     ]
    },
    {
     "name": "stderr",
     "output_type": "stream",
     "text": [
      "Training: 100%|██████████| 313/313 [00:44<00:00,  7.00it/s]\n",
      "Validating: 100%|██████████| 40/40 [00:02<00:00, 15.47it/s]\n"
     ]
    },
    {
     "name": "stdout",
     "output_type": "stream",
     "text": [
      "Train Loss: 0.00280 | Val Loss: 0.02116 | LR: 9.76e-05\n",
      "\n",
      "Epoch 780/1000\n"
     ]
    },
    {
     "name": "stderr",
     "output_type": "stream",
     "text": [
      "Training: 100%|██████████| 313/313 [00:44<00:00,  7.00it/s]\n",
      "Validating: 100%|██████████| 40/40 [00:02<00:00, 15.56it/s]\n"
     ]
    },
    {
     "name": "stdout",
     "output_type": "stream",
     "text": [
      "Train Loss: 0.00280 | Val Loss: 0.02124 | LR: 9.76e-05\n",
      "\n",
      "Epoch 781/1000\n"
     ]
    },
    {
     "name": "stderr",
     "output_type": "stream",
     "text": [
      "Training: 100%|██████████| 313/313 [00:44<00:00,  7.00it/s]\n",
      "Validating: 100%|██████████| 40/40 [00:02<00:00, 15.52it/s]\n"
     ]
    },
    {
     "name": "stdout",
     "output_type": "stream",
     "text": [
      "Train Loss: 0.00282 | Val Loss: 0.02102 | LR: 9.75e-05\n",
      "\n",
      "Epoch 782/1000\n"
     ]
    },
    {
     "name": "stderr",
     "output_type": "stream",
     "text": [
      "Training: 100%|██████████| 313/313 [00:44<00:00,  7.00it/s]\n",
      "Validating: 100%|██████████| 40/40 [00:02<00:00, 15.45it/s]\n"
     ]
    },
    {
     "name": "stdout",
     "output_type": "stream",
     "text": [
      "Train Loss: 0.00284 | Val Loss: 0.02105 | LR: 9.74e-05\n",
      "\n",
      "Epoch 783/1000\n"
     ]
    },
    {
     "name": "stderr",
     "output_type": "stream",
     "text": [
      "Training: 100%|██████████| 313/313 [00:44<00:00,  7.01it/s]\n",
      "Validating: 100%|██████████| 40/40 [00:02<00:00, 15.57it/s]\n"
     ]
    },
    {
     "name": "stdout",
     "output_type": "stream",
     "text": [
      "Train Loss: 0.00284 | Val Loss: 0.02107 | LR: 9.74e-05\n",
      "\n",
      "Epoch 784/1000\n"
     ]
    },
    {
     "name": "stderr",
     "output_type": "stream",
     "text": [
      "Training: 100%|██████████| 313/313 [00:44<00:00,  7.01it/s]\n",
      "Validating: 100%|██████████| 40/40 [00:02<00:00, 15.53it/s]\n"
     ]
    },
    {
     "name": "stdout",
     "output_type": "stream",
     "text": [
      "Train Loss: 0.00284 | Val Loss: 0.02107 | LR: 9.73e-05\n",
      "\n",
      "Epoch 785/1000\n"
     ]
    },
    {
     "name": "stderr",
     "output_type": "stream",
     "text": [
      "Training: 100%|██████████| 313/313 [00:44<00:00,  7.01it/s]\n",
      "Validating: 100%|██████████| 40/40 [00:02<00:00, 15.53it/s]\n"
     ]
    },
    {
     "name": "stdout",
     "output_type": "stream",
     "text": [
      "Train Loss: 0.00284 | Val Loss: 0.02116 | LR: 9.72e-05\n",
      "\n",
      "Epoch 786/1000\n"
     ]
    },
    {
     "name": "stderr",
     "output_type": "stream",
     "text": [
      "Training: 100%|██████████| 313/313 [00:44<00:00,  7.01it/s]\n",
      "Validating: 100%|██████████| 40/40 [00:02<00:00, 15.55it/s]\n"
     ]
    },
    {
     "name": "stdout",
     "output_type": "stream",
     "text": [
      "Train Loss: 0.00283 | Val Loss: 0.02118 | LR: 9.72e-05\n",
      "\n",
      "Epoch 787/1000\n"
     ]
    },
    {
     "name": "stderr",
     "output_type": "stream",
     "text": [
      "Training: 100%|██████████| 313/313 [00:44<00:00,  7.02it/s]\n",
      "Validating: 100%|██████████| 40/40 [00:02<00:00, 15.52it/s]\n"
     ]
    },
    {
     "name": "stdout",
     "output_type": "stream",
     "text": [
      "Train Loss: 0.00282 | Val Loss: 0.02125 | LR: 9.71e-05\n",
      "\n",
      "Epoch 788/1000\n"
     ]
    },
    {
     "name": "stderr",
     "output_type": "stream",
     "text": [
      "Training: 100%|██████████| 313/313 [00:44<00:00,  7.02it/s]\n",
      "Validating: 100%|██████████| 40/40 [00:02<00:00, 15.52it/s]\n"
     ]
    },
    {
     "name": "stdout",
     "output_type": "stream",
     "text": [
      "Train Loss: 0.00280 | Val Loss: 0.02123 | LR: 9.70e-05\n",
      "\n",
      "Epoch 789/1000\n"
     ]
    },
    {
     "name": "stderr",
     "output_type": "stream",
     "text": [
      "Training: 100%|██████████| 313/313 [00:44<00:00,  7.02it/s]\n",
      "Validating: 100%|██████████| 40/40 [00:02<00:00, 15.59it/s]\n"
     ]
    },
    {
     "name": "stdout",
     "output_type": "stream",
     "text": [
      "Train Loss: 0.00283 | Val Loss: 0.02121 | LR: 9.70e-05\n",
      "\n",
      "Epoch 790/1000\n"
     ]
    },
    {
     "name": "stderr",
     "output_type": "stream",
     "text": [
      "Training: 100%|██████████| 313/313 [00:45<00:00,  6.89it/s]\n",
      "Validating: 100%|██████████| 40/40 [00:02<00:00, 15.40it/s]\n"
     ]
    },
    {
     "name": "stdout",
     "output_type": "stream",
     "text": [
      "Train Loss: 0.00282 | Val Loss: 0.02123 | LR: 9.69e-05\n",
      "\n",
      "Epoch 791/1000\n"
     ]
    },
    {
     "name": "stderr",
     "output_type": "stream",
     "text": [
      "Training: 100%|██████████| 313/313 [00:44<00:00,  6.99it/s]\n",
      "Validating: 100%|██████████| 40/40 [00:02<00:00, 15.38it/s]\n"
     ]
    },
    {
     "name": "stdout",
     "output_type": "stream",
     "text": [
      "Train Loss: 0.00283 | Val Loss: 0.02112 | LR: 9.68e-05\n",
      "\n",
      "Epoch 792/1000\n"
     ]
    },
    {
     "name": "stderr",
     "output_type": "stream",
     "text": [
      "Training: 100%|██████████| 313/313 [00:44<00:00,  7.00it/s]\n",
      "Validating: 100%|██████████| 40/40 [00:02<00:00, 15.48it/s]\n"
     ]
    },
    {
     "name": "stdout",
     "output_type": "stream",
     "text": [
      "Train Loss: 0.00282 | Val Loss: 0.02107 | LR: 9.68e-05\n",
      "\n",
      "Epoch 793/1000\n"
     ]
    },
    {
     "name": "stderr",
     "output_type": "stream",
     "text": [
      "Training: 100%|██████████| 313/313 [00:44<00:00,  7.00it/s]\n",
      "Validating: 100%|██████████| 40/40 [00:02<00:00, 15.45it/s]\n"
     ]
    },
    {
     "name": "stdout",
     "output_type": "stream",
     "text": [
      "Train Loss: 0.00281 | Val Loss: 0.02111 | LR: 9.67e-05\n",
      "\n",
      "Epoch 794/1000\n"
     ]
    },
    {
     "name": "stderr",
     "output_type": "stream",
     "text": [
      "Training: 100%|██████████| 313/313 [00:44<00:00,  7.01it/s]\n",
      "Validating: 100%|██████████| 40/40 [00:02<00:00, 15.49it/s]\n"
     ]
    },
    {
     "name": "stdout",
     "output_type": "stream",
     "text": [
      "Train Loss: 0.00282 | Val Loss: 0.02111 | LR: 9.66e-05\n",
      "\n",
      "Epoch 795/1000\n"
     ]
    },
    {
     "name": "stderr",
     "output_type": "stream",
     "text": [
      "Training: 100%|██████████| 313/313 [00:44<00:00,  7.00it/s]\n",
      "Validating: 100%|██████████| 40/40 [00:02<00:00, 15.54it/s]\n"
     ]
    },
    {
     "name": "stdout",
     "output_type": "stream",
     "text": [
      "Train Loss: 0.00286 | Val Loss: 0.02112 | LR: 9.66e-05\n",
      "\n",
      "Epoch 796/1000\n"
     ]
    },
    {
     "name": "stderr",
     "output_type": "stream",
     "text": [
      "Training: 100%|██████████| 313/313 [00:44<00:00,  7.01it/s]\n",
      "Validating: 100%|██████████| 40/40 [00:02<00:00, 15.49it/s]\n"
     ]
    },
    {
     "name": "stdout",
     "output_type": "stream",
     "text": [
      "Train Loss: 0.00281 | Val Loss: 0.02106 | LR: 9.65e-05\n",
      "\n",
      "Epoch 797/1000\n"
     ]
    },
    {
     "name": "stderr",
     "output_type": "stream",
     "text": [
      "Training: 100%|██████████| 313/313 [00:44<00:00,  7.00it/s]\n",
      "Validating: 100%|██████████| 40/40 [00:02<00:00, 15.54it/s]\n"
     ]
    },
    {
     "name": "stdout",
     "output_type": "stream",
     "text": [
      "Train Loss: 0.00278 | Val Loss: 0.02108 | LR: 9.64e-05\n",
      "\n",
      "Epoch 798/1000\n"
     ]
    },
    {
     "name": "stderr",
     "output_type": "stream",
     "text": [
      "Training: 100%|██████████| 313/313 [00:44<00:00,  7.01it/s]\n",
      "Validating: 100%|██████████| 40/40 [00:02<00:00, 15.58it/s]\n"
     ]
    },
    {
     "name": "stdout",
     "output_type": "stream",
     "text": [
      "Train Loss: 0.00284 | Val Loss: 0.02126 | LR: 9.63e-05\n",
      "\n",
      "Epoch 799/1000\n"
     ]
    },
    {
     "name": "stderr",
     "output_type": "stream",
     "text": [
      "Training: 100%|██████████| 313/313 [00:44<00:00,  7.02it/s]\n",
      "Validating: 100%|██████████| 40/40 [00:02<00:00, 15.61it/s]\n"
     ]
    },
    {
     "name": "stdout",
     "output_type": "stream",
     "text": [
      "Train Loss: 0.00283 | Val Loss: 0.02104 | LR: 9.63e-05\n",
      "\n",
      "Epoch 800/1000\n"
     ]
    },
    {
     "name": "stderr",
     "output_type": "stream",
     "text": [
      "Training: 100%|██████████| 313/313 [00:44<00:00,  7.01it/s]\n",
      "Validating: 100%|██████████| 40/40 [00:02<00:00, 15.53it/s]\n"
     ]
    },
    {
     "name": "stdout",
     "output_type": "stream",
     "text": [
      "Train Loss: 0.00284 | Val Loss: 0.02109 | LR: 9.62e-05\n",
      "\n",
      "Epoch 801/1000\n"
     ]
    },
    {
     "name": "stderr",
     "output_type": "stream",
     "text": [
      "Training: 100%|██████████| 313/313 [00:44<00:00,  7.00it/s]\n",
      "Validating: 100%|██████████| 40/40 [00:02<00:00, 15.52it/s]\n"
     ]
    },
    {
     "name": "stdout",
     "output_type": "stream",
     "text": [
      "Train Loss: 0.00283 | Val Loss: 0.02129 | LR: 9.61e-05\n",
      "\n",
      "Epoch 802/1000\n"
     ]
    },
    {
     "name": "stderr",
     "output_type": "stream",
     "text": [
      "Training: 100%|██████████| 313/313 [00:44<00:00,  7.01it/s]\n",
      "Validating: 100%|██████████| 40/40 [00:02<00:00, 15.57it/s]\n"
     ]
    },
    {
     "name": "stdout",
     "output_type": "stream",
     "text": [
      "Train Loss: 0.00281 | Val Loss: 0.02121 | LR: 9.60e-05\n",
      "\n",
      "Epoch 803/1000\n"
     ]
    },
    {
     "name": "stderr",
     "output_type": "stream",
     "text": [
      "Training: 100%|██████████| 313/313 [00:44<00:00,  7.01it/s]\n",
      "Validating: 100%|██████████| 40/40 [00:02<00:00, 15.49it/s]\n"
     ]
    },
    {
     "name": "stdout",
     "output_type": "stream",
     "text": [
      "Train Loss: 0.00279 | Val Loss: 0.02121 | LR: 9.60e-05\n",
      "\n",
      "Epoch 804/1000\n"
     ]
    },
    {
     "name": "stderr",
     "output_type": "stream",
     "text": [
      "Training: 100%|██████████| 313/313 [00:44<00:00,  7.01it/s]\n",
      "Validating: 100%|██████████| 40/40 [00:02<00:00, 15.54it/s]\n"
     ]
    },
    {
     "name": "stdout",
     "output_type": "stream",
     "text": [
      "Train Loss: 0.00283 | Val Loss: 0.02107 | LR: 9.59e-05\n",
      "\n",
      "Epoch 805/1000\n"
     ]
    },
    {
     "name": "stderr",
     "output_type": "stream",
     "text": [
      "Training: 100%|██████████| 313/313 [00:44<00:00,  7.01it/s]\n",
      "Validating: 100%|██████████| 40/40 [00:02<00:00, 15.50it/s]\n"
     ]
    },
    {
     "name": "stdout",
     "output_type": "stream",
     "text": [
      "Train Loss: 0.00282 | Val Loss: 0.02112 | LR: 9.58e-05\n",
      "\n",
      "Epoch 806/1000\n"
     ]
    },
    {
     "name": "stderr",
     "output_type": "stream",
     "text": [
      "Training: 100%|██████████| 313/313 [00:45<00:00,  6.88it/s]\n",
      "Validating: 100%|██████████| 40/40 [00:02<00:00, 15.39it/s]\n"
     ]
    },
    {
     "name": "stdout",
     "output_type": "stream",
     "text": [
      "Train Loss: 0.00282 | Val Loss: 0.02109 | LR: 9.57e-05\n",
      "\n",
      "Epoch 807/1000\n"
     ]
    },
    {
     "name": "stderr",
     "output_type": "stream",
     "text": [
      "Training: 100%|██████████| 313/313 [00:44<00:00,  6.98it/s]\n",
      "Validating: 100%|██████████| 40/40 [00:02<00:00, 15.39it/s]\n"
     ]
    },
    {
     "name": "stdout",
     "output_type": "stream",
     "text": [
      "Train Loss: 0.00282 | Val Loss: 0.02128 | LR: 9.57e-05\n",
      "\n",
      "Epoch 808/1000\n"
     ]
    },
    {
     "name": "stderr",
     "output_type": "stream",
     "text": [
      "Training: 100%|██████████| 313/313 [00:44<00:00,  6.98it/s]\n",
      "Validating: 100%|██████████| 40/40 [00:02<00:00, 15.46it/s]\n"
     ]
    },
    {
     "name": "stdout",
     "output_type": "stream",
     "text": [
      "Train Loss: 0.00278 | Val Loss: 0.02113 | LR: 9.56e-05\n",
      "\n",
      "Epoch 809/1000\n"
     ]
    },
    {
     "name": "stderr",
     "output_type": "stream",
     "text": [
      "Training: 100%|██████████| 313/313 [00:44<00:00,  6.98it/s]\n",
      "Validating: 100%|██████████| 40/40 [00:02<00:00, 15.46it/s]\n"
     ]
    },
    {
     "name": "stdout",
     "output_type": "stream",
     "text": [
      "Train Loss: 0.00280 | Val Loss: 0.02110 | LR: 9.55e-05\n",
      "\n",
      "Epoch 810/1000\n"
     ]
    },
    {
     "name": "stderr",
     "output_type": "stream",
     "text": [
      "Training: 100%|██████████| 313/313 [00:44<00:00,  6.99it/s]\n",
      "Validating: 100%|██████████| 40/40 [00:02<00:00, 15.41it/s]\n"
     ]
    },
    {
     "name": "stdout",
     "output_type": "stream",
     "text": [
      "Train Loss: 0.00279 | Val Loss: 0.02115 | LR: 9.54e-05\n",
      "\n",
      "Epoch 811/1000\n"
     ]
    },
    {
     "name": "stderr",
     "output_type": "stream",
     "text": [
      "Training: 100%|██████████| 313/313 [00:44<00:00,  6.99it/s]\n",
      "Validating: 100%|██████████| 40/40 [00:02<00:00, 15.53it/s]\n"
     ]
    },
    {
     "name": "stdout",
     "output_type": "stream",
     "text": [
      "Train Loss: 0.00282 | Val Loss: 0.02109 | LR: 9.53e-05\n",
      "\n",
      "Epoch 812/1000\n"
     ]
    },
    {
     "name": "stderr",
     "output_type": "stream",
     "text": [
      "Training: 100%|██████████| 313/313 [00:44<00:00,  7.01it/s]\n",
      "Validating: 100%|██████████| 40/40 [00:02<00:00, 15.47it/s]\n"
     ]
    },
    {
     "name": "stdout",
     "output_type": "stream",
     "text": [
      "Train Loss: 0.00284 | Val Loss: 0.02105 | LR: 9.52e-05\n",
      "\n",
      "Epoch 813/1000\n"
     ]
    },
    {
     "name": "stderr",
     "output_type": "stream",
     "text": [
      "Training: 100%|██████████| 313/313 [00:44<00:00,  7.01it/s]\n",
      "Validating: 100%|██████████| 40/40 [00:02<00:00, 15.49it/s]\n"
     ]
    },
    {
     "name": "stdout",
     "output_type": "stream",
     "text": [
      "Train Loss: 0.00282 | Val Loss: 0.02111 | LR: 9.52e-05\n",
      "\n",
      "Epoch 814/1000\n"
     ]
    },
    {
     "name": "stderr",
     "output_type": "stream",
     "text": [
      "Training: 100%|██████████| 313/313 [00:44<00:00,  7.00it/s]\n",
      "Validating: 100%|██████████| 40/40 [00:02<00:00, 15.45it/s]\n"
     ]
    },
    {
     "name": "stdout",
     "output_type": "stream",
     "text": [
      "Train Loss: 0.00280 | Val Loss: 0.02125 | LR: 9.51e-05\n",
      "\n",
      "Epoch 815/1000\n"
     ]
    },
    {
     "name": "stderr",
     "output_type": "stream",
     "text": [
      "Training: 100%|██████████| 313/313 [00:44<00:00,  7.00it/s]\n",
      "Validating: 100%|██████████| 40/40 [00:02<00:00, 15.49it/s]\n"
     ]
    },
    {
     "name": "stdout",
     "output_type": "stream",
     "text": [
      "Train Loss: 0.00281 | Val Loss: 0.02135 | LR: 9.50e-05\n",
      "\n",
      "Epoch 816/1000\n"
     ]
    },
    {
     "name": "stderr",
     "output_type": "stream",
     "text": [
      "Training: 100%|██████████| 313/313 [00:44<00:00,  7.01it/s]\n",
      "Validating: 100%|██████████| 40/40 [00:02<00:00, 15.56it/s]\n"
     ]
    },
    {
     "name": "stdout",
     "output_type": "stream",
     "text": [
      "Train Loss: 0.00281 | Val Loss: 0.02122 | LR: 9.49e-05\n",
      "\n",
      "Epoch 817/1000\n"
     ]
    },
    {
     "name": "stderr",
     "output_type": "stream",
     "text": [
      "Training: 100%|██████████| 313/313 [00:44<00:00,  7.01it/s]\n",
      "Validating: 100%|██████████| 40/40 [00:02<00:00, 15.53it/s]\n"
     ]
    },
    {
     "name": "stdout",
     "output_type": "stream",
     "text": [
      "Train Loss: 0.00277 | Val Loss: 0.02114 | LR: 9.48e-05\n",
      "\n",
      "Epoch 818/1000\n"
     ]
    },
    {
     "name": "stderr",
     "output_type": "stream",
     "text": [
      "Training: 100%|██████████| 313/313 [00:44<00:00,  7.01it/s]\n",
      "Validating: 100%|██████████| 40/40 [00:02<00:00, 15.50it/s]\n"
     ]
    },
    {
     "name": "stdout",
     "output_type": "stream",
     "text": [
      "Train Loss: 0.00277 | Val Loss: 0.02123 | LR: 9.47e-05\n",
      "\n",
      "Epoch 819/1000\n"
     ]
    },
    {
     "name": "stderr",
     "output_type": "stream",
     "text": [
      "Training: 100%|██████████| 313/313 [00:44<00:00,  7.01it/s]\n",
      "Validating: 100%|██████████| 40/40 [00:02<00:00, 15.53it/s]\n"
     ]
    },
    {
     "name": "stdout",
     "output_type": "stream",
     "text": [
      "Train Loss: 0.00283 | Val Loss: 0.02122 | LR: 9.46e-05\n",
      "\n",
      "Epoch 820/1000\n"
     ]
    },
    {
     "name": "stderr",
     "output_type": "stream",
     "text": [
      "Training: 100%|██████████| 313/313 [00:44<00:00,  7.01it/s]\n",
      "Validating: 100%|██████████| 40/40 [00:02<00:00, 15.54it/s]\n"
     ]
    },
    {
     "name": "stdout",
     "output_type": "stream",
     "text": [
      "Train Loss: 0.00279 | Val Loss: 0.02102 | LR: 9.46e-05\n",
      "\n",
      "Epoch 821/1000\n"
     ]
    },
    {
     "name": "stderr",
     "output_type": "stream",
     "text": [
      "Training: 100%|██████████| 313/313 [00:44<00:00,  7.02it/s]\n",
      "Validating: 100%|██████████| 40/40 [00:02<00:00, 15.55it/s]\n"
     ]
    },
    {
     "name": "stdout",
     "output_type": "stream",
     "text": [
      "Train Loss: 0.00281 | Val Loss: 0.02116 | LR: 9.45e-05\n",
      "\n",
      "Epoch 822/1000\n"
     ]
    },
    {
     "name": "stderr",
     "output_type": "stream",
     "text": [
      "Training: 100%|██████████| 313/313 [00:45<00:00,  6.87it/s]\n",
      "Validating: 100%|██████████| 40/40 [00:02<00:00, 15.32it/s]\n"
     ]
    },
    {
     "name": "stdout",
     "output_type": "stream",
     "text": [
      "Train Loss: 0.00281 | Val Loss: 0.02108 | LR: 9.44e-05\n",
      "\n",
      "Epoch 823/1000\n"
     ]
    },
    {
     "name": "stderr",
     "output_type": "stream",
     "text": [
      "Training: 100%|██████████| 313/313 [00:44<00:00,  6.98it/s]\n",
      "Validating: 100%|██████████| 40/40 [00:02<00:00, 15.41it/s]\n"
     ]
    },
    {
     "name": "stdout",
     "output_type": "stream",
     "text": [
      "Train Loss: 0.00277 | Val Loss: 0.02117 | LR: 9.43e-05\n",
      "\n",
      "Epoch 824/1000\n"
     ]
    },
    {
     "name": "stderr",
     "output_type": "stream",
     "text": [
      "Training: 100%|██████████| 313/313 [00:44<00:00,  6.99it/s]\n",
      "Validating: 100%|██████████| 40/40 [00:02<00:00, 15.37it/s]\n"
     ]
    },
    {
     "name": "stdout",
     "output_type": "stream",
     "text": [
      "Train Loss: 0.00280 | Val Loss: 0.02118 | LR: 9.42e-05\n",
      "\n",
      "Epoch 825/1000\n"
     ]
    },
    {
     "name": "stderr",
     "output_type": "stream",
     "text": [
      "Training: 100%|██████████| 313/313 [00:44<00:00,  6.99it/s]\n",
      "Validating: 100%|██████████| 40/40 [00:02<00:00, 15.44it/s]\n"
     ]
    },
    {
     "name": "stdout",
     "output_type": "stream",
     "text": [
      "Train Loss: 0.00284 | Val Loss: 0.02118 | LR: 9.41e-05\n",
      "\n",
      "Epoch 826/1000\n"
     ]
    },
    {
     "name": "stderr",
     "output_type": "stream",
     "text": [
      "Training: 100%|██████████| 313/313 [00:44<00:00,  7.00it/s]\n",
      "Validating: 100%|██████████| 40/40 [00:02<00:00, 15.41it/s]\n"
     ]
    },
    {
     "name": "stdout",
     "output_type": "stream",
     "text": [
      "Train Loss: 0.00282 | Val Loss: 0.02126 | LR: 9.40e-05\n",
      "\n",
      "Epoch 827/1000\n"
     ]
    },
    {
     "name": "stderr",
     "output_type": "stream",
     "text": [
      "Training: 100%|██████████| 313/313 [00:44<00:00,  6.99it/s]\n",
      "Validating: 100%|██████████| 40/40 [00:02<00:00, 15.53it/s]\n"
     ]
    },
    {
     "name": "stdout",
     "output_type": "stream",
     "text": [
      "Train Loss: 0.00278 | Val Loss: 0.02115 | LR: 9.39e-05\n",
      "\n",
      "Epoch 828/1000\n"
     ]
    },
    {
     "name": "stderr",
     "output_type": "stream",
     "text": [
      "Training: 100%|██████████| 313/313 [00:44<00:00,  7.01it/s]\n",
      "Validating: 100%|██████████| 40/40 [00:02<00:00, 15.51it/s]\n"
     ]
    },
    {
     "name": "stdout",
     "output_type": "stream",
     "text": [
      "Train Loss: 0.00281 | Val Loss: 0.02131 | LR: 9.38e-05\n",
      "\n",
      "Epoch 829/1000\n"
     ]
    },
    {
     "name": "stderr",
     "output_type": "stream",
     "text": [
      "Training: 100%|██████████| 313/313 [00:44<00:00,  7.00it/s]\n",
      "Validating: 100%|██████████| 40/40 [00:02<00:00, 15.60it/s]\n"
     ]
    },
    {
     "name": "stdout",
     "output_type": "stream",
     "text": [
      "Train Loss: 0.00278 | Val Loss: 0.02118 | LR: 9.37e-05\n",
      "\n",
      "Epoch 830/1000\n"
     ]
    },
    {
     "name": "stderr",
     "output_type": "stream",
     "text": [
      "Training: 100%|██████████| 313/313 [00:44<00:00,  7.01it/s]\n",
      "Validating: 100%|██████████| 40/40 [00:02<00:00, 15.59it/s]\n"
     ]
    },
    {
     "name": "stdout",
     "output_type": "stream",
     "text": [
      "Train Loss: 0.00280 | Val Loss: 0.02113 | LR: 9.36e-05\n",
      "\n",
      "Epoch 831/1000\n"
     ]
    },
    {
     "name": "stderr",
     "output_type": "stream",
     "text": [
      "Training: 100%|██████████| 313/313 [00:44<00:00,  7.01it/s]\n",
      "Validating: 100%|██████████| 40/40 [00:02<00:00, 15.56it/s]\n"
     ]
    },
    {
     "name": "stdout",
     "output_type": "stream",
     "text": [
      "Train Loss: 0.00280 | Val Loss: 0.02117 | LR: 9.35e-05\n",
      "\n",
      "Epoch 832/1000\n"
     ]
    },
    {
     "name": "stderr",
     "output_type": "stream",
     "text": [
      "Training: 100%|██████████| 313/313 [00:44<00:00,  7.01it/s]\n",
      "Validating: 100%|██████████| 40/40 [00:02<00:00, 15.47it/s]\n"
     ]
    },
    {
     "name": "stdout",
     "output_type": "stream",
     "text": [
      "Train Loss: 0.00280 | Val Loss: 0.02115 | LR: 9.34e-05\n",
      "\n",
      "Epoch 833/1000\n"
     ]
    },
    {
     "name": "stderr",
     "output_type": "stream",
     "text": [
      "Training: 100%|██████████| 313/313 [00:44<00:00,  7.01it/s]\n",
      "Validating: 100%|██████████| 40/40 [00:02<00:00, 15.59it/s]\n"
     ]
    },
    {
     "name": "stdout",
     "output_type": "stream",
     "text": [
      "Train Loss: 0.00278 | Val Loss: 0.02114 | LR: 9.33e-05\n",
      "\n",
      "Epoch 834/1000\n"
     ]
    },
    {
     "name": "stderr",
     "output_type": "stream",
     "text": [
      "Training: 100%|██████████| 313/313 [00:44<00:00,  7.02it/s]\n",
      "Validating: 100%|██████████| 40/40 [00:02<00:00, 15.59it/s]\n"
     ]
    },
    {
     "name": "stdout",
     "output_type": "stream",
     "text": [
      "Train Loss: 0.00276 | Val Loss: 0.02121 | LR: 9.32e-05\n",
      "\n",
      "Epoch 835/1000\n"
     ]
    },
    {
     "name": "stderr",
     "output_type": "stream",
     "text": [
      "Training: 100%|██████████| 313/313 [00:44<00:00,  7.02it/s]\n",
      "Validating: 100%|██████████| 40/40 [00:02<00:00, 15.59it/s]\n"
     ]
    },
    {
     "name": "stdout",
     "output_type": "stream",
     "text": [
      "Train Loss: 0.00278 | Val Loss: 0.02110 | LR: 9.31e-05\n",
      "\n",
      "Epoch 836/1000\n"
     ]
    },
    {
     "name": "stderr",
     "output_type": "stream",
     "text": [
      "Training: 100%|██████████| 313/313 [00:44<00:00,  7.01it/s]\n",
      "Validating: 100%|██████████| 40/40 [00:02<00:00, 15.55it/s]\n"
     ]
    },
    {
     "name": "stdout",
     "output_type": "stream",
     "text": [
      "Train Loss: 0.00278 | Val Loss: 0.02119 | LR: 9.30e-05\n",
      "\n",
      "Epoch 837/1000\n"
     ]
    },
    {
     "name": "stderr",
     "output_type": "stream",
     "text": [
      "Training: 100%|██████████| 313/313 [00:44<00:00,  7.02it/s]\n",
      "Validating: 100%|██████████| 40/40 [00:02<00:00, 15.59it/s]\n"
     ]
    },
    {
     "name": "stdout",
     "output_type": "stream",
     "text": [
      "Train Loss: 0.00279 | Val Loss: 0.02118 | LR: 9.29e-05\n",
      "\n",
      "Epoch 838/1000\n"
     ]
    },
    {
     "name": "stderr",
     "output_type": "stream",
     "text": [
      "Training: 100%|██████████| 313/313 [00:45<00:00,  6.89it/s]\n",
      "Validating: 100%|██████████| 40/40 [00:02<00:00, 15.32it/s]\n"
     ]
    },
    {
     "name": "stdout",
     "output_type": "stream",
     "text": [
      "Train Loss: 0.00284 | Val Loss: 0.02129 | LR: 9.28e-05\n",
      "\n",
      "Epoch 839/1000\n"
     ]
    },
    {
     "name": "stderr",
     "output_type": "stream",
     "text": [
      "Training: 100%|██████████| 313/313 [00:44<00:00,  6.98it/s]\n",
      "Validating: 100%|██████████| 40/40 [00:02<00:00, 15.48it/s]\n"
     ]
    },
    {
     "name": "stdout",
     "output_type": "stream",
     "text": [
      "Train Loss: 0.00282 | Val Loss: 0.02124 | LR: 9.27e-05\n",
      "\n",
      "Epoch 840/1000\n"
     ]
    },
    {
     "name": "stderr",
     "output_type": "stream",
     "text": [
      "Training: 100%|██████████| 313/313 [00:44<00:00,  6.99it/s]\n",
      "Validating: 100%|██████████| 40/40 [00:02<00:00, 15.47it/s]\n"
     ]
    },
    {
     "name": "stdout",
     "output_type": "stream",
     "text": [
      "Train Loss: 0.00276 | Val Loss: 0.02119 | LR: 9.26e-05\n",
      "\n",
      "Epoch 841/1000\n"
     ]
    },
    {
     "name": "stderr",
     "output_type": "stream",
     "text": [
      "Training: 100%|██████████| 313/313 [00:44<00:00,  7.00it/s]\n",
      "Validating: 100%|██████████| 40/40 [00:02<00:00, 15.50it/s]\n"
     ]
    },
    {
     "name": "stdout",
     "output_type": "stream",
     "text": [
      "Train Loss: 0.00282 | Val Loss: 0.02114 | LR: 9.25e-05\n",
      "\n",
      "Epoch 842/1000\n"
     ]
    },
    {
     "name": "stderr",
     "output_type": "stream",
     "text": [
      "Training: 100%|██████████| 313/313 [00:44<00:00,  7.01it/s]\n",
      "Validating: 100%|██████████| 40/40 [00:02<00:00, 15.53it/s]\n"
     ]
    },
    {
     "name": "stdout",
     "output_type": "stream",
     "text": [
      "Train Loss: 0.00277 | Val Loss: 0.02118 | LR: 9.24e-05\n",
      "\n",
      "Epoch 843/1000\n"
     ]
    },
    {
     "name": "stderr",
     "output_type": "stream",
     "text": [
      "Training: 100%|██████████| 313/313 [00:44<00:00,  7.01it/s]\n",
      "Validating: 100%|██████████| 40/40 [00:02<00:00, 15.60it/s]\n"
     ]
    },
    {
     "name": "stdout",
     "output_type": "stream",
     "text": [
      "Train Loss: 0.00277 | Val Loss: 0.02122 | LR: 9.23e-05\n",
      "\n",
      "Epoch 844/1000\n"
     ]
    },
    {
     "name": "stderr",
     "output_type": "stream",
     "text": [
      "Training: 100%|██████████| 313/313 [00:44<00:00,  7.01it/s]\n",
      "Validating: 100%|██████████| 40/40 [00:02<00:00, 15.59it/s]\n"
     ]
    },
    {
     "name": "stdout",
     "output_type": "stream",
     "text": [
      "Train Loss: 0.00277 | Val Loss: 0.02104 | LR: 9.22e-05\n",
      "\n",
      "Epoch 845/1000\n"
     ]
    },
    {
     "name": "stderr",
     "output_type": "stream",
     "text": [
      "Training: 100%|██████████| 313/313 [00:44<00:00,  7.00it/s]\n",
      "Validating: 100%|██████████| 40/40 [00:02<00:00, 15.56it/s]\n"
     ]
    },
    {
     "name": "stdout",
     "output_type": "stream",
     "text": [
      "Train Loss: 0.00275 | Val Loss: 0.02119 | LR: 9.21e-05\n",
      "\n",
      "Epoch 846/1000\n"
     ]
    },
    {
     "name": "stderr",
     "output_type": "stream",
     "text": [
      "Training: 100%|██████████| 313/313 [00:44<00:00,  7.01it/s]\n",
      "Validating: 100%|██████████| 40/40 [00:02<00:00, 15.50it/s]\n"
     ]
    },
    {
     "name": "stdout",
     "output_type": "stream",
     "text": [
      "Train Loss: 0.00277 | Val Loss: 0.02115 | LR: 9.20e-05\n",
      "\n",
      "Epoch 847/1000\n"
     ]
    },
    {
     "name": "stderr",
     "output_type": "stream",
     "text": [
      "Training: 100%|██████████| 313/313 [00:44<00:00,  7.01it/s]\n",
      "Validating: 100%|██████████| 40/40 [00:02<00:00, 15.55it/s]\n"
     ]
    },
    {
     "name": "stdout",
     "output_type": "stream",
     "text": [
      "Train Loss: 0.00278 | Val Loss: 0.02137 | LR: 9.19e-05\n",
      "\n",
      "Epoch 848/1000\n"
     ]
    },
    {
     "name": "stderr",
     "output_type": "stream",
     "text": [
      "Training: 100%|██████████| 313/313 [00:44<00:00,  7.01it/s]\n",
      "Validating: 100%|██████████| 40/40 [00:02<00:00, 15.54it/s]\n"
     ]
    },
    {
     "name": "stdout",
     "output_type": "stream",
     "text": [
      "Train Loss: 0.00278 | Val Loss: 0.02128 | LR: 9.18e-05\n",
      "\n",
      "Epoch 849/1000\n"
     ]
    },
    {
     "name": "stderr",
     "output_type": "stream",
     "text": [
      "Training: 100%|██████████| 313/313 [00:44<00:00,  7.01it/s]\n",
      "Validating: 100%|██████████| 40/40 [00:02<00:00, 15.51it/s]\n"
     ]
    },
    {
     "name": "stdout",
     "output_type": "stream",
     "text": [
      "Train Loss: 0.00278 | Val Loss: 0.02125 | LR: 9.17e-05\n",
      "\n",
      "Epoch 850/1000\n"
     ]
    },
    {
     "name": "stderr",
     "output_type": "stream",
     "text": [
      "Training: 100%|██████████| 313/313 [00:44<00:00,  7.01it/s]\n",
      "Validating: 100%|██████████| 40/40 [00:02<00:00, 15.51it/s]\n"
     ]
    },
    {
     "name": "stdout",
     "output_type": "stream",
     "text": [
      "Train Loss: 0.00281 | Val Loss: 0.02115 | LR: 9.16e-05\n",
      "\n",
      "Epoch 851/1000\n"
     ]
    },
    {
     "name": "stderr",
     "output_type": "stream",
     "text": [
      "Training: 100%|██████████| 313/313 [00:44<00:00,  7.00it/s]\n",
      "Validating: 100%|██████████| 40/40 [00:02<00:00, 15.46it/s]\n"
     ]
    },
    {
     "name": "stdout",
     "output_type": "stream",
     "text": [
      "Train Loss: 0.00276 | Val Loss: 0.02132 | LR: 9.15e-05\n",
      "\n",
      "Epoch 852/1000\n"
     ]
    },
    {
     "name": "stderr",
     "output_type": "stream",
     "text": [
      "Training: 100%|██████████| 313/313 [00:44<00:00,  7.01it/s]\n",
      "Validating: 100%|██████████| 40/40 [00:02<00:00, 15.49it/s]\n"
     ]
    },
    {
     "name": "stdout",
     "output_type": "stream",
     "text": [
      "Train Loss: 0.00277 | Val Loss: 0.02115 | LR: 9.14e-05\n",
      "\n",
      "Epoch 853/1000\n"
     ]
    },
    {
     "name": "stderr",
     "output_type": "stream",
     "text": [
      "Training: 100%|██████████| 313/313 [00:44<00:00,  7.01it/s]\n",
      "Validating: 100%|██████████| 40/40 [00:02<00:00, 15.52it/s]\n"
     ]
    },
    {
     "name": "stdout",
     "output_type": "stream",
     "text": [
      "Train Loss: 0.00276 | Val Loss: 0.02118 | LR: 9.12e-05\n",
      "\n",
      "Epoch 854/1000\n"
     ]
    },
    {
     "name": "stderr",
     "output_type": "stream",
     "text": [
      "Training: 100%|██████████| 313/313 [00:44<00:00,  7.02it/s]\n",
      "Validating: 100%|██████████| 40/40 [00:02<00:00, 15.60it/s]\n"
     ]
    },
    {
     "name": "stdout",
     "output_type": "stream",
     "text": [
      "Train Loss: 0.00280 | Val Loss: 0.02116 | LR: 9.11e-05\n",
      "\n",
      "Epoch 855/1000\n"
     ]
    },
    {
     "name": "stderr",
     "output_type": "stream",
     "text": [
      "Training: 100%|██████████| 313/313 [00:45<00:00,  6.88it/s]\n",
      "Validating: 100%|██████████| 40/40 [00:02<00:00, 15.39it/s]\n"
     ]
    },
    {
     "name": "stdout",
     "output_type": "stream",
     "text": [
      "Train Loss: 0.00276 | Val Loss: 0.02105 | LR: 9.10e-05\n",
      "\n",
      "Epoch 856/1000\n"
     ]
    },
    {
     "name": "stderr",
     "output_type": "stream",
     "text": [
      "Training: 100%|██████████| 313/313 [00:44<00:00,  6.98it/s]\n",
      "Validating: 100%|██████████| 40/40 [00:02<00:00, 15.43it/s]\n"
     ]
    },
    {
     "name": "stdout",
     "output_type": "stream",
     "text": [
      "Train Loss: 0.00279 | Val Loss: 0.02127 | LR: 9.09e-05\n",
      "\n",
      "Epoch 857/1000\n"
     ]
    },
    {
     "name": "stderr",
     "output_type": "stream",
     "text": [
      "Training: 100%|██████████| 313/313 [00:44<00:00,  6.99it/s]\n",
      "Validating: 100%|██████████| 40/40 [00:02<00:00, 15.48it/s]\n"
     ]
    },
    {
     "name": "stdout",
     "output_type": "stream",
     "text": [
      "Train Loss: 0.00277 | Val Loss: 0.02126 | LR: 9.08e-05\n",
      "\n",
      "Epoch 858/1000\n"
     ]
    },
    {
     "name": "stderr",
     "output_type": "stream",
     "text": [
      "Training: 100%|██████████| 313/313 [00:44<00:00,  7.00it/s]\n",
      "Validating: 100%|██████████| 40/40 [00:02<00:00, 15.52it/s]\n"
     ]
    },
    {
     "name": "stdout",
     "output_type": "stream",
     "text": [
      "Train Loss: 0.00275 | Val Loss: 0.02120 | LR: 9.07e-05\n",
      "\n",
      "Epoch 859/1000\n"
     ]
    },
    {
     "name": "stderr",
     "output_type": "stream",
     "text": [
      "Training: 100%|██████████| 313/313 [00:44<00:00,  7.00it/s]\n",
      "Validating: 100%|██████████| 40/40 [00:02<00:00, 15.51it/s]\n"
     ]
    },
    {
     "name": "stdout",
     "output_type": "stream",
     "text": [
      "Train Loss: 0.00274 | Val Loss: 0.02116 | LR: 9.06e-05\n",
      "\n",
      "Epoch 860/1000\n"
     ]
    },
    {
     "name": "stderr",
     "output_type": "stream",
     "text": [
      "Training: 100%|██████████| 313/313 [00:44<00:00,  7.00it/s]\n",
      "Validating: 100%|██████████| 40/40 [00:02<00:00, 15.54it/s]\n"
     ]
    },
    {
     "name": "stdout",
     "output_type": "stream",
     "text": [
      "Train Loss: 0.00276 | Val Loss: 0.02121 | LR: 9.05e-05\n",
      "\n",
      "Epoch 861/1000\n"
     ]
    },
    {
     "name": "stderr",
     "output_type": "stream",
     "text": [
      "Training: 100%|██████████| 313/313 [00:44<00:00,  7.01it/s]\n",
      "Validating: 100%|██████████| 40/40 [00:02<00:00, 15.53it/s]\n"
     ]
    },
    {
     "name": "stdout",
     "output_type": "stream",
     "text": [
      "Train Loss: 0.00278 | Val Loss: 0.02130 | LR: 9.03e-05\n",
      "\n",
      "Epoch 862/1000\n"
     ]
    },
    {
     "name": "stderr",
     "output_type": "stream",
     "text": [
      "Training: 100%|██████████| 313/313 [00:44<00:00,  7.01it/s]\n",
      "Validating: 100%|██████████| 40/40 [00:02<00:00, 15.58it/s]\n"
     ]
    },
    {
     "name": "stdout",
     "output_type": "stream",
     "text": [
      "Train Loss: 0.00277 | Val Loss: 0.02112 | LR: 9.02e-05\n",
      "\n",
      "Epoch 863/1000\n"
     ]
    },
    {
     "name": "stderr",
     "output_type": "stream",
     "text": [
      "Training: 100%|██████████| 313/313 [00:44<00:00,  7.00it/s]\n",
      "Validating: 100%|██████████| 40/40 [00:02<00:00, 15.49it/s]\n"
     ]
    },
    {
     "name": "stdout",
     "output_type": "stream",
     "text": [
      "Train Loss: 0.00274 | Val Loss: 0.02128 | LR: 9.01e-05\n",
      "\n",
      "Epoch 864/1000\n"
     ]
    },
    {
     "name": "stderr",
     "output_type": "stream",
     "text": [
      "Training: 100%|██████████| 313/313 [00:44<00:00,  7.01it/s]\n",
      "Validating: 100%|██████████| 40/40 [00:02<00:00, 15.58it/s]\n"
     ]
    },
    {
     "name": "stdout",
     "output_type": "stream",
     "text": [
      "Train Loss: 0.00279 | Val Loss: 0.02109 | LR: 9.00e-05\n",
      "\n",
      "Epoch 865/1000\n"
     ]
    },
    {
     "name": "stderr",
     "output_type": "stream",
     "text": [
      "Training: 100%|██████████| 313/313 [00:44<00:00,  7.01it/s]\n",
      "Validating: 100%|██████████| 40/40 [00:02<00:00, 15.50it/s]\n"
     ]
    },
    {
     "name": "stdout",
     "output_type": "stream",
     "text": [
      "Train Loss: 0.00278 | Val Loss: 0.02126 | LR: 8.99e-05\n",
      "\n",
      "Epoch 866/1000\n"
     ]
    },
    {
     "name": "stderr",
     "output_type": "stream",
     "text": [
      "Training: 100%|██████████| 313/313 [00:44<00:00,  7.01it/s]\n",
      "Validating: 100%|██████████| 40/40 [00:02<00:00, 15.48it/s]\n"
     ]
    },
    {
     "name": "stdout",
     "output_type": "stream",
     "text": [
      "Train Loss: 0.00278 | Val Loss: 0.02129 | LR: 8.97e-05\n",
      "\n",
      "Epoch 867/1000\n"
     ]
    },
    {
     "name": "stderr",
     "output_type": "stream",
     "text": [
      "Training: 100%|██████████| 313/313 [00:44<00:00,  7.01it/s]\n",
      "Validating: 100%|██████████| 40/40 [00:02<00:00, 15.51it/s]\n"
     ]
    },
    {
     "name": "stdout",
     "output_type": "stream",
     "text": [
      "Train Loss: 0.00275 | Val Loss: 0.02111 | LR: 8.96e-05\n",
      "\n",
      "Epoch 868/1000\n"
     ]
    },
    {
     "name": "stderr",
     "output_type": "stream",
     "text": [
      "Training: 100%|██████████| 313/313 [00:44<00:00,  7.00it/s]\n",
      "Validating: 100%|██████████| 40/40 [00:02<00:00, 15.56it/s]\n"
     ]
    },
    {
     "name": "stdout",
     "output_type": "stream",
     "text": [
      "Train Loss: 0.00276 | Val Loss: 0.02140 | LR: 8.95e-05\n",
      "\n",
      "Epoch 869/1000\n"
     ]
    },
    {
     "name": "stderr",
     "output_type": "stream",
     "text": [
      "Training: 100%|██████████| 313/313 [00:44<00:00,  7.01it/s]\n",
      "Validating: 100%|██████████| 40/40 [00:02<00:00, 15.51it/s]\n"
     ]
    },
    {
     "name": "stdout",
     "output_type": "stream",
     "text": [
      "Train Loss: 0.00275 | Val Loss: 0.02124 | LR: 8.94e-05\n",
      "\n",
      "Epoch 870/1000\n"
     ]
    },
    {
     "name": "stderr",
     "output_type": "stream",
     "text": [
      "Training: 100%|██████████| 313/313 [00:44<00:00,  7.00it/s]\n",
      "Validating: 100%|██████████| 40/40 [00:02<00:00, 15.54it/s]\n"
     ]
    },
    {
     "name": "stdout",
     "output_type": "stream",
     "text": [
      "Train Loss: 0.00277 | Val Loss: 0.02126 | LR: 8.93e-05\n",
      "\n",
      "Epoch 871/1000\n"
     ]
    },
    {
     "name": "stderr",
     "output_type": "stream",
     "text": [
      "Training: 100%|██████████| 313/313 [00:44<00:00,  7.02it/s]\n",
      "Validating: 100%|██████████| 40/40 [00:02<00:00, 15.59it/s]\n"
     ]
    },
    {
     "name": "stdout",
     "output_type": "stream",
     "text": [
      "Train Loss: 0.00276 | Val Loss: 0.02126 | LR: 8.91e-05\n",
      "\n",
      "Epoch 872/1000\n"
     ]
    },
    {
     "name": "stderr",
     "output_type": "stream",
     "text": [
      "Training: 100%|██████████| 313/313 [00:45<00:00,  6.88it/s]\n",
      "Validating: 100%|██████████| 40/40 [00:02<00:00, 15.37it/s]\n"
     ]
    },
    {
     "name": "stdout",
     "output_type": "stream",
     "text": [
      "Train Loss: 0.00279 | Val Loss: 0.02123 | LR: 8.90e-05\n",
      "\n",
      "Epoch 873/1000\n"
     ]
    },
    {
     "name": "stderr",
     "output_type": "stream",
     "text": [
      "Training: 100%|██████████| 313/313 [00:44<00:00,  6.98it/s]\n",
      "Validating: 100%|██████████| 40/40 [00:02<00:00, 15.44it/s]\n"
     ]
    },
    {
     "name": "stdout",
     "output_type": "stream",
     "text": [
      "Train Loss: 0.00274 | Val Loss: 0.02116 | LR: 8.89e-05\n",
      "\n",
      "Epoch 874/1000\n"
     ]
    },
    {
     "name": "stderr",
     "output_type": "stream",
     "text": [
      "Training: 100%|██████████| 313/313 [00:44<00:00,  6.99it/s]\n",
      "Validating: 100%|██████████| 40/40 [00:02<00:00, 15.42it/s]\n"
     ]
    },
    {
     "name": "stdout",
     "output_type": "stream",
     "text": [
      "Train Loss: 0.00275 | Val Loss: 0.02121 | LR: 8.88e-05\n",
      "\n",
      "Epoch 875/1000\n"
     ]
    },
    {
     "name": "stderr",
     "output_type": "stream",
     "text": [
      "Training: 100%|██████████| 313/313 [00:44<00:00,  7.00it/s]\n",
      "Validating: 100%|██████████| 40/40 [00:02<00:00, 15.44it/s]\n"
     ]
    },
    {
     "name": "stdout",
     "output_type": "stream",
     "text": [
      "Train Loss: 0.00275 | Val Loss: 0.02137 | LR: 8.87e-05\n",
      "\n",
      "Epoch 876/1000\n"
     ]
    },
    {
     "name": "stderr",
     "output_type": "stream",
     "text": [
      "Training: 100%|██████████| 313/313 [00:44<00:00,  7.00it/s]\n",
      "Validating: 100%|██████████| 40/40 [00:02<00:00, 15.46it/s]\n"
     ]
    },
    {
     "name": "stdout",
     "output_type": "stream",
     "text": [
      "Train Loss: 0.00277 | Val Loss: 0.02124 | LR: 8.85e-05\n",
      "\n",
      "Epoch 877/1000\n"
     ]
    },
    {
     "name": "stderr",
     "output_type": "stream",
     "text": [
      "Training: 100%|██████████| 313/313 [00:44<00:00,  6.99it/s]\n",
      "Validating: 100%|██████████| 40/40 [00:02<00:00, 15.47it/s]\n"
     ]
    },
    {
     "name": "stdout",
     "output_type": "stream",
     "text": [
      "Train Loss: 0.00277 | Val Loss: 0.02126 | LR: 8.84e-05\n",
      "\n",
      "Epoch 878/1000\n"
     ]
    },
    {
     "name": "stderr",
     "output_type": "stream",
     "text": [
      "Training: 100%|██████████| 313/313 [00:44<00:00,  7.00it/s]\n",
      "Validating: 100%|██████████| 40/40 [00:02<00:00, 15.45it/s]\n"
     ]
    },
    {
     "name": "stdout",
     "output_type": "stream",
     "text": [
      "Train Loss: 0.00274 | Val Loss: 0.02120 | LR: 8.83e-05\n",
      "\n",
      "Epoch 879/1000\n"
     ]
    },
    {
     "name": "stderr",
     "output_type": "stream",
     "text": [
      "Training: 100%|██████████| 313/313 [00:44<00:00,  7.00it/s]\n",
      "Validating: 100%|██████████| 40/40 [00:02<00:00, 15.50it/s]\n"
     ]
    },
    {
     "name": "stdout",
     "output_type": "stream",
     "text": [
      "Train Loss: 0.00275 | Val Loss: 0.02121 | LR: 8.81e-05\n",
      "\n",
      "Epoch 880/1000\n"
     ]
    },
    {
     "name": "stderr",
     "output_type": "stream",
     "text": [
      "Training: 100%|██████████| 313/313 [00:44<00:00,  7.00it/s]\n",
      "Validating: 100%|██████████| 40/40 [00:02<00:00, 15.42it/s]\n"
     ]
    },
    {
     "name": "stdout",
     "output_type": "stream",
     "text": [
      "Train Loss: 0.00276 | Val Loss: 0.02112 | LR: 8.80e-05\n",
      "\n",
      "Epoch 881/1000\n"
     ]
    },
    {
     "name": "stderr",
     "output_type": "stream",
     "text": [
      "Training: 100%|██████████| 313/313 [00:44<00:00,  7.00it/s]\n",
      "Validating: 100%|██████████| 40/40 [00:02<00:00, 15.47it/s]\n"
     ]
    },
    {
     "name": "stdout",
     "output_type": "stream",
     "text": [
      "Train Loss: 0.00274 | Val Loss: 0.02132 | LR: 8.79e-05\n",
      "\n",
      "Epoch 882/1000\n"
     ]
    },
    {
     "name": "stderr",
     "output_type": "stream",
     "text": [
      "Training: 100%|██████████| 313/313 [00:44<00:00,  7.00it/s]\n",
      "Validating: 100%|██████████| 40/40 [00:02<00:00, 15.46it/s]\n"
     ]
    },
    {
     "name": "stdout",
     "output_type": "stream",
     "text": [
      "Train Loss: 0.00275 | Val Loss: 0.02116 | LR: 8.78e-05\n",
      "\n",
      "Epoch 883/1000\n"
     ]
    },
    {
     "name": "stderr",
     "output_type": "stream",
     "text": [
      "Training: 100%|██████████| 313/313 [00:44<00:00,  7.00it/s]\n",
      "Validating: 100%|██████████| 40/40 [00:02<00:00, 15.51it/s]\n"
     ]
    },
    {
     "name": "stdout",
     "output_type": "stream",
     "text": [
      "Train Loss: 0.00274 | Val Loss: 0.02121 | LR: 8.76e-05\n",
      "\n",
      "Epoch 884/1000\n"
     ]
    },
    {
     "name": "stderr",
     "output_type": "stream",
     "text": [
      "Training: 100%|██████████| 313/313 [00:44<00:00,  7.00it/s]\n",
      "Validating: 100%|██████████| 40/40 [00:02<00:00, 15.48it/s]\n"
     ]
    },
    {
     "name": "stdout",
     "output_type": "stream",
     "text": [
      "Train Loss: 0.00274 | Val Loss: 0.02129 | LR: 8.75e-05\n",
      "\n",
      "Epoch 885/1000\n"
     ]
    },
    {
     "name": "stderr",
     "output_type": "stream",
     "text": [
      "Training: 100%|██████████| 313/313 [00:44<00:00,  6.99it/s]\n",
      "Validating: 100%|██████████| 40/40 [00:02<00:00, 15.48it/s]\n"
     ]
    },
    {
     "name": "stdout",
     "output_type": "stream",
     "text": [
      "Train Loss: 0.00277 | Val Loss: 0.02123 | LR: 8.74e-05\n",
      "\n",
      "Epoch 886/1000\n"
     ]
    },
    {
     "name": "stderr",
     "output_type": "stream",
     "text": [
      "Training: 100%|██████████| 313/313 [00:44<00:00,  7.01it/s]\n",
      "Validating: 100%|██████████| 40/40 [00:02<00:00, 15.50it/s]\n"
     ]
    },
    {
     "name": "stdout",
     "output_type": "stream",
     "text": [
      "Train Loss: 0.00276 | Val Loss: 0.02121 | LR: 8.72e-05\n",
      "\n",
      "Epoch 887/1000\n"
     ]
    },
    {
     "name": "stderr",
     "output_type": "stream",
     "text": [
      "Training: 100%|██████████| 313/313 [00:44<00:00,  7.00it/s]\n",
      "Validating: 100%|██████████| 40/40 [00:02<00:00, 15.53it/s]\n"
     ]
    },
    {
     "name": "stdout",
     "output_type": "stream",
     "text": [
      "Train Loss: 0.00274 | Val Loss: 0.02123 | LR: 8.71e-05\n",
      "\n",
      "Epoch 888/1000\n"
     ]
    },
    {
     "name": "stderr",
     "output_type": "stream",
     "text": [
      "Training: 100%|██████████| 313/313 [00:44<00:00,  7.00it/s]\n",
      "Validating: 100%|██████████| 40/40 [00:02<00:00, 15.50it/s]\n"
     ]
    },
    {
     "name": "stdout",
     "output_type": "stream",
     "text": [
      "Train Loss: 0.00277 | Val Loss: 0.02138 | LR: 8.70e-05\n",
      "\n",
      "Epoch 889/1000\n"
     ]
    },
    {
     "name": "stderr",
     "output_type": "stream",
     "text": [
      "Training: 100%|██████████| 313/313 [00:45<00:00,  6.87it/s]\n",
      "Validating: 100%|██████████| 40/40 [00:02<00:00, 15.36it/s]\n"
     ]
    },
    {
     "name": "stdout",
     "output_type": "stream",
     "text": [
      "Train Loss: 0.00275 | Val Loss: 0.02121 | LR: 8.68e-05\n",
      "\n",
      "Epoch 890/1000\n"
     ]
    },
    {
     "name": "stderr",
     "output_type": "stream",
     "text": [
      "Training: 100%|██████████| 313/313 [00:44<00:00,  6.96it/s]\n",
      "Validating: 100%|██████████| 40/40 [00:02<00:00, 15.28it/s]\n"
     ]
    },
    {
     "name": "stdout",
     "output_type": "stream",
     "text": [
      "Train Loss: 0.00273 | Val Loss: 0.02112 | LR: 8.67e-05\n",
      "\n",
      "Epoch 891/1000\n"
     ]
    },
    {
     "name": "stderr",
     "output_type": "stream",
     "text": [
      "Training: 100%|██████████| 313/313 [00:44<00:00,  6.97it/s]\n",
      "Validating: 100%|██████████| 40/40 [00:02<00:00, 15.41it/s]\n"
     ]
    },
    {
     "name": "stdout",
     "output_type": "stream",
     "text": [
      "Train Loss: 0.00277 | Val Loss: 0.02125 | LR: 8.66e-05\n",
      "\n",
      "Epoch 892/1000\n"
     ]
    },
    {
     "name": "stderr",
     "output_type": "stream",
     "text": [
      "Training: 100%|██████████| 313/313 [00:44<00:00,  6.98it/s]\n",
      "Validating: 100%|██████████| 40/40 [00:02<00:00, 15.47it/s]\n"
     ]
    },
    {
     "name": "stdout",
     "output_type": "stream",
     "text": [
      "Train Loss: 0.00277 | Val Loss: 0.02142 | LR: 8.64e-05\n",
      "\n",
      "Epoch 893/1000\n"
     ]
    },
    {
     "name": "stderr",
     "output_type": "stream",
     "text": [
      "Training: 100%|██████████| 313/313 [00:44<00:00,  6.98it/s]\n",
      "Validating: 100%|██████████| 40/40 [00:02<00:00, 15.37it/s]\n"
     ]
    },
    {
     "name": "stdout",
     "output_type": "stream",
     "text": [
      "Train Loss: 0.00275 | Val Loss: 0.02117 | LR: 8.63e-05\n",
      "\n",
      "Epoch 894/1000\n"
     ]
    },
    {
     "name": "stderr",
     "output_type": "stream",
     "text": [
      "Training: 100%|██████████| 313/313 [00:44<00:00,  7.00it/s]\n",
      "Validating: 100%|██████████| 40/40 [00:02<00:00, 15.43it/s]\n"
     ]
    },
    {
     "name": "stdout",
     "output_type": "stream",
     "text": [
      "Train Loss: 0.00273 | Val Loss: 0.02105 | LR: 8.62e-05\n",
      "\n",
      "Epoch 895/1000\n"
     ]
    },
    {
     "name": "stderr",
     "output_type": "stream",
     "text": [
      "Training: 100%|██████████| 313/313 [00:44<00:00,  6.99it/s]\n",
      "Validating: 100%|██████████| 40/40 [00:02<00:00, 15.45it/s]\n"
     ]
    },
    {
     "name": "stdout",
     "output_type": "stream",
     "text": [
      "Train Loss: 0.00276 | Val Loss: 0.02133 | LR: 8.60e-05\n",
      "\n",
      "Epoch 896/1000\n"
     ]
    },
    {
     "name": "stderr",
     "output_type": "stream",
     "text": [
      "Training: 100%|██████████| 313/313 [00:44<00:00,  6.99it/s]\n",
      "Validating: 100%|██████████| 40/40 [00:02<00:00, 15.51it/s]\n"
     ]
    },
    {
     "name": "stdout",
     "output_type": "stream",
     "text": [
      "Train Loss: 0.00274 | Val Loss: 0.02129 | LR: 8.59e-05\n",
      "\n",
      "Epoch 897/1000\n"
     ]
    },
    {
     "name": "stderr",
     "output_type": "stream",
     "text": [
      "Training: 100%|██████████| 313/313 [00:44<00:00,  7.00it/s]\n",
      "Validating: 100%|██████████| 40/40 [00:02<00:00, 15.48it/s]\n"
     ]
    },
    {
     "name": "stdout",
     "output_type": "stream",
     "text": [
      "Train Loss: 0.00274 | Val Loss: 0.02120 | LR: 8.58e-05\n",
      "\n",
      "Epoch 898/1000\n"
     ]
    },
    {
     "name": "stderr",
     "output_type": "stream",
     "text": [
      "Training: 100%|██████████| 313/313 [00:44<00:00,  7.00it/s]\n",
      "Validating: 100%|██████████| 40/40 [00:02<00:00, 15.49it/s]\n"
     ]
    },
    {
     "name": "stdout",
     "output_type": "stream",
     "text": [
      "Train Loss: 0.00274 | Val Loss: 0.02131 | LR: 8.56e-05\n",
      "\n",
      "Epoch 899/1000\n"
     ]
    },
    {
     "name": "stderr",
     "output_type": "stream",
     "text": [
      "Training: 100%|██████████| 313/313 [00:44<00:00,  7.01it/s]\n",
      "Validating: 100%|██████████| 40/40 [00:02<00:00, 15.54it/s]\n"
     ]
    },
    {
     "name": "stdout",
     "output_type": "stream",
     "text": [
      "Train Loss: 0.00275 | Val Loss: 0.02129 | LR: 8.55e-05\n",
      "\n",
      "Epoch 900/1000\n"
     ]
    },
    {
     "name": "stderr",
     "output_type": "stream",
     "text": [
      "Training: 100%|██████████| 313/313 [00:44<00:00,  7.00it/s]\n",
      "Validating: 100%|██████████| 40/40 [00:02<00:00, 15.56it/s]\n"
     ]
    },
    {
     "name": "stdout",
     "output_type": "stream",
     "text": [
      "Train Loss: 0.00277 | Val Loss: 0.02123 | LR: 8.54e-05\n",
      "\n",
      "Epoch 901/1000\n"
     ]
    },
    {
     "name": "stderr",
     "output_type": "stream",
     "text": [
      "Training: 100%|██████████| 313/313 [00:44<00:00,  7.01it/s]\n",
      "Validating: 100%|██████████| 40/40 [00:02<00:00, 15.50it/s]\n"
     ]
    },
    {
     "name": "stdout",
     "output_type": "stream",
     "text": [
      "Train Loss: 0.00272 | Val Loss: 0.02126 | LR: 8.52e-05\n",
      "\n",
      "Epoch 902/1000\n"
     ]
    },
    {
     "name": "stderr",
     "output_type": "stream",
     "text": [
      "Training: 100%|██████████| 313/313 [00:44<00:00,  7.00it/s]\n",
      "Validating: 100%|██████████| 40/40 [00:02<00:00, 15.55it/s]\n"
     ]
    },
    {
     "name": "stdout",
     "output_type": "stream",
     "text": [
      "Train Loss: 0.00275 | Val Loss: 0.02122 | LR: 8.51e-05\n",
      "\n",
      "Epoch 903/1000\n"
     ]
    },
    {
     "name": "stderr",
     "output_type": "stream",
     "text": [
      "Training: 100%|██████████| 313/313 [00:44<00:00,  7.01it/s]\n",
      "Validating: 100%|██████████| 40/40 [00:02<00:00, 15.58it/s]\n"
     ]
    },
    {
     "name": "stdout",
     "output_type": "stream",
     "text": [
      "Train Loss: 0.00274 | Val Loss: 0.02128 | LR: 8.49e-05\n",
      "\n",
      "Epoch 904/1000\n"
     ]
    },
    {
     "name": "stderr",
     "output_type": "stream",
     "text": [
      "Training: 100%|██████████| 313/313 [00:44<00:00,  7.01it/s]\n",
      "Validating: 100%|██████████| 40/40 [00:02<00:00, 15.48it/s]\n"
     ]
    },
    {
     "name": "stdout",
     "output_type": "stream",
     "text": [
      "Train Loss: 0.00275 | Val Loss: 0.02131 | LR: 8.48e-05\n",
      "\n",
      "Epoch 905/1000\n"
     ]
    },
    {
     "name": "stderr",
     "output_type": "stream",
     "text": [
      "Training: 100%|██████████| 313/313 [00:44<00:00,  7.01it/s]\n",
      "Validating: 100%|██████████| 40/40 [00:02<00:00, 15.49it/s]\n"
     ]
    },
    {
     "name": "stdout",
     "output_type": "stream",
     "text": [
      "Train Loss: 0.00278 | Val Loss: 0.02122 | LR: 8.47e-05\n",
      "\n",
      "Epoch 906/1000\n"
     ]
    },
    {
     "name": "stderr",
     "output_type": "stream",
     "text": [
      "Training: 100%|██████████| 313/313 [00:44<00:00,  7.01it/s]\n",
      "Validating: 100%|██████████| 40/40 [00:02<00:00, 15.55it/s]\n"
     ]
    },
    {
     "name": "stdout",
     "output_type": "stream",
     "text": [
      "Train Loss: 0.00274 | Val Loss: 0.02149 | LR: 8.45e-05\n",
      "\n",
      "Epoch 907/1000\n"
     ]
    },
    {
     "name": "stderr",
     "output_type": "stream",
     "text": [
      "Training: 100%|██████████| 313/313 [00:45<00:00,  6.86it/s]\n",
      "Validating: 100%|██████████| 40/40 [00:02<00:00, 15.43it/s]\n"
     ]
    },
    {
     "name": "stdout",
     "output_type": "stream",
     "text": [
      "Train Loss: 0.00276 | Val Loss: 0.02132 | LR: 8.44e-05\n",
      "\n",
      "Epoch 908/1000\n"
     ]
    },
    {
     "name": "stderr",
     "output_type": "stream",
     "text": [
      "Training: 100%|██████████| 313/313 [00:44<00:00,  6.97it/s]\n",
      "Validating: 100%|██████████| 40/40 [00:02<00:00, 15.46it/s]\n"
     ]
    },
    {
     "name": "stdout",
     "output_type": "stream",
     "text": [
      "Train Loss: 0.00271 | Val Loss: 0.02135 | LR: 8.42e-05\n",
      "\n",
      "Epoch 909/1000\n"
     ]
    },
    {
     "name": "stderr",
     "output_type": "stream",
     "text": [
      "Training: 100%|██████████| 313/313 [00:44<00:00,  6.98it/s]\n",
      "Validating: 100%|██████████| 40/40 [00:02<00:00, 15.36it/s]\n"
     ]
    },
    {
     "name": "stdout",
     "output_type": "stream",
     "text": [
      "Train Loss: 0.00274 | Val Loss: 0.02113 | LR: 8.41e-05\n",
      "\n",
      "Epoch 910/1000\n"
     ]
    },
    {
     "name": "stderr",
     "output_type": "stream",
     "text": [
      "Training: 100%|██████████| 313/313 [00:44<00:00,  6.99it/s]\n",
      "Validating: 100%|██████████| 40/40 [00:02<00:00, 15.52it/s]\n"
     ]
    },
    {
     "name": "stdout",
     "output_type": "stream",
     "text": [
      "Train Loss: 0.00273 | Val Loss: 0.02132 | LR: 8.39e-05\n",
      "\n",
      "Epoch 911/1000\n"
     ]
    },
    {
     "name": "stderr",
     "output_type": "stream",
     "text": [
      "Training: 100%|██████████| 313/313 [00:44<00:00,  6.99it/s]\n",
      "Validating: 100%|██████████| 40/40 [00:02<00:00, 15.50it/s]\n"
     ]
    },
    {
     "name": "stdout",
     "output_type": "stream",
     "text": [
      "Train Loss: 0.00273 | Val Loss: 0.02129 | LR: 8.38e-05\n",
      "\n",
      "Epoch 912/1000\n"
     ]
    },
    {
     "name": "stderr",
     "output_type": "stream",
     "text": [
      "Training: 100%|██████████| 313/313 [00:44<00:00,  7.00it/s]\n",
      "Validating: 100%|██████████| 40/40 [00:02<00:00, 15.52it/s]\n"
     ]
    },
    {
     "name": "stdout",
     "output_type": "stream",
     "text": [
      "Train Loss: 0.00276 | Val Loss: 0.02121 | LR: 8.37e-05\n",
      "\n",
      "Epoch 913/1000\n"
     ]
    },
    {
     "name": "stderr",
     "output_type": "stream",
     "text": [
      "Training: 100%|██████████| 313/313 [00:44<00:00,  7.00it/s]\n",
      "Validating: 100%|██████████| 40/40 [00:02<00:00, 15.55it/s]\n"
     ]
    },
    {
     "name": "stdout",
     "output_type": "stream",
     "text": [
      "Train Loss: 0.00275 | Val Loss: 0.02142 | LR: 8.35e-05\n",
      "\n",
      "Epoch 914/1000\n"
     ]
    },
    {
     "name": "stderr",
     "output_type": "stream",
     "text": [
      "Training: 100%|██████████| 313/313 [00:44<00:00,  7.01it/s]\n",
      "Validating: 100%|██████████| 40/40 [00:02<00:00, 15.57it/s]\n"
     ]
    },
    {
     "name": "stdout",
     "output_type": "stream",
     "text": [
      "Train Loss: 0.00274 | Val Loss: 0.02129 | LR: 8.34e-05\n",
      "\n",
      "Epoch 915/1000\n"
     ]
    },
    {
     "name": "stderr",
     "output_type": "stream",
     "text": [
      "Training: 100%|██████████| 313/313 [00:44<00:00,  7.00it/s]\n",
      "Validating: 100%|██████████| 40/40 [00:02<00:00, 15.53it/s]\n"
     ]
    },
    {
     "name": "stdout",
     "output_type": "stream",
     "text": [
      "Train Loss: 0.00272 | Val Loss: 0.02125 | LR: 8.32e-05\n",
      "\n",
      "Epoch 916/1000\n"
     ]
    },
    {
     "name": "stderr",
     "output_type": "stream",
     "text": [
      "Training: 100%|██████████| 313/313 [00:44<00:00,  7.01it/s]\n",
      "Validating: 100%|██████████| 40/40 [00:02<00:00, 15.60it/s]\n"
     ]
    },
    {
     "name": "stdout",
     "output_type": "stream",
     "text": [
      "Train Loss: 0.00275 | Val Loss: 0.02138 | LR: 8.31e-05\n",
      "\n",
      "Epoch 917/1000\n"
     ]
    },
    {
     "name": "stderr",
     "output_type": "stream",
     "text": [
      "Training: 100%|██████████| 313/313 [00:44<00:00,  7.01it/s]\n",
      "Validating: 100%|██████████| 40/40 [00:02<00:00, 15.53it/s]\n"
     ]
    },
    {
     "name": "stdout",
     "output_type": "stream",
     "text": [
      "Train Loss: 0.00271 | Val Loss: 0.02133 | LR: 8.29e-05\n",
      "\n",
      "Epoch 918/1000\n"
     ]
    },
    {
     "name": "stderr",
     "output_type": "stream",
     "text": [
      "Training: 100%|██████████| 313/313 [00:44<00:00,  7.01it/s]\n",
      "Validating: 100%|██████████| 40/40 [00:02<00:00, 15.64it/s]\n"
     ]
    },
    {
     "name": "stdout",
     "output_type": "stream",
     "text": [
      "Train Loss: 0.00272 | Val Loss: 0.02130 | LR: 8.28e-05\n",
      "\n",
      "Epoch 919/1000\n"
     ]
    },
    {
     "name": "stderr",
     "output_type": "stream",
     "text": [
      "Training: 100%|██████████| 313/313 [00:44<00:00,  7.00it/s]\n",
      "Validating: 100%|██████████| 40/40 [00:02<00:00, 15.52it/s]\n"
     ]
    },
    {
     "name": "stdout",
     "output_type": "stream",
     "text": [
      "Train Loss: 0.00271 | Val Loss: 0.02123 | LR: 8.26e-05\n",
      "\n",
      "Epoch 920/1000\n"
     ]
    },
    {
     "name": "stderr",
     "output_type": "stream",
     "text": [
      "Training: 100%|██████████| 313/313 [00:44<00:00,  7.00it/s]\n",
      "Validating: 100%|██████████| 40/40 [00:02<00:00, 15.55it/s]\n"
     ]
    },
    {
     "name": "stdout",
     "output_type": "stream",
     "text": [
      "Train Loss: 0.00273 | Val Loss: 0.02137 | LR: 8.25e-05\n",
      "\n",
      "Epoch 921/1000\n"
     ]
    },
    {
     "name": "stderr",
     "output_type": "stream",
     "text": [
      "Training: 100%|██████████| 313/313 [00:44<00:00,  7.01it/s]\n",
      "Validating: 100%|██████████| 40/40 [00:02<00:00, 15.56it/s]\n"
     ]
    },
    {
     "name": "stdout",
     "output_type": "stream",
     "text": [
      "Train Loss: 0.00272 | Val Loss: 0.02126 | LR: 8.23e-05\n",
      "\n",
      "Epoch 922/1000\n"
     ]
    },
    {
     "name": "stderr",
     "output_type": "stream",
     "text": [
      "Training: 100%|██████████| 313/313 [00:44<00:00,  7.00it/s]\n",
      "Validating: 100%|██████████| 40/40 [00:02<00:00, 15.53it/s]\n"
     ]
    },
    {
     "name": "stdout",
     "output_type": "stream",
     "text": [
      "Train Loss: 0.00273 | Val Loss: 0.02131 | LR: 8.22e-05\n",
      "\n",
      "Epoch 923/1000\n"
     ]
    },
    {
     "name": "stderr",
     "output_type": "stream",
     "text": [
      "Training: 100%|██████████| 313/313 [00:44<00:00,  7.00it/s]\n",
      "Validating: 100%|██████████| 40/40 [00:02<00:00, 15.58it/s]\n"
     ]
    },
    {
     "name": "stdout",
     "output_type": "stream",
     "text": [
      "Train Loss: 0.00272 | Val Loss: 0.02151 | LR: 8.20e-05\n",
      "\n",
      "Epoch 924/1000\n"
     ]
    },
    {
     "name": "stderr",
     "output_type": "stream",
     "text": [
      "Training: 100%|██████████| 313/313 [00:44<00:00,  7.01it/s]\n",
      "Validating: 100%|██████████| 40/40 [00:02<00:00, 15.55it/s]\n"
     ]
    },
    {
     "name": "stdout",
     "output_type": "stream",
     "text": [
      "Train Loss: 0.00273 | Val Loss: 0.02128 | LR: 8.19e-05\n",
      "\n",
      "Epoch 925/1000\n"
     ]
    },
    {
     "name": "stderr",
     "output_type": "stream",
     "text": [
      "Training: 100%|██████████| 313/313 [00:45<00:00,  6.84it/s]\n",
      "Validating: 100%|██████████| 40/40 [00:02<00:00, 15.38it/s]\n"
     ]
    },
    {
     "name": "stdout",
     "output_type": "stream",
     "text": [
      "Train Loss: 0.00271 | Val Loss: 0.02145 | LR: 8.17e-05\n",
      "\n",
      "Epoch 926/1000\n"
     ]
    },
    {
     "name": "stderr",
     "output_type": "stream",
     "text": [
      "Training: 100%|██████████| 313/313 [00:44<00:00,  6.98it/s]\n",
      "Validating: 100%|██████████| 40/40 [00:02<00:00, 15.43it/s]\n"
     ]
    },
    {
     "name": "stdout",
     "output_type": "stream",
     "text": [
      "Train Loss: 0.00272 | Val Loss: 0.02132 | LR: 8.16e-05\n",
      "\n",
      "Epoch 927/1000\n"
     ]
    },
    {
     "name": "stderr",
     "output_type": "stream",
     "text": [
      "Training: 100%|██████████| 313/313 [00:44<00:00,  6.97it/s]\n",
      "Validating: 100%|██████████| 40/40 [00:02<00:00, 15.42it/s]\n"
     ]
    },
    {
     "name": "stdout",
     "output_type": "stream",
     "text": [
      "Train Loss: 0.00272 | Val Loss: 0.02130 | LR: 8.14e-05\n",
      "\n",
      "Epoch 928/1000\n"
     ]
    },
    {
     "name": "stderr",
     "output_type": "stream",
     "text": [
      "Training: 100%|██████████| 313/313 [00:44<00:00,  6.99it/s]\n",
      "Validating: 100%|██████████| 40/40 [00:02<00:00, 15.43it/s]\n"
     ]
    },
    {
     "name": "stdout",
     "output_type": "stream",
     "text": [
      "Train Loss: 0.00273 | Val Loss: 0.02134 | LR: 8.13e-05\n",
      "\n",
      "Epoch 929/1000\n"
     ]
    },
    {
     "name": "stderr",
     "output_type": "stream",
     "text": [
      "Training: 100%|██████████| 313/313 [00:44<00:00,  6.99it/s]\n",
      "Validating: 100%|██████████| 40/40 [00:02<00:00, 15.52it/s]\n"
     ]
    },
    {
     "name": "stdout",
     "output_type": "stream",
     "text": [
      "Train Loss: 0.00271 | Val Loss: 0.02134 | LR: 8.11e-05\n",
      "\n",
      "Epoch 930/1000\n"
     ]
    },
    {
     "name": "stderr",
     "output_type": "stream",
     "text": [
      "Training: 100%|██████████| 313/313 [00:44<00:00,  7.00it/s]\n",
      "Validating: 100%|██████████| 40/40 [00:02<00:00, 15.51it/s]\n"
     ]
    },
    {
     "name": "stdout",
     "output_type": "stream",
     "text": [
      "Train Loss: 0.00273 | Val Loss: 0.02133 | LR: 8.10e-05\n",
      "\n",
      "Epoch 931/1000\n"
     ]
    },
    {
     "name": "stderr",
     "output_type": "stream",
     "text": [
      "Training: 100%|██████████| 313/313 [00:44<00:00,  6.99it/s]\n",
      "Validating: 100%|██████████| 40/40 [00:02<00:00, 15.46it/s]\n"
     ]
    },
    {
     "name": "stdout",
     "output_type": "stream",
     "text": [
      "Train Loss: 0.00270 | Val Loss: 0.02143 | LR: 8.08e-05\n",
      "\n",
      "Epoch 932/1000\n"
     ]
    },
    {
     "name": "stderr",
     "output_type": "stream",
     "text": [
      "Training: 100%|██████████| 313/313 [00:44<00:00,  7.00it/s]\n",
      "Validating: 100%|██████████| 40/40 [00:02<00:00, 15.53it/s]\n"
     ]
    },
    {
     "name": "stdout",
     "output_type": "stream",
     "text": [
      "Train Loss: 0.00272 | Val Loss: 0.02140 | LR: 8.06e-05\n",
      "\n",
      "Epoch 933/1000\n"
     ]
    },
    {
     "name": "stderr",
     "output_type": "stream",
     "text": [
      "Training: 100%|██████████| 313/313 [00:44<00:00,  7.00it/s]\n",
      "Validating: 100%|██████████| 40/40 [00:02<00:00, 15.54it/s]\n"
     ]
    },
    {
     "name": "stdout",
     "output_type": "stream",
     "text": [
      "Train Loss: 0.00269 | Val Loss: 0.02128 | LR: 8.05e-05\n",
      "\n",
      "Epoch 934/1000\n"
     ]
    },
    {
     "name": "stderr",
     "output_type": "stream",
     "text": [
      "Training: 100%|██████████| 313/313 [00:44<00:00,  7.00it/s]\n",
      "Validating: 100%|██████████| 40/40 [00:02<00:00, 15.59it/s]\n"
     ]
    },
    {
     "name": "stdout",
     "output_type": "stream",
     "text": [
      "Train Loss: 0.00274 | Val Loss: 0.02133 | LR: 8.03e-05\n",
      "\n",
      "Epoch 935/1000\n"
     ]
    },
    {
     "name": "stderr",
     "output_type": "stream",
     "text": [
      "Training: 100%|██████████| 313/313 [00:44<00:00,  7.01it/s]\n",
      "Validating: 100%|██████████| 40/40 [00:02<00:00, 15.54it/s]\n"
     ]
    },
    {
     "name": "stdout",
     "output_type": "stream",
     "text": [
      "Train Loss: 0.00271 | Val Loss: 0.02134 | LR: 8.02e-05\n",
      "\n",
      "Epoch 936/1000\n"
     ]
    },
    {
     "name": "stderr",
     "output_type": "stream",
     "text": [
      "Training: 100%|██████████| 313/313 [00:44<00:00,  7.00it/s]\n",
      "Validating: 100%|██████████| 40/40 [00:02<00:00, 15.57it/s]\n"
     ]
    },
    {
     "name": "stdout",
     "output_type": "stream",
     "text": [
      "Train Loss: 0.00274 | Val Loss: 0.02120 | LR: 8.00e-05\n",
      "\n",
      "Epoch 937/1000\n"
     ]
    },
    {
     "name": "stderr",
     "output_type": "stream",
     "text": [
      "Training: 100%|██████████| 313/313 [00:44<00:00,  7.01it/s]\n",
      "Validating: 100%|██████████| 40/40 [00:02<00:00, 15.57it/s]\n"
     ]
    },
    {
     "name": "stdout",
     "output_type": "stream",
     "text": [
      "Train Loss: 0.00270 | Val Loss: 0.02142 | LR: 7.99e-05\n",
      "\n",
      "Epoch 938/1000\n"
     ]
    },
    {
     "name": "stderr",
     "output_type": "stream",
     "text": [
      "Training: 100%|██████████| 313/313 [00:44<00:00,  7.01it/s]\n",
      "Validating: 100%|██████████| 40/40 [00:02<00:00, 15.54it/s]\n"
     ]
    },
    {
     "name": "stdout",
     "output_type": "stream",
     "text": [
      "Train Loss: 0.00273 | Val Loss: 0.02131 | LR: 7.97e-05\n",
      "\n",
      "Epoch 939/1000\n"
     ]
    },
    {
     "name": "stderr",
     "output_type": "stream",
     "text": [
      "Training: 100%|██████████| 313/313 [00:44<00:00,  7.01it/s]\n",
      "Validating: 100%|██████████| 40/40 [00:02<00:00, 15.56it/s]\n"
     ]
    },
    {
     "name": "stdout",
     "output_type": "stream",
     "text": [
      "Train Loss: 0.00275 | Val Loss: 0.02136 | LR: 7.95e-05\n",
      "\n",
      "Epoch 940/1000\n"
     ]
    },
    {
     "name": "stderr",
     "output_type": "stream",
     "text": [
      "Training: 100%|██████████| 313/313 [00:44<00:00,  7.01it/s]\n",
      "Validating: 100%|██████████| 40/40 [00:02<00:00, 15.54it/s]\n"
     ]
    },
    {
     "name": "stdout",
     "output_type": "stream",
     "text": [
      "Train Loss: 0.00271 | Val Loss: 0.02146 | LR: 7.94e-05\n",
      "\n",
      "Epoch 941/1000\n"
     ]
    },
    {
     "name": "stderr",
     "output_type": "stream",
     "text": [
      "Training: 100%|██████████| 313/313 [00:44<00:00,  7.01it/s]\n",
      "Validating: 100%|██████████| 40/40 [00:02<00:00, 15.57it/s]\n"
     ]
    },
    {
     "name": "stdout",
     "output_type": "stream",
     "text": [
      "Train Loss: 0.00275 | Val Loss: 0.02117 | LR: 7.92e-05\n",
      "\n",
      "Epoch 942/1000\n"
     ]
    },
    {
     "name": "stderr",
     "output_type": "stream",
     "text": [
      "Training: 100%|██████████| 313/313 [00:44<00:00,  7.01it/s]\n",
      "Validating: 100%|██████████| 40/40 [00:02<00:00, 15.55it/s]\n"
     ]
    },
    {
     "name": "stdout",
     "output_type": "stream",
     "text": [
      "Train Loss: 0.00273 | Val Loss: 0.02144 | LR: 7.91e-05\n",
      "\n",
      "Epoch 943/1000\n"
     ]
    },
    {
     "name": "stderr",
     "output_type": "stream",
     "text": [
      "Training: 100%|██████████| 313/313 [00:45<00:00,  6.86it/s]\n",
      "Validating: 100%|██████████| 40/40 [00:02<00:00, 15.41it/s]\n"
     ]
    },
    {
     "name": "stdout",
     "output_type": "stream",
     "text": [
      "Train Loss: 0.00272 | Val Loss: 0.02131 | LR: 7.89e-05\n",
      "\n",
      "Epoch 944/1000\n"
     ]
    },
    {
     "name": "stderr",
     "output_type": "stream",
     "text": [
      "Training: 100%|██████████| 313/313 [00:44<00:00,  6.98it/s]\n",
      "Validating: 100%|██████████| 40/40 [00:02<00:00, 15.49it/s]\n"
     ]
    },
    {
     "name": "stdout",
     "output_type": "stream",
     "text": [
      "Train Loss: 0.00274 | Val Loss: 0.02137 | LR: 7.88e-05\n",
      "\n",
      "Epoch 945/1000\n"
     ]
    },
    {
     "name": "stderr",
     "output_type": "stream",
     "text": [
      "Training: 100%|██████████| 313/313 [00:44<00:00,  6.98it/s]\n",
      "Validating: 100%|██████████| 40/40 [00:02<00:00, 15.45it/s]\n"
     ]
    },
    {
     "name": "stdout",
     "output_type": "stream",
     "text": [
      "Train Loss: 0.00271 | Val Loss: 0.02130 | LR: 7.86e-05\n",
      "\n",
      "Epoch 946/1000\n"
     ]
    },
    {
     "name": "stderr",
     "output_type": "stream",
     "text": [
      "Training: 100%|██████████| 313/313 [00:44<00:00,  6.99it/s]\n",
      "Validating: 100%|██████████| 40/40 [00:02<00:00, 15.42it/s]\n"
     ]
    },
    {
     "name": "stdout",
     "output_type": "stream",
     "text": [
      "Train Loss: 0.00275 | Val Loss: 0.02133 | LR: 7.84e-05\n",
      "\n",
      "Epoch 947/1000\n"
     ]
    },
    {
     "name": "stderr",
     "output_type": "stream",
     "text": [
      "Training: 100%|██████████| 313/313 [00:44<00:00,  6.97it/s]\n",
      "Validating: 100%|██████████| 40/40 [00:02<00:00, 15.36it/s]\n"
     ]
    },
    {
     "name": "stdout",
     "output_type": "stream",
     "text": [
      "Train Loss: 0.00272 | Val Loss: 0.02128 | LR: 7.83e-05\n",
      "\n",
      "Epoch 948/1000\n"
     ]
    },
    {
     "name": "stderr",
     "output_type": "stream",
     "text": [
      "Training: 100%|██████████| 313/313 [00:44<00:00,  6.99it/s]\n",
      "Validating: 100%|██████████| 40/40 [00:02<00:00, 15.45it/s]\n"
     ]
    },
    {
     "name": "stdout",
     "output_type": "stream",
     "text": [
      "Train Loss: 0.00272 | Val Loss: 0.02147 | LR: 7.81e-05\n",
      "\n",
      "Epoch 949/1000\n"
     ]
    },
    {
     "name": "stderr",
     "output_type": "stream",
     "text": [
      "Training: 100%|██████████| 313/313 [00:44<00:00,  6.99it/s]\n",
      "Validating: 100%|██████████| 40/40 [00:02<00:00, 15.55it/s]\n"
     ]
    },
    {
     "name": "stdout",
     "output_type": "stream",
     "text": [
      "Train Loss: 0.00270 | Val Loss: 0.02143 | LR: 7.79e-05\n",
      "\n",
      "Epoch 950/1000\n"
     ]
    },
    {
     "name": "stderr",
     "output_type": "stream",
     "text": [
      "Training: 100%|██████████| 313/313 [00:44<00:00,  6.99it/s]\n",
      "Validating: 100%|██████████| 40/40 [00:02<00:00, 15.54it/s]\n"
     ]
    },
    {
     "name": "stdout",
     "output_type": "stream",
     "text": [
      "Train Loss: 0.00271 | Val Loss: 0.02133 | LR: 7.78e-05\n",
      "\n",
      "Epoch 951/1000\n"
     ]
    },
    {
     "name": "stderr",
     "output_type": "stream",
     "text": [
      "Training: 100%|██████████| 313/313 [00:44<00:00,  7.00it/s]\n",
      "Validating: 100%|██████████| 40/40 [00:02<00:00, 15.48it/s]\n"
     ]
    },
    {
     "name": "stdout",
     "output_type": "stream",
     "text": [
      "Train Loss: 0.00267 | Val Loss: 0.02129 | LR: 7.76e-05\n",
      "\n",
      "Epoch 952/1000\n"
     ]
    },
    {
     "name": "stderr",
     "output_type": "stream",
     "text": [
      "Training: 100%|██████████| 313/313 [00:44<00:00,  7.00it/s]\n",
      "Validating: 100%|██████████| 40/40 [00:02<00:00, 15.57it/s]\n"
     ]
    },
    {
     "name": "stdout",
     "output_type": "stream",
     "text": [
      "Train Loss: 0.00273 | Val Loss: 0.02130 | LR: 7.75e-05\n",
      "\n",
      "Epoch 953/1000\n"
     ]
    },
    {
     "name": "stderr",
     "output_type": "stream",
     "text": [
      "Training: 100%|██████████| 313/313 [00:44<00:00,  7.01it/s]\n",
      "Validating: 100%|██████████| 40/40 [00:02<00:00, 15.48it/s]\n"
     ]
    },
    {
     "name": "stdout",
     "output_type": "stream",
     "text": [
      "Train Loss: 0.00273 | Val Loss: 0.02149 | LR: 7.73e-05\n",
      "\n",
      "Epoch 954/1000\n"
     ]
    },
    {
     "name": "stderr",
     "output_type": "stream",
     "text": [
      "Training: 100%|██████████| 313/313 [00:44<00:00,  7.00it/s]\n",
      "Validating: 100%|██████████| 40/40 [00:02<00:00, 15.54it/s]\n"
     ]
    },
    {
     "name": "stdout",
     "output_type": "stream",
     "text": [
      "Train Loss: 0.00270 | Val Loss: 0.02145 | LR: 7.71e-05\n",
      "\n",
      "Epoch 955/1000\n"
     ]
    },
    {
     "name": "stderr",
     "output_type": "stream",
     "text": [
      "Training: 100%|██████████| 313/313 [00:44<00:00,  7.01it/s]\n",
      "Validating: 100%|██████████| 40/40 [00:02<00:00, 15.54it/s]\n"
     ]
    },
    {
     "name": "stdout",
     "output_type": "stream",
     "text": [
      "Train Loss: 0.00270 | Val Loss: 0.02142 | LR: 7.70e-05\n",
      "\n",
      "Epoch 956/1000\n"
     ]
    },
    {
     "name": "stderr",
     "output_type": "stream",
     "text": [
      "Training: 100%|██████████| 313/313 [00:44<00:00,  7.01it/s]\n",
      "Validating: 100%|██████████| 40/40 [00:02<00:00, 15.52it/s]\n"
     ]
    },
    {
     "name": "stdout",
     "output_type": "stream",
     "text": [
      "Train Loss: 0.00267 | Val Loss: 0.02132 | LR: 7.68e-05\n",
      "\n",
      "Epoch 957/1000\n"
     ]
    },
    {
     "name": "stderr",
     "output_type": "stream",
     "text": [
      "Training: 100%|██████████| 313/313 [00:44<00:00,  7.00it/s]\n",
      "Validating: 100%|██████████| 40/40 [00:02<00:00, 15.57it/s]\n"
     ]
    },
    {
     "name": "stdout",
     "output_type": "stream",
     "text": [
      "Train Loss: 0.00271 | Val Loss: 0.02145 | LR: 7.66e-05\n",
      "\n",
      "Epoch 958/1000\n"
     ]
    },
    {
     "name": "stderr",
     "output_type": "stream",
     "text": [
      "Training: 100%|██████████| 313/313 [00:44<00:00,  7.01it/s]\n",
      "Validating: 100%|██████████| 40/40 [00:02<00:00, 15.45it/s]\n"
     ]
    },
    {
     "name": "stdout",
     "output_type": "stream",
     "text": [
      "Train Loss: 0.00267 | Val Loss: 0.02126 | LR: 7.65e-05\n",
      "\n",
      "Epoch 959/1000\n"
     ]
    },
    {
     "name": "stderr",
     "output_type": "stream",
     "text": [
      "Training: 100%|██████████| 313/313 [00:44<00:00,  7.00it/s]\n",
      "Validating: 100%|██████████| 40/40 [00:02<00:00, 15.55it/s]\n"
     ]
    },
    {
     "name": "stdout",
     "output_type": "stream",
     "text": [
      "Train Loss: 0.00270 | Val Loss: 0.02143 | LR: 7.63e-05\n",
      "\n",
      "Epoch 960/1000\n"
     ]
    },
    {
     "name": "stderr",
     "output_type": "stream",
     "text": [
      "Training: 100%|██████████| 313/313 [00:44<00:00,  7.01it/s]\n",
      "Validating: 100%|██████████| 40/40 [00:02<00:00, 15.60it/s]\n"
     ]
    },
    {
     "name": "stdout",
     "output_type": "stream",
     "text": [
      "Train Loss: 0.00268 | Val Loss: 0.02136 | LR: 7.61e-05\n",
      "\n",
      "Epoch 961/1000\n"
     ]
    },
    {
     "name": "stderr",
     "output_type": "stream",
     "text": [
      "Training: 100%|██████████| 313/313 [00:45<00:00,  6.88it/s]\n",
      "Validating: 100%|██████████| 40/40 [00:02<00:00, 15.42it/s]\n"
     ]
    },
    {
     "name": "stdout",
     "output_type": "stream",
     "text": [
      "Train Loss: 0.00269 | Val Loss: 0.02136 | LR: 7.60e-05\n",
      "\n",
      "Epoch 962/1000\n"
     ]
    },
    {
     "name": "stderr",
     "output_type": "stream",
     "text": [
      "Training: 100%|██████████| 313/313 [00:44<00:00,  6.99it/s]\n",
      "Validating: 100%|██████████| 40/40 [00:02<00:00, 15.50it/s]\n"
     ]
    },
    {
     "name": "stdout",
     "output_type": "stream",
     "text": [
      "Train Loss: 0.00268 | Val Loss: 0.02142 | LR: 7.58e-05\n",
      "\n",
      "Epoch 963/1000\n"
     ]
    },
    {
     "name": "stderr",
     "output_type": "stream",
     "text": [
      "Training: 100%|██████████| 313/313 [00:44<00:00,  6.98it/s]\n",
      "Validating: 100%|██████████| 40/40 [00:02<00:00, 15.37it/s]\n"
     ]
    },
    {
     "name": "stdout",
     "output_type": "stream",
     "text": [
      "Train Loss: 0.00270 | Val Loss: 0.02138 | LR: 7.56e-05\n",
      "\n",
      "Epoch 964/1000\n"
     ]
    },
    {
     "name": "stderr",
     "output_type": "stream",
     "text": [
      "Training: 100%|██████████| 313/313 [00:44<00:00,  6.98it/s]\n",
      "Validating: 100%|██████████| 40/40 [00:02<00:00, 15.40it/s]\n"
     ]
    },
    {
     "name": "stdout",
     "output_type": "stream",
     "text": [
      "Train Loss: 0.00270 | Val Loss: 0.02137 | LR: 7.55e-05\n",
      "\n",
      "Epoch 965/1000\n"
     ]
    },
    {
     "name": "stderr",
     "output_type": "stream",
     "text": [
      "Training: 100%|██████████| 313/313 [00:44<00:00,  7.00it/s]\n",
      "Validating: 100%|██████████| 40/40 [00:02<00:00, 15.49it/s]\n"
     ]
    },
    {
     "name": "stdout",
     "output_type": "stream",
     "text": [
      "Train Loss: 0.00270 | Val Loss: 0.02127 | LR: 7.53e-05\n",
      "\n",
      "Epoch 966/1000\n"
     ]
    },
    {
     "name": "stderr",
     "output_type": "stream",
     "text": [
      "Training: 100%|██████████| 313/313 [00:44<00:00,  6.98it/s]\n",
      "Validating: 100%|██████████| 40/40 [00:02<00:00, 15.41it/s]\n"
     ]
    },
    {
     "name": "stdout",
     "output_type": "stream",
     "text": [
      "Train Loss: 0.00267 | Val Loss: 0.02151 | LR: 7.51e-05\n",
      "\n",
      "Epoch 967/1000\n"
     ]
    },
    {
     "name": "stderr",
     "output_type": "stream",
     "text": [
      "Training: 100%|██████████| 313/313 [00:44<00:00,  7.00it/s]\n",
      "Validating: 100%|██████████| 40/40 [00:02<00:00, 15.49it/s]\n"
     ]
    },
    {
     "name": "stdout",
     "output_type": "stream",
     "text": [
      "Train Loss: 0.00269 | Val Loss: 0.02144 | LR: 7.49e-05\n",
      "\n",
      "Epoch 968/1000\n"
     ]
    },
    {
     "name": "stderr",
     "output_type": "stream",
     "text": [
      "Training: 100%|██████████| 313/313 [00:44<00:00,  7.00it/s]\n",
      "Validating: 100%|██████████| 40/40 [00:02<00:00, 15.51it/s]\n"
     ]
    },
    {
     "name": "stdout",
     "output_type": "stream",
     "text": [
      "Train Loss: 0.00266 | Val Loss: 0.02143 | LR: 7.48e-05\n",
      "\n",
      "Epoch 969/1000\n"
     ]
    },
    {
     "name": "stderr",
     "output_type": "stream",
     "text": [
      "Training: 100%|██████████| 313/313 [00:44<00:00,  6.99it/s]\n",
      "Validating: 100%|██████████| 40/40 [00:02<00:00, 15.47it/s]\n"
     ]
    },
    {
     "name": "stdout",
     "output_type": "stream",
     "text": [
      "Train Loss: 0.00268 | Val Loss: 0.02128 | LR: 7.46e-05\n",
      "\n",
      "Epoch 970/1000\n"
     ]
    },
    {
     "name": "stderr",
     "output_type": "stream",
     "text": [
      "Training: 100%|██████████| 313/313 [00:44<00:00,  7.00it/s]\n",
      "Validating: 100%|██████████| 40/40 [00:02<00:00, 15.55it/s]\n"
     ]
    },
    {
     "name": "stdout",
     "output_type": "stream",
     "text": [
      "Train Loss: 0.00270 | Val Loss: 0.02143 | LR: 7.44e-05\n",
      "\n",
      "Epoch 971/1000\n"
     ]
    },
    {
     "name": "stderr",
     "output_type": "stream",
     "text": [
      "Training: 100%|██████████| 313/313 [00:44<00:00,  7.00it/s]\n",
      "Validating: 100%|██████████| 40/40 [00:02<00:00, 15.54it/s]\n"
     ]
    },
    {
     "name": "stdout",
     "output_type": "stream",
     "text": [
      "Train Loss: 0.00272 | Val Loss: 0.02146 | LR: 7.43e-05\n",
      "\n",
      "Epoch 972/1000\n"
     ]
    },
    {
     "name": "stderr",
     "output_type": "stream",
     "text": [
      "Training: 100%|██████████| 313/313 [00:44<00:00,  7.00it/s]\n",
      "Validating: 100%|██████████| 40/40 [00:02<00:00, 15.58it/s]\n"
     ]
    },
    {
     "name": "stdout",
     "output_type": "stream",
     "text": [
      "Train Loss: 0.00270 | Val Loss: 0.02140 | LR: 7.41e-05\n",
      "\n",
      "Epoch 973/1000\n"
     ]
    },
    {
     "name": "stderr",
     "output_type": "stream",
     "text": [
      "Training: 100%|██████████| 313/313 [00:44<00:00,  7.00it/s]\n",
      "Validating: 100%|██████████| 40/40 [00:02<00:00, 15.58it/s]\n"
     ]
    },
    {
     "name": "stdout",
     "output_type": "stream",
     "text": [
      "Train Loss: 0.00268 | Val Loss: 0.02136 | LR: 7.39e-05\n",
      "\n",
      "Epoch 974/1000\n"
     ]
    },
    {
     "name": "stderr",
     "output_type": "stream",
     "text": [
      "Training: 100%|██████████| 313/313 [00:44<00:00,  7.00it/s]\n",
      "Validating: 100%|██████████| 40/40 [00:02<00:00, 15.50it/s]\n"
     ]
    },
    {
     "name": "stdout",
     "output_type": "stream",
     "text": [
      "Train Loss: 0.00269 | Val Loss: 0.02147 | LR: 7.37e-05\n",
      "\n",
      "Epoch 975/1000\n"
     ]
    },
    {
     "name": "stderr",
     "output_type": "stream",
     "text": [
      "Training: 100%|██████████| 313/313 [00:44<00:00,  7.00it/s]\n",
      "Validating: 100%|██████████| 40/40 [00:02<00:00, 15.52it/s]\n"
     ]
    },
    {
     "name": "stdout",
     "output_type": "stream",
     "text": [
      "Train Loss: 0.00270 | Val Loss: 0.02160 | LR: 7.36e-05\n",
      "\n",
      "Epoch 976/1000\n"
     ]
    },
    {
     "name": "stderr",
     "output_type": "stream",
     "text": [
      "Training: 100%|██████████| 313/313 [00:44<00:00,  7.00it/s]\n",
      "Validating: 100%|██████████| 40/40 [00:02<00:00, 15.56it/s]\n"
     ]
    },
    {
     "name": "stdout",
     "output_type": "stream",
     "text": [
      "Train Loss: 0.00268 | Val Loss: 0.02144 | LR: 7.34e-05\n",
      "\n",
      "Epoch 977/1000\n"
     ]
    },
    {
     "name": "stderr",
     "output_type": "stream",
     "text": [
      "Training: 100%|██████████| 313/313 [00:44<00:00,  7.00it/s]\n",
      "Validating: 100%|██████████| 40/40 [00:02<00:00, 15.50it/s]\n"
     ]
    },
    {
     "name": "stdout",
     "output_type": "stream",
     "text": [
      "Train Loss: 0.00270 | Val Loss: 0.02147 | LR: 7.32e-05\n",
      "\n",
      "Epoch 978/1000\n"
     ]
    },
    {
     "name": "stderr",
     "output_type": "stream",
     "text": [
      "Training: 100%|██████████| 313/313 [00:44<00:00,  7.01it/s]\n",
      "Validating: 100%|██████████| 40/40 [00:02<00:00, 15.53it/s]\n"
     ]
    },
    {
     "name": "stdout",
     "output_type": "stream",
     "text": [
      "Train Loss: 0.00266 | Val Loss: 0.02159 | LR: 7.30e-05\n",
      "\n",
      "Epoch 979/1000\n"
     ]
    },
    {
     "name": "stderr",
     "output_type": "stream",
     "text": [
      "Training: 100%|██████████| 313/313 [00:44<00:00,  7.00it/s]\n",
      "Validating: 100%|██████████| 40/40 [00:02<00:00, 15.58it/s]\n"
     ]
    },
    {
     "name": "stdout",
     "output_type": "stream",
     "text": [
      "Train Loss: 0.00272 | Val Loss: 0.02150 | LR: 7.29e-05\n",
      "\n",
      "Epoch 980/1000\n"
     ]
    },
    {
     "name": "stderr",
     "output_type": "stream",
     "text": [
      "Training: 100%|██████████| 313/313 [00:45<00:00,  6.86it/s]\n",
      "Validating: 100%|██████████| 40/40 [00:02<00:00, 15.30it/s]\n"
     ]
    },
    {
     "name": "stdout",
     "output_type": "stream",
     "text": [
      "Train Loss: 0.00274 | Val Loss: 0.02138 | LR: 7.27e-05\n",
      "\n",
      "Epoch 981/1000\n"
     ]
    },
    {
     "name": "stderr",
     "output_type": "stream",
     "text": [
      "Training: 100%|██████████| 313/313 [00:44<00:00,  6.97it/s]\n",
      "Validating: 100%|██████████| 40/40 [00:02<00:00, 15.41it/s]\n"
     ]
    },
    {
     "name": "stdout",
     "output_type": "stream",
     "text": [
      "Train Loss: 0.00269 | Val Loss: 0.02140 | LR: 7.25e-05\n",
      "\n",
      "Epoch 982/1000\n"
     ]
    },
    {
     "name": "stderr",
     "output_type": "stream",
     "text": [
      "Training: 100%|██████████| 313/313 [00:44<00:00,  6.99it/s]\n",
      "Validating: 100%|██████████| 40/40 [00:02<00:00, 15.43it/s]\n"
     ]
    },
    {
     "name": "stdout",
     "output_type": "stream",
     "text": [
      "Train Loss: 0.00269 | Val Loss: 0.02138 | LR: 7.23e-05\n",
      "\n",
      "Epoch 983/1000\n"
     ]
    },
    {
     "name": "stderr",
     "output_type": "stream",
     "text": [
      "Training: 100%|██████████| 313/313 [00:44<00:00,  6.99it/s]\n",
      "Validating: 100%|██████████| 40/40 [00:02<00:00, 15.47it/s]\n"
     ]
    },
    {
     "name": "stdout",
     "output_type": "stream",
     "text": [
      "Train Loss: 0.00267 | Val Loss: 0.02141 | LR: 7.22e-05\n",
      "\n",
      "Epoch 984/1000\n"
     ]
    },
    {
     "name": "stderr",
     "output_type": "stream",
     "text": [
      "Training: 100%|██████████| 313/313 [00:44<00:00,  7.00it/s]\n",
      "Validating: 100%|██████████| 40/40 [00:02<00:00, 15.41it/s]\n"
     ]
    },
    {
     "name": "stdout",
     "output_type": "stream",
     "text": [
      "Train Loss: 0.00270 | Val Loss: 0.02142 | LR: 7.20e-05\n",
      "\n",
      "Epoch 985/1000\n"
     ]
    },
    {
     "name": "stderr",
     "output_type": "stream",
     "text": [
      "Training: 100%|██████████| 313/313 [00:44<00:00,  6.99it/s]\n",
      "Validating: 100%|██████████| 40/40 [00:02<00:00, 15.54it/s]\n"
     ]
    },
    {
     "name": "stdout",
     "output_type": "stream",
     "text": [
      "Train Loss: 0.00267 | Val Loss: 0.02145 | LR: 7.18e-05\n",
      "\n",
      "Epoch 986/1000\n"
     ]
    },
    {
     "name": "stderr",
     "output_type": "stream",
     "text": [
      "Training: 100%|██████████| 313/313 [00:44<00:00,  7.00it/s]\n",
      "Validating: 100%|██████████| 40/40 [00:02<00:00, 15.51it/s]\n"
     ]
    },
    {
     "name": "stdout",
     "output_type": "stream",
     "text": [
      "Train Loss: 0.00270 | Val Loss: 0.02141 | LR: 7.16e-05\n",
      "\n",
      "Epoch 987/1000\n"
     ]
    },
    {
     "name": "stderr",
     "output_type": "stream",
     "text": [
      "Training: 100%|██████████| 313/313 [00:44<00:00,  7.00it/s]\n",
      "Validating: 100%|██████████| 40/40 [00:02<00:00, 15.51it/s]\n"
     ]
    },
    {
     "name": "stdout",
     "output_type": "stream",
     "text": [
      "Train Loss: 0.00268 | Val Loss: 0.02141 | LR: 7.15e-05\n",
      "\n",
      "Epoch 988/1000\n"
     ]
    },
    {
     "name": "stderr",
     "output_type": "stream",
     "text": [
      "Training: 100%|██████████| 313/313 [00:44<00:00,  7.00it/s]\n",
      "Validating: 100%|██████████| 40/40 [00:02<00:00, 15.49it/s]\n"
     ]
    },
    {
     "name": "stdout",
     "output_type": "stream",
     "text": [
      "Train Loss: 0.00267 | Val Loss: 0.02154 | LR: 7.13e-05\n",
      "\n",
      "Epoch 989/1000\n"
     ]
    },
    {
     "name": "stderr",
     "output_type": "stream",
     "text": [
      "Training: 100%|██████████| 313/313 [00:44<00:00,  7.00it/s]\n",
      "Validating: 100%|██████████| 40/40 [00:02<00:00, 15.47it/s]\n"
     ]
    },
    {
     "name": "stdout",
     "output_type": "stream",
     "text": [
      "Train Loss: 0.00267 | Val Loss: 0.02145 | LR: 7.11e-05\n",
      "\n",
      "Epoch 990/1000\n"
     ]
    },
    {
     "name": "stderr",
     "output_type": "stream",
     "text": [
      "Training: 100%|██████████| 313/313 [00:44<00:00,  7.00it/s]\n",
      "Validating: 100%|██████████| 40/40 [00:02<00:00, 15.50it/s]\n"
     ]
    },
    {
     "name": "stdout",
     "output_type": "stream",
     "text": [
      "Train Loss: 0.00265 | Val Loss: 0.02138 | LR: 7.09e-05\n",
      "\n",
      "Epoch 991/1000\n"
     ]
    },
    {
     "name": "stderr",
     "output_type": "stream",
     "text": [
      "Training: 100%|██████████| 313/313 [00:44<00:00,  7.00it/s]\n",
      "Validating: 100%|██████████| 40/40 [00:02<00:00, 15.54it/s]\n"
     ]
    },
    {
     "name": "stdout",
     "output_type": "stream",
     "text": [
      "Train Loss: 0.00267 | Val Loss: 0.02150 | LR: 7.08e-05\n",
      "\n",
      "Epoch 992/1000\n"
     ]
    },
    {
     "name": "stderr",
     "output_type": "stream",
     "text": [
      "Training: 100%|██████████| 313/313 [00:44<00:00,  7.00it/s]\n",
      "Validating: 100%|██████████| 40/40 [00:02<00:00, 15.54it/s]\n"
     ]
    },
    {
     "name": "stdout",
     "output_type": "stream",
     "text": [
      "Train Loss: 0.00268 | Val Loss: 0.02151 | LR: 7.06e-05\n",
      "\n",
      "Epoch 993/1000\n"
     ]
    },
    {
     "name": "stderr",
     "output_type": "stream",
     "text": [
      "Training: 100%|██████████| 313/313 [00:44<00:00,  7.00it/s]\n",
      "Validating: 100%|██████████| 40/40 [00:02<00:00, 15.55it/s]\n"
     ]
    },
    {
     "name": "stdout",
     "output_type": "stream",
     "text": [
      "Train Loss: 0.00268 | Val Loss: 0.02137 | LR: 7.04e-05\n",
      "\n",
      "Epoch 994/1000\n"
     ]
    },
    {
     "name": "stderr",
     "output_type": "stream",
     "text": [
      "Training: 100%|██████████| 313/313 [00:44<00:00,  7.00it/s]\n",
      "Validating: 100%|██████████| 40/40 [00:02<00:00, 15.54it/s]\n"
     ]
    },
    {
     "name": "stdout",
     "output_type": "stream",
     "text": [
      "Train Loss: 0.00267 | Val Loss: 0.02153 | LR: 7.02e-05\n",
      "\n",
      "Epoch 995/1000\n"
     ]
    },
    {
     "name": "stderr",
     "output_type": "stream",
     "text": [
      "Training: 100%|██████████| 313/313 [00:44<00:00,  7.00it/s]\n",
      "Validating: 100%|██████████| 40/40 [00:02<00:00, 15.59it/s]\n"
     ]
    },
    {
     "name": "stdout",
     "output_type": "stream",
     "text": [
      "Train Loss: 0.00266 | Val Loss: 0.02148 | LR: 7.00e-05\n",
      "\n",
      "Epoch 996/1000\n"
     ]
    },
    {
     "name": "stderr",
     "output_type": "stream",
     "text": [
      "Training: 100%|██████████| 313/313 [00:44<00:00,  7.00it/s]\n",
      "Validating: 100%|██████████| 40/40 [00:02<00:00, 15.56it/s]\n"
     ]
    },
    {
     "name": "stdout",
     "output_type": "stream",
     "text": [
      "Train Loss: 0.00267 | Val Loss: 0.02152 | LR: 6.99e-05\n",
      "\n",
      "Epoch 997/1000\n"
     ]
    },
    {
     "name": "stderr",
     "output_type": "stream",
     "text": [
      "Training: 100%|██████████| 313/313 [00:44<00:00,  7.01it/s]\n",
      "Validating: 100%|██████████| 40/40 [00:02<00:00, 15.54it/s]\n"
     ]
    },
    {
     "name": "stdout",
     "output_type": "stream",
     "text": [
      "Train Loss: 0.00268 | Val Loss: 0.02148 | LR: 6.97e-05\n",
      "\n",
      "Epoch 998/1000\n"
     ]
    },
    {
     "name": "stderr",
     "output_type": "stream",
     "text": [
      "Training: 100%|██████████| 313/313 [00:44<00:00,  7.01it/s]\n",
      "Validating: 100%|██████████| 40/40 [00:02<00:00, 15.51it/s]\n"
     ]
    },
    {
     "name": "stdout",
     "output_type": "stream",
     "text": [
      "Train Loss: 0.00267 | Val Loss: 0.02152 | LR: 6.95e-05\n",
      "\n",
      "Epoch 999/1000\n"
     ]
    },
    {
     "name": "stderr",
     "output_type": "stream",
     "text": [
      "Training: 100%|██████████| 313/313 [00:45<00:00,  6.86it/s]\n",
      "Validating: 100%|██████████| 40/40 [00:02<00:00, 15.36it/s]\n"
     ]
    },
    {
     "name": "stdout",
     "output_type": "stream",
     "text": [
      "Train Loss: 0.00267 | Val Loss: 0.02173 | LR: 6.93e-05\n",
      "\n",
      "Epoch 1000/1000\n"
     ]
    },
    {
     "name": "stderr",
     "output_type": "stream",
     "text": [
      "Training: 100%|██████████| 313/313 [00:44<00:00,  6.96it/s]\n",
      "Validating: 100%|██████████| 40/40 [00:02<00:00, 15.39it/s]\n"
     ]
    },
    {
     "name": "stdout",
     "output_type": "stream",
     "text": [
      "Train Loss: 0.00269 | Val Loss: 0.02160 | LR: 6.91e-05\n"
     ]
    },
    {
     "name": "stderr",
     "output_type": "stream",
     "text": [
      "Sampling: 100%|██████████| 91/91 [00:00<00:00, 344.40it/s]\n"
     ]
    },
    {
     "data": {
      "image/png": "[encoded data removed]",
      "text/plain": [
       "<Figure size 1200x400 with 3 Axes>"
      ]
     },
     "metadata": {},
     "output_type": "display_data"
    }
   ],
   "source": [
    "import torch\n",
    "import torchvision\n",
    "from torch import nn\n",
    "from torch.utils.data import DataLoader, random_split\n",
    "from PIL import Image\n",
    "import io\n",
    "import random\n",
    "import matplotlib.pyplot as plt\n",
    "import torch.nn.functional as F\n",
    "import math\n",
    "import os\n",
    "from tqdm import tqdm\n",
    "import numpy as np\n",
    "\n",
    "# 設定設備\n",
    "device = torch.device(\"cuda\" if torch.cuda.is_available() else \"cpu\")\n",
    "print(f\"Using device: {device}\")\n",
    "\n",
    "# 資料預處理\n",
    "transform = torchvision.transforms.Compose([\n",
    "    torchvision.transforms.ToTensor(),\n",
    "    torchvision.transforms.Normalize((0.5, 0.5, 0.5), (0.5, 0.5, 0.5))\n",
    "])\n",
    "\n",
    "dataset = torchvision.datasets.CIFAR10(\n",
    "    root=\"./data\", train=True, download=True, transform=transform\n",
    ")\n",
    "\n",
    "train_size = int(0.8 * len(dataset))\n",
    "valid_size = int(0.1 * len(dataset))\n",
    "test_size = len(dataset) - train_size - valid_size\n",
    "train_dataset, valid_dataset, test_dataset = random_split(\n",
    "    dataset, [train_size, valid_size, test_size]\n",
    ")\n",
    "\n",
    "# 資料載入器設定\n",
    "batch_size = 128\n",
    "train_dataloader = DataLoader(train_dataset, batch_size=batch_size, shuffle=True, num_workers=4, pin_memory=True)\n",
    "valid_dataloader = DataLoader(valid_dataset, batch_size=batch_size, shuffle=False)\n",
    "test_dataloader = DataLoader(test_dataset, batch_size=1, shuffle=True)\n",
    "\n",
    "# 定義JPEG壓縮函數\n",
    "def jpeg_compress(x, quality):\n",
    "    \"\"\"執行JPEG壓縮並返回結果\"\"\"\n",
    "    x = (x * 127.5 + 127.5).clamp(0, 255).to(torch.uint8).cpu()\n",
    "    compressed_images = []\n",
    "    for img in x:\n",
    "        pil_img = torchvision.transforms.ToPILImage()(img)\n",
    "        buffer = io.BytesIO()\n",
    "        # 確保quality在1-100的有效範圍內\n",
    "        quality = max(1, min(100, int(quality)))\n",
    "        pil_img.save(buffer, format=\"JPEG\", quality=quality, subsampling=\"4:2:0\" if quality < 50 else \"4:4:4\")\n",
    "        buffer.seek(0)\n",
    "        compressed_img = Image.open(buffer)\n",
    "        compressed_tensor = torchvision.transforms.ToTensor()(compressed_img)\n",
    "        compressed_images.append(compressed_tensor)\n",
    "    return torch.stack(compressed_images).to(device).sub(0.5).div(0.5)\n",
    "\n",
    "# 時間嵌入模組\n",
    "class TimeEmbedding(nn.Module):\n",
    "    def __init__(self, dim):\n",
    "        super().__init__()\n",
    "        self.dim = dim\n",
    "        self.proj = nn.Sequential(\n",
    "            nn.Linear(dim, dim * 4),\n",
    "            nn.SiLU(),\n",
    "            nn.Linear(dim * 4, dim)\n",
    "        )\n",
    "        \n",
    "    def forward(self, t):\n",
    "        half_dim = self.dim // 2\n",
    "        emb = math.log(10000) / (half_dim - 1)\n",
    "        emb = torch.exp(torch.arange(half_dim, device=device) * -emb)\n",
    "        emb = t[:, None] * emb[None, :]\n",
    "        emb = torch.cat((emb.sin(), emb.cos()), dim=-1)\n",
    "        return self.proj(emb)\n",
    "\n",
    "# 殘差注意力模塊\n",
    "class ResAttnBlock(nn.Module):\n",
    "    def __init__(self, in_c, out_c, time_dim, dropout=0.1):\n",
    "        super().__init__()\n",
    "        # 確保組數能被通道數整除\n",
    "        num_groups = min(8, in_c)\n",
    "        while in_c % num_groups != 0 and num_groups > 1:\n",
    "            num_groups -= 1\n",
    "            \n",
    "        self.norm1 = nn.GroupNorm(num_groups, in_c)\n",
    "        self.conv1 = nn.Conv2d(in_c, out_c, 3, padding=1)\n",
    "        self.time_proj = nn.Linear(time_dim, out_c)\n",
    "        \n",
    "        # 調整 out_c 的組數\n",
    "        num_groups_out = min(8, out_c)\n",
    "        while out_c % num_groups_out != 0 and num_groups_out > 1:\n",
    "            num_groups_out -= 1\n",
    "            \n",
    "        self.norm2 = nn.GroupNorm(num_groups_out, out_c)\n",
    "        self.conv2 = nn.Conv2d(out_c, out_c, 3, padding=1)\n",
    "        self.attn = nn.MultiheadAttention(out_c, 4, batch_first=True)\n",
    "        self.dropout = nn.Dropout(dropout)\n",
    "        \n",
    "        self.shortcut = nn.Conv2d(in_c, out_c, 1) if in_c != out_c else nn.Identity()\n",
    "        \n",
    "    def forward(self, x, t_emb):\n",
    "        h = self.norm1(x)\n",
    "        h = self.conv1(h)\n",
    "        \n",
    "        # 加入時間編碼\n",
    "        t = self.time_proj(t_emb)[..., None, None]\n",
    "        h = h + t\n",
    "        \n",
    "        h = self.norm2(h)\n",
    "        h = self.conv2(F.silu(h))\n",
    "        \n",
    "        # 應用自注意力機制\n",
    "        b, c, hh, ww = h.shape\n",
    "        h_attn = h.view(b, c, -1).permute(0, 2, 1)\n",
    "        h_attn, _ = self.attn(h_attn, h_attn, h_attn)\n",
    "        h_attn = h_attn.permute(0, 2, 1).view(b, c, hh, ww)\n",
    "        \n",
    "        return self.shortcut(x) + self.dropout(h_attn)\n",
    "\n",
    "# 修改後的UNet架構\n",
    "class JPEGDiffusionModel(nn.Module):\n",
    "    def __init__(self):\n",
    "        super().__init__()\n",
    "        time_dim = 256\n",
    "        self.time_embed = TimeEmbedding(time_dim)\n",
    "        \n",
    "        # 下采样路径\n",
    "        self.down1 = ResAttnBlock(3, 64, time_dim)\n",
    "        self.down2 = ResAttnBlock(64, 128, time_dim)\n",
    "        self.down3 = ResAttnBlock(128, 256, time_dim)\n",
    "        self.down4 = ResAttnBlock(256, 512, time_dim)\n",
    "        self.down5 = ResAttnBlock(512, 512, time_dim)\n",
    "        self.pool = nn.MaxPool2d(2)\n",
    "        \n",
    "        # 瓶颈层\n",
    "        self.bottleneck = nn.Sequential(\n",
    "            ResAttnBlock(512, 1024, time_dim),\n",
    "            ResAttnBlock(1024, 1024, time_dim),\n",
    "            ResAttnBlock(1024, 512, time_dim)\n",
    "        )\n",
    "        \n",
    "        # 上采样路径\n",
    "        self.up1 = ResAttnBlock(1024, 512, time_dim)\n",
    "        self.up2 = ResAttnBlock(512 + 512, 256, time_dim)\n",
    "        self.up3 = ResAttnBlock(256 + 256, 128, time_dim)\n",
    "        self.up4 = ResAttnBlock(128 + 128, 64, time_dim)\n",
    "        self.up5 = ResAttnBlock(64 + 64, 64, time_dim)\n",
    "        \n",
    "        self.out_conv = nn.Conv2d(64, 3, 1)\n",
    "        \n",
    "    def forward(self, x, t):\n",
    "        t_emb = self.time_embed(t)\n",
    "        \n",
    "        # 下采样\n",
    "        d1 = self.down1(x, t_emb)  # 32x32\n",
    "        d2 = self.down2(self.pool(d1), t_emb)  # 16x16\n",
    "        d3 = self.down3(self.pool(d2), t_emb)  # 8x8\n",
    "        d4 = self.down4(self.pool(d3), t_emb)  # 4x4\n",
    "        d5 = self.down5(self.pool(d4), t_emb)  # 2x2\n",
    "        \n",
    "        # 瓶颈层\n",
    "        b = self.bottleneck[0](self.pool(d5), t_emb)\n",
    "        b = self.bottleneck[1](b, t_emb)\n",
    "        b = self.bottleneck[2](b, t_emb)\n",
    "        \n",
    "        # 上采样\n",
    "        u1 = self.up1(torch.cat([F.interpolate(b, scale_factor=2), d5], dim=1), t_emb)\n",
    "        u2 = self.up2(torch.cat([F.interpolate(u1, scale_factor=2), d4], dim=1), t_emb)\n",
    "        u3 = self.up3(torch.cat([F.interpolate(u2, scale_factor=2), d3], dim=1), t_emb)\n",
    "        u4 = self.up4(torch.cat([F.interpolate(u3, scale_factor=2), d2], dim=1), t_emb)\n",
    "        u5 = self.up5(torch.cat([F.interpolate(u4, scale_factor=2), d1], dim=1), t_emb)\n",
    "        \n",
    "        return self.out_conv(u5)\n",
    "\n",
    "# 初始化模型\n",
    "model = JPEGDiffusionModel().to(device)\n",
    "print(f\"Total parameters: {sum(p.numel() for p in model.parameters()):,}\")\n",
    "\n",
    "# 設定優化器\n",
    "optimizer = torch.optim.AdamW(model.parameters(), lr=1e-4, weight_decay=1e-4)\n",
    "scheduler = torch.optim.lr_scheduler.CosineAnnealingWarmRestarts(optimizer, T_0=100, T_mult=2)\n",
    "loss_fn = nn.HuberLoss()  # 使用Huber損失，對於非高斯噪聲更穩健\n",
    "\n",
    "# 設定JPEG擴散參數\n",
    "num_timesteps = 100\n",
    "# 根據論文，我們可以使用更複雜的噪聲調度，這裡使用線性調度\n",
    "betas = torch.linspace(1e-4, 0.02, num_timesteps).to(device)\n",
    "alphas = 1. - betas\n",
    "alphas_cumprod = torch.cumprod(alphas, dim=0)\n",
    "\n",
    "# 訓練函數\n",
    "def train_epoch(model, loader):\n",
    "    model.train()\n",
    "    total_loss = 0\n",
    "    for x0, _ in tqdm(loader, desc=\"Training\"):\n",
    "        x0 = x0.to(device)\n",
    "        b = x0.size(0)\n",
    "        \n",
    "        # 隨機選擇時間步\n",
    "        t = torch.randint(1, num_timesteps, (b,), device=device).long()\n",
    "        \n",
    "        # JPEG壓縮模擬前向過程\n",
    "        # 將時間步映射到JPEG質量因子(1-100)，t越大，質量越低\n",
    "        quality = torch.clamp(100 * (1 - t.float() / num_timesteps), 1, 100).cpu().numpy()\n",
    "        xt = torch.stack([jpeg_compress(x0[i:i+1], int(q)) for i, q in enumerate(quality)]).squeeze()\n",
    "        \n",
    "        # 計算噪聲 (x0 - xt)，這是我們要預測的目標\n",
    "        noise = x0 - xt\n",
    "        \n",
    "        # 模型預測噪聲\n",
    "        pred_noise = model(xt, t.float()/num_timesteps)\n",
    "        \n",
    "        # 計算損失\n",
    "        loss = loss_fn(pred_noise, noise)\n",
    "        \n",
    "        # 反向傳播更新\n",
    "        optimizer.zero_grad()\n",
    "        loss.backward()\n",
    "        torch.nn.utils.clip_grad_norm_(model.parameters(), 1.0)\n",
    "        optimizer.step()\n",
    "        \n",
    "        total_loss += loss.item()\n",
    "    \n",
    "    return total_loss / len(loader)\n",
    "\n",
    "# 驗證函數\n",
    "def validate(model, loader):\n",
    "    model.eval()\n",
    "    total_loss = 0\n",
    "    with torch.no_grad():\n",
    "        for x0, _ in tqdm(loader, desc=\"Validating\"):\n",
    "            x0 = x0.to(device)\n",
    "            t = torch.full((x0.size(0),), num_timesteps-1, device=device).long()\n",
    "            quality = torch.clamp(100 * (1 - t.float() / num_timesteps), 1, 100).cpu().numpy()\n",
    "            xt = torch.stack([jpeg_compress(x0[i:i+1], int(q)) for i, q in enumerate(quality)]).squeeze()\n",
    "            noise = x0 - xt\n",
    "            pred_noise = model(xt, t.float()/num_timesteps)\n",
    "            loss = loss_fn(pred_noise, noise)\n",
    "            total_loss += loss.item()\n",
    "    return total_loss / len(loader)\n",
    "\n",
    "# 採樣函數 - 從低質量JPEG逐步恢復高質量圖像\n",
    "def sample(model, x_t, steps=100):\n",
    "    model.eval()\n",
    "    with torch.no_grad():\n",
    "        # 從最低質量開始\n",
    "        for i in tqdm(range(steps-1, -1, -1), desc=\"Sampling\"):\n",
    "            t = torch.full((x_t.size(0),), i, device=device).float() / num_timesteps\n",
    "            pred_noise = model(x_t, t)\n",
    "            # 根據預測的噪聲更新圖像\n",
    "            if i > 0:\n",
    "                # 計算下一個時間步的JPEG質量\n",
    "                next_quality = int(100 * (1 - (i-1) / num_timesteps))\n",
    "                current_quality = int(100 * (1 - i / num_timesteps))\n",
    "                \n",
    "                # 預測下一步的圖像\n",
    "                x_0_pred = x_t + pred_noise\n",
    "                \n",
    "                # 應用JPEG壓縮模擬下一步\n",
    "                x_t_next = jpeg_compress(x_0_pred, next_quality)\n",
    "                \n",
    "                # 混合當前和預測的下一步\n",
    "                alpha_t = alphas_cumprod[i]\n",
    "                alpha_t_next = alphas_cumprod[i-1] if i > 0 else torch.tensor(1.0).to(device)\n",
    "                beta_t = 1 - alpha_t / alpha_t_next\n",
    "                \n",
    "                # 添加一些隨機性，使用GMM模擬JPEG噪聲\n",
    "                # 這裡我們簡化為添加少量高斯噪聲\n",
    "                noise_scale = torch.sqrt(beta_t)\n",
    "                x_t = x_t_next + noise_scale * torch.randn_like(x_t) * 0.1\n",
    "            else:\n",
    "                # 最後一步直接預測原始圖像\n",
    "                x_t = x_t + pred_noise\n",
    "    \n",
    "    return x_t\n",
    "\n",
    "# 訓練循環\n",
    "best_val_loss = float('inf')\n",
    "train_losses = []\n",
    "val_losses = []\n",
    "epochs = 1000\n",
    "\n",
    "for epoch in range(epochs):\n",
    "    print(f\"\\nEpoch {epoch+1}/{epochs}\")\n",
    "    \n",
    "    # 訓練一個周期\n",
    "    train_loss = train_epoch(model, train_dataloader)\n",
    "    train_losses.append(train_loss)\n",
    "    \n",
    "    # 驗證一個周期\n",
    "    val_loss = validate(model, valid_dataloader)\n",
    "    val_losses.append(val_loss)\n",
    "    \n",
    "    # 更新學習率\n",
    "    scheduler.step()\n",
    "    \n",
    "    # 保存最佳模型\n",
    "    if val_loss < best_val_loss:\n",
    "        best_val_loss = val_loss\n",
    "        torch.save(model.state_dict(), f\"best_jpeg_diffusion.pth\")\n",
    "        print(f\"New best model saved with val loss {val_loss:.5f}\")\n",
    "    \n",
    "    # 繪製訓練曲線\n",
    "    plt.figure(figsize=(10, 5))\n",
    "    plt.plot(train_losses, label='Train Loss')\n",
    "    plt.plot(val_losses, label='Val Loss')\n",
    "    plt.xlabel('Epoch')\n",
    "    plt.ylabel('Loss')\n",
    "    plt.legend()\n",
    "    plt.savefig('training_curves.png')\n",
    "    plt.close()\n",
    "    \n",
    "    print(f\"Train Loss: {train_loss:.5f} | Val Loss: {val_loss:.5f} | LR: {optimizer.param_groups[0]['lr']:.2e}\")\n",
    "\n",
    "# 測試復原效果\n",
    "def test_restoration():\n",
    "    model.eval()\n",
    "    with torch.no_grad():\n",
    "        x0, _ = next(iter(test_dataloader))\n",
    "        x0 = x0.to(device)\n",
    "        \n",
    "        # 選擇一個低質量JPEG壓縮\n",
    "        low_quality = 10\n",
    "        xt = jpeg_compress(x0, low_quality)\n",
    "        \n",
    "        # 設定初始時間步\n",
    "        init_t = int((100 - low_quality) / 100 * num_timesteps)\n",
    "        t_tensor = torch.full((1,), init_t, device=device).float() / num_timesteps\n",
    "        \n",
    "        # 使用擴散模型進行採樣復原\n",
    "        restored = sample(model, xt, steps=init_t+1)\n",
    "        \n",
    "        plt.figure(figsize=(12, 4))\n",
    "        plt.subplot(131); plt.imshow(x0[0].cpu().permute(1,2,0)*0.5+0.5)\n",
    "        plt.title(\"Original\")\n",
    "        plt.subplot(132); plt.imshow(xt[0].cpu().permute(1,2,0)*0.5+0.5)\n",
    "        plt.title(f\"JPEG Q{low_quality}\")\n",
    "        plt.subplot(133); plt.imshow(restored[0].cpu().permute(1,2,0)*0.5+0.5)\n",
    "        plt.title(\"Restored\")\n",
    "        plt.savefig('restoration_results.png')\n",
    "\n",
    "# 訓練完成後測試\n",
    "test_restoration()\n"
   ]
  },
  {
   "cell_type": "code",
   "execution_count": 6,
   "metadata": {},
   "outputs": [
    {
     "name": "stdout",
     "output_type": "stream",
     "text": [
      "Using device: cuda\n",
      "Files already downloaded and verified\n",
      "Total parameters: 77,836,105\n",
      "成功載入模型權重!\n",
      "Setting up [LPIPS] perceptual loss: trunk [alex], v[0.1], spatial [off]\n"
     ]
    },
    {
     "name": "stderr",
     "output_type": "stream",
     "text": [
      "/usr/local/lib/python3.10/dist-packages/torchvision/models/_utils.py:208: UserWarning: The parameter 'pretrained' is deprecated since 0.13 and may be removed in the future, please use 'weights' instead.\n",
      "  warnings.warn(\n",
      "/usr/local/lib/python3.10/dist-packages/torchvision/models/_utils.py:223: UserWarning: Arguments other than a weight enum or `None` for 'weights' are deprecated since 0.13 and may be removed in the future. The current behavior is equivalent to passing `weights=AlexNet_Weights.IMAGENET1K_V1`. You can also use `weights=AlexNet_Weights.DEFAULT` to get the most up-to-date weights.\n",
      "  warnings.warn(msg)\n",
      "Downloading: \"https://download.pytorch.org/models/alexnet-owt-7be5be79.pth\" to /root/.cache/torch/hub/checkpoints/alexnet-owt-7be5be79.pth\n",
      "100%|██████████| 233M/233M [00:06<00:00, 36.4MB/s] \n"
     ]
    },
    {
     "name": "stdout",
     "output_type": "stream",
     "text": [
      "Loading model from: /usr/local/lib/python3.10/dist-packages/lpips/weights/v0.1/alex.pth\n"
     ]
    },
    {
     "name": "stderr",
     "output_type": "stream",
     "text": [
      "Sampling: 100%|██████████| 91/91 [00:00<00:00, 331.92it/s]\n",
      "Sampling: 100%|██████████| 71/71 [00:00<00:00, 424.07it/s]\n",
      "Sampling: 100%|██████████| 51/51 [00:00<00:00, 422.40it/s]\n",
      "Sampling: 100%|██████████| 31/31 [00:00<00:00, 419.58it/s]\n",
      "Sampling: 100%|██████████| 91/91 [00:00<00:00, 423.81it/s]s/it]\n",
      "Sampling: 100%|██████████| 71/71 [00:00<00:00, 426.70it/s]\n",
      "Sampling: 100%|██████████| 51/51 [00:00<00:00, 423.25it/s]\n",
      "Sampling: 100%|██████████| 31/31 [00:00<00:00, 425.11it/s]\n",
      "Sampling: 100%|██████████| 91/91 [00:00<00:00, 420.21it/s]it/s]\n",
      "Sampling: 100%|██████████| 71/71 [00:00<00:00, 425.52it/s]\n",
      "Sampling: 100%|██████████| 51/51 [00:00<00:00, 427.10it/s]\n",
      "Sampling: 100%|██████████| 31/31 [00:00<00:00, 424.60it/s]\n",
      "Sampling: 100%|██████████| 91/91 [00:00<00:00, 427.32it/s]it/s]\n",
      "Sampling: 100%|██████████| 71/71 [00:00<00:00, 426.22it/s]\n",
      "Sampling: 100%|██████████| 51/51 [00:00<00:00, 424.15it/s]\n",
      "Sampling: 100%|██████████| 31/31 [00:00<00:00, 424.17it/s]\n",
      "Sampling: 100%|██████████| 91/91 [00:00<00:00, 427.33it/s]it/s]\n",
      "Sampling: 100%|██████████| 71/71 [00:00<00:00, 430.84it/s]\n",
      "Sampling: 100%|██████████| 51/51 [00:00<00:00, 419.79it/s]\n",
      "Sampling: 100%|██████████| 31/31 [00:00<00:00, 418.49it/s]\n",
      "Sampling: 100%|██████████| 91/91 [00:00<00:00, 422.46it/s]it/s]\n",
      "Sampling: 100%|██████████| 71/71 [00:00<00:00, 423.45it/s]\n",
      "Sampling: 100%|██████████| 51/51 [00:00<00:00, 423.19it/s]\n",
      "Sampling: 100%|██████████| 31/31 [00:00<00:00, 424.96it/s]\n",
      "Sampling: 100%|██████████| 91/91 [00:00<00:00, 420.22it/s]it/s]\n",
      "Sampling: 100%|██████████| 71/71 [00:00<00:00, 423.14it/s]\n",
      "Sampling: 100%|██████████| 51/51 [00:00<00:00, 424.87it/s]\n",
      "Sampling: 100%|██████████| 31/31 [00:00<00:00, 423.40it/s]\n",
      "Sampling: 100%|██████████| 91/91 [00:00<00:00, 416.55it/s]it/s]\n",
      "Sampling: 100%|██████████| 71/71 [00:00<00:00, 425.21it/s]\n",
      "Sampling: 100%|██████████| 51/51 [00:00<00:00, 424.49it/s]\n",
      "Sampling: 100%|██████████| 31/31 [00:00<00:00, 425.31it/s]\n",
      "Sampling: 100%|██████████| 91/91 [00:00<00:00, 423.18it/s]it/s]\n",
      "Sampling: 100%|██████████| 71/71 [00:00<00:00, 425.98it/s]\n",
      "Sampling: 100%|██████████| 51/51 [00:00<00:00, 420.39it/s]\n",
      "Sampling: 100%|██████████| 31/31 [00:00<00:00, 424.10it/s]\n",
      "Sampling: 100%|██████████| 91/91 [00:00<00:00, 422.91it/s]it/s]\n",
      "Sampling: 100%|██████████| 71/71 [00:00<00:00, 422.02it/s]\n",
      "Sampling: 100%|██████████| 51/51 [00:00<00:00, 414.74it/s]\n",
      "Sampling: 100%|██████████| 31/31 [00:00<00:00, 394.61it/s]\n",
      "Sampling: 100%|██████████| 91/91 [00:00<00:00, 424.49it/s]3it/s]\n",
      "Sampling: 100%|██████████| 71/71 [00:00<00:00, 421.00it/s]\n",
      "Sampling: 100%|██████████| 51/51 [00:00<00:00, 393.90it/s]\n",
      "Sampling: 100%|██████████| 31/31 [00:00<00:00, 420.02it/s]\n",
      "Sampling: 100%|██████████| 91/91 [00:00<00:00, 423.67it/s]3it/s]\n",
      "Sampling: 100%|██████████| 71/71 [00:00<00:00, 413.49it/s]\n",
      "Sampling: 100%|██████████| 51/51 [00:00<00:00, 424.64it/s]\n",
      "Sampling: 100%|██████████| 31/31 [00:00<00:00, 425.39it/s]\n",
      "Sampling: 100%|██████████| 91/91 [00:00<00:00, 423.67it/s]4it/s]\n",
      "Sampling: 100%|██████████| 71/71 [00:00<00:00, 420.96it/s]\n",
      "Sampling: 100%|██████████| 51/51 [00:00<00:00, 423.75it/s]\n",
      "Sampling: 100%|██████████| 31/31 [00:00<00:00, 425.64it/s]\n",
      "Sampling: 100%|██████████| 91/91 [00:00<00:00, 423.23it/s]4it/s]\n",
      "Sampling: 100%|██████████| 71/71 [00:00<00:00, 422.59it/s]\n",
      "Sampling: 100%|██████████| 51/51 [00:00<00:00, 424.70it/s]\n",
      "Sampling: 100%|██████████| 31/31 [00:00<00:00, 424.70it/s]\n",
      "Sampling: 100%|██████████| 91/91 [00:00<00:00, 426.73it/s]5it/s]\n",
      "Sampling: 100%|██████████| 71/71 [00:00<00:00, 430.71it/s]\n",
      "Sampling: 100%|██████████| 51/51 [00:00<00:00, 429.28it/s]\n",
      "Sampling: 100%|██████████| 31/31 [00:00<00:00, 419.26it/s]\n",
      "Sampling: 100%|██████████| 91/91 [00:00<00:00, 425.95it/s]5it/s]\n",
      "Sampling: 100%|██████████| 71/71 [00:00<00:00, 427.29it/s]\n",
      "Sampling: 100%|██████████| 51/51 [00:00<00:00, 427.38it/s]\n",
      "Sampling: 100%|██████████| 31/31 [00:00<00:00, 392.67it/s]\n",
      "Sampling: 100%|██████████| 91/91 [00:00<00:00, 425.39it/s]5it/s]\n",
      "Sampling: 100%|██████████| 71/71 [00:00<00:00, 422.77it/s]\n",
      "Sampling: 100%|██████████| 51/51 [00:00<00:00, 413.50it/s]\n",
      "Sampling: 100%|██████████| 31/31 [00:00<00:00, 425.10it/s]\n",
      "Sampling: 100%|██████████| 91/91 [00:00<00:00, 421.89it/s]5it/s]\n",
      "Sampling: 100%|██████████| 71/71 [00:00<00:00, 421.17it/s]\n",
      "Sampling: 100%|██████████| 51/51 [00:00<00:00, 426.87it/s]\n",
      "Sampling: 100%|██████████| 31/31 [00:00<00:00, 424.75it/s]\n",
      "Sampling: 100%|██████████| 91/91 [00:00<00:00, 426.94it/s]5it/s]\n",
      "Sampling: 100%|██████████| 71/71 [00:00<00:00, 430.02it/s]\n",
      "Sampling: 100%|██████████| 51/51 [00:00<00:00, 426.75it/s]\n",
      "Sampling: 100%|██████████| 31/31 [00:00<00:00, 430.40it/s]\n",
      "Sampling: 100%|██████████| 91/91 [00:00<00:00, 427.53it/s]5it/s]\n",
      "Sampling: 100%|██████████| 71/71 [00:00<00:00, 427.47it/s]\n",
      "Sampling: 100%|██████████| 51/51 [00:00<00:00, 421.92it/s]\n",
      "Sampling: 100%|██████████| 31/31 [00:00<00:00, 424.86it/s]\n",
      "Sampling: 100%|██████████| 91/91 [00:00<00:00, 426.56it/s]6it/s]\n",
      "Sampling: 100%|██████████| 71/71 [00:00<00:00, 428.94it/s]\n",
      "Sampling: 100%|██████████| 51/51 [00:00<00:00, 370.31it/s]\n",
      "Sampling: 100%|██████████| 31/31 [00:00<00:00, 433.50it/s]\n",
      "Sampling: 100%|██████████| 91/91 [00:00<00:00, 427.21it/s]5it/s]\n",
      "Sampling: 100%|██████████| 71/71 [00:00<00:00, 431.38it/s]\n",
      "Sampling: 100%|██████████| 51/51 [00:00<00:00, 424.59it/s]\n",
      "Sampling: 100%|██████████| 31/31 [00:00<00:00, 425.99it/s]\n",
      "Sampling: 100%|██████████| 91/91 [00:00<00:00, 427.76it/s]5it/s]\n",
      "Sampling: 100%|██████████| 71/71 [00:00<00:00, 431.60it/s]\n",
      "Sampling: 100%|██████████| 51/51 [00:00<00:00, 428.65it/s]\n",
      "Sampling: 100%|██████████| 31/31 [00:00<00:00, 428.71it/s]\n",
      "Sampling: 100%|██████████| 91/91 [00:00<00:00, 427.22it/s]6it/s]\n",
      "Sampling: 100%|██████████| 71/71 [00:00<00:00, 432.26it/s]\n",
      "Sampling: 100%|██████████| 51/51 [00:00<00:00, 423.94it/s]\n",
      "Sampling: 100%|██████████| 31/31 [00:00<00:00, 428.55it/s]\n",
      "Sampling: 100%|██████████| 91/91 [00:00<00:00, 424.14it/s]6it/s]\n",
      "Sampling: 100%|██████████| 71/71 [00:00<00:00, 429.82it/s]\n",
      "Sampling: 100%|██████████| 51/51 [00:00<00:00, 424.45it/s]\n",
      "Sampling: 100%|██████████| 31/31 [00:00<00:00, 427.67it/s]\n",
      "Sampling: 100%|██████████| 91/91 [00:00<00:00, 409.63it/s]6it/s]\n",
      "Sampling: 100%|██████████| 71/71 [00:00<00:00, 430.57it/s]\n",
      "Sampling: 100%|██████████| 51/51 [00:00<00:00, 427.25it/s]\n",
      "Sampling: 100%|██████████| 31/31 [00:00<00:00, 429.09it/s]\n",
      "Sampling: 100%|██████████| 91/91 [00:00<00:00, 425.70it/s]6it/s]\n",
      "Sampling: 100%|██████████| 71/71 [00:00<00:00, 430.29it/s]\n",
      "Sampling: 100%|██████████| 51/51 [00:00<00:00, 429.76it/s]\n",
      "Sampling: 100%|██████████| 31/31 [00:00<00:00, 429.65it/s]\n",
      "Sampling: 100%|██████████| 91/91 [00:00<00:00, 429.53it/s]6it/s]\n",
      "Sampling: 100%|██████████| 71/71 [00:00<00:00, 427.02it/s]\n",
      "Sampling: 100%|██████████| 51/51 [00:00<00:00, 417.74it/s]\n",
      "Sampling: 100%|██████████| 31/31 [00:00<00:00, 429.80it/s]\n",
      "Sampling: 100%|██████████| 91/91 [00:00<00:00, 427.11it/s]6it/s]\n",
      "Sampling: 100%|██████████| 71/71 [00:00<00:00, 434.15it/s]\n",
      "Sampling: 100%|██████████| 51/51 [00:00<00:00, 427.22it/s]\n",
      "Sampling: 100%|██████████| 31/31 [00:00<00:00, 428.03it/s]\n",
      "Sampling: 100%|██████████| 91/91 [00:00<00:00, 425.82it/s]6it/s]\n",
      "Sampling: 100%|██████████| 71/71 [00:00<00:00, 427.37it/s]\n",
      "Sampling: 100%|██████████| 51/51 [00:00<00:00, 421.81it/s]\n",
      "Sampling: 100%|██████████| 31/31 [00:00<00:00, 425.82it/s]\n",
      "Sampling: 100%|██████████| 91/91 [00:00<00:00, 422.49it/s]5it/s]\n",
      "Sampling: 100%|██████████| 71/71 [00:00<00:00, 435.14it/s]\n",
      "Sampling: 100%|██████████| 51/51 [00:00<00:00, 427.95it/s]\n",
      "Sampling: 100%|██████████| 31/31 [00:00<00:00, 428.52it/s]\n",
      "Sampling: 100%|██████████| 91/91 [00:00<00:00, 426.46it/s]6it/s]\n",
      "Sampling: 100%|██████████| 71/71 [00:00<00:00, 431.24it/s]\n",
      "Sampling: 100%|██████████| 51/51 [00:00<00:00, 424.90it/s]\n",
      "Sampling: 100%|██████████| 31/31 [00:00<00:00, 428.21it/s]\n",
      "Sampling: 100%|██████████| 91/91 [00:00<00:00, 427.94it/s]6it/s]\n",
      "Sampling: 100%|██████████| 71/71 [00:00<00:00, 426.45it/s]\n",
      "Sampling: 100%|██████████| 51/51 [00:00<00:00, 427.37it/s]\n",
      "Sampling: 100%|██████████| 31/31 [00:00<00:00, 425.62it/s]\n",
      "Sampling: 100%|██████████| 91/91 [00:00<00:00, 427.53it/s]6it/s]\n",
      "Sampling: 100%|██████████| 71/71 [00:00<00:00, 431.28it/s]\n",
      "Sampling: 100%|██████████| 51/51 [00:00<00:00, 426.05it/s]\n",
      "Sampling: 100%|██████████| 31/31 [00:00<00:00, 425.98it/s]\n",
      "Sampling: 100%|██████████| 91/91 [00:00<00:00, 423.54it/s]6it/s]\n",
      "Sampling: 100%|██████████| 71/71 [00:00<00:00, 425.62it/s]\n",
      "Sampling: 100%|██████████| 51/51 [00:00<00:00, 426.85it/s]\n",
      "Sampling: 100%|██████████| 31/31 [00:00<00:00, 428.15it/s]\n",
      "Sampling: 100%|██████████| 91/91 [00:00<00:00, 421.13it/s]6it/s]\n",
      "Sampling: 100%|██████████| 71/71 [00:00<00:00, 428.57it/s]\n",
      "Sampling: 100%|██████████| 51/51 [00:00<00:00, 424.23it/s]\n",
      "Sampling: 100%|██████████| 31/31 [00:00<00:00, 425.63it/s]\n",
      "Sampling: 100%|██████████| 91/91 [00:00<00:00, 412.68it/s]5s/it]\n",
      "Sampling: 100%|██████████| 71/71 [00:00<00:00, 417.87it/s]\n",
      "Sampling: 100%|██████████| 51/51 [00:00<00:00, 416.51it/s]\n",
      "Sampling: 100%|██████████| 31/31 [00:00<00:00, 410.32it/s]\n",
      "Sampling: 100%|██████████| 91/91 [00:00<00:00, 414.87it/s]6s/it]\n",
      "Sampling: 100%|██████████| 71/71 [00:00<00:00, 416.65it/s]\n",
      "Sampling: 100%|██████████| 51/51 [00:00<00:00, 410.45it/s]\n",
      "Sampling: 100%|██████████| 31/31 [00:00<00:00, 413.83it/s]\n",
      "Sampling: 100%|██████████| 91/91 [00:00<00:00, 418.22it/s]2s/it]\n",
      "Sampling: 100%|██████████| 71/71 [00:00<00:00, 422.29it/s]\n",
      "Sampling: 100%|██████████| 51/51 [00:00<00:00, 419.12it/s]\n",
      "Sampling: 100%|██████████| 31/31 [00:00<00:00, 419.29it/s]\n",
      "Sampling: 100%|██████████| 91/91 [00:00<00:00, 414.56it/s]3s/it]\n",
      "Sampling: 100%|██████████| 71/71 [00:00<00:00, 417.86it/s]\n",
      "Sampling: 100%|██████████| 51/51 [00:00<00:00, 421.29it/s]\n",
      "Sampling: 100%|██████████| 31/31 [00:00<00:00, 420.19it/s]\n",
      "Sampling: 100%|██████████| 91/91 [00:00<00:00, 419.15it/s]4it/s]\n",
      "Sampling: 100%|██████████| 71/71 [00:00<00:00, 419.58it/s]\n",
      "Sampling: 100%|██████████| 51/51 [00:00<00:00, 425.05it/s]\n",
      "Sampling: 100%|██████████| 31/31 [00:00<00:00, 419.65it/s]\n",
      "Sampling: 100%|██████████| 91/91 [00:00<00:00, 409.29it/s]9it/s]\n",
      "Sampling: 100%|██████████| 71/71 [00:00<00:00, 428.74it/s]\n",
      "Sampling: 100%|██████████| 51/51 [00:00<00:00, 426.41it/s]\n",
      "Sampling: 100%|██████████| 31/31 [00:00<00:00, 424.08it/s]\n",
      "Sampling: 100%|██████████| 91/91 [00:00<00:00, 421.93it/s]3it/s]\n",
      "Sampling: 100%|██████████| 71/71 [00:00<00:00, 422.57it/s]\n",
      "Sampling: 100%|██████████| 51/51 [00:00<00:00, 417.06it/s]\n",
      "Sampling: 100%|██████████| 31/31 [00:00<00:00, 425.49it/s]\n",
      "Sampling: 100%|██████████| 91/91 [00:00<00:00, 423.74it/s]7it/s]\n",
      "Sampling: 100%|██████████| 71/71 [00:00<00:00, 425.76it/s]\n",
      "Sampling: 100%|██████████| 51/51 [00:00<00:00, 422.99it/s]\n",
      "Sampling: 100%|██████████| 31/31 [00:00<00:00, 423.64it/s]\n",
      "Sampling: 100%|██████████| 91/91 [00:00<00:00, 420.92it/s]9it/s]\n",
      "Sampling: 100%|██████████| 71/71 [00:00<00:00, 425.69it/s]\n",
      "Sampling: 100%|██████████| 51/51 [00:00<00:00, 421.86it/s]\n",
      "Sampling: 100%|██████████| 31/31 [00:00<00:00, 421.06it/s]\n",
      "Sampling: 100%|██████████| 91/91 [00:00<00:00, 419.75it/s]1it/s]\n",
      "Sampling: 100%|██████████| 71/71 [00:00<00:00, 423.14it/s]\n",
      "Sampling: 100%|██████████| 51/51 [00:00<00:00, 424.49it/s]\n",
      "Sampling: 100%|██████████| 31/31 [00:00<00:00, 423.94it/s]\n",
      "Sampling: 100%|██████████| 91/91 [00:00<00:00, 421.81it/s]2it/s]\n",
      "Sampling: 100%|██████████| 71/71 [00:00<00:00, 424.33it/s]\n",
      "Sampling: 100%|██████████| 51/51 [00:00<00:00, 420.31it/s]\n",
      "Sampling: 100%|██████████| 31/31 [00:00<00:00, 422.44it/s]\n",
      "Sampling: 100%|██████████| 91/91 [00:00<00:00, 426.05it/s]3it/s]\n",
      "Sampling: 100%|██████████| 71/71 [00:00<00:00, 425.18it/s]\n",
      "Sampling: 100%|██████████| 51/51 [00:00<00:00, 421.20it/s]\n",
      "Sampling: 100%|██████████| 31/31 [00:00<00:00, 423.94it/s]\n",
      "Sampling: 100%|██████████| 91/91 [00:00<00:00, 422.55it/s]4it/s]\n",
      "Sampling: 100%|██████████| 71/71 [00:00<00:00, 425.35it/s]\n",
      "Sampling: 100%|██████████| 51/51 [00:00<00:00, 420.74it/s]\n",
      "Sampling: 100%|██████████| 31/31 [00:00<00:00, 423.39it/s]\n",
      "Sampling: 100%|██████████| 91/91 [00:00<00:00, 424.34it/s]4it/s]\n",
      "Sampling: 100%|██████████| 71/71 [00:00<00:00, 429.79it/s]\n",
      "Sampling: 100%|██████████| 51/51 [00:00<00:00, 423.28it/s]\n",
      "Sampling: 100%|██████████| 31/31 [00:00<00:00, 423.53it/s]\n",
      "Evaluating:   0%|          | 50/10000 [00:42<2:21:13,  1.17it/s]\n"
     ]
    },
    {
     "name": "stdout",
     "output_type": "stream",
     "text": [
      "\n",
      "===== 評估結果摘要 =====\n",
      "測試樣本數: 50\n",
      "\n",
      "JPEG 質量: 10\n",
      "原圖 vs 壓縮圖 - PSNR: 23.14dB, SSIM: 0.7847, LPIPS: 0.0439\n",
      "原圖 vs 復原圖 - PSNR: 10.40dB, SSIM: 0.2665, LPIPS: 0.2717\n",
      "指標提升 - PSNR: -12.74dB, SSIM: -0.5182, LPIPS: -0.2279\n",
      "\n",
      "JPEG 質量: 30\n",
      "原圖 vs 壓縮圖 - PSNR: 26.53dB, SSIM: 0.8818, LPIPS: 0.0140\n",
      "原圖 vs 復原圖 - PSNR: 12.18dB, SSIM: 0.3899, LPIPS: 0.2641\n",
      "指標提升 - PSNR: -14.35dB, SSIM: -0.4919, LPIPS: -0.2501\n",
      "\n",
      "JPEG 質量: 50\n",
      "原圖 vs 壓縮圖 - PSNR: 29.37dB, SSIM: 0.9288, LPIPS: 0.0037\n",
      "原圖 vs 復原圖 - PSNR: 16.62dB, SSIM: 0.5817, LPIPS: 0.1892\n",
      "指標提升 - PSNR: -12.75dB, SSIM: -0.3471, LPIPS: -0.1855\n",
      "\n",
      "JPEG 質量: 70\n",
      "原圖 vs 壓縮圖 - PSNR: 31.32dB, SSIM: 0.9515, LPIPS: 0.0018\n",
      "原圖 vs 復原圖 - PSNR: 22.83dB, SSIM: 0.8054, LPIPS: 0.0753\n",
      "指標提升 - PSNR: -8.49dB, SSIM: -0.1462, LPIPS: -0.0735\n",
      "評估完成。結果圖像已保存至 'inference_results/' 文件夾。\n"
     ]
    }
   ],
   "source": [
    "import torch\n",
    "import torchvision\n",
    "from torch import nn\n",
    "from torch.utils.data import DataLoader\n",
    "from PIL import Image\n",
    "import io\n",
    "import random\n",
    "import matplotlib.pyplot as plt\n",
    "import torch.nn.functional as F\n",
    "import math\n",
    "import os\n",
    "from tqdm import tqdm\n",
    "import numpy as np\n",
    "from pytorch_msssim import ssim, ms_ssim\n",
    "import lpips\n",
    "\n",
    "# 設定設備\n",
    "device = torch.device(\"cuda\" if torch.cuda.is_available() else \"cpu\")\n",
    "print(f\"Using device: {device}\")\n",
    "\n",
    "# 資料預處理\n",
    "transform = torchvision.transforms.Compose([\n",
    "    torchvision.transforms.ToTensor(),\n",
    "    torchvision.transforms.Normalize((0.5, 0.5, 0.5), (0.5, 0.5, 0.5))\n",
    "])\n",
    "\n",
    "# 下載CIFAR-10測試資料集\n",
    "test_dataset = torchvision.datasets.CIFAR10(\n",
    "    root=\"./data\", train=False, download=True, transform=transform\n",
    ")\n",
    "\n",
    "# 資料載入器設定\n",
    "test_dataloader = DataLoader(test_dataset, batch_size=1, shuffle=True)\n",
    "\n",
    "# 定義JPEG壓縮函數\n",
    "def jpeg_compress(x, quality):\n",
    "    \"\"\"執行JPEG壓縮並返回結果\"\"\"\n",
    "    x = (x * 127.5 + 127.5).clamp(0, 255).to(torch.uint8).cpu()\n",
    "    compressed_images = []\n",
    "    for img in x:\n",
    "        pil_img = torchvision.transforms.ToPILImage()(img)\n",
    "        buffer = io.BytesIO()\n",
    "        # 確保quality在1-100的有效範圍內\n",
    "        quality = max(1, min(100, int(quality)))\n",
    "        pil_img.save(buffer, format=\"JPEG\", quality=quality, subsampling=\"4:2:0\" if quality < 50 else \"4:4:4\")\n",
    "        buffer.seek(0)\n",
    "        compressed_img = Image.open(buffer)\n",
    "        compressed_tensor = torchvision.transforms.ToTensor()(compressed_img)\n",
    "        compressed_images.append(compressed_tensor)\n",
    "    return torch.stack(compressed_images).to(device).sub(0.5).div(0.5)\n",
    "\n",
    "# 時間嵌入模組\n",
    "class TimeEmbedding(nn.Module):\n",
    "    def __init__(self, dim):\n",
    "        super().__init__()\n",
    "        self.dim = dim\n",
    "        self.proj = nn.Sequential(\n",
    "            nn.Linear(dim, dim * 4),\n",
    "            nn.SiLU(),\n",
    "            nn.Linear(dim * 4, dim)\n",
    "        )\n",
    "        \n",
    "    def forward(self, t):\n",
    "        half_dim = self.dim // 2\n",
    "        emb = math.log(10000) / (half_dim - 1)\n",
    "        emb = torch.exp(torch.arange(half_dim, device=device) * -emb)\n",
    "        emb = t[:, None] * emb[None, :]\n",
    "        emb = torch.cat((emb.sin(), emb.cos()), dim=-1)\n",
    "        return self.proj(emb)\n",
    "\n",
    "# 殘差注意力模塊\n",
    "class ResAttnBlock(nn.Module):\n",
    "    def __init__(self, in_c, out_c, time_dim, dropout=0.1):\n",
    "        super().__init__()\n",
    "        # 確保組數能被通道數整除\n",
    "        num_groups = min(8, in_c)\n",
    "        while in_c % num_groups != 0 and num_groups > 1:\n",
    "            num_groups -= 1\n",
    "            \n",
    "        self.norm1 = nn.GroupNorm(num_groups, in_c)\n",
    "        self.conv1 = nn.Conv2d(in_c, out_c, 3, padding=1)\n",
    "        self.time_proj = nn.Linear(time_dim, out_c)\n",
    "        \n",
    "        # 調整 out_c 的組數\n",
    "        num_groups_out = min(8, out_c)\n",
    "        while out_c % num_groups_out != 0 and num_groups_out > 1:\n",
    "            num_groups_out -= 1\n",
    "            \n",
    "        self.norm2 = nn.GroupNorm(num_groups_out, out_c)\n",
    "        self.conv2 = nn.Conv2d(out_c, out_c, 3, padding=1)\n",
    "        self.attn = nn.MultiheadAttention(out_c, 4, batch_first=True)\n",
    "        self.dropout = nn.Dropout(dropout)\n",
    "        \n",
    "        self.shortcut = nn.Conv2d(in_c, out_c, 1) if in_c != out_c else nn.Identity()\n",
    "        \n",
    "    def forward(self, x, t_emb):\n",
    "        h = self.norm1(x)\n",
    "        h = self.conv1(h)\n",
    "        \n",
    "        # 加入時間編碼\n",
    "        t = self.time_proj(t_emb)[..., None, None]\n",
    "        h = h + t\n",
    "        \n",
    "        h = self.norm2(h)\n",
    "        h = self.conv2(F.silu(h))\n",
    "        \n",
    "        # 應用自注意力機制\n",
    "        b, c, hh, ww = h.shape\n",
    "        h_attn = h.view(b, c, -1).permute(0, 2, 1)\n",
    "        h_attn, _ = self.attn(h_attn, h_attn, h_attn)\n",
    "        h_attn = h_attn.permute(0, 2, 1).view(b, c, hh, ww)\n",
    "        \n",
    "        return self.shortcut(x) + self.dropout(h_attn)\n",
    "\n",
    "# UNet架構\n",
    "class JPEGDiffusionModel(nn.Module):\n",
    "    def __init__(self):\n",
    "        super().__init__()\n",
    "        time_dim = 256\n",
    "        self.time_embed = TimeEmbedding(time_dim)\n",
    "        \n",
    "        # 下采样路径\n",
    "        self.down1 = ResAttnBlock(3, 64, time_dim)\n",
    "        self.down2 = ResAttnBlock(64, 128, time_dim)\n",
    "        self.down3 = ResAttnBlock(128, 256, time_dim)\n",
    "        self.down4 = ResAttnBlock(256, 512, time_dim)\n",
    "        self.down5 = ResAttnBlock(512, 512, time_dim)\n",
    "        self.pool = nn.MaxPool2d(2)\n",
    "        \n",
    "        # 瓶颈层\n",
    "        self.bottleneck = nn.Sequential(\n",
    "            ResAttnBlock(512, 1024, time_dim),\n",
    "            ResAttnBlock(1024, 1024, time_dim),\n",
    "            ResAttnBlock(1024, 512, time_dim)\n",
    "        )\n",
    "        \n",
    "        # 上采样路径\n",
    "        self.up1 = ResAttnBlock(1024, 512, time_dim)\n",
    "        self.up2 = ResAttnBlock(512 + 512, 256, time_dim)\n",
    "        self.up3 = ResAttnBlock(256 + 256, 128, time_dim)\n",
    "        self.up4 = ResAttnBlock(128 + 128, 64, time_dim)\n",
    "        self.up5 = ResAttnBlock(64 + 64, 64, time_dim)\n",
    "        \n",
    "        self.out_conv = nn.Conv2d(64, 3, 1)\n",
    "        \n",
    "    def forward(self, x, t):\n",
    "        t_emb = self.time_embed(t)\n",
    "        \n",
    "        # 下采样\n",
    "        d1 = self.down1(x, t_emb)  # 32x32\n",
    "        d2 = self.down2(self.pool(d1), t_emb)  # 16x16\n",
    "        d3 = self.down3(self.pool(d2), t_emb)  # 8x8\n",
    "        d4 = self.down4(self.pool(d3), t_emb)  # 4x4\n",
    "        d5 = self.down5(self.pool(d4), t_emb)  # 2x2\n",
    "        \n",
    "        # 瓶颈层\n",
    "        b = self.bottleneck[0](self.pool(d5), t_emb)\n",
    "        b = self.bottleneck[1](b, t_emb)\n",
    "        b = self.bottleneck[2](b, t_emb)\n",
    "        \n",
    "        # 上采样\n",
    "        u1 = self.up1(torch.cat([F.interpolate(b, scale_factor=2, mode='bilinear', align_corners=False), d5], dim=1), t_emb)\n",
    "        u2 = self.up2(torch.cat([F.interpolate(u1, scale_factor=2, mode='bilinear', align_corners=False), d4], dim=1), t_emb)\n",
    "        u3 = self.up3(torch.cat([F.interpolate(u2, scale_factor=2, mode='bilinear', align_corners=False), d3], dim=1), t_emb)\n",
    "        u4 = self.up4(torch.cat([F.interpolate(u3, scale_factor=2, mode='bilinear', align_corners=False), d2], dim=1), t_emb)\n",
    "        u5 = self.up5(torch.cat([F.interpolate(u4, scale_factor=2, mode='bilinear', align_corners=False), d1], dim=1), t_emb)\n",
    "        \n",
    "        return self.out_conv(u5)\n",
    "\n",
    "# 初始化模型\n",
    "model = JPEGDiffusionModel().to(device)\n",
    "print(f\"Total parameters: {sum(p.numel() for p in model.parameters()):,}\")\n",
    "\n",
    "# 加載訓練好的模型\n",
    "try:\n",
    "    model.load_state_dict(torch.load(\"best_jpeg_diffusion.pth\"))\n",
    "    print(\"成功載入模型權重!\")\n",
    "except:\n",
    "    print(\"未找到模型權重，請先訓練模型或確認權重文件路徑正確\")\n",
    "\n",
    "# 初始化LPIPS度量\n",
    "lpips_fn = lpips.LPIPS(net='alex').to(device)\n",
    "\n",
    "# 設定JPEG擴散參數\n",
    "num_timesteps = 100\n",
    "betas = torch.linspace(1e-4, 0.02, num_timesteps).to(device)\n",
    "alphas = 1. - betas\n",
    "alphas_cumprod = torch.cumprod(alphas, dim=0)\n",
    "\n",
    "# 定義高斯混合模型採樣器用於更好的復原效果\n",
    "class GaussianMixtureSampler:\n",
    "    def __init__(self, model):\n",
    "        self.model = model\n",
    "        \n",
    "    def sample(self, x_t, steps=100, guidance_scale=1.0):\n",
    "        \"\"\"使用高斯混合模型進行採樣\"\"\"\n",
    "        self.model.eval()\n",
    "        with torch.no_grad():\n",
    "            # 從給定的噪聲圖像開始\n",
    "            for i in tqdm(range(steps-1, -1, -1), desc=\"Sampling\"):\n",
    "                t = torch.full((x_t.size(0),), i, device=device).float() / num_timesteps\n",
    "                \n",
    "                # 獲取噪聲預測\n",
    "                pred_noise = self.model(x_t, t)\n",
    "                \n",
    "                if i > 0:\n",
    "                    # 計算高斯混合模型參數\n",
    "                    # 預測的x0\n",
    "                    x0_pred = x_t + pred_noise\n",
    "                    \n",
    "                    # 使用預測的x0計算雙峰高斯分布的均值\n",
    "                    # 第一個均值 - 更傾向於保持原始預測\n",
    "                    mu1 = x0_pred * 0.9 + x_t * 0.1\n",
    "                    \n",
    "                    # 第二個均值 - 更傾向於向原始圖像方向移動\n",
    "                    mu2 = x0_pred * 1.1 - x_t * 0.1\n",
    "                    \n",
    "                    # 隨機選擇使用哪個高斯分量\n",
    "                    if random.random() < 0.33:  # 1/3概率使用第一個均值\n",
    "                        next_mean = mu1\n",
    "                    else:  # 2/3概率使用第二個均值\n",
    "                        next_mean = mu2\n",
    "                    \n",
    "                    # 估算標準差 - 隨時間變化\n",
    "                    # 接近結束時使用較小的標準差\n",
    "                    time_weight = i / num_timesteps\n",
    "                    noise_scale = 0.15 * time_weight * guidance_scale\n",
    "                    \n",
    "                    # 下一步\n",
    "                    x_t = next_mean + torch.randn_like(x_t) * noise_scale\n",
    "                else:\n",
    "                    # 最後一步直接使用預測的原始圖像\n",
    "                    x_t = x_t + pred_noise\n",
    "        \n",
    "        return x_t\n",
    "\n",
    "# 計算PSNR\n",
    "def calculate_psnr(img1, img2):\n",
    "    # 確保值域在[0, 1]之間\n",
    "    img1 = (img1 * 0.5 + 0.5).clamp(0, 1)\n",
    "    img2 = (img2 * 0.5 + 0.5).clamp(0, 1)\n",
    "    \n",
    "    mse = F.mse_loss(img1, img2)\n",
    "    if mse == 0:\n",
    "        return float('inf')\n",
    "    return 10 * torch.log10(1.0 / mse)\n",
    "\n",
    "# 計算SSIM\n",
    "def calculate_ssim(img1, img2):\n",
    "    # 確保值域在[0, 1]之間\n",
    "    img1 = (img1 * 0.5 + 0.5).clamp(0, 1)\n",
    "    img2 = (img2 * 0.5 + 0.5).clamp(0, 1)\n",
    "    \n",
    "    return ssim(img1, img2, data_range=1.0, size_average=True)\n",
    "\n",
    "# 計算LPIPS\n",
    "def calculate_lpips(img1, img2):\n",
    "    # LPIPS需要[-1, 1]的值域\n",
    "    return lpips_fn(img1, img2).mean()\n",
    "\n",
    "# 執行推理與評估\n",
    "def run_inference(num_samples=10, qualities=[10, 30, 50, 70]):\n",
    "    \"\"\"\n",
    "    在測試數據集上進行推理，並計算評估指標\n",
    "    \n",
    "    參數:\n",
    "        num_samples: 要評估的樣本數量\n",
    "        qualities: JPEG壓縮質量列表\n",
    "    \"\"\"\n",
    "    model.eval()\n",
    "    sampler = GaussianMixtureSampler(model)\n",
    "    \n",
    "    results = {q: {'psnr_compressed': [], 'psnr_restored': [], \n",
    "                    'ssim_compressed': [], 'ssim_restored': [],\n",
    "                    'lpips_compressed': [], 'lpips_restored': []} for q in qualities}\n",
    "    \n",
    "    # 創建保存圖像的文件夾\n",
    "    os.makedirs(\"inference_results\", exist_ok=True)\n",
    "    \n",
    "    with torch.no_grad():\n",
    "        for idx, (x0, _) in enumerate(tqdm(test_dataloader, desc=\"Evaluating\")):\n",
    "            if idx >= num_samples:\n",
    "                break\n",
    "                \n",
    "            x0 = x0.to(device)\n",
    "            \n",
    "            plt.figure(figsize=(5 + 4 * len(qualities), 5))\n",
    "            plt.subplot(1, 1 + len(qualities) * 2, 1)\n",
    "            plt.imshow((x0[0].cpu().permute(1, 2, 0) * 0.5 + 0.5).clamp(0, 1))\n",
    "            plt.title(\"Original\")\n",
    "            plt.axis('off')\n",
    "            \n",
    "            # 用不同質量進行測試\n",
    "            for i, quality in enumerate(qualities):\n",
    "                # JPEG壓縮\n",
    "                xt = jpeg_compress(x0, quality)\n",
    "                \n",
    "                # 設定初始時間步基於質量\n",
    "                init_t = int((100 - quality) / 100 * num_timesteps)\n",
    "                \n",
    "                # 使用GMM採樣器進行復原\n",
    "                restored = sampler.sample(xt, steps=init_t+1, guidance_scale=0.8)\n",
    "                \n",
    "                # 計算指標\n",
    "                psnr_compressed = calculate_psnr(x0, xt).item()\n",
    "                psnr_restored = calculate_psnr(x0, restored).item()\n",
    "                \n",
    "                ssim_compressed = calculate_ssim(x0, xt).item()\n",
    "                ssim_restored = calculate_ssim(x0, restored).item()\n",
    "                \n",
    "                lpips_compressed = calculate_lpips(x0, xt).item()\n",
    "                lpips_restored = calculate_lpips(x0, restored).item()\n",
    "                \n",
    "                # 存儲結果\n",
    "                results[quality]['psnr_compressed'].append(psnr_compressed)\n",
    "                results[quality]['psnr_restored'].append(psnr_restored)\n",
    "                results[quality]['ssim_compressed'].append(ssim_compressed)\n",
    "                results[quality]['ssim_restored'].append(ssim_restored)\n",
    "                results[quality]['lpips_compressed'].append(lpips_compressed)\n",
    "                results[quality]['lpips_restored'].append(lpips_restored)\n",
    "                \n",
    "                # 顯示壓縮圖像\n",
    "                plt.subplot(1, 1 + len(qualities) * 2, 2 + i * 2)\n",
    "                plt.imshow((xt[0].cpu().permute(1, 2, 0) * 0.5 + 0.5).clamp(0, 1))\n",
    "                plt.title(f\"JPEG Q{quality}\\nPSNR: {psnr_compressed:.2f}dB\\nSSIM: {ssim_compressed:.4f}\\nLPIPS: {lpips_compressed:.4f}\")\n",
    "                plt.axis('off')\n",
    "                \n",
    "                # 顯示復原圖像\n",
    "                plt.subplot(1, 1 + len(qualities) * 2, 3 + i * 2)\n",
    "                plt.imshow((restored[0].cpu().permute(1, 2, 0) * 0.5 + 0.5).clamp(0, 1))\n",
    "                plt.title(f\"Restored\\nPSNR: {psnr_restored:.2f}dB\\nSSIM: {ssim_restored:.4f}\\nLPIPS: {lpips_restored:.4f}\")\n",
    "                plt.axis('off')\n",
    "            \n",
    "            plt.tight_layout()\n",
    "            plt.savefig(f\"inference_results/sample_{idx+1}.png\", dpi=150)\n",
    "            plt.close()\n",
    "    \n",
    "    # 計算平均指標\n",
    "    print(\"\\n===== 評估結果摘要 =====\")\n",
    "    print(f\"測試樣本數: {num_samples}\")\n",
    "    \n",
    "    for quality in qualities:\n",
    "        avg_psnr_compressed = np.mean(results[quality]['psnr_compressed'])\n",
    "        avg_psnr_restored = np.mean(results[quality]['psnr_restored'])\n",
    "        avg_ssim_compressed = np.mean(results[quality]['ssim_compressed'])\n",
    "        avg_ssim_restored = np.mean(results[quality]['ssim_restored'])\n",
    "        avg_lpips_compressed = np.mean(results[quality]['lpips_compressed'])\n",
    "        avg_lpips_restored = np.mean(results[quality]['lpips_restored'])\n",
    "        \n",
    "        psnr_gain = avg_psnr_restored - avg_psnr_compressed\n",
    "        ssim_gain = avg_ssim_restored - avg_ssim_compressed\n",
    "        lpips_gain = avg_lpips_compressed - avg_lpips_restored  # LPIPS越低越好，所以使用相反的差\n",
    "        \n",
    "        print(f\"\\nJPEG 質量: {quality}\")\n",
    "        print(f\"原圖 vs 壓縮圖 - PSNR: {avg_psnr_compressed:.2f}dB, SSIM: {avg_ssim_compressed:.4f}, LPIPS: {avg_lpips_compressed:.4f}\")\n",
    "        print(f\"原圖 vs 復原圖 - PSNR: {avg_psnr_restored:.2f}dB, SSIM: {avg_ssim_restored:.4f}, LPIPS: {avg_lpips_restored:.4f}\")\n",
    "        print(f\"指標提升 - PSNR: {psnr_gain:.2f}dB, SSIM: {ssim_gain:.4f}, LPIPS: {lpips_gain:.4f}\")\n",
    "    \n",
    "    # 繪製指標比較圖\n",
    "    plt.figure(figsize=(15, 5))\n",
    "    \n",
    "    # PSNR圖\n",
    "    plt.subplot(1, 3, 1)\n",
    "    x = np.arange(len(qualities))\n",
    "    width = 0.35\n",
    "    plt.bar(x - width/2, [np.mean(results[q]['psnr_compressed']) for q in qualities], width, label='Compressed')\n",
    "    plt.bar(x + width/2, [np.mean(results[q]['psnr_restored']) for q in qualities], width, label='Restored')\n",
    "    plt.xlabel('JPEG Quality')\n",
    "    plt.ylabel('PSNR (dB)')\n",
    "    plt.title('PSNR Comparison')\n",
    "    plt.xticks(x, qualities)\n",
    "    plt.legend()\n",
    "    \n",
    "    # SSIM圖\n",
    "    plt.subplot(1, 3, 2)\n",
    "    plt.bar(x - width/2, [np.mean(results[q]['ssim_compressed']) for q in qualities], width, label='Compressed')\n",
    "    plt.bar(x + width/2, [np.mean(results[q]['ssim_restored']) for q in qualities], width, label='Restored')\n",
    "    plt.xlabel('JPEG Quality')\n",
    "    plt.ylabel('SSIM')\n",
    "    plt.title('SSIM Comparison')\n",
    "    plt.xticks(x, qualities)\n",
    "    plt.legend()\n",
    "    \n",
    "    # LPIPS圖\n",
    "    plt.subplot(1, 3, 3)\n",
    "    plt.bar(x - width/2, [np.mean(results[q]['lpips_compressed']) for q in qualities], width, label='Compressed')\n",
    "    plt.bar(x + width/2, [np.mean(results[q]['lpips_restored']) for q in qualities], width, label='Restored')\n",
    "    plt.xlabel('JPEG Quality')\n",
    "    plt.ylabel('LPIPS (lower is better)')\n",
    "    plt.title('LPIPS Comparison')\n",
    "    plt.xticks(x, qualities)\n",
    "    plt.legend()\n",
    "    \n",
    "    plt.tight_layout()\n",
    "    plt.savefig(\"inference_results/metrics_comparison.png\", dpi=150)\n",
    "    plt.close()\n",
    "    \n",
    "    return results\n",
    "\n",
    "# 執行主程序\n",
    "if __name__ == \"__main__\":\n",
    "    # 設定要評估的JPEG質量級別\n",
    "    qualities = [10, 30, 50, 70]\n",
    "    \n",
    "    # 設定評估的樣本數量\n",
    "    num_samples = 50\n",
    "    \n",
    "    # 進行推理與評估\n",
    "    results = run_inference(num_samples, qualities)\n",
    "    \n",
    "    print(f\"評估完成。結果圖像已保存至 'inference_results/' 文件夾。\")\n"
   ]
  },
  {
   "cell_type": "code",
   "execution_count": null,
   "metadata": {},
   "outputs": [],
   "source": []
  }
 ],
 "metadata": {
  "kernelspec": {
   "display_name": "Python 3",
   "language": "python",
   "name": "python3"
  },
  "language_info": {
   "codemirror_mode": {
    "name": "ipython",
    "version": 3
   },
   "file_extension": ".py",
   "mimetype": "text/x-python",
   "name": "python",
   "nbconvert_exporter": "python",
   "pygments_lexer": "ipython3",
   "version": "3.10.6"
  }
 },
 "nbformat": 4,
 "nbformat_minor": 2
}
