{
 "cells": [
  {
   "cell_type": "code",
   "execution_count": null,
   "metadata": {},
   "outputs": [
    {
     "name": "stdout",
     "output_type": "stream",
     "text": [
      "Using device: cuda\n",
      "Files already downloaded and verified\n",
      "Total parameters: 119,873,161\n"
     ]
    },
    {
     "name": "stderr",
     "output_type": "stream",
     "text": [
      "Training Epoch 1: 100%|██████████| 313/313 [00:57<00:00,  5.47it/s]\n"
     ]
    },
    {
     "name": "stdout",
     "output_type": "stream",
     "text": [
      "Epoch 1 - Avg Loss: 0.00346, Color Loss: 0.07229, LR: 1.00e-04\n"
     ]
    },
    {
     "name": "stderr",
     "output_type": "stream",
     "text": [
      "Validating Epoch 1: 100%|██████████| 40/40 [00:03<00:00, 11.37it/s]\n"
     ]
    },
    {
     "name": "stdout",
     "output_type": "stream",
     "text": [
      "Validation - Avg Loss: 0.00309, Color Loss: 0.06812\n"
     ]
    },
    {
     "name": "stderr",
     "output_type": "stream",
     "text": [
      "Sampling: 100%|██████████| 91/91 [00:00<00:00, 93.63it/s]\n",
      "Clipping input data to the valid range for imshow with RGB data ([0..1] for floats or [0..255] for integers).\n",
      "Sampling: 100%|██████████| 71/71 [00:00<00:00, 94.34it/s]\n",
      "Clipping input data to the valid range for imshow with RGB data ([0..1] for floats or [0..255] for integers).\n",
      "Sampling: 100%|██████████| 51/51 [00:00<00:00, 94.26it/s]\n",
      "Clipping input data to the valid range for imshow with RGB data ([0..1] for floats or [0..255] for integers).\n",
      "Sampling: 100%|██████████| 31/31 [00:00<00:00, 94.73it/s]\n"
     ]
    },
    {
     "name": "stdout",
     "output_type": "stream",
     "text": [
      "New best model saved with val loss 0.00309 and color loss 0.06812\n"
     ]
    },
    {
     "name": "stderr",
     "output_type": "stream",
     "text": [
      "Training Epoch 2: 100%|██████████| 313/313 [00:57<00:00,  5.48it/s]\n"
     ]
    },
    {
     "name": "stdout",
     "output_type": "stream",
     "text": [
      "Epoch 2 - Avg Loss: 0.00325, Color Loss: 0.06845, LR: 9.99e-05\n"
     ]
    },
    {
     "name": "stderr",
     "output_type": "stream",
     "text": [
      "Validating Epoch 2: 100%|██████████| 40/40 [00:03<00:00, 11.38it/s]\n"
     ]
    },
    {
     "name": "stdout",
     "output_type": "stream",
     "text": [
      "Validation - Avg Loss: 0.00293, Color Loss: 0.06595\n",
      "New best model saved with val loss 0.00293 and color loss 0.06595\n"
     ]
    },
    {
     "name": "stderr",
     "output_type": "stream",
     "text": [
      "Training Epoch 3: 100%|██████████| 313/313 [00:57<00:00,  5.48it/s]\n"
     ]
    },
    {
     "name": "stdout",
     "output_type": "stream",
     "text": [
      "Epoch 3 - Avg Loss: 0.00312, Color Loss: 0.06697, LR: 9.98e-05\n"
     ]
    },
    {
     "name": "stderr",
     "output_type": "stream",
     "text": [
      "Validating Epoch 3: 100%|██████████| 40/40 [00:03<00:00, 11.42it/s]\n"
     ]
    },
    {
     "name": "stdout",
     "output_type": "stream",
     "text": [
      "Validation - Avg Loss: 0.00278, Color Loss: 0.06307\n",
      "New best model saved with val loss 0.00278 and color loss 0.06307\n"
     ]
    },
    {
     "name": "stderr",
     "output_type": "stream",
     "text": [
      "Training Epoch 4: 100%|██████████| 313/313 [00:57<00:00,  5.49it/s]\n"
     ]
    },
    {
     "name": "stdout",
     "output_type": "stream",
     "text": [
      "Epoch 4 - Avg Loss: 0.00293, Color Loss: 0.06305, LR: 9.96e-05\n"
     ]
    },
    {
     "name": "stderr",
     "output_type": "stream",
     "text": [
      "Validating Epoch 4: 100%|██████████| 40/40 [00:03<00:00, 11.43it/s]\n"
     ]
    },
    {
     "name": "stdout",
     "output_type": "stream",
     "text": [
      "Validation - Avg Loss: 0.00280, Color Loss: 0.06369\n"
     ]
    },
    {
     "name": "stderr",
     "output_type": "stream",
     "text": [
      "Training Epoch 5: 100%|██████████| 313/313 [00:56<00:00,  5.50it/s]\n"
     ]
    },
    {
     "name": "stdout",
     "output_type": "stream",
     "text": [
      "Epoch 5 - Avg Loss: 0.00309, Color Loss: 0.06609, LR: 9.94e-05\n"
     ]
    },
    {
     "name": "stderr",
     "output_type": "stream",
     "text": [
      "Validating Epoch 5: 100%|██████████| 40/40 [00:03<00:00, 11.37it/s]\n"
     ]
    },
    {
     "name": "stdout",
     "output_type": "stream",
     "text": [
      "Validation - Avg Loss: 0.00280, Color Loss: 0.06407\n"
     ]
    },
    {
     "name": "stderr",
     "output_type": "stream",
     "text": [
      "Training Epoch 6: 100%|██████████| 313/313 [00:57<00:00,  5.48it/s]\n"
     ]
    },
    {
     "name": "stdout",
     "output_type": "stream",
     "text": [
      "Epoch 6 - Avg Loss: 0.00264, Color Loss: 0.05911, LR: 9.91e-05\n"
     ]
    },
    {
     "name": "stderr",
     "output_type": "stream",
     "text": [
      "Validating Epoch 6: 100%|██████████| 40/40 [00:03<00:00, 11.36it/s]\n"
     ]
    },
    {
     "name": "stdout",
     "output_type": "stream",
     "text": [
      "Validation - Avg Loss: 0.00276, Color Loss: 0.06274\n"
     ]
    },
    {
     "name": "stderr",
     "output_type": "stream",
     "text": [
      "Sampling: 100%|██████████| 91/91 [00:00<00:00, 94.20it/s]\n",
      "Clipping input data to the valid range for imshow with RGB data ([0..1] for floats or [0..255] for integers).\n",
      "Sampling: 100%|██████████| 71/71 [00:00<00:00, 94.80it/s]\n",
      "Clipping input data to the valid range for imshow with RGB data ([0..1] for floats or [0..255] for integers).\n",
      "Sampling: 100%|██████████| 51/51 [00:00<00:00, 94.52it/s]\n",
      "Clipping input data to the valid range for imshow with RGB data ([0..1] for floats or [0..255] for integers).\n",
      "Sampling: 100%|██████████| 31/31 [00:00<00:00, 94.51it/s]\n",
      "Clipping input data to the valid range for imshow with RGB data ([0..1] for floats or [0..255] for integers).\n"
     ]
    },
    {
     "name": "stdout",
     "output_type": "stream",
     "text": [
      "New best model saved with val loss 0.00276 and color loss 0.06274\n"
     ]
    },
    {
     "name": "stderr",
     "output_type": "stream",
     "text": [
      "Training Epoch 7: 100%|██████████| 313/313 [00:56<00:00,  5.49it/s]\n"
     ]
    },
    {
     "name": "stdout",
     "output_type": "stream",
     "text": [
      "Epoch 7 - Avg Loss: 0.00266, Color Loss: 0.05901, LR: 9.88e-05\n"
     ]
    },
    {
     "name": "stderr",
     "output_type": "stream",
     "text": [
      "Validating Epoch 7: 100%|██████████| 40/40 [00:03<00:00, 11.44it/s]\n"
     ]
    },
    {
     "name": "stdout",
     "output_type": "stream",
     "text": [
      "Validation - Avg Loss: 0.00273, Color Loss: 0.06177\n",
      "New best model saved with val loss 0.00273 and color loss 0.06177\n"
     ]
    },
    {
     "name": "stderr",
     "output_type": "stream",
     "text": [
      "Training Epoch 8: 100%|██████████| 313/313 [00:56<00:00,  5.50it/s]\n"
     ]
    },
    {
     "name": "stdout",
     "output_type": "stream",
     "text": [
      "Epoch 8 - Avg Loss: 0.00270, Color Loss: 0.05934, LR: 9.84e-05\n"
     ]
    },
    {
     "name": "stderr",
     "output_type": "stream",
     "text": [
      "Validating Epoch 8: 100%|██████████| 40/40 [00:03<00:00, 11.45it/s]\n"
     ]
    },
    {
     "name": "stdout",
     "output_type": "stream",
     "text": [
      "Validation - Avg Loss: 0.00277, Color Loss: 0.06236\n"
     ]
    },
    {
     "name": "stderr",
     "output_type": "stream",
     "text": [
      "Training Epoch 9: 100%|██████████| 313/313 [00:56<00:00,  5.50it/s]\n"
     ]
    },
    {
     "name": "stdout",
     "output_type": "stream",
     "text": [
      "Epoch 9 - Avg Loss: 0.00270, Color Loss: 0.05974, LR: 9.80e-05\n"
     ]
    },
    {
     "name": "stderr",
     "output_type": "stream",
     "text": [
      "Validating Epoch 9: 100%|██████████| 40/40 [00:03<00:00, 11.49it/s]\n"
     ]
    },
    {
     "name": "stdout",
     "output_type": "stream",
     "text": [
      "Validation - Avg Loss: 0.00275, Color Loss: 0.06244\n"
     ]
    },
    {
     "name": "stderr",
     "output_type": "stream",
     "text": [
      "Training Epoch 10: 100%|██████████| 313/313 [00:56<00:00,  5.51it/s]\n"
     ]
    },
    {
     "name": "stdout",
     "output_type": "stream",
     "text": [
      "Epoch 10 - Avg Loss: 0.00253, Color Loss: 0.05677, LR: 9.76e-05\n"
     ]
    },
    {
     "name": "stderr",
     "output_type": "stream",
     "text": [
      "Validating Epoch 10: 100%|██████████| 40/40 [00:03<00:00, 11.52it/s]\n"
     ]
    },
    {
     "name": "stdout",
     "output_type": "stream",
     "text": [
      "Validation - Avg Loss: 0.00261, Color Loss: 0.05982\n",
      "New best model saved with val loss 0.00261 and color loss 0.05982\n"
     ]
    },
    {
     "name": "stderr",
     "output_type": "stream",
     "text": [
      "Training Epoch 11: 100%|██████████| 313/313 [00:56<00:00,  5.50it/s]\n"
     ]
    },
    {
     "name": "stdout",
     "output_type": "stream",
     "text": [
      "Epoch 11 - Avg Loss: 0.00261, Color Loss: 0.05776, LR: 9.70e-05\n"
     ]
    },
    {
     "name": "stderr",
     "output_type": "stream",
     "text": [
      "Validating Epoch 11: 100%|██████████| 40/40 [00:03<00:00, 11.47it/s]\n"
     ]
    },
    {
     "name": "stdout",
     "output_type": "stream",
     "text": [
      "Validation - Avg Loss: 0.00260, Color Loss: 0.05989\n"
     ]
    },
    {
     "name": "stderr",
     "output_type": "stream",
     "text": [
      "Sampling: 100%|██████████| 91/91 [00:00<00:00, 94.44it/s]\n",
      "Clipping input data to the valid range for imshow with RGB data ([0..1] for floats or [0..255] for integers).\n",
      "Sampling: 100%|██████████| 71/71 [00:00<00:00, 95.05it/s]\n",
      "Clipping input data to the valid range for imshow with RGB data ([0..1] for floats or [0..255] for integers).\n",
      "Sampling: 100%|██████████| 51/51 [00:00<00:00, 94.99it/s]\n",
      "Clipping input data to the valid range for imshow with RGB data ([0..1] for floats or [0..255] for integers).\n",
      "Sampling: 100%|██████████| 31/31 [00:00<00:00, 94.29it/s]\n",
      "Clipping input data to the valid range for imshow with RGB data ([0..1] for floats or [0..255] for integers).\n"
     ]
    },
    {
     "name": "stdout",
     "output_type": "stream",
     "text": [
      "New best model saved with val loss 0.00260 and color loss 0.05989\n"
     ]
    },
    {
     "name": "stderr",
     "output_type": "stream",
     "text": [
      "Training Epoch 12: 100%|██████████| 313/313 [00:56<00:00,  5.50it/s]\n"
     ]
    },
    {
     "name": "stdout",
     "output_type": "stream",
     "text": [
      "Epoch 12 - Avg Loss: 0.00276, Color Loss: 0.06040, LR: 9.65e-05\n"
     ]
    },
    {
     "name": "stderr",
     "output_type": "stream",
     "text": [
      "Validating Epoch 12: 100%|██████████| 40/40 [00:03<00:00, 11.51it/s]\n"
     ]
    },
    {
     "name": "stdout",
     "output_type": "stream",
     "text": [
      "Validation - Avg Loss: 0.00269, Color Loss: 0.06123\n"
     ]
    },
    {
     "name": "stderr",
     "output_type": "stream",
     "text": [
      "Training Epoch 13: 100%|██████████| 313/313 [00:56<00:00,  5.51it/s]\n"
     ]
    },
    {
     "name": "stdout",
     "output_type": "stream",
     "text": [
      "Epoch 13 - Avg Loss: 0.00261, Color Loss: 0.05755, LR: 9.59e-05\n"
     ]
    },
    {
     "name": "stderr",
     "output_type": "stream",
     "text": [
      "Validating Epoch 13: 100%|██████████| 40/40 [00:03<00:00, 11.52it/s]\n"
     ]
    },
    {
     "name": "stdout",
     "output_type": "stream",
     "text": [
      "Validation - Avg Loss: 0.00269, Color Loss: 0.06129\n"
     ]
    },
    {
     "name": "stderr",
     "output_type": "stream",
     "text": [
      "Training Epoch 14: 100%|██████████| 313/313 [00:56<00:00,  5.49it/s]\n"
     ]
    },
    {
     "name": "stdout",
     "output_type": "stream",
     "text": [
      "Epoch 14 - Avg Loss: 0.00257, Color Loss: 0.05707, LR: 9.52e-05\n"
     ]
    },
    {
     "name": "stderr",
     "output_type": "stream",
     "text": [
      "Validating Epoch 14: 100%|██████████| 40/40 [00:03<00:00, 11.46it/s]\n"
     ]
    },
    {
     "name": "stdout",
     "output_type": "stream",
     "text": [
      "Validation - Avg Loss: 0.00265, Color Loss: 0.06075\n"
     ]
    },
    {
     "name": "stderr",
     "output_type": "stream",
     "text": [
      "Training Epoch 15: 100%|██████████| 313/313 [00:56<00:00,  5.49it/s]\n"
     ]
    },
    {
     "name": "stdout",
     "output_type": "stream",
     "text": [
      "Epoch 15 - Avg Loss: 0.00257, Color Loss: 0.05728, LR: 9.46e-05\n"
     ]
    },
    {
     "name": "stderr",
     "output_type": "stream",
     "text": [
      "Validating Epoch 15: 100%|██████████| 40/40 [00:03<00:00, 11.45it/s]\n"
     ]
    },
    {
     "name": "stdout",
     "output_type": "stream",
     "text": [
      "Validation - Avg Loss: 0.00266, Color Loss: 0.06078\n"
     ]
    },
    {
     "name": "stderr",
     "output_type": "stream",
     "text": [
      "Training Epoch 16: 100%|██████████| 313/313 [00:56<00:00,  5.51it/s]\n"
     ]
    },
    {
     "name": "stdout",
     "output_type": "stream",
     "text": [
      "Epoch 16 - Avg Loss: 0.00225, Color Loss: 0.05137, LR: 9.38e-05\n"
     ]
    },
    {
     "name": "stderr",
     "output_type": "stream",
     "text": [
      "Validating Epoch 16: 100%|██████████| 40/40 [00:03<00:00, 11.49it/s]\n"
     ]
    },
    {
     "name": "stdout",
     "output_type": "stream",
     "text": [
      "Validation - Avg Loss: 0.00262, Color Loss: 0.06026\n"
     ]
    },
    {
     "name": "stderr",
     "output_type": "stream",
     "text": [
      "Sampling: 100%|██████████| 91/91 [00:00<00:00, 94.73it/s]\n",
      "Clipping input data to the valid range for imshow with RGB data ([0..1] for floats or [0..255] for integers).\n",
      "Sampling: 100%|██████████| 71/71 [00:00<00:00, 94.85it/s]\n",
      "Clipping input data to the valid range for imshow with RGB data ([0..1] for floats or [0..255] for integers).\n",
      "Sampling: 100%|██████████| 51/51 [00:00<00:00, 94.72it/s]\n",
      "Clipping input data to the valid range for imshow with RGB data ([0..1] for floats or [0..255] for integers).\n",
      "Sampling: 100%|██████████| 31/31 [00:00<00:00, 94.98it/s]\n",
      "Clipping input data to the valid range for imshow with RGB data ([0..1] for floats or [0..255] for integers).\n",
      "Training Epoch 17: 100%|██████████| 313/313 [00:57<00:00,  5.49it/s]\n"
     ]
    },
    {
     "name": "stdout",
     "output_type": "stream",
     "text": [
      "Epoch 17 - Avg Loss: 0.00222, Color Loss: 0.05151, LR: 9.30e-05\n"
     ]
    },
    {
     "name": "stderr",
     "output_type": "stream",
     "text": [
      "Validating Epoch 17: 100%|██████████| 40/40 [00:03<00:00, 11.45it/s]\n"
     ]
    },
    {
     "name": "stdout",
     "output_type": "stream",
     "text": [
      "Validation - Avg Loss: 0.00271, Color Loss: 0.06088\n"
     ]
    },
    {
     "name": "stderr",
     "output_type": "stream",
     "text": [
      "Training Epoch 18: 100%|██████████| 313/313 [00:56<00:00,  5.50it/s]\n"
     ]
    },
    {
     "name": "stdout",
     "output_type": "stream",
     "text": [
      "Epoch 18 - Avg Loss: 0.00215, Color Loss: 0.04983, LR: 9.22e-05\n"
     ]
    },
    {
     "name": "stderr",
     "output_type": "stream",
     "text": [
      "Validating Epoch 18: 100%|██████████| 40/40 [00:03<00:00, 11.47it/s]\n"
     ]
    },
    {
     "name": "stdout",
     "output_type": "stream",
     "text": [
      "Validation - Avg Loss: 0.00265, Color Loss: 0.06043\n"
     ]
    },
    {
     "name": "stderr",
     "output_type": "stream",
     "text": [
      "Training Epoch 19: 100%|██████████| 313/313 [00:56<00:00,  5.50it/s]\n"
     ]
    },
    {
     "name": "stdout",
     "output_type": "stream",
     "text": [
      "Epoch 19 - Avg Loss: 0.00208, Color Loss: 0.04906, LR: 9.14e-05\n"
     ]
    },
    {
     "name": "stderr",
     "output_type": "stream",
     "text": [
      "Validating Epoch 19: 100%|██████████| 40/40 [00:03<00:00, 11.48it/s]\n"
     ]
    },
    {
     "name": "stdout",
     "output_type": "stream",
     "text": [
      "Validation - Avg Loss: 0.00266, Color Loss: 0.05999\n"
     ]
    },
    {
     "name": "stderr",
     "output_type": "stream",
     "text": [
      "Training Epoch 20: 100%|██████████| 313/313 [00:56<00:00,  5.49it/s]\n"
     ]
    },
    {
     "name": "stdout",
     "output_type": "stream",
     "text": [
      "Epoch 20 - Avg Loss: 0.00222, Color Loss: 0.05129, LR: 9.05e-05\n"
     ]
    },
    {
     "name": "stderr",
     "output_type": "stream",
     "text": [
      "Validating Epoch 20: 100%|██████████| 40/40 [00:03<00:00, 11.46it/s]\n"
     ]
    },
    {
     "name": "stdout",
     "output_type": "stream",
     "text": [
      "Validation - Avg Loss: 0.00251, Color Loss: 0.05808\n",
      "New best model saved with val loss 0.00251 and color loss 0.05808\n"
     ]
    },
    {
     "name": "stderr",
     "output_type": "stream",
     "text": [
      "Training Epoch 21: 100%|██████████| 313/313 [00:56<00:00,  5.50it/s]\n"
     ]
    },
    {
     "name": "stdout",
     "output_type": "stream",
     "text": [
      "Epoch 21 - Avg Loss: 0.00215, Color Loss: 0.04994, LR: 8.95e-05\n"
     ]
    },
    {
     "name": "stderr",
     "output_type": "stream",
     "text": [
      "Validating Epoch 21: 100%|██████████| 40/40 [00:03<00:00, 11.49it/s]\n"
     ]
    },
    {
     "name": "stdout",
     "output_type": "stream",
     "text": [
      "Validation - Avg Loss: 0.00258, Color Loss: 0.05923\n"
     ]
    },
    {
     "name": "stderr",
     "output_type": "stream",
     "text": [
      "Sampling: 100%|██████████| 91/91 [00:00<00:00, 94.32it/s]\n",
      "Sampling: 100%|██████████| 71/71 [00:00<00:00, 94.50it/s]\n",
      "Clipping input data to the valid range for imshow with RGB data ([0..1] for floats or [0..255] for integers).\n",
      "Sampling: 100%|██████████| 51/51 [00:00<00:00, 94.30it/s]\n",
      "Clipping input data to the valid range for imshow with RGB data ([0..1] for floats or [0..255] for integers).\n",
      "Sampling: 100%|██████████| 31/31 [00:00<00:00, 94.70it/s]\n",
      "Clipping input data to the valid range for imshow with RGB data ([0..1] for floats or [0..255] for integers).\n",
      "Training Epoch 22: 100%|██████████| 313/313 [00:57<00:00,  5.49it/s]\n"
     ]
    },
    {
     "name": "stdout",
     "output_type": "stream",
     "text": [
      "Epoch 22 - Avg Loss: 0.00222, Color Loss: 0.05106, LR: 8.85e-05\n"
     ]
    },
    {
     "name": "stderr",
     "output_type": "stream",
     "text": [
      "Validating Epoch 22: 100%|██████████| 40/40 [00:03<00:00, 11.49it/s]\n"
     ]
    },
    {
     "name": "stdout",
     "output_type": "stream",
     "text": [
      "Validation - Avg Loss: 0.00251, Color Loss: 0.05843\n"
     ]
    },
    {
     "name": "stderr",
     "output_type": "stream",
     "text": [
      "Training Epoch 23: 100%|██████████| 313/313 [00:56<00:00,  5.50it/s]\n"
     ]
    },
    {
     "name": "stdout",
     "output_type": "stream",
     "text": [
      "Epoch 23 - Avg Loss: 0.00196, Color Loss: 0.04652, LR: 8.75e-05\n"
     ]
    },
    {
     "name": "stderr",
     "output_type": "stream",
     "text": [
      "Validating Epoch 23: 100%|██████████| 40/40 [00:03<00:00, 11.45it/s]\n"
     ]
    },
    {
     "name": "stdout",
     "output_type": "stream",
     "text": [
      "Validation - Avg Loss: 0.00252, Color Loss: 0.05835\n"
     ]
    },
    {
     "name": "stderr",
     "output_type": "stream",
     "text": [
      "Training Epoch 24: 100%|██████████| 313/313 [00:57<00:00,  5.49it/s]\n"
     ]
    },
    {
     "name": "stdout",
     "output_type": "stream",
     "text": [
      "Epoch 24 - Avg Loss: 0.00210, Color Loss: 0.04878, LR: 8.64e-05\n"
     ]
    },
    {
     "name": "stderr",
     "output_type": "stream",
     "text": [
      "Validating Epoch 24: 100%|██████████| 40/40 [00:03<00:00, 11.49it/s]\n"
     ]
    },
    {
     "name": "stdout",
     "output_type": "stream",
     "text": [
      "Validation - Avg Loss: 0.00243, Color Loss: 0.05666\n",
      "New best model saved with val loss 0.00243 and color loss 0.05666\n"
     ]
    },
    {
     "name": "stderr",
     "output_type": "stream",
     "text": [
      "Training Epoch 25: 100%|██████████| 313/313 [00:56<00:00,  5.51it/s]\n"
     ]
    },
    {
     "name": "stdout",
     "output_type": "stream",
     "text": [
      "Epoch 25 - Avg Loss: 0.00194, Color Loss: 0.04654, LR: 8.54e-05\n"
     ]
    },
    {
     "name": "stderr",
     "output_type": "stream",
     "text": [
      "Validating Epoch 25: 100%|██████████| 40/40 [00:03<00:00, 11.48it/s]\n"
     ]
    },
    {
     "name": "stdout",
     "output_type": "stream",
     "text": [
      "Validation - Avg Loss: 0.00247, Color Loss: 0.05751\n"
     ]
    },
    {
     "name": "stderr",
     "output_type": "stream",
     "text": [
      "Training Epoch 26: 100%|██████████| 313/313 [00:57<00:00,  5.48it/s]\n"
     ]
    },
    {
     "name": "stdout",
     "output_type": "stream",
     "text": [
      "Epoch 26 - Avg Loss: 0.00197, Color Loss: 0.04650, LR: 8.42e-05\n"
     ]
    },
    {
     "name": "stderr",
     "output_type": "stream",
     "text": [
      "Validating Epoch 26: 100%|██████████| 40/40 [00:03<00:00, 11.45it/s]\n"
     ]
    },
    {
     "name": "stdout",
     "output_type": "stream",
     "text": [
      "Validation - Avg Loss: 0.00246, Color Loss: 0.05707\n"
     ]
    },
    {
     "name": "stderr",
     "output_type": "stream",
     "text": [
      "Sampling: 100%|██████████| 91/91 [00:00<00:00, 94.43it/s]\n",
      "Clipping input data to the valid range for imshow with RGB data ([0..1] for floats or [0..255] for integers).\n",
      "Sampling: 100%|██████████| 71/71 [00:00<00:00, 94.75it/s]\n",
      "Clipping input data to the valid range for imshow with RGB data ([0..1] for floats or [0..255] for integers).\n",
      "Sampling: 100%|██████████| 51/51 [00:00<00:00, 95.09it/s]\n",
      "Clipping input data to the valid range for imshow with RGB data ([0..1] for floats or [0..255] for integers).\n",
      "Sampling: 100%|██████████| 31/31 [00:00<00:00, 94.60it/s]\n",
      "Clipping input data to the valid range for imshow with RGB data ([0..1] for floats or [0..255] for integers).\n",
      "Training Epoch 27: 100%|██████████| 313/313 [00:56<00:00,  5.51it/s]\n"
     ]
    },
    {
     "name": "stdout",
     "output_type": "stream",
     "text": [
      "Epoch 27 - Avg Loss: 0.00181, Color Loss: 0.04389, LR: 8.31e-05\n"
     ]
    },
    {
     "name": "stderr",
     "output_type": "stream",
     "text": [
      "Validating Epoch 27: 100%|██████████| 40/40 [00:03<00:00, 11.46it/s]\n"
     ]
    },
    {
     "name": "stdout",
     "output_type": "stream",
     "text": [
      "Validation - Avg Loss: 0.00243, Color Loss: 0.05667\n",
      "New best model saved with val loss 0.00243 and color loss 0.05667\n"
     ]
    },
    {
     "name": "stderr",
     "output_type": "stream",
     "text": [
      "Training Epoch 28: 100%|██████████| 313/313 [00:57<00:00,  5.49it/s]\n"
     ]
    },
    {
     "name": "stdout",
     "output_type": "stream",
     "text": [
      "Epoch 28 - Avg Loss: 0.00179, Color Loss: 0.04328, LR: 8.19e-05\n"
     ]
    },
    {
     "name": "stderr",
     "output_type": "stream",
     "text": [
      "Validating Epoch 28: 100%|██████████| 40/40 [00:03<00:00, 11.47it/s]\n"
     ]
    },
    {
     "name": "stdout",
     "output_type": "stream",
     "text": [
      "Validation - Avg Loss: 0.00251, Color Loss: 0.05791\n"
     ]
    },
    {
     "name": "stderr",
     "output_type": "stream",
     "text": [
      "Training Epoch 29: 100%|██████████| 313/313 [00:56<00:00,  5.51it/s]\n"
     ]
    },
    {
     "name": "stdout",
     "output_type": "stream",
     "text": [
      "Epoch 29 - Avg Loss: 0.00182, Color Loss: 0.04396, LR: 8.06e-05\n"
     ]
    },
    {
     "name": "stderr",
     "output_type": "stream",
     "text": [
      "Validating Epoch 29: 100%|██████████| 40/40 [00:03<00:00, 11.48it/s]\n"
     ]
    },
    {
     "name": "stdout",
     "output_type": "stream",
     "text": [
      "Validation - Avg Loss: 0.00248, Color Loss: 0.05760\n"
     ]
    },
    {
     "name": "stderr",
     "output_type": "stream",
     "text": [
      "Training Epoch 30: 100%|██████████| 313/313 [00:57<00:00,  5.49it/s]\n"
     ]
    },
    {
     "name": "stdout",
     "output_type": "stream",
     "text": [
      "Epoch 30 - Avg Loss: 0.00172, Color Loss: 0.04237, LR: 7.94e-05\n"
     ]
    },
    {
     "name": "stderr",
     "output_type": "stream",
     "text": [
      "Validating Epoch 30: 100%|██████████| 40/40 [00:03<00:00, 11.48it/s]\n"
     ]
    },
    {
     "name": "stdout",
     "output_type": "stream",
     "text": [
      "Validation - Avg Loss: 0.00244, Color Loss: 0.05678\n"
     ]
    },
    {
     "name": "stderr",
     "output_type": "stream",
     "text": [
      "Training Epoch 31: 100%|██████████| 313/313 [00:56<00:00,  5.51it/s]\n"
     ]
    },
    {
     "name": "stdout",
     "output_type": "stream",
     "text": [
      "Epoch 31 - Avg Loss: 0.00188, Color Loss: 0.04464, LR: 7.81e-05\n"
     ]
    },
    {
     "name": "stderr",
     "output_type": "stream",
     "text": [
      "Validating Epoch 31: 100%|██████████| 40/40 [00:03<00:00, 11.53it/s]\n"
     ]
    },
    {
     "name": "stdout",
     "output_type": "stream",
     "text": [
      "Validation - Avg Loss: 0.00242, Color Loss: 0.05678\n"
     ]
    },
    {
     "name": "stderr",
     "output_type": "stream",
     "text": [
      "Sampling: 100%|██████████| 91/91 [00:00<00:00, 94.19it/s]\n",
      "Clipping input data to the valid range for imshow with RGB data ([0..1] for floats or [0..255] for integers).\n",
      "Sampling: 100%|██████████| 71/71 [00:00<00:00, 94.79it/s]\n",
      "Clipping input data to the valid range for imshow with RGB data ([0..1] for floats or [0..255] for integers).\n",
      "Sampling: 100%|██████████| 51/51 [00:00<00:00, 94.44it/s]\n",
      "Clipping input data to the valid range for imshow with RGB data ([0..1] for floats or [0..255] for integers).\n",
      "Sampling: 100%|██████████| 31/31 [00:00<00:00, 94.32it/s]\n",
      "Clipping input data to the valid range for imshow with RGB data ([0..1] for floats or [0..255] for integers).\n"
     ]
    },
    {
     "name": "stdout",
     "output_type": "stream",
     "text": [
      "New best model saved with val loss 0.00242 and color loss 0.05678\n"
     ]
    },
    {
     "name": "stderr",
     "output_type": "stream",
     "text": [
      "Training Epoch 32: 100%|██████████| 313/313 [00:57<00:00,  5.49it/s]\n"
     ]
    },
    {
     "name": "stdout",
     "output_type": "stream",
     "text": [
      "Epoch 32 - Avg Loss: 0.00175, Color Loss: 0.04260, LR: 7.68e-05\n"
     ]
    },
    {
     "name": "stderr",
     "output_type": "stream",
     "text": [
      "Validating Epoch 32: 100%|██████████| 40/40 [00:03<00:00, 11.51it/s]\n"
     ]
    },
    {
     "name": "stdout",
     "output_type": "stream",
     "text": [
      "Validation - Avg Loss: 0.00248, Color Loss: 0.05719\n"
     ]
    },
    {
     "name": "stderr",
     "output_type": "stream",
     "text": [
      "Training Epoch 33: 100%|██████████| 313/313 [00:56<00:00,  5.51it/s]\n"
     ]
    },
    {
     "name": "stdout",
     "output_type": "stream",
     "text": [
      "Epoch 33 - Avg Loss: 0.00175, Color Loss: 0.04248, LR: 7.55e-05\n"
     ]
    },
    {
     "name": "stderr",
     "output_type": "stream",
     "text": [
      "Validating Epoch 33: 100%|██████████| 40/40 [00:03<00:00, 11.53it/s]\n"
     ]
    },
    {
     "name": "stdout",
     "output_type": "stream",
     "text": [
      "Validation - Avg Loss: 0.00246, Color Loss: 0.05720\n"
     ]
    },
    {
     "name": "stderr",
     "output_type": "stream",
     "text": [
      "Training Epoch 34: 100%|██████████| 313/313 [00:56<00:00,  5.49it/s]\n"
     ]
    },
    {
     "name": "stdout",
     "output_type": "stream",
     "text": [
      "Epoch 34 - Avg Loss: 0.00143, Color Loss: 0.03681, LR: 7.41e-05\n"
     ]
    },
    {
     "name": "stderr",
     "output_type": "stream",
     "text": [
      "Validating Epoch 34: 100%|██████████| 40/40 [00:03<00:00, 11.48it/s]\n"
     ]
    },
    {
     "name": "stdout",
     "output_type": "stream",
     "text": [
      "Validation - Avg Loss: 0.00243, Color Loss: 0.05678\n"
     ]
    },
    {
     "name": "stderr",
     "output_type": "stream",
     "text": [
      "Training Epoch 35: 100%|██████████| 313/313 [00:56<00:00,  5.50it/s]\n"
     ]
    },
    {
     "name": "stdout",
     "output_type": "stream",
     "text": [
      "Epoch 35 - Avg Loss: 0.00151, Color Loss: 0.03846, LR: 7.27e-05\n"
     ]
    },
    {
     "name": "stderr",
     "output_type": "stream",
     "text": [
      "Validating Epoch 35: 100%|██████████| 40/40 [00:03<00:00, 11.52it/s]\n"
     ]
    },
    {
     "name": "stdout",
     "output_type": "stream",
     "text": [
      "Validation - Avg Loss: 0.00242, Color Loss: 0.05627\n",
      "New best model saved with val loss 0.00242 and color loss 0.05627\n"
     ]
    },
    {
     "name": "stderr",
     "output_type": "stream",
     "text": [
      "Training Epoch 36: 100%|██████████| 313/313 [00:56<00:00,  5.49it/s]\n"
     ]
    },
    {
     "name": "stdout",
     "output_type": "stream",
     "text": [
      "Epoch 36 - Avg Loss: 0.00168, Color Loss: 0.04109, LR: 7.13e-05\n"
     ]
    },
    {
     "name": "stderr",
     "output_type": "stream",
     "text": [
      "Validating Epoch 36: 100%|██████████| 40/40 [00:03<00:00, 11.56it/s]\n"
     ]
    },
    {
     "name": "stdout",
     "output_type": "stream",
     "text": [
      "Validation - Avg Loss: 0.00241, Color Loss: 0.05619\n"
     ]
    },
    {
     "name": "stderr",
     "output_type": "stream",
     "text": [
      "Sampling: 100%|██████████| 91/91 [00:00<00:00, 94.76it/s]\n",
      "Clipping input data to the valid range for imshow with RGB data ([0..1] for floats or [0..255] for integers).\n",
      "Sampling: 100%|██████████| 71/71 [00:00<00:00, 94.79it/s]\n",
      "Clipping input data to the valid range for imshow with RGB data ([0..1] for floats or [0..255] for integers).\n",
      "Sampling: 100%|██████████| 51/51 [00:00<00:00, 94.62it/s]\n",
      "Clipping input data to the valid range for imshow with RGB data ([0..1] for floats or [0..255] for integers).\n",
      "Sampling: 100%|██████████| 31/31 [00:00<00:00, 94.50it/s]\n",
      "Clipping input data to the valid range for imshow with RGB data ([0..1] for floats or [0..255] for integers).\n"
     ]
    },
    {
     "name": "stdout",
     "output_type": "stream",
     "text": [
      "New best model saved with val loss 0.00241 and color loss 0.05619\n"
     ]
    },
    {
     "name": "stderr",
     "output_type": "stream",
     "text": [
      "Training Epoch 37: 100%|██████████| 313/313 [00:56<00:00,  5.51it/s]\n"
     ]
    },
    {
     "name": "stdout",
     "output_type": "stream",
     "text": [
      "Epoch 37 - Avg Loss: 0.00176, Color Loss: 0.04229, LR: 6.99e-05\n"
     ]
    },
    {
     "name": "stderr",
     "output_type": "stream",
     "text": [
      "Validating Epoch 37: 100%|██████████| 40/40 [00:03<00:00, 11.56it/s]\n"
     ]
    },
    {
     "name": "stdout",
     "output_type": "stream",
     "text": [
      "Validation - Avg Loss: 0.00242, Color Loss: 0.05644\n"
     ]
    },
    {
     "name": "stderr",
     "output_type": "stream",
     "text": [
      "Training Epoch 38: 100%|██████████| 313/313 [00:56<00:00,  5.51it/s]\n"
     ]
    },
    {
     "name": "stdout",
     "output_type": "stream",
     "text": [
      "Epoch 38 - Avg Loss: 0.00148, Color Loss: 0.03715, LR: 6.84e-05\n"
     ]
    },
    {
     "name": "stderr",
     "output_type": "stream",
     "text": [
      "Validating Epoch 38: 100%|██████████| 40/40 [00:03<00:00, 11.64it/s]\n"
     ]
    },
    {
     "name": "stdout",
     "output_type": "stream",
     "text": [
      "Validation - Avg Loss: 0.00235, Color Loss: 0.05467\n",
      "New best model saved with val loss 0.00235 and color loss 0.05467\n"
     ]
    },
    {
     "name": "stderr",
     "output_type": "stream",
     "text": [
      "Training Epoch 39: 100%|██████████| 313/313 [00:56<00:00,  5.51it/s]\n"
     ]
    },
    {
     "name": "stdout",
     "output_type": "stream",
     "text": [
      "Epoch 39 - Avg Loss: 0.00137, Color Loss: 0.03551, LR: 6.69e-05\n"
     ]
    },
    {
     "name": "stderr",
     "output_type": "stream",
     "text": [
      "Validating Epoch 39: 100%|██████████| 40/40 [00:03<00:00, 11.59it/s]\n"
     ]
    },
    {
     "name": "stdout",
     "output_type": "stream",
     "text": [
      "Validation - Avg Loss: 0.00238, Color Loss: 0.05577\n"
     ]
    },
    {
     "name": "stderr",
     "output_type": "stream",
     "text": [
      "Training Epoch 40: 100%|██████████| 313/313 [00:56<00:00,  5.51it/s]\n"
     ]
    },
    {
     "name": "stdout",
     "output_type": "stream",
     "text": [
      "Epoch 40 - Avg Loss: 0.00142, Color Loss: 0.03642, LR: 6.55e-05\n"
     ]
    },
    {
     "name": "stderr",
     "output_type": "stream",
     "text": [
      "Validating Epoch 40: 100%|██████████| 40/40 [00:03<00:00, 11.60it/s]\n"
     ]
    },
    {
     "name": "stdout",
     "output_type": "stream",
     "text": [
      "Validation - Avg Loss: 0.00240, Color Loss: 0.05610\n"
     ]
    },
    {
     "name": "stderr",
     "output_type": "stream",
     "text": [
      "Training Epoch 41: 100%|██████████| 313/313 [00:56<00:00,  5.50it/s]\n"
     ]
    },
    {
     "name": "stdout",
     "output_type": "stream",
     "text": [
      "Epoch 41 - Avg Loss: 0.00140, Color Loss: 0.03603, LR: 6.39e-05\n"
     ]
    },
    {
     "name": "stderr",
     "output_type": "stream",
     "text": [
      "Validating Epoch 41: 100%|██████████| 40/40 [00:03<00:00, 11.55it/s]\n"
     ]
    },
    {
     "name": "stdout",
     "output_type": "stream",
     "text": [
      "Validation - Avg Loss: 0.00237, Color Loss: 0.05560\n"
     ]
    },
    {
     "name": "stderr",
     "output_type": "stream",
     "text": [
      "Sampling: 100%|██████████| 91/91 [00:00<00:00, 93.74it/s]\n",
      "Clipping input data to the valid range for imshow with RGB data ([0..1] for floats or [0..255] for integers).\n",
      "Sampling: 100%|██████████| 71/71 [00:00<00:00, 94.00it/s]\n",
      "Clipping input data to the valid range for imshow with RGB data ([0..1] for floats or [0..255] for integers).\n",
      "Sampling: 100%|██████████| 51/51 [00:00<00:00, 94.12it/s]\n",
      "Clipping input data to the valid range for imshow with RGB data ([0..1] for floats or [0..255] for integers).\n",
      "Sampling: 100%|██████████| 31/31 [00:00<00:00, 94.40it/s]\n",
      "Clipping input data to the valid range for imshow with RGB data ([0..1] for floats or [0..255] for integers).\n",
      "Training Epoch 42: 100%|██████████| 313/313 [00:56<00:00,  5.53it/s]\n"
     ]
    },
    {
     "name": "stdout",
     "output_type": "stream",
     "text": [
      "Epoch 42 - Avg Loss: 0.00133, Color Loss: 0.03477, LR: 6.24e-05\n"
     ]
    },
    {
     "name": "stderr",
     "output_type": "stream",
     "text": [
      "Validating Epoch 42: 100%|██████████| 40/40 [00:03<00:00, 11.59it/s]\n"
     ]
    },
    {
     "name": "stdout",
     "output_type": "stream",
     "text": [
      "Validation - Avg Loss: 0.00238, Color Loss: 0.05528\n"
     ]
    },
    {
     "name": "stderr",
     "output_type": "stream",
     "text": [
      "Training Epoch 43: 100%|██████████| 313/313 [00:56<00:00,  5.50it/s]\n"
     ]
    },
    {
     "name": "stdout",
     "output_type": "stream",
     "text": [
      "Epoch 43 - Avg Loss: 0.00137, Color Loss: 0.03544, LR: 6.09e-05\n"
     ]
    },
    {
     "name": "stderr",
     "output_type": "stream",
     "text": [
      "Validating Epoch 43: 100%|██████████| 40/40 [00:03<00:00, 11.56it/s]\n"
     ]
    },
    {
     "name": "stdout",
     "output_type": "stream",
     "text": [
      "Validation - Avg Loss: 0.00247, Color Loss: 0.05659\n"
     ]
    },
    {
     "name": "stderr",
     "output_type": "stream",
     "text": [
      "Training Epoch 44: 100%|██████████| 313/313 [00:56<00:00,  5.52it/s]\n"
     ]
    },
    {
     "name": "stdout",
     "output_type": "stream",
     "text": [
      "Epoch 44 - Avg Loss: 0.00127, Color Loss: 0.03372, LR: 5.94e-05\n"
     ]
    },
    {
     "name": "stderr",
     "output_type": "stream",
     "text": [
      "Validating Epoch 44: 100%|██████████| 40/40 [00:03<00:00, 11.56it/s]\n"
     ]
    },
    {
     "name": "stdout",
     "output_type": "stream",
     "text": [
      "Validation - Avg Loss: 0.00239, Color Loss: 0.05557\n"
     ]
    },
    {
     "name": "stderr",
     "output_type": "stream",
     "text": [
      "Training Epoch 45: 100%|██████████| 313/313 [00:56<00:00,  5.52it/s]\n"
     ]
    },
    {
     "name": "stdout",
     "output_type": "stream",
     "text": [
      "Epoch 45 - Avg Loss: 0.00129, Color Loss: 0.03381, LR: 5.78e-05\n"
     ]
    },
    {
     "name": "stderr",
     "output_type": "stream",
     "text": [
      "Validating Epoch 45: 100%|██████████| 40/40 [00:03<00:00, 11.57it/s]\n"
     ]
    },
    {
     "name": "stdout",
     "output_type": "stream",
     "text": [
      "Validation - Avg Loss: 0.00238, Color Loss: 0.05541\n"
     ]
    },
    {
     "name": "stderr",
     "output_type": "stream",
     "text": [
      "Training Epoch 46: 100%|██████████| 313/313 [00:56<00:00,  5.49it/s]\n"
     ]
    },
    {
     "name": "stdout",
     "output_type": "stream",
     "text": [
      "Epoch 46 - Avg Loss: 0.00135, Color Loss: 0.03521, LR: 5.63e-05\n"
     ]
    },
    {
     "name": "stderr",
     "output_type": "stream",
     "text": [
      "Validating Epoch 46: 100%|██████████| 40/40 [00:03<00:00, 11.60it/s]\n"
     ]
    },
    {
     "name": "stdout",
     "output_type": "stream",
     "text": [
      "Validation - Avg Loss: 0.00231, Color Loss: 0.05445\n"
     ]
    },
    {
     "name": "stderr",
     "output_type": "stream",
     "text": [
      "Sampling: 100%|██████████| 91/91 [00:00<00:00, 94.52it/s]\n",
      "Clipping input data to the valid range for imshow with RGB data ([0..1] for floats or [0..255] for integers).\n",
      "Sampling: 100%|██████████| 71/71 [00:00<00:00, 94.76it/s]\n",
      "Clipping input data to the valid range for imshow with RGB data ([0..1] for floats or [0..255] for integers).\n",
      "Sampling: 100%|██████████| 51/51 [00:00<00:00, 94.58it/s]\n",
      "Clipping input data to the valid range for imshow with RGB data ([0..1] for floats or [0..255] for integers).\n",
      "Sampling: 100%|██████████| 31/31 [00:00<00:00, 94.10it/s]\n",
      "Clipping input data to the valid range for imshow with RGB data ([0..1] for floats or [0..255] for integers).\n"
     ]
    },
    {
     "name": "stdout",
     "output_type": "stream",
     "text": [
      "New best model saved with val loss 0.00231 and color loss 0.05445\n"
     ]
    },
    {
     "name": "stderr",
     "output_type": "stream",
     "text": [
      "Training Epoch 47: 100%|██████████| 313/313 [00:56<00:00,  5.52it/s]\n"
     ]
    },
    {
     "name": "stdout",
     "output_type": "stream",
     "text": [
      "Epoch 47 - Avg Loss: 0.00153, Color Loss: 0.03804, LR: 5.47e-05\n"
     ]
    },
    {
     "name": "stderr",
     "output_type": "stream",
     "text": [
      "Validating Epoch 47: 100%|██████████| 40/40 [00:03<00:00, 11.56it/s]\n"
     ]
    },
    {
     "name": "stdout",
     "output_type": "stream",
     "text": [
      "Validation - Avg Loss: 0.00241, Color Loss: 0.05602\n"
     ]
    },
    {
     "name": "stderr",
     "output_type": "stream",
     "text": [
      "Training Epoch 48: 100%|██████████| 313/313 [00:56<00:00,  5.52it/s]\n"
     ]
    },
    {
     "name": "stdout",
     "output_type": "stream",
     "text": [
      "Epoch 48 - Avg Loss: 0.00143, Color Loss: 0.03652, LR: 5.31e-05\n"
     ]
    },
    {
     "name": "stderr",
     "output_type": "stream",
     "text": [
      "Validating Epoch 48: 100%|██████████| 40/40 [00:03<00:00, 11.59it/s]\n"
     ]
    },
    {
     "name": "stdout",
     "output_type": "stream",
     "text": [
      "Validation - Avg Loss: 0.00235, Color Loss: 0.05531\n"
     ]
    },
    {
     "name": "stderr",
     "output_type": "stream",
     "text": [
      "Training Epoch 49: 100%|██████████| 313/313 [00:56<00:00,  5.50it/s]\n"
     ]
    },
    {
     "name": "stdout",
     "output_type": "stream",
     "text": [
      "Epoch 49 - Avg Loss: 0.00145, Color Loss: 0.03665, LR: 5.16e-05\n"
     ]
    },
    {
     "name": "stderr",
     "output_type": "stream",
     "text": [
      "Validating Epoch 49: 100%|██████████| 40/40 [00:03<00:00, 11.55it/s]\n"
     ]
    },
    {
     "name": "stdout",
     "output_type": "stream",
     "text": [
      "Validation - Avg Loss: 0.00233, Color Loss: 0.05450\n"
     ]
    },
    {
     "name": "stderr",
     "output_type": "stream",
     "text": [
      "Training Epoch 50: 100%|██████████| 313/313 [00:56<00:00,  5.52it/s]\n"
     ]
    },
    {
     "name": "stdout",
     "output_type": "stream",
     "text": [
      "Epoch 50 - Avg Loss: 0.00142, Color Loss: 0.03631, LR: 5.00e-05\n"
     ]
    },
    {
     "name": "stderr",
     "output_type": "stream",
     "text": [
      "Validating Epoch 50: 100%|██████████| 40/40 [00:03<00:00, 11.60it/s]\n"
     ]
    },
    {
     "name": "stdout",
     "output_type": "stream",
     "text": [
      "Validation - Avg Loss: 0.00238, Color Loss: 0.05511\n"
     ]
    },
    {
     "name": "stderr",
     "output_type": "stream",
     "text": [
      "Training Epoch 51: 100%|██████████| 313/313 [00:56<00:00,  5.52it/s]\n"
     ]
    },
    {
     "name": "stdout",
     "output_type": "stream",
     "text": [
      "Epoch 51 - Avg Loss: 0.00145, Color Loss: 0.03690, LR: 4.84e-05\n"
     ]
    },
    {
     "name": "stderr",
     "output_type": "stream",
     "text": [
      "Validating Epoch 51: 100%|██████████| 40/40 [00:03<00:00, 11.59it/s]\n"
     ]
    },
    {
     "name": "stdout",
     "output_type": "stream",
     "text": [
      "Validation - Avg Loss: 0.00236, Color Loss: 0.05495\n"
     ]
    },
    {
     "name": "stderr",
     "output_type": "stream",
     "text": [
      "Sampling: 100%|██████████| 91/91 [00:00<00:00, 94.35it/s]\n",
      "Clipping input data to the valid range for imshow with RGB data ([0..1] for floats or [0..255] for integers).\n",
      "Sampling: 100%|██████████| 71/71 [00:00<00:00, 94.83it/s]\n",
      "Sampling: 100%|██████████| 51/51 [00:00<00:00, 95.23it/s]\n",
      "Sampling: 100%|██████████| 31/31 [00:00<00:00, 94.01it/s]\n",
      "Training Epoch 52: 100%|██████████| 313/313 [00:56<00:00,  5.52it/s]\n"
     ]
    },
    {
     "name": "stdout",
     "output_type": "stream",
     "text": [
      "Epoch 52 - Avg Loss: 0.00143, Color Loss: 0.03629, LR: 4.69e-05\n"
     ]
    },
    {
     "name": "stderr",
     "output_type": "stream",
     "text": [
      "Validating Epoch 52: 100%|██████████| 40/40 [00:03<00:00, 11.60it/s]\n"
     ]
    },
    {
     "name": "stdout",
     "output_type": "stream",
     "text": [
      "Validation - Avg Loss: 0.00238, Color Loss: 0.05541\n"
     ]
    },
    {
     "name": "stderr",
     "output_type": "stream",
     "text": [
      "Training Epoch 53: 100%|██████████| 313/313 [00:56<00:00,  5.52it/s]\n"
     ]
    },
    {
     "name": "stdout",
     "output_type": "stream",
     "text": [
      "Epoch 53 - Avg Loss: 0.00136, Color Loss: 0.03502, LR: 4.53e-05\n"
     ]
    },
    {
     "name": "stderr",
     "output_type": "stream",
     "text": [
      "Validating Epoch 53: 100%|██████████| 40/40 [00:03<00:00, 11.61it/s]\n"
     ]
    },
    {
     "name": "stdout",
     "output_type": "stream",
     "text": [
      "Validation - Avg Loss: 0.00236, Color Loss: 0.05502\n"
     ]
    },
    {
     "name": "stderr",
     "output_type": "stream",
     "text": [
      "Training Epoch 54: 100%|██████████| 313/313 [00:56<00:00,  5.52it/s]\n"
     ]
    },
    {
     "name": "stdout",
     "output_type": "stream",
     "text": [
      "Epoch 54 - Avg Loss: 0.00142, Color Loss: 0.03614, LR: 4.37e-05\n"
     ]
    },
    {
     "name": "stderr",
     "output_type": "stream",
     "text": [
      "Validating Epoch 54: 100%|██████████| 40/40 [00:03<00:00, 11.57it/s]\n"
     ]
    },
    {
     "name": "stdout",
     "output_type": "stream",
     "text": [
      "Validation - Avg Loss: 0.00239, Color Loss: 0.05549\n"
     ]
    },
    {
     "name": "stderr",
     "output_type": "stream",
     "text": [
      "Training Epoch 55: 100%|██████████| 313/313 [00:56<00:00,  5.51it/s]\n"
     ]
    },
    {
     "name": "stdout",
     "output_type": "stream",
     "text": [
      "Epoch 55 - Avg Loss: 0.00137, Color Loss: 0.03509, LR: 4.22e-05\n"
     ]
    },
    {
     "name": "stderr",
     "output_type": "stream",
     "text": [
      "Validating Epoch 55: 100%|██████████| 40/40 [00:03<00:00, 11.56it/s]\n"
     ]
    },
    {
     "name": "stdout",
     "output_type": "stream",
     "text": [
      "Validation - Avg Loss: 0.00232, Color Loss: 0.05461\n"
     ]
    },
    {
     "name": "stderr",
     "output_type": "stream",
     "text": [
      "Training Epoch 56: 100%|██████████| 313/313 [00:56<00:00,  5.52it/s]\n"
     ]
    },
    {
     "name": "stdout",
     "output_type": "stream",
     "text": [
      "Epoch 56 - Avg Loss: 0.00142, Color Loss: 0.03621, LR: 4.06e-05\n"
     ]
    },
    {
     "name": "stderr",
     "output_type": "stream",
     "text": [
      "Validating Epoch 56: 100%|██████████| 40/40 [00:03<00:00, 11.56it/s]\n"
     ]
    },
    {
     "name": "stdout",
     "output_type": "stream",
     "text": [
      "Validation - Avg Loss: 0.00239, Color Loss: 0.05577\n"
     ]
    },
    {
     "name": "stderr",
     "output_type": "stream",
     "text": [
      "Sampling: 100%|██████████| 91/91 [00:00<00:00, 94.39it/s]\n",
      "Clipping input data to the valid range for imshow with RGB data ([0..1] for floats or [0..255] for integers).\n",
      "Sampling: 100%|██████████| 71/71 [00:00<00:00, 94.65it/s]\n",
      "Clipping input data to the valid range for imshow with RGB data ([0..1] for floats or [0..255] for integers).\n",
      "Sampling: 100%|██████████| 51/51 [00:00<00:00, 94.96it/s]\n",
      "Clipping input data to the valid range for imshow with RGB data ([0..1] for floats or [0..255] for integers).\n",
      "Sampling: 100%|██████████| 31/31 [00:00<00:00, 94.48it/s]\n",
      "Clipping input data to the valid range for imshow with RGB data ([0..1] for floats or [0..255] for integers).\n"
     ]
    },
    {
     "name": "stdout",
     "output_type": "stream",
     "text": [
      "Early stopping after 56 epochs!\n",
      "Training completed!\n",
      "Loaded best model from epoch 46 with val loss 0.00231\n"
     ]
    },
    {
     "name": "stderr",
     "output_type": "stream",
     "text": [
      "Sampling: 100%|██████████| 91/91 [00:00<00:00, 95.42it/s]\n",
      "Clipping input data to the valid range for imshow with RGB data ([0..1] for floats or [0..255] for integers).\n",
      "Sampling: 100%|██████████| 71/71 [00:00<00:00, 96.06it/s]\n",
      "Clipping input data to the valid range for imshow with RGB data ([0..1] for floats or [0..255] for integers).\n",
      "Sampling: 100%|██████████| 51/51 [00:00<00:00, 95.09it/s]\n",
      "Clipping input data to the valid range for imshow with RGB data ([0..1] for floats or [0..255] for integers).\n",
      "Sampling: 100%|██████████| 31/31 [00:00<00:00, 95.59it/s]\n",
      "Clipping input data to the valid range for imshow with RGB data ([0..1] for floats or [0..255] for integers).\n"
     ]
    },
    {
     "ename": "FileNotFoundError",
     "evalue": "[Errno 2] No such file or directory: '.0407_test/test_sample_1.png'",
     "output_type": "error",
     "traceback": [
      "\u001b[0;31m---------------------------------------------------------------------------\u001b[0m",
      "\u001b[0;31mFileNotFoundError\u001b[0m                         Traceback (most recent call last)",
      "Cell \u001b[0;32mIn[4], line 825\u001b[0m\n\u001b[1;32m    822\u001b[0m \u001b[38;5;66;03m# 執行訓練\u001b[39;00m\n\u001b[1;32m    823\u001b[0m \u001b[38;5;28;01mif\u001b[39;00m \u001b[38;5;18m__name__\u001b[39m \u001b[38;5;241m==\u001b[39m \u001b[38;5;124m\"\u001b[39m\u001b[38;5;124m__main__\u001b[39m\u001b[38;5;124m\"\u001b[39m:\n\u001b[1;32m    824\u001b[0m     \u001b[38;5;66;03m# 開始訓練W\u001b[39;00m\n\u001b[0;32m--> 825\u001b[0m     \u001b[43mtrain_model\u001b[49m\u001b[43m(\u001b[49m\u001b[43mepochs\u001b[49m\u001b[38;5;241;43m=\u001b[39;49m\u001b[38;5;241;43m500\u001b[39;49m\u001b[43m)\u001b[49m\n",
      "Cell \u001b[0;32mIn[4], line 820\u001b[0m, in \u001b[0;36mtrain_model\u001b[0;34m(epochs, patience)\u001b[0m\n\u001b[1;32m    817\u001b[0m \u001b[38;5;28mprint\u001b[39m(\u001b[38;5;124mf\u001b[39m\u001b[38;5;124m\"\u001b[39m\u001b[38;5;124mLoaded best model from epoch \u001b[39m\u001b[38;5;132;01m{\u001b[39;00mcheckpoint[\u001b[38;5;124m'\u001b[39m\u001b[38;5;124mepoch\u001b[39m\u001b[38;5;124m'\u001b[39m]\u001b[38;5;241m+\u001b[39m\u001b[38;5;241m1\u001b[39m\u001b[38;5;132;01m}\u001b[39;00m\u001b[38;5;124m with val loss \u001b[39m\u001b[38;5;132;01m{\u001b[39;00mcheckpoint[\u001b[38;5;124m'\u001b[39m\u001b[38;5;124mval_loss\u001b[39m\u001b[38;5;124m'\u001b[39m]\u001b[38;5;132;01m:\u001b[39;00m\u001b[38;5;124m.5f\u001b[39m\u001b[38;5;132;01m}\u001b[39;00m\u001b[38;5;124m\"\u001b[39m)\n\u001b[1;32m    819\u001b[0m \u001b[38;5;66;03m# 測試復原效果\u001b[39;00m\n\u001b[0;32m--> 820\u001b[0m \u001b[43mtest_restoration\u001b[49m\u001b[43m(\u001b[49m\u001b[43mmodel\u001b[49m\u001b[43m)\u001b[49m\n",
      "Cell \u001b[0;32mIn[4], line 746\u001b[0m, in \u001b[0;36mtest_restoration\u001b[0;34m(model, quality_levels)\u001b[0m\n\u001b[1;32m    743\u001b[0m         plt\u001b[38;5;241m.\u001b[39maxis(\u001b[38;5;124m'\u001b[39m\u001b[38;5;124moff\u001b[39m\u001b[38;5;124m'\u001b[39m)\n\u001b[1;32m    745\u001b[0m     plt\u001b[38;5;241m.\u001b[39mtight_layout()\n\u001b[0;32m--> 746\u001b[0m     \u001b[43mplt\u001b[49m\u001b[38;5;241;43m.\u001b[39;49m\u001b[43msavefig\u001b[49m\u001b[43m(\u001b[49m\u001b[38;5;124;43mf\u001b[39;49m\u001b[38;5;124;43m'\u001b[39;49m\u001b[38;5;124;43m.0407_test/test_sample_\u001b[39;49m\u001b[38;5;132;43;01m{\u001b[39;49;00m\u001b[43midx\u001b[49m\u001b[38;5;241;43m+\u001b[39;49m\u001b[38;5;241;43m1\u001b[39;49m\u001b[38;5;132;43;01m}\u001b[39;49;00m\u001b[38;5;124;43m.png\u001b[39;49m\u001b[38;5;124;43m'\u001b[39;49m\u001b[43m)\u001b[49m\n\u001b[1;32m    747\u001b[0m     plt\u001b[38;5;241m.\u001b[39mclose()\n\u001b[1;32m    749\u001b[0m \u001b[38;5;66;03m# 顯示平均結果\u001b[39;00m\n",
      "File \u001b[0;32m/usr/local/lib/python3.10/dist-packages/matplotlib/pyplot.py:1023\u001b[0m, in \u001b[0;36msavefig\u001b[0;34m(*args, **kwargs)\u001b[0m\n\u001b[1;32m   1020\u001b[0m \u001b[38;5;129m@_copy_docstring_and_deprecators\u001b[39m(Figure\u001b[38;5;241m.\u001b[39msavefig)\n\u001b[1;32m   1021\u001b[0m \u001b[38;5;28;01mdef\u001b[39;00m \u001b[38;5;21msavefig\u001b[39m(\u001b[38;5;241m*\u001b[39margs, \u001b[38;5;241m*\u001b[39m\u001b[38;5;241m*\u001b[39mkwargs):\n\u001b[1;32m   1022\u001b[0m     fig \u001b[38;5;241m=\u001b[39m gcf()\n\u001b[0;32m-> 1023\u001b[0m     res \u001b[38;5;241m=\u001b[39m \u001b[43mfig\u001b[49m\u001b[38;5;241;43m.\u001b[39;49m\u001b[43msavefig\u001b[49m\u001b[43m(\u001b[49m\u001b[38;5;241;43m*\u001b[39;49m\u001b[43margs\u001b[49m\u001b[43m,\u001b[49m\u001b[43m \u001b[49m\u001b[38;5;241;43m*\u001b[39;49m\u001b[38;5;241;43m*\u001b[39;49m\u001b[43mkwargs\u001b[49m\u001b[43m)\u001b[49m\n\u001b[1;32m   1024\u001b[0m     fig\u001b[38;5;241m.\u001b[39mcanvas\u001b[38;5;241m.\u001b[39mdraw_idle()  \u001b[38;5;66;03m# Need this if 'transparent=True', to reset colors.\u001b[39;00m\n\u001b[1;32m   1025\u001b[0m     \u001b[38;5;28;01mreturn\u001b[39;00m res\n",
      "File \u001b[0;32m/usr/local/lib/python3.10/dist-packages/matplotlib/figure.py:3343\u001b[0m, in \u001b[0;36mFigure.savefig\u001b[0;34m(self, fname, transparent, **kwargs)\u001b[0m\n\u001b[1;32m   3339\u001b[0m     \u001b[38;5;28;01mfor\u001b[39;00m ax \u001b[38;5;129;01min\u001b[39;00m \u001b[38;5;28mself\u001b[39m\u001b[38;5;241m.\u001b[39maxes:\n\u001b[1;32m   3340\u001b[0m         stack\u001b[38;5;241m.\u001b[39menter_context(\n\u001b[1;32m   3341\u001b[0m             ax\u001b[38;5;241m.\u001b[39mpatch\u001b[38;5;241m.\u001b[39m_cm_set(facecolor\u001b[38;5;241m=\u001b[39m\u001b[38;5;124m'\u001b[39m\u001b[38;5;124mnone\u001b[39m\u001b[38;5;124m'\u001b[39m, edgecolor\u001b[38;5;241m=\u001b[39m\u001b[38;5;124m'\u001b[39m\u001b[38;5;124mnone\u001b[39m\u001b[38;5;124m'\u001b[39m))\n\u001b[0;32m-> 3343\u001b[0m \u001b[38;5;28;43mself\u001b[39;49m\u001b[38;5;241;43m.\u001b[39;49m\u001b[43mcanvas\u001b[49m\u001b[38;5;241;43m.\u001b[39;49m\u001b[43mprint_figure\u001b[49m\u001b[43m(\u001b[49m\u001b[43mfname\u001b[49m\u001b[43m,\u001b[49m\u001b[43m \u001b[49m\u001b[38;5;241;43m*\u001b[39;49m\u001b[38;5;241;43m*\u001b[39;49m\u001b[43mkwargs\u001b[49m\u001b[43m)\u001b[49m\n",
      "File \u001b[0;32m/usr/local/lib/python3.10/dist-packages/matplotlib/backend_bases.py:2366\u001b[0m, in \u001b[0;36mFigureCanvasBase.print_figure\u001b[0;34m(self, filename, dpi, facecolor, edgecolor, orientation, format, bbox_inches, pad_inches, bbox_extra_artists, backend, **kwargs)\u001b[0m\n\u001b[1;32m   2362\u001b[0m \u001b[38;5;28;01mtry\u001b[39;00m:\n\u001b[1;32m   2363\u001b[0m     \u001b[38;5;66;03m# _get_renderer may change the figure dpi (as vector formats\u001b[39;00m\n\u001b[1;32m   2364\u001b[0m     \u001b[38;5;66;03m# force the figure dpi to 72), so we need to set it again here.\u001b[39;00m\n\u001b[1;32m   2365\u001b[0m     \u001b[38;5;28;01mwith\u001b[39;00m cbook\u001b[38;5;241m.\u001b[39m_setattr_cm(\u001b[38;5;28mself\u001b[39m\u001b[38;5;241m.\u001b[39mfigure, dpi\u001b[38;5;241m=\u001b[39mdpi):\n\u001b[0;32m-> 2366\u001b[0m         result \u001b[38;5;241m=\u001b[39m \u001b[43mprint_method\u001b[49m\u001b[43m(\u001b[49m\n\u001b[1;32m   2367\u001b[0m \u001b[43m            \u001b[49m\u001b[43mfilename\u001b[49m\u001b[43m,\u001b[49m\n\u001b[1;32m   2368\u001b[0m \u001b[43m            \u001b[49m\u001b[43mfacecolor\u001b[49m\u001b[38;5;241;43m=\u001b[39;49m\u001b[43mfacecolor\u001b[49m\u001b[43m,\u001b[49m\n\u001b[1;32m   2369\u001b[0m \u001b[43m            \u001b[49m\u001b[43medgecolor\u001b[49m\u001b[38;5;241;43m=\u001b[39;49m\u001b[43medgecolor\u001b[49m\u001b[43m,\u001b[49m\n\u001b[1;32m   2370\u001b[0m \u001b[43m            \u001b[49m\u001b[43morientation\u001b[49m\u001b[38;5;241;43m=\u001b[39;49m\u001b[43morientation\u001b[49m\u001b[43m,\u001b[49m\n\u001b[1;32m   2371\u001b[0m \u001b[43m            \u001b[49m\u001b[43mbbox_inches_restore\u001b[49m\u001b[38;5;241;43m=\u001b[39;49m\u001b[43m_bbox_inches_restore\u001b[49m\u001b[43m,\u001b[49m\n\u001b[1;32m   2372\u001b[0m \u001b[43m            \u001b[49m\u001b[38;5;241;43m*\u001b[39;49m\u001b[38;5;241;43m*\u001b[39;49m\u001b[43mkwargs\u001b[49m\u001b[43m)\u001b[49m\n\u001b[1;32m   2373\u001b[0m \u001b[38;5;28;01mfinally\u001b[39;00m:\n\u001b[1;32m   2374\u001b[0m     \u001b[38;5;28;01mif\u001b[39;00m bbox_inches \u001b[38;5;129;01mand\u001b[39;00m restore_bbox:\n",
      "File \u001b[0;32m/usr/local/lib/python3.10/dist-packages/matplotlib/backend_bases.py:2232\u001b[0m, in \u001b[0;36mFigureCanvasBase._switch_canvas_and_return_print_method.<locals>.<lambda>\u001b[0;34m(*args, **kwargs)\u001b[0m\n\u001b[1;32m   2228\u001b[0m     optional_kws \u001b[38;5;241m=\u001b[39m {  \u001b[38;5;66;03m# Passed by print_figure for other renderers.\u001b[39;00m\n\u001b[1;32m   2229\u001b[0m         \u001b[38;5;124m\"\u001b[39m\u001b[38;5;124mdpi\u001b[39m\u001b[38;5;124m\"\u001b[39m, \u001b[38;5;124m\"\u001b[39m\u001b[38;5;124mfacecolor\u001b[39m\u001b[38;5;124m\"\u001b[39m, \u001b[38;5;124m\"\u001b[39m\u001b[38;5;124medgecolor\u001b[39m\u001b[38;5;124m\"\u001b[39m, \u001b[38;5;124m\"\u001b[39m\u001b[38;5;124morientation\u001b[39m\u001b[38;5;124m\"\u001b[39m,\n\u001b[1;32m   2230\u001b[0m         \u001b[38;5;124m\"\u001b[39m\u001b[38;5;124mbbox_inches_restore\u001b[39m\u001b[38;5;124m\"\u001b[39m}\n\u001b[1;32m   2231\u001b[0m     skip \u001b[38;5;241m=\u001b[39m optional_kws \u001b[38;5;241m-\u001b[39m {\u001b[38;5;241m*\u001b[39minspect\u001b[38;5;241m.\u001b[39msignature(meth)\u001b[38;5;241m.\u001b[39mparameters}\n\u001b[0;32m-> 2232\u001b[0m     print_method \u001b[38;5;241m=\u001b[39m functools\u001b[38;5;241m.\u001b[39mwraps(meth)(\u001b[38;5;28;01mlambda\u001b[39;00m \u001b[38;5;241m*\u001b[39margs, \u001b[38;5;241m*\u001b[39m\u001b[38;5;241m*\u001b[39mkwargs: \u001b[43mmeth\u001b[49m\u001b[43m(\u001b[49m\n\u001b[1;32m   2233\u001b[0m \u001b[43m        \u001b[49m\u001b[38;5;241;43m*\u001b[39;49m\u001b[43margs\u001b[49m\u001b[43m,\u001b[49m\u001b[43m \u001b[49m\u001b[38;5;241;43m*\u001b[39;49m\u001b[38;5;241;43m*\u001b[39;49m\u001b[43m{\u001b[49m\u001b[43mk\u001b[49m\u001b[43m:\u001b[49m\u001b[43m \u001b[49m\u001b[43mv\u001b[49m\u001b[43m \u001b[49m\u001b[38;5;28;43;01mfor\u001b[39;49;00m\u001b[43m \u001b[49m\u001b[43mk\u001b[49m\u001b[43m,\u001b[49m\u001b[43m \u001b[49m\u001b[43mv\u001b[49m\u001b[43m \u001b[49m\u001b[38;5;129;43;01min\u001b[39;49;00m\u001b[43m \u001b[49m\u001b[43mkwargs\u001b[49m\u001b[38;5;241;43m.\u001b[39;49m\u001b[43mitems\u001b[49m\u001b[43m(\u001b[49m\u001b[43m)\u001b[49m\u001b[43m \u001b[49m\u001b[38;5;28;43;01mif\u001b[39;49;00m\u001b[43m \u001b[49m\u001b[43mk\u001b[49m\u001b[43m \u001b[49m\u001b[38;5;129;43;01mnot\u001b[39;49;00m\u001b[43m \u001b[49m\u001b[38;5;129;43;01min\u001b[39;49;00m\u001b[43m \u001b[49m\u001b[43mskip\u001b[49m\u001b[43m}\u001b[49m\u001b[43m)\u001b[49m)\n\u001b[1;32m   2234\u001b[0m \u001b[38;5;28;01melse\u001b[39;00m:  \u001b[38;5;66;03m# Let third-parties do as they see fit.\u001b[39;00m\n\u001b[1;32m   2235\u001b[0m     print_method \u001b[38;5;241m=\u001b[39m meth\n",
      "File \u001b[0;32m/usr/local/lib/python3.10/dist-packages/matplotlib/backends/backend_agg.py:509\u001b[0m, in \u001b[0;36mFigureCanvasAgg.print_png\u001b[0;34m(self, filename_or_obj, metadata, pil_kwargs)\u001b[0m\n\u001b[1;32m    462\u001b[0m \u001b[38;5;28;01mdef\u001b[39;00m \u001b[38;5;21mprint_png\u001b[39m(\u001b[38;5;28mself\u001b[39m, filename_or_obj, \u001b[38;5;241m*\u001b[39m, metadata\u001b[38;5;241m=\u001b[39m\u001b[38;5;28;01mNone\u001b[39;00m, pil_kwargs\u001b[38;5;241m=\u001b[39m\u001b[38;5;28;01mNone\u001b[39;00m):\n\u001b[1;32m    463\u001b[0m \u001b[38;5;250m    \u001b[39m\u001b[38;5;124;03m\"\"\"\u001b[39;00m\n\u001b[1;32m    464\u001b[0m \u001b[38;5;124;03m    Write the figure to a PNG file.\u001b[39;00m\n\u001b[1;32m    465\u001b[0m \n\u001b[0;32m   (...)\u001b[0m\n\u001b[1;32m    507\u001b[0m \u001b[38;5;124;03m        *metadata*, including the default 'Software' key.\u001b[39;00m\n\u001b[1;32m    508\u001b[0m \u001b[38;5;124;03m    \"\"\"\u001b[39;00m\n\u001b[0;32m--> 509\u001b[0m     \u001b[38;5;28;43mself\u001b[39;49m\u001b[38;5;241;43m.\u001b[39;49m\u001b[43m_print_pil\u001b[49m\u001b[43m(\u001b[49m\u001b[43mfilename_or_obj\u001b[49m\u001b[43m,\u001b[49m\u001b[43m \u001b[49m\u001b[38;5;124;43m\"\u001b[39;49m\u001b[38;5;124;43mpng\u001b[39;49m\u001b[38;5;124;43m\"\u001b[39;49m\u001b[43m,\u001b[49m\u001b[43m \u001b[49m\u001b[43mpil_kwargs\u001b[49m\u001b[43m,\u001b[49m\u001b[43m \u001b[49m\u001b[43mmetadata\u001b[49m\u001b[43m)\u001b[49m\n",
      "File \u001b[0;32m/usr/local/lib/python3.10/dist-packages/matplotlib/backends/backend_agg.py:458\u001b[0m, in \u001b[0;36mFigureCanvasAgg._print_pil\u001b[0;34m(self, filename_or_obj, fmt, pil_kwargs, metadata)\u001b[0m\n\u001b[1;32m    453\u001b[0m \u001b[38;5;250m\u001b[39m\u001b[38;5;124;03m\"\"\"\u001b[39;00m\n\u001b[1;32m    454\u001b[0m \u001b[38;5;124;03mDraw the canvas, then save it using `.image.imsave` (to which\u001b[39;00m\n\u001b[1;32m    455\u001b[0m \u001b[38;5;124;03m*pil_kwargs* and *metadata* are forwarded).\u001b[39;00m\n\u001b[1;32m    456\u001b[0m \u001b[38;5;124;03m\"\"\"\u001b[39;00m\n\u001b[1;32m    457\u001b[0m FigureCanvasAgg\u001b[38;5;241m.\u001b[39mdraw(\u001b[38;5;28mself\u001b[39m)\n\u001b[0;32m--> 458\u001b[0m \u001b[43mmpl\u001b[49m\u001b[38;5;241;43m.\u001b[39;49m\u001b[43mimage\u001b[49m\u001b[38;5;241;43m.\u001b[39;49m\u001b[43mimsave\u001b[49m\u001b[43m(\u001b[49m\n\u001b[1;32m    459\u001b[0m \u001b[43m    \u001b[49m\u001b[43mfilename_or_obj\u001b[49m\u001b[43m,\u001b[49m\u001b[43m \u001b[49m\u001b[38;5;28;43mself\u001b[39;49m\u001b[38;5;241;43m.\u001b[39;49m\u001b[43mbuffer_rgba\u001b[49m\u001b[43m(\u001b[49m\u001b[43m)\u001b[49m\u001b[43m,\u001b[49m\u001b[43m \u001b[49m\u001b[38;5;28;43mformat\u001b[39;49m\u001b[38;5;241;43m=\u001b[39;49m\u001b[43mfmt\u001b[49m\u001b[43m,\u001b[49m\u001b[43m \u001b[49m\u001b[43morigin\u001b[49m\u001b[38;5;241;43m=\u001b[39;49m\u001b[38;5;124;43m\"\u001b[39;49m\u001b[38;5;124;43mupper\u001b[39;49m\u001b[38;5;124;43m\"\u001b[39;49m\u001b[43m,\u001b[49m\n\u001b[1;32m    460\u001b[0m \u001b[43m    \u001b[49m\u001b[43mdpi\u001b[49m\u001b[38;5;241;43m=\u001b[39;49m\u001b[38;5;28;43mself\u001b[39;49m\u001b[38;5;241;43m.\u001b[39;49m\u001b[43mfigure\u001b[49m\u001b[38;5;241;43m.\u001b[39;49m\u001b[43mdpi\u001b[49m\u001b[43m,\u001b[49m\u001b[43m \u001b[49m\u001b[43mmetadata\u001b[49m\u001b[38;5;241;43m=\u001b[39;49m\u001b[43mmetadata\u001b[49m\u001b[43m,\u001b[49m\u001b[43m \u001b[49m\u001b[43mpil_kwargs\u001b[49m\u001b[38;5;241;43m=\u001b[39;49m\u001b[43mpil_kwargs\u001b[49m\u001b[43m)\u001b[49m\n",
      "File \u001b[0;32m/usr/local/lib/python3.10/dist-packages/matplotlib/image.py:1689\u001b[0m, in \u001b[0;36mimsave\u001b[0;34m(fname, arr, vmin, vmax, cmap, format, origin, dpi, metadata, pil_kwargs)\u001b[0m\n\u001b[1;32m   1687\u001b[0m pil_kwargs\u001b[38;5;241m.\u001b[39msetdefault(\u001b[38;5;124m\"\u001b[39m\u001b[38;5;124mformat\u001b[39m\u001b[38;5;124m\"\u001b[39m, \u001b[38;5;28mformat\u001b[39m)\n\u001b[1;32m   1688\u001b[0m pil_kwargs\u001b[38;5;241m.\u001b[39msetdefault(\u001b[38;5;124m\"\u001b[39m\u001b[38;5;124mdpi\u001b[39m\u001b[38;5;124m\"\u001b[39m, (dpi, dpi))\n\u001b[0;32m-> 1689\u001b[0m \u001b[43mimage\u001b[49m\u001b[38;5;241;43m.\u001b[39;49m\u001b[43msave\u001b[49m\u001b[43m(\u001b[49m\u001b[43mfname\u001b[49m\u001b[43m,\u001b[49m\u001b[43m \u001b[49m\u001b[38;5;241;43m*\u001b[39;49m\u001b[38;5;241;43m*\u001b[39;49m\u001b[43mpil_kwargs\u001b[49m\u001b[43m)\u001b[49m\n",
      "File \u001b[0;32m/usr/local/lib/python3.10/dist-packages/PIL/Image.py:2317\u001b[0m, in \u001b[0;36mImage.save\u001b[0;34m(self, fp, format, **params)\u001b[0m\n\u001b[1;32m   2315\u001b[0m         fp \u001b[38;5;241m=\u001b[39m builtins\u001b[38;5;241m.\u001b[39mopen(filename, \u001b[38;5;124m\"\u001b[39m\u001b[38;5;124mr+b\u001b[39m\u001b[38;5;124m\"\u001b[39m)\n\u001b[1;32m   2316\u001b[0m     \u001b[38;5;28;01melse\u001b[39;00m:\n\u001b[0;32m-> 2317\u001b[0m         fp \u001b[38;5;241m=\u001b[39m \u001b[43mbuiltins\u001b[49m\u001b[38;5;241;43m.\u001b[39;49m\u001b[43mopen\u001b[49m\u001b[43m(\u001b[49m\u001b[43mfilename\u001b[49m\u001b[43m,\u001b[49m\u001b[43m \u001b[49m\u001b[38;5;124;43m\"\u001b[39;49m\u001b[38;5;124;43mw+b\u001b[39;49m\u001b[38;5;124;43m\"\u001b[39;49m\u001b[43m)\u001b[49m\n\u001b[1;32m   2319\u001b[0m \u001b[38;5;28;01mtry\u001b[39;00m:\n\u001b[1;32m   2320\u001b[0m     save_handler(\u001b[38;5;28mself\u001b[39m, fp, filename)\n",
      "\u001b[0;31mFileNotFoundError\u001b[0m: [Errno 2] No such file or directory: '.0407_test/test_sample_1.png'"
     ]
    },
    {
     "data": {
      "image/png": "[encoded data removed]",
      "text/plain": [
       "<Figure size 1500x600 with 9 Axes>"
      ]
     },
     "metadata": {},
     "output_type": "display_data"
    }
   ],
   "source": [
    "import torch\n",
    "import torchvision\n",
    "from torch import nn\n",
    "from torch.utils.data import DataLoader, random_split\n",
    "from PIL import Image\n",
    "import io\n",
    "import random\n",
    "import matplotlib.pyplot as plt\n",
    "import torch.nn.functional as F\n",
    "import math\n",
    "import os\n",
    "from tqdm import tqdm\n",
    "import numpy as np\n",
    "from pytorch_msssim import ssim\n",
    "import lpips\n",
    "\n",
    "# 設定設備\n",
    "device = torch.device(\"cuda\" if torch.cuda.is_available() else \"cpu\")\n",
    "print(f\"Using device: {device}\")\n",
    "\n",
    "# 資料預處理\n",
    "transform = torchvision.transforms.Compose([\n",
    "    torchvision.transforms.ToTensor(),\n",
    "    torchvision.transforms.Normalize((0.5, 0.5, 0.5), (0.5, 0.5, 0.5))\n",
    "])\n",
    "\n",
    "dataset = torchvision.datasets.CIFAR10(\n",
    "    root=\"./data\", train=True, download=True, transform=transform\n",
    ")\n",
    "\n",
    "train_size = int(0.8 * len(dataset))\n",
    "valid_size = int(0.1 * len(dataset))\n",
    "test_size = len(dataset) - train_size - valid_size\n",
    "train_dataset, valid_dataset, test_dataset = random_split(\n",
    "    dataset, [train_size, valid_size, test_size]\n",
    ")\n",
    "\n",
    "# 資料載入器設定\n",
    "batch_size = 128\n",
    "train_dataloader = DataLoader(train_dataset, batch_size=batch_size, shuffle=True, num_workers=4, pin_memory=True)\n",
    "valid_dataloader = DataLoader(valid_dataset, batch_size=batch_size, shuffle=False)\n",
    "test_dataloader = DataLoader(test_dataset, batch_size=1, shuffle=True)\n",
    "\n",
    "# 改進的JPEG壓縮函數\n",
    "def jpeg_compress(x, quality):\n",
    "    \"\"\"執行JPEG壓縮並加強色彩保存\"\"\"\n",
    "    x = (x * 127.5 + 127.5).clamp(0, 255).to(torch.uint8).cpu()\n",
    "    compressed_images = []\n",
    "    for img in x:\n",
    "        pil_img = torchvision.transforms.ToPILImage()(img)\n",
    "        buffer = io.BytesIO()\n",
    "        # 確保quality在1-100的有效範圍內\n",
    "        quality = max(1, min(100, int(quality)))\n",
    "        # 根據質量選擇子採樣模式，提高色彩保留\n",
    "        subsampling = \"4:4:4\" if quality > 30 else \"4:2:0\"\n",
    "        pil_img.save(buffer, format=\"JPEG\", quality=quality, subsampling=subsampling)\n",
    "        buffer.seek(0)\n",
    "        compressed_img = Image.open(buffer)\n",
    "        compressed_tensor = torchvision.transforms.ToTensor()(compressed_img)\n",
    "        compressed_images.append(compressed_tensor)\n",
    "    return torch.stack(compressed_images).to(device).sub(0.5).div(0.5)\n",
    "\n",
    "# 色彩感知損失函數\n",
    "def color_preservation_loss(pred, target):\n",
    "    \"\"\"色彩保存損失，增加色度重要性\"\"\"\n",
    "    # 將圖像轉換到[0,1]範圍\n",
    "    pred = (pred * 0.5 + 0.5).clamp(0, 1)\n",
    "    target = (target * 0.5 + 0.5).clamp(0, 1)\n",
    "    \n",
    "    # 計算RGB差異，給予綠色通道較高權重\n",
    "    r_loss = F.l1_loss(pred[:, 0], target[:, 0])\n",
    "    g_loss = F.l1_loss(pred[:, 1], target[:, 1])\n",
    "    b_loss = F.l1_loss(pred[:, 2], target[:, 2])\n",
    "    \n",
    "    # 綠色通道權重略高，因人眼對綠色更敏感\n",
    "    color_loss = 0.25 * r_loss + 0.5 * g_loss + 0.25 * b_loss\n",
    "    \n",
    "    # 額外添加結構相似性損失\n",
    "    ssim_loss = 1 - ssim(pred, target, data_range=1.0, size_average=True)\n",
    "    \n",
    "    # 結合損失\n",
    "    return color_loss + 0.5 * ssim_loss\n",
    "\n",
    "# 時間嵌入模組\n",
    "class TimeEmbedding(nn.Module):\n",
    "    def __init__(self, dim):\n",
    "        super().__init__()\n",
    "        self.dim = dim\n",
    "        self.proj = nn.Sequential(\n",
    "            nn.Linear(dim, dim * 4),\n",
    "            nn.SiLU(),\n",
    "            nn.Linear(dim * 4, dim)\n",
    "        )\n",
    "        \n",
    "    def forward(self, t):\n",
    "        half_dim = self.dim // 2\n",
    "        emb = math.log(10000) / (half_dim - 1)\n",
    "        emb = torch.exp(torch.arange(half_dim, device=device) * -emb)\n",
    "        emb = t[:, None] * emb[None, :]\n",
    "        emb = torch.cat((emb.sin(), emb.cos()), dim=-1)\n",
    "        return self.proj(emb)\n",
    "\n",
    "# 修正後的離散余弦變換層\n",
    "class DCTLayer(nn.Module):\n",
    "    \"\"\"實現DCT變換層，用於頻域分析\"\"\"\n",
    "    def __init__(self, block_size=8):\n",
    "        super().__init__()\n",
    "        self.block_size = block_size\n",
    "        \n",
    "    def forward(self, x):\n",
    "        # 保存原始尺寸\n",
    "        b, c, h, w = x.shape\n",
    "        \n",
    "        # 使用可調整的插值確保輸出與輸入尺寸相同\n",
    "        # 先進行DCT變換\n",
    "        x_dct = self._apply_dct(x)\n",
    "        \n",
    "        # 確保輸出尺寸與輸入相同\n",
    "        if x_dct.shape[2:] != x.shape[2:]:\n",
    "            x_dct = F.interpolate(x_dct, size=(h, w), mode='bilinear', align_corners=False)\n",
    "            \n",
    "        return x_dct\n",
    "    \n",
    "    def _apply_dct(self, x):\n",
    "        \"\"\"實際執行DCT變換的輔助函數\"\"\"\n",
    "        b, c, h, w = x.shape\n",
    "        \n",
    "        # 補充填充以確保尺寸是block_size的倍數\n",
    "        h_pad = (self.block_size - h % self.block_size) % self.block_size\n",
    "        w_pad = (self.block_size - w % self.block_size) % self.block_size\n",
    "        \n",
    "        x_padded = F.pad(x, (0, w_pad, 0, h_pad))\n",
    "        \n",
    "        # 獲取填充後的尺寸\n",
    "        _, _, h_padded, w_padded = x_padded.shape\n",
    "        \n",
    "        # 計算块的數量\n",
    "        h_blocks = h_padded // self.block_size\n",
    "        w_blocks = w_padded // self.block_size\n",
    "        \n",
    "        # 分塊處理\n",
    "        x_blocks = x_padded.unfold(2, self.block_size, self.block_size).unfold(3, self.block_size, self.block_size)\n",
    "        \n",
    "        # 獲取展開後的尺寸\n",
    "        b_unf, c_unf, h_unf, w_unf, bs_h, bs_w = x_blocks.shape\n",
    "        \n",
    "        # 重構為便於進行DCT的形狀\n",
    "        x_blocks_flat = x_blocks.reshape(-1, self.block_size, self.block_size)\n",
    "        \n",
    "        # 獲取DCT矩陣\n",
    "        dct_matrix = self._get_dct_matrix(self.block_size).to(x.device)\n",
    "        \n",
    "        # 應用DCT變換: D * X * D^T\n",
    "        x_dct_flat = torch.matmul(dct_matrix, x_blocks_flat)\n",
    "        x_dct_flat = torch.matmul(x_dct_flat, dct_matrix.transpose(0, 1))\n",
    "        \n",
    "        # 恢復展開形狀\n",
    "        x_dct_blocks = x_dct_flat.reshape(b_unf, c_unf, h_unf, w_unf, bs_h, bs_w)\n",
    "        \n",
    "        # 重新排列為可以恢復原始形狀的排列\n",
    "        x_dct_perm = x_dct_blocks.permute(0, 1, 2, 4, 3, 5)\n",
    "        \n",
    "        # 重構為填充後的原始形狀\n",
    "        x_dct = x_dct_perm.reshape(b, c, h_padded, w_padded)\n",
    "        \n",
    "        # 去除填充部分\n",
    "        if h_pad > 0 or w_pad > 0:\n",
    "            x_dct = x_dct[:, :, :h, :w]\n",
    "        \n",
    "        return x_dct\n",
    "    \n",
    "    def _get_dct_matrix(self, size):\n",
    "        \"\"\"生成離散餘弦變換矩陣\"\"\"\n",
    "        dct_matrix = torch.zeros(size, size)\n",
    "        for i in range(size):\n",
    "            for j in range(size):\n",
    "                if i == 0:\n",
    "                    dct_matrix[i, j] = 1.0 / torch.sqrt(torch.tensor(size, dtype=torch.float32))\n",
    "                else:\n",
    "                    dct_matrix[i, j] = torch.sqrt(torch.tensor(2.0 / size)) * torch.cos(torch.tensor(torch.pi * (2 * j + 1) * i / (2 * size)))\n",
    "        return dct_matrix\n",
    "\n",
    "# 高頻補償模塊\n",
    "class HFCM(nn.Module):\n",
    "    \"\"\"高頻補償模塊，從FDG-Diff論文改編\"\"\"\n",
    "    def __init__(self, channels):\n",
    "        super().__init__()\n",
    "        self.dct = DCTLayer(block_size=8)\n",
    "        self.high_freq_attn = nn.Sequential(\n",
    "            nn.Conv2d(channels, channels, 3, 1, 1),\n",
    "            nn.ReLU(),\n",
    "            nn.Conv2d(channels, channels, 3, 1, 1),\n",
    "            nn.Sigmoid()\n",
    "        )\n",
    "        self.conv_out = nn.Conv2d(channels, channels, 1)\n",
    "        \n",
    "    def forward(self, x, compression_level):\n",
    "        # 提取DCT頻域表示\n",
    "        x_dct = self.dct(x)\n",
    "        \n",
    "        # 確保x_dct與x有相同的空間尺寸\n",
    "        if x_dct.shape[2:] != x.shape[2:]:\n",
    "            x_dct = F.interpolate(x_dct, size=x.shape[2:], mode='bilinear', align_corners=False)\n",
    "        \n",
    "        # 高頻注意力掩碼生成\n",
    "        attn_mask = self.high_freq_attn(x)\n",
    "        \n",
    "        # 確保compression_level是標量或可廣播的形狀\n",
    "        if isinstance(compression_level, torch.Tensor) and compression_level.dim() > 0:\n",
    "            compression_level = compression_level.view(-1, 1, 1, 1)\n",
    "        \n",
    "        # 根據壓縮級別調整高頻增強程度\n",
    "        # 壓縮級別越高(質量越低)，增強程度越大\n",
    "        freq_scale = 1.0 - compression_level\n",
    "        \n",
    "        # 應用高頻增強\n",
    "        enhanced = x + attn_mask * x_dct * freq_scale\n",
    "        return self.conv_out(enhanced)\n",
    "\n",
    "# 頻域引導模塊\n",
    "class FrequencyAwareBlock(nn.Module):\n",
    "    def __init__(self, channels):\n",
    "        super().__init__()\n",
    "        self.dct_layer = DCTLayer(block_size=8)\n",
    "        self.freq_conv = nn.Conv2d(channels, channels, 3, padding=1)\n",
    "        self.freq_attn = nn.Sequential(\n",
    "            nn.AdaptiveAvgPool2d(1),\n",
    "            nn.Conv2d(channels, channels // 4, 1),\n",
    "            nn.ReLU(),\n",
    "            nn.Conv2d(channels // 4, channels, 1),\n",
    "            nn.Sigmoid()\n",
    "        )\n",
    "        \n",
    "    def forward(self, x, compression_level):\n",
    "        # 提取頻域特徵\n",
    "        x_dct = self.dct_layer(x)\n",
    "        \n",
    "        # 確保x_dct與x有相同的空間尺寸\n",
    "        if x_dct.shape[2:] != x.shape[2:]:\n",
    "            x_dct = F.interpolate(x_dct, size=x.shape[2:], mode='bilinear', align_corners=False)\n",
    "            \n",
    "        x_freq = self.freq_conv(x_dct)\n",
    "        \n",
    "        # 確保x_freq與x有相同的空間尺寸\n",
    "        if x_freq.shape[2:] != x.shape[2:]:\n",
    "            x_freq = F.interpolate(x_freq, size=x.shape[2:], mode='bilinear', align_corners=False)\n",
    "        \n",
    "        # 生成頻域注意力\n",
    "        attn = self.freq_attn(x_freq)\n",
    "        \n",
    "        # 確保compression_level是標量或可廣播的形狀\n",
    "        if isinstance(compression_level, torch.Tensor) and compression_level.dim() > 0:\n",
    "            compression_level = compression_level.view(-1, 1, 1, 1)\n",
    "        \n",
    "        # 根據壓縮級別調整頻域注意力\n",
    "        attn = attn * (1.0 - compression_level) + 0.5\n",
    "        \n",
    "        # 確保attn可以與x_freq適當廣播\n",
    "        if attn.shape[2:] != x_freq.shape[2:]:\n",
    "            attn = F.interpolate(attn, size=x_freq.shape[2:], mode='nearest')\n",
    "        \n",
    "        # 應用頻域注意力\n",
    "        return x + x_freq * attn\n",
    "\n",
    "# 改進的殘差注意力模塊\n",
    "class ResAttnBlock(nn.Module):\n",
    "    def __init__(self, in_c, out_c, time_dim, dropout=0.1, use_freq_guide=False):\n",
    "        super().__init__()\n",
    "        # 確保組數能被通道數整除\n",
    "        num_groups = min(8, in_c)\n",
    "        while in_c % num_groups != 0 and num_groups > 1:\n",
    "            num_groups -= 1\n",
    "            \n",
    "        self.norm1 = nn.GroupNorm(num_groups, in_c)\n",
    "        self.conv1 = nn.Conv2d(in_c, out_c, 3, padding=1)\n",
    "        self.time_proj = nn.Linear(time_dim, out_c)\n",
    "        \n",
    "        # 調整 out_c 的組數\n",
    "        num_groups_out = min(8, out_c)\n",
    "        while out_c % num_groups_out != 0 and num_groups_out > 1:\n",
    "            num_groups_out -= 1\n",
    "            \n",
    "        self.norm2 = nn.GroupNorm(num_groups_out, out_c)\n",
    "        self.conv2 = nn.Conv2d(out_c, out_c, 3, padding=1)\n",
    "        self.attn = nn.MultiheadAttention(out_c, 4, batch_first=True)\n",
    "        self.dropout = nn.Dropout(dropout)\n",
    "        \n",
    "        self.shortcut = nn.Conv2d(in_c, out_c, 1) if in_c != out_c else nn.Identity()\n",
    "        \n",
    "        # 頻域引導(僅在某些塊使用)\n",
    "        self.use_freq_guide = use_freq_guide\n",
    "        if use_freq_guide:\n",
    "            self.freq_guide = FrequencyAwareBlock(out_c)\n",
    "            self.hfcm = HFCM(out_c)\n",
    "        \n",
    "    def forward(self, x, t_emb, compression_level=None):\n",
    "        h = self.norm1(x)\n",
    "        h = self.conv1(h)\n",
    "        \n",
    "        # 加入時間編碼\n",
    "        t = self.time_proj(t_emb)[..., None, None]\n",
    "        h = h + t\n",
    "        \n",
    "        h = self.norm2(h)\n",
    "        h = self.conv2(F.silu(h))\n",
    "        \n",
    "        # 應用自注意力機制\n",
    "        b, c, hh, ww = h.shape\n",
    "        h_attn = h.view(b, c, -1).permute(0, 2, 1)\n",
    "        h_attn, _ = self.attn(h_attn, h_attn, h_attn)\n",
    "        h_attn = h_attn.permute(0, 2, 1).view(b, c, hh, ww)\n",
    "        \n",
    "        # 應用頻域引導(如果啟用)\n",
    "        if self.use_freq_guide and compression_level is not None:\n",
    "            h_attn = self.freq_guide(h_attn, compression_level)\n",
    "            h_attn = self.hfcm(h_attn, compression_level)\n",
    "        \n",
    "        return self.shortcut(x) + self.dropout(h_attn)\n",
    "\n",
    "# SVD結構保留輔助函數\n",
    "def svd_structure_preservation(x, k_ratio=0.5):\n",
    "    \"\"\"使用SVD提取主要結構特徵\"\"\"\n",
    "    b, c, h, w = x.shape\n",
    "    x_flat = x.view(b, c, -1)\n",
    "    \n",
    "    # 對每個通道進行SVD分解\n",
    "    structure_tensors = []\n",
    "    for i in range(b):\n",
    "        channels_structure = []\n",
    "        for j in range(c):\n",
    "            # SVD分解\n",
    "            U, S, Vh = torch.linalg.svd(x_flat[i, j].view(h, w), full_matrices=False)\n",
    "            \n",
    "            # 確定保留的奇異值數量\n",
    "            k = max(1, int(min(h, w) * k_ratio))\n",
    "            \n",
    "            # 重建降秩表示\n",
    "            S_k = torch.zeros_like(S)\n",
    "            S_k[:k] = S[:k]\n",
    "            structure = torch.matmul(U, torch.matmul(torch.diag(S_k), Vh))\n",
    "            channels_structure.append(structure.unsqueeze(0))\n",
    "        \n",
    "        # 所有通道結合\n",
    "        structure_tensors.append(torch.cat(channels_structure, dim=0).unsqueeze(0))\n",
    "    \n",
    "    return torch.cat(structure_tensors, dim=0)\n",
    "\n",
    "# 相位一致性函數\n",
    "def phase_consistency(x, ref, alpha=0.7):\n",
    "    \"\"\"保持參考圖像的相位信息，同時使用新的幅度\"\"\"\n",
    "    # FFT變換\n",
    "    x_fft = torch.fft.fft2(x)\n",
    "    ref_fft = torch.fft.fft2(ref)\n",
    "    \n",
    "    # 提取幅度和相位\n",
    "    x_mag = torch.abs(x_fft)\n",
    "    ref_phase = torch.angle(ref_fft)\n",
    "    \n",
    "    # 創建新的複數張量，使用x的幅度和參考的相位\n",
    "    real = x_mag * torch.cos(ref_phase)\n",
    "    imag = x_mag * torch.sin(ref_phase)\n",
    "    adjusted_fft = torch.complex(real, imag)\n",
    "    \n",
    "    # 反變換\n",
    "    adjusted_img = torch.fft.ifft2(adjusted_fft).real\n",
    "    \n",
    "    # 混合原始圖像和相位調整圖像\n",
    "    return alpha * x + (1 - alpha) * adjusted_img\n",
    "\n",
    "# 改進的UNet架構\n",
    "class JPEGDiffusionModel(nn.Module):\n",
    "    def __init__(self):\n",
    "        super().__init__()\n",
    "        time_dim = 256\n",
    "        self.time_embed = TimeEmbedding(time_dim)\n",
    "        \n",
    "        # 下采样路径 - 增強中層使用頻域引導\n",
    "        self.down1 = ResAttnBlock(3, 64, time_dim)\n",
    "        self.down2 = ResAttnBlock(64, 128, time_dim, use_freq_guide=True)\n",
    "        self.down3 = ResAttnBlock(128, 256, time_dim, use_freq_guide=True)\n",
    "        self.down4 = ResAttnBlock(256, 512, time_dim)\n",
    "        self.down5 = ResAttnBlock(512, 512, time_dim)\n",
    "        self.pool = nn.MaxPool2d(2)\n",
    "        \n",
    "        # 瓶颈层 - 使用頻域引導\n",
    "        self.bottleneck = nn.Sequential(\n",
    "            ResAttnBlock(512, 1024, time_dim, use_freq_guide=True),\n",
    "            ResAttnBlock(1024, 1024, time_dim),\n",
    "            ResAttnBlock(1024, 512, time_dim, use_freq_guide=True)\n",
    "        )\n",
    "        \n",
    "        # 上采样路径 - 增強中層使用頻域引導\n",
    "        self.up1 = ResAttnBlock(1024, 512, time_dim)\n",
    "        self.up2 = ResAttnBlock(512 + 512, 256, time_dim, use_freq_guide=True)\n",
    "        self.up3 = ResAttnBlock(256 + 256, 128, time_dim, use_freq_guide=True)\n",
    "        self.up4 = ResAttnBlock(128 + 128, 64, time_dim)\n",
    "        self.up5 = ResAttnBlock(64 + 64, 64, time_dim)\n",
    "        \n",
    "        # 輸出層 - 使用1x1卷積保留空間色彩相關性\n",
    "        self.out_conv = nn.Conv2d(64, 3, 1)\n",
    "        \n",
    "    def forward(self, x, t, compression_level=None):\n",
    "        t_emb = self.time_embed(t)\n",
    "        \n",
    "        # 如果未提供壓縮級別，從時間步估計\n",
    "        if compression_level is None:\n",
    "            compression_level = t.clone().detach()\n",
    "        \n",
    "        # 下采样\n",
    "        d1 = self.down1(x, t_emb)  # 32x32\n",
    "        d2 = self.down2(self.pool(d1), t_emb, compression_level)  # 16x16\n",
    "        d3 = self.down3(self.pool(d2), t_emb, compression_level)  # 8x8\n",
    "        d4 = self.down4(self.pool(d3), t_emb)  # 4x4\n",
    "        d5 = self.down5(self.pool(d4), t_emb)  # 2x2\n",
    "        \n",
    "        # 瓶颈层\n",
    "        b = self.bottleneck[0](self.pool(d5), t_emb, compression_level)\n",
    "        b = self.bottleneck[1](b, t_emb)\n",
    "        b = self.bottleneck[2](b, t_emb, compression_level)\n",
    "        \n",
    "        # 上采样 - 使用雙線性上採樣避免棋盤格效應\n",
    "        u1 = self.up1(torch.cat([F.interpolate(b, scale_factor=2, mode='bilinear', align_corners=False), d5], dim=1), t_emb)\n",
    "        u2 = self.up2(torch.cat([F.interpolate(u1, scale_factor=2, mode='bilinear', align_corners=False), d4], dim=1), t_emb, compression_level)\n",
    "        u3 = self.up3(torch.cat([F.interpolate(u2, scale_factor=2, mode='bilinear', align_corners=False), d3], dim=1), t_emb, compression_level)\n",
    "        u4 = self.up4(torch.cat([F.interpolate(u3, scale_factor=2, mode='bilinear', align_corners=False), d2], dim=1), t_emb)\n",
    "        u5 = self.up5(torch.cat([F.interpolate(u4, scale_factor=2, mode='bilinear', align_corners=False), d1], dim=1), t_emb)\n",
    "        \n",
    "        return self.out_conv(u5)\n",
    "\n",
    "# 初始化模型\n",
    "model = JPEGDiffusionModel().to(device)\n",
    "print(f\"Total parameters: {sum(p.numel() for p in model.parameters()):,}\")\n",
    "\n",
    "# 設定優化器 - 使用AdamW配合學習率調整\n",
    "optimizer = torch.optim.AdamW(model.parameters(), lr=1e-4, weight_decay=1e-5, betas=(0.9, 0.99))\n",
    "scheduler = torch.optim.lr_scheduler.CosineAnnealingWarmRestarts(optimizer, T_0=100, T_mult=2)\n",
    "# 組合Huber損失和色彩保存損失\n",
    "huber_loss_fn = nn.HuberLoss(reduction='mean', delta=1.0)\n",
    "\n",
    "# 設定JPEG擴散參數\n",
    "num_timesteps = 100\n",
    "# 根據DriftRec論文，使用余弦調度的噪聲\n",
    "betas = torch.linspace(1e-4, 0.02, num_timesteps).to(device)\n",
    "alphas = 1. - betas\n",
    "alphas_cumprod = torch.cumprod(alphas, dim=0)\n",
    "\n",
    "# 高斯混合模型採樣器\n",
    "class GaussianMixtureSampler:\n",
    "    def __init__(self, model):\n",
    "        self.model = model\n",
    "        \n",
    "    def sample(self, x_t, steps=100, use_phase_consistency=True, use_svd_guide=True, guidance_scale=1.0):\n",
    "        \"\"\"使用高斯混合模型進行採樣，結合相位一致性和SVD引導\"\"\"\n",
    "        self.model.eval()\n",
    "        # 保存原始壓縮圖像用於相位一致性\n",
    "        original_compressed = x_t.clone()\n",
    "        \n",
    "        with torch.no_grad():\n",
    "            # 從給定的噪聲圖像開始\n",
    "            for i in tqdm(range(steps-1, -1, -1), desc=\"Sampling\"):\n",
    "                t = torch.full((x_t.size(0),), i, device=device).float() / num_timesteps\n",
    "                compression_level = t.clone()  # 壓縮級別與時間步對應\n",
    "                \n",
    "                # 獲取噪聲預測\n",
    "                pred_noise = model(x_t, t, compression_level)\n",
    "                \n",
    "                # 如果啟用SVD引導\n",
    "                if use_svd_guide and i > steps // 2:\n",
    "                    # 在前半部分採樣過程中使用SVD引導(粗糙結構)\n",
    "                    k_ratio = i / steps  # 隨時間降低保留比例\n",
    "                    structure_prior = svd_structure_preservation(x_t, k_ratio)\n",
    "                    # 混合SVD結構和預測\n",
    "                    guide_strength = k_ratio * 0.3  # SVD影響隨時間降低\n",
    "                    pred_noise = (1 - guide_strength) * pred_noise + guide_strength * (original_compressed - structure_prior)\n",
    "                \n",
    "                if i > 0:\n",
    "                    # 預測的x0\n",
    "                    x0_pred = x_t + pred_noise\n",
    "                    \n",
    "                    # 計算多個高斯分量的均值\n",
    "                    # 第一個均值 - 更保守的估計\n",
    "                    mu1 = x0_pred * 0.9 + x_t * 0.1\n",
    "                    # 第二個均值 - 更積極的估計\n",
    "                    mu2 = x0_pred * 1.1 - x_t * 0.1\n",
    "                    \n",
    "                    # 根據當前時間步選擇使用哪個分量\n",
    "                    # 時間步較大時傾向使用保守估計，較小時傾向使用積極估計\n",
    "                    p_conservative = max(0.2, min(0.8, i / steps))\n",
    "                    use_first = torch.rand(1).item() < p_conservative\n",
    "                    next_mean = mu1 if use_first else mu2\n",
    "                    \n",
    "                    # 逐步減少噪聲尺度\n",
    "                    noise_scale = 0.1 * i / steps * guidance_scale\n",
    "                    x_next = next_mean + noise_scale * torch.randn_like(x_t)\n",
    "                    \n",
    "                    # 相位一致性(每5步應用一次)\n",
    "                    if use_phase_consistency and i % 5 == 0:\n",
    "                        alpha = 0.6 + 0.3 * (1 - i / steps)  # 隨時間增加原始圖像權重\n",
    "                        x_next = phase_consistency(x_next, original_compressed, alpha)\n",
    "                    \n",
    "                    x_t = x_next\n",
    "                else:\n",
    "                    # 最後一步直接使用預測的原始圖像\n",
    "                    x_t = x_t + pred_noise\n",
    "        \n",
    "        return x_t\n",
    "\n",
    "# 改進的前向過程(基於DriftRec)\n",
    "def forward_process(x0, t, quality_factors=None):\n",
    "    \"\"\"使用基於DriftRec的前向SDE進行JPEG壓縮\"\"\"\n",
    "    b = x0.size(0)\n",
    "    \n",
    "    # 如果未提供quality_factors，從時間步估計\n",
    "    if quality_factors is None:\n",
    "        # 將時間步映射到壓縮質量因子(1-100)，t越大，質量越低\n",
    "        quality_factors = torch.clamp(100 * (1 - t.float() / num_timesteps), 1, 100).cpu().numpy()\n",
    "    \n",
    "    # JPEG壓縮\n",
    "    xt = torch.stack([jpeg_compress(x0[i:i+1], int(q)) for i, q in enumerate(quality_factors)]).squeeze()\n",
    "    \n",
    "    # 添加少量高斯噪聲以增加穩定性(DriftRec思想)\n",
    "    noise_scale = 0.01 * t.float() / num_timesteps  # 隨時間線性增加\n",
    "    xt = xt + noise_scale.view(-1, 1, 1, 1) * torch.randn_like(xt)\n",
    "    \n",
    "    return xt\n",
    "\n",
    "# 改進的訓練函數(一致性擴散)\n",
    "def train_epoch(model, loader, epoch):\n",
    "    model.train()\n",
    "    total_loss = 0\n",
    "    color_loss_total = 0\n",
    "    \n",
    "    for x0, _ in tqdm(loader, desc=f\"Training Epoch {epoch+1}\"):\n",
    "        x0 = x0.to(device)\n",
    "        b = x0.size(0)\n",
    "        \n",
    "        # 使用更結構化的質量分布\n",
    "        # 確保模型見到各種質量水平的樣本\n",
    "        if random.random() < 0.3 + min(0.4, epoch * 0.01):  # 隨著訓練進行增加高質量樣本比例\n",
    "            # 高質量壓縮\n",
    "            quality_range = (70, 100)\n",
    "        elif random.random() < 0.5:\n",
    "            # 中等質量壓縮\n",
    "            quality_range = (40, 70)\n",
    "        else:\n",
    "            # 低質量壓縮\n",
    "            quality_range = (5, 40)\n",
    "            \n",
    "        # 隨機選擇時間步\n",
    "        t = torch.randint(1, num_timesteps, (b,), device=device).long()\n",
    "        \n",
    "        # 將時間步映射到質量因子，加入範圍控制\n",
    "        min_q, max_q = quality_range\n",
    "        quality = torch.clamp(min_q + (max_q - min_q) * (1 - t.float() / num_timesteps), 1, 100).cpu().numpy()\n",
    "        \n",
    "        # 使用改進的前向過程\n",
    "        xt = forward_process(x0, t, quality)\n",
    "        \n",
    "        # 計算噪聲 (x0 - xt)\n",
    "        noise = x0 - xt\n",
    "        \n",
    "        # 模型預測噪聲\n",
    "        compression_level = t.float() / num_timesteps  # 壓縮級別\n",
    "        pred_noise = model(xt, t.float()/num_timesteps, compression_level)\n",
    "        \n",
    "        # 標準重建損失\n",
    "        huber_loss = huber_loss_fn(pred_noise, noise)\n",
    "        \n",
    "        # 色彩保存損失\n",
    "        col_loss = color_preservation_loss(xt + pred_noise, x0)\n",
    "        \n",
    "        # 結合損失，逐漸增加色彩損失的權重\n",
    "        color_weight = min(1.0, 0.2 + epoch * 0.02)\n",
    "        loss = huber_loss + color_weight * col_loss\n",
    "        \n",
    "        # 反向傳播更新\n",
    "        optimizer.zero_grad()\n",
    "        loss.backward()\n",
    "        # 梯度裁剪防止爆炸\n",
    "        torch.nn.utils.clip_grad_norm_(model.parameters(), 1.0)\n",
    "        optimizer.step()\n",
    "        \n",
    "        total_loss += huber_loss.item()\n",
    "        color_loss_total += col_loss.item()\n",
    "    \n",
    "    # 更新學習率\n",
    "    scheduler.step()\n",
    "    \n",
    "    avg_loss = total_loss / len(loader)\n",
    "    avg_color_loss = color_loss_total / len(loader)\n",
    "    print(f\"Epoch {epoch+1} - Avg Loss: {avg_loss:.5f}, Color Loss: {avg_color_loss:.5f}, LR: {optimizer.param_groups[0]['lr']:.2e}\")\n",
    "    return avg_loss, avg_color_loss\n",
    "\n",
    "# 驗證函數\n",
    "def validate(model, loader, epoch):\n",
    "    model.eval()\n",
    "    total_loss = 0\n",
    "    color_loss_total = 0\n",
    "    \n",
    "    with torch.no_grad():\n",
    "        for x0, _ in tqdm(loader, desc=f\"Validating Epoch {epoch+1}\"):\n",
    "            x0 = x0.to(device)\n",
    "            b = x0.size(0)\n",
    "            \n",
    "            # 固定質量用於評估\n",
    "            quality = torch.randint(10, 90, (b,)).cpu().numpy()\n",
    "            t = torch.full((b,), num_timesteps//2, device=device).long()\n",
    "            \n",
    "            # 使用改進的前向過程\n",
    "            xt = forward_process(x0, t, quality)\n",
    "            \n",
    "            # 計算噪聲\n",
    "            noise = x0 - xt\n",
    "            \n",
    "            # 模型預測噪聲\n",
    "            compression_level = t.float() / num_timesteps\n",
    "            pred_noise = model(xt, t.float()/num_timesteps, compression_level)\n",
    "            \n",
    "            # 計算損失\n",
    "            huber_loss = huber_loss_fn(pred_noise, noise)\n",
    "            col_loss = color_preservation_loss(xt + pred_noise, x0)\n",
    "            \n",
    "            total_loss += huber_loss.item()\n",
    "            color_loss_total += col_loss.item()\n",
    "            \n",
    "    avg_loss = total_loss / len(loader)\n",
    "    avg_color_loss = color_loss_total / len(loader)\n",
    "    print(f\"Validation - Avg Loss: {avg_loss:.5f}, Color Loss: {avg_color_loss:.5f}\")\n",
    "    \n",
    "    # 保存一些復原效果樣本用於視覺檢查\n",
    "    if epoch % 5 == 0:\n",
    "        visualize_restoration(model, epoch)\n",
    "    \n",
    "    return avg_loss, avg_color_loss\n",
    "\n",
    "# 視覺化復原效果\n",
    "def visualize_restoration(model, epoch):\n",
    "    model.eval()\n",
    "    sampler = GaussianMixtureSampler(model)\n",
    "    \n",
    "    with torch.no_grad():\n",
    "        x0, _ = next(iter(test_dataloader))\n",
    "        x0 = x0.to(device)\n",
    "        \n",
    "        # 選擇不同的質量級別進行可視化\n",
    "        qualities = [10, 30, 50, 70]\n",
    "        plt.figure(figsize=(len(qualities)*3+3, 6))\n",
    "        \n",
    "        # 顯示原始圖像\n",
    "        plt.subplot(2, len(qualities)+1, 1)\n",
    "        plt.imshow(x0[0].cpu().permute(1,2,0)*0.5+0.5)\n",
    "        plt.title(\"Original\")\n",
    "        plt.axis('off')\n",
    "        \n",
    "        # 為每個質量級別顯示JPEG和復原效果\n",
    "        for i, q in enumerate(qualities):\n",
    "            # JPEG壓縮\n",
    "            xt = jpeg_compress(x0, q)\n",
    "            \n",
    "            # 設定初始時間步基於質量\n",
    "            init_t = int((100 - q) / 100 * num_timesteps)\n",
    "            \n",
    "            # 使用GMM採樣器進行復原\n",
    "            restored = sampler.sample(xt, steps=init_t+1)\n",
    "            \n",
    "            # 顯示JPEG壓縮結果\n",
    "            plt.subplot(2, len(qualities)+1, i+2)\n",
    "            plt.imshow(xt[0].cpu().permute(1,2,0)*0.5+0.5)\n",
    "            plt.title(f\"JPEG Q{q}\")\n",
    "            plt.axis('off')\n",
    "            \n",
    "            # 顯示復原結果\n",
    "            plt.subplot(2, len(qualities)+1, len(qualities)+i+2)\n",
    "            plt.imshow(restored[0].cpu().permute(1,2,0)*0.5+0.5)\n",
    "            plt.title(f\"Restored Q{q}\")\n",
    "            plt.axis('off')\n",
    "        \n",
    "        plt.tight_layout()\n",
    "        plt.savefig(f'viz_epoch_{epoch}.png')\n",
    "        plt.close()\n",
    "\n",
    "# 測試復原效果，使用高斯混合模型採樣器\n",
    "def test_restoration(model, quality_levels=[10, 30, 50, 70]):\n",
    "    # 初始化採樣器\n",
    "    sampler = GaussianMixtureSampler(model)\n",
    "    model.eval()\n",
    "    \n",
    "    with torch.no_grad():\n",
    "        # 隨機選取10個樣本\n",
    "        results = {q: {'psnr': [], 'ssim': []} for q in quality_levels}\n",
    "        \n",
    "        for idx in range(10):\n",
    "            x0, _ = next(iter(test_dataloader))\n",
    "            x0 = x0.to(device)\n",
    "            \n",
    "            plt.figure(figsize=(len(quality_levels)*3+3, 6))\n",
    "            \n",
    "            # 顯示原始圖像\n",
    "            plt.subplot(2, len(quality_levels)+1, 1)\n",
    "            plt.imshow(x0[0].cpu().permute(1,2,0)*0.5+0.5)\n",
    "            plt.title(\"Original\")\n",
    "            plt.axis('off')\n",
    "            \n",
    "            # 為每個質量級別顯示JPEG和復原效果\n",
    "            for i, q in enumerate(quality_levels):\n",
    "                # JPEG壓縮\n",
    "                xt = jpeg_compress(x0, q)\n",
    "                \n",
    "                # 設定初始時間步基於質量\n",
    "                init_t = int((100 - q) / 100 * num_timesteps)\n",
    "                \n",
    "                # 使用GMM採樣器進行復原\n",
    "                restored = sampler.sample(xt, steps=init_t+1, guidance_scale=0.8)\n",
    "                \n",
    "                # 計算PSNR\n",
    "                x0_01 = (x0 * 0.5 + 0.5).clamp(0, 1)\n",
    "                xt_01 = (xt * 0.5 + 0.5).clamp(0, 1)\n",
    "                restored_01 = (restored * 0.5 + 0.5).clamp(0, 1)\n",
    "                \n",
    "                # 計算PSNR\n",
    "                xt_psnr = -10 * torch.log10(F.mse_loss(xt_01, x0_01)).item()\n",
    "                restored_psnr = -10 * torch.log10(F.mse_loss(restored_01, x0_01)).item()\n",
    "                \n",
    "                # 計算SSIM\n",
    "                xt_ssim = ssim(xt_01, x0_01, data_range=1.0).item()\n",
    "                restored_ssim = ssim(restored_01, x0_01, data_range=1.0).item()\n",
    "                \n",
    "                # 儲存結果\n",
    "                results[q]['psnr'].append(restored_psnr - xt_psnr)  # PSNR增益\n",
    "                results[q]['ssim'].append(restored_ssim - xt_ssim)  # SSIM增益\n",
    "                \n",
    "                # 顯示JPEG壓縮結果\n",
    "                plt.subplot(2, len(quality_levels)+1, i+2)\n",
    "                plt.imshow(xt[0].cpu().permute(1,2,0)*0.5+0.5)\n",
    "                plt.title(f\"JPEG Q{q}\\nPSNR: {xt_psnr:.2f}dB\\nSSIM: {xt_ssim:.4f}\")\n",
    "                plt.axis('off')\n",
    "                \n",
    "                # 顯示復原結果\n",
    "                plt.subplot(2, len(quality_levels)+1, len(quality_levels)+i+2)\n",
    "                plt.imshow(restored[0].cpu().permute(1,2,0)*0.5+0.5)\n",
    "                plt.title(f\"Restored\\nPSNR: {restored_psnr:.2f}dB\\nSSIM: {restored_ssim:.4f}\")\n",
    "                plt.axis('off')\n",
    "            \n",
    "            plt.tight_layout()\n",
    "            plt.savefig(f'./0407_test/test_sample_{idx+1}.png')\n",
    "            plt.close()\n",
    "        \n",
    "        # 顯示平均結果\n",
    "        print(\"\\nAverage Improvement:\")\n",
    "        for q in quality_levels:\n",
    "            avg_psnr_gain = sum(results[q]['psnr']) / len(results[q]['psnr'])\n",
    "            avg_ssim_gain = sum(results[q]['ssim']) / len(results[q]['ssim'])\n",
    "            print(f\"Quality {q}: PSNR Gain = {avg_psnr_gain:.2f}dB, SSIM Gain = {avg_ssim_gain:.4f}\")\n",
    "\n",
    "# 訓練循環\n",
    "def train_model(epochs=100, patience=10):\n",
    "    best_val_loss = float('inf')\n",
    "    train_losses = []\n",
    "    val_losses = []\n",
    "    color_losses = []\n",
    "    patience_counter = 0\n",
    "    \n",
    "    for epoch in range(epochs):\n",
    "        # 訓練一個周期\n",
    "        train_loss, train_color_loss = train_epoch(model, train_dataloader, epoch)\n",
    "        train_losses.append(train_loss)\n",
    "        \n",
    "        # 驗證一個周期\n",
    "        val_loss, val_color_loss = validate(model, valid_dataloader, epoch)\n",
    "        val_losses.append(val_loss)\n",
    "        color_losses.append(val_color_loss)\n",
    "        \n",
    "        # 檢查是否需要保存最佳模型\n",
    "        if val_loss < best_val_loss:\n",
    "            best_val_loss = val_loss\n",
    "            torch.save({\n",
    "                'epoch': epoch,\n",
    "                'model_state_dict': model.state_dict(),\n",
    "                'optimizer_state_dict': optimizer.state_dict(),\n",
    "                'val_loss': val_loss,\n",
    "                'color_loss': val_color_loss\n",
    "            }, f\"best_jpeg_diffusion.pth\")\n",
    "            print(f\"New best model saved with val loss {val_loss:.5f} and color loss {val_color_loss:.5f}\")\n",
    "            patience_counter = 0\n",
    "        else:\n",
    "            patience_counter += 1\n",
    "            if patience_counter >= patience:\n",
    "                print(f\"Early stopping after {epoch+1} epochs!\")\n",
    "                break\n",
    "        \n",
    "        # 繪製訓練曲線\n",
    "        plt.figure(figsize=(15, 5))\n",
    "        \n",
    "        plt.subplot(1, 2, 1)\n",
    "        plt.plot(train_losses, label='Train Loss')\n",
    "        plt.plot(val_losses, label='Val Loss')\n",
    "        plt.xlabel('Epoch')\n",
    "        plt.ylabel('Loss')\n",
    "        plt.legend()\n",
    "        \n",
    "        plt.subplot(1, 2, 2)\n",
    "        plt.plot(color_losses, label='Color Loss')\n",
    "        plt.xlabel('Epoch')\n",
    "        plt.ylabel('Color Loss')\n",
    "        plt.legend()\n",
    "        \n",
    "        plt.tight_layout()\n",
    "        plt.savefig('training_curves.png')\n",
    "        plt.close()\n",
    "    \n",
    "    print(\"Training completed!\")\n",
    "    \n",
    "    # 載入最佳模型\n",
    "    checkpoint = torch.load(\"best_jpeg_diffusion.pth\")\n",
    "    model.load_state_dict(checkpoint['model_state_dict'])\n",
    "    print(f\"Loaded best model from epoch {checkpoint['epoch']+1} with val loss {checkpoint['val_loss']:.5f}\")\n",
    "    \n",
    "    # 測試復原效果\n",
    "    test_restoration(model)\n",
    "\n",
    "# 執行訓練\n",
    "if __name__ == \"__main__\":\n",
    "    # 開始訓練W\n",
    "    train_model(epochs=500)"
   ]
  },
  {
   "cell_type": "code",
   "execution_count": 5,
   "metadata": {},
   "outputs": [
    {
     "name": "stdout",
     "output_type": "stream",
     "text": [
      "Using device: cuda\n",
      "Files already downloaded and verified\n",
      "Loaded model from epoch 46\n",
      "Setting up [LPIPS] perceptual loss: trunk [alex], v[0.1], spatial [off]\n"
     ]
    },
    {
     "name": "stderr",
     "output_type": "stream",
     "text": [
      "/usr/local/lib/python3.10/dist-packages/torchvision/models/_utils.py:208: UserWarning: The parameter 'pretrained' is deprecated since 0.13 and may be removed in the future, please use 'weights' instead.\n",
      "  warnings.warn(\n",
      "/usr/local/lib/python3.10/dist-packages/torchvision/models/_utils.py:223: UserWarning: Arguments other than a weight enum or `None` for 'weights' are deprecated since 0.13 and may be removed in the future. The current behavior is equivalent to passing `weights=AlexNet_Weights.IMAGENET1K_V1`. You can also use `weights=AlexNet_Weights.DEFAULT` to get the most up-to-date weights.\n",
      "  warnings.warn(msg)\n"
     ]
    },
    {
     "name": "stdout",
     "output_type": "stream",
     "text": [
      "Loading model from: /usr/local/lib/python3.10/dist-packages/lpips/weights/v0.1/alex.pth\n"
     ]
    },
    {
     "name": "stderr",
     "output_type": "stream",
     "text": [
      "Sampling: 100%|██████████| 91/91 [00:00<00:00, 94.48it/s]\n"
     ]
    },
    {
     "name": "stdout",
     "output_type": "stream",
     "text": [
      "圖像 1 質量 10:\n",
      "  PSNR - 壓縮: 24.09dB, 修復: 20.24dB\n",
      "  SSIM - 壓縮: 0.8448, 修復: 0.7933\n",
      "  LPIPS - 壓縮: 0.0205, 修復: 0.0167\n"
     ]
    },
    {
     "name": "stderr",
     "output_type": "stream",
     "text": [
      "Sampling: 100%|██████████| 71/71 [00:00<00:00, 93.47it/s]\n"
     ]
    },
    {
     "name": "stdout",
     "output_type": "stream",
     "text": [
      "圖像 1 質量 30:\n",
      "  PSNR - 壓縮: 27.97dB, 修復: 24.19dB\n",
      "  SSIM - 壓縮: 0.9330, 修復: 0.9179\n",
      "  LPIPS - 壓縮: 0.0110, 修復: 0.0107\n"
     ]
    },
    {
     "name": "stderr",
     "output_type": "stream",
     "text": [
      "Sampling: 100%|██████████| 51/51 [00:00<00:00, 94.36it/s]\n"
     ]
    },
    {
     "name": "stdout",
     "output_type": "stream",
     "text": [
      "圖像 1 質量 50:\n",
      "  PSNR - 壓縮: 30.33dB, 修復: 25.39dB\n",
      "  SSIM - 壓縮: 0.9556, 修復: 0.9231\n",
      "  LPIPS - 壓縮: 0.0018, 修復: 0.0076\n"
     ]
    },
    {
     "name": "stderr",
     "output_type": "stream",
     "text": [
      "Sampling: 100%|██████████| 31/31 [00:00<00:00, 94.13it/s]\n"
     ]
    },
    {
     "name": "stdout",
     "output_type": "stream",
     "text": [
      "圖像 1 質量 70:\n",
      "  PSNR - 壓縮: 32.62dB, 修復: 29.25dB\n",
      "  SSIM - 壓縮: 0.9710, 修復: 0.9420\n",
      "  LPIPS - 壓縮: 0.0009, 修復: 0.0029\n",
      "處理圖像 1/20\n"
     ]
    },
    {
     "name": "stderr",
     "output_type": "stream",
     "text": [
      "Sampling: 100%|██████████| 91/91 [00:00<00:00, 95.37it/s]\n"
     ]
    },
    {
     "name": "stdout",
     "output_type": "stream",
     "text": [
      "圖像 2 質量 10:\n",
      "  PSNR - 壓縮: 19.96dB, 修復: 18.06dB\n",
      "  SSIM - 壓縮: 0.7189, 修復: 0.6536\n",
      "  LPIPS - 壓縮: 0.0312, 修復: 0.0782\n"
     ]
    },
    {
     "name": "stderr",
     "output_type": "stream",
     "text": [
      "Sampling: 100%|██████████| 71/71 [00:00<00:00, 95.30it/s]\n"
     ]
    },
    {
     "name": "stdout",
     "output_type": "stream",
     "text": [
      "圖像 2 質量 30:\n",
      "  PSNR - 壓縮: 21.97dB, 修復: 19.75dB\n",
      "  SSIM - 壓縮: 0.8039, 修復: 0.7559\n",
      "  LPIPS - 壓縮: 0.0119, 修復: 0.0600\n"
     ]
    },
    {
     "name": "stderr",
     "output_type": "stream",
     "text": [
      "Sampling: 100%|██████████| 51/51 [00:00<00:00, 95.46it/s]\n"
     ]
    },
    {
     "name": "stdout",
     "output_type": "stream",
     "text": [
      "圖像 2 質量 50:\n",
      "  PSNR - 壓縮: 25.30dB, 修復: 21.17dB\n",
      "  SSIM - 壓縮: 0.8962, 修復: 0.7901\n",
      "  LPIPS - 壓縮: 0.0029, 修復: 0.0423\n"
     ]
    },
    {
     "name": "stderr",
     "output_type": "stream",
     "text": [
      "Sampling: 100%|██████████| 31/31 [00:00<00:00, 95.14it/s]\n"
     ]
    },
    {
     "name": "stdout",
     "output_type": "stream",
     "text": [
      "圖像 2 質量 70:\n",
      "  PSNR - 壓縮: 27.23dB, 修復: 23.43dB\n",
      "  SSIM - 壓縮: 0.9306, 修復: 0.8649\n",
      "  LPIPS - 壓縮: 0.0013, 修復: 0.0147\n",
      "處理圖像 2/20\n"
     ]
    },
    {
     "name": "stderr",
     "output_type": "stream",
     "text": [
      "Sampling: 100%|██████████| 91/91 [00:00<00:00, 95.20it/s]\n"
     ]
    },
    {
     "name": "stdout",
     "output_type": "stream",
     "text": [
      "圖像 3 質量 10:\n",
      "  PSNR - 壓縮: 23.96dB, 修復: 19.33dB\n",
      "  SSIM - 壓縮: 0.7913, 修復: 0.7252\n",
      "  LPIPS - 壓縮: 0.0656, 修復: 0.1242\n"
     ]
    },
    {
     "name": "stderr",
     "output_type": "stream",
     "text": [
      "Sampling: 100%|██████████| 71/71 [00:00<00:00, 95.45it/s]\n"
     ]
    },
    {
     "name": "stdout",
     "output_type": "stream",
     "text": [
      "圖像 3 質量 30:\n",
      "  PSNR - 壓縮: 27.54dB, 修復: 22.05dB\n",
      "  SSIM - 壓縮: 0.9001, 修復: 0.8379\n",
      "  LPIPS - 壓縮: 0.0127, 修復: 0.0470\n"
     ]
    },
    {
     "name": "stderr",
     "output_type": "stream",
     "text": [
      "Sampling: 100%|██████████| 51/51 [00:00<00:00, 95.51it/s]\n"
     ]
    },
    {
     "name": "stdout",
     "output_type": "stream",
     "text": [
      "圖像 3 質量 50:\n",
      "  PSNR - 壓縮: 29.97dB, 修復: 24.13dB\n",
      "  SSIM - 壓縮: 0.9364, 修復: 0.8540\n",
      "  LPIPS - 壓縮: 0.0035, 修復: 0.0389\n"
     ]
    },
    {
     "name": "stderr",
     "output_type": "stream",
     "text": [
      "Sampling: 100%|██████████| 31/31 [00:00<00:00, 95.25it/s]\n"
     ]
    },
    {
     "name": "stdout",
     "output_type": "stream",
     "text": [
      "圖像 3 質量 70:\n",
      "  PSNR - 壓縮: 32.01dB, 修復: 26.46dB\n",
      "  SSIM - 壓縮: 0.9611, 修復: 0.9071\n",
      "  LPIPS - 壓縮: 0.0017, 修復: 0.0226\n",
      "處理圖像 3/20\n"
     ]
    },
    {
     "name": "stderr",
     "output_type": "stream",
     "text": [
      "Sampling: 100%|██████████| 91/91 [00:00<00:00, 95.50it/s]\n"
     ]
    },
    {
     "name": "stdout",
     "output_type": "stream",
     "text": [
      "圖像 4 質量 10:\n",
      "  PSNR - 壓縮: 23.83dB, 修復: 21.10dB\n",
      "  SSIM - 壓縮: 0.8628, 修復: 0.8060\n",
      "  LPIPS - 壓縮: 0.0311, 修復: 0.0717\n"
     ]
    },
    {
     "name": "stderr",
     "output_type": "stream",
     "text": [
      "Sampling: 100%|██████████| 71/71 [00:00<00:00, 95.71it/s]\n"
     ]
    },
    {
     "name": "stdout",
     "output_type": "stream",
     "text": [
      "圖像 4 質量 30:\n",
      "  PSNR - 壓縮: 27.45dB, 修復: 24.47dB\n",
      "  SSIM - 壓縮: 0.9280, 修復: 0.8975\n",
      "  LPIPS - 壓縮: 0.0193, 修復: 0.0253\n"
     ]
    },
    {
     "name": "stderr",
     "output_type": "stream",
     "text": [
      "Sampling: 100%|██████████| 51/51 [00:00<00:00, 95.33it/s]\n"
     ]
    },
    {
     "name": "stdout",
     "output_type": "stream",
     "text": [
      "圖像 4 質量 50:\n",
      "  PSNR - 壓縮: 29.91dB, 修復: 25.42dB\n",
      "  SSIM - 壓縮: 0.9545, 修復: 0.9188\n",
      "  LPIPS - 壓縮: 0.0032, 修復: 0.0271\n"
     ]
    },
    {
     "name": "stderr",
     "output_type": "stream",
     "text": [
      "Sampling: 100%|██████████| 31/31 [00:00<00:00, 95.00it/s]\n"
     ]
    },
    {
     "name": "stdout",
     "output_type": "stream",
     "text": [
      "圖像 4 質量 70:\n",
      "  PSNR - 壓縮: 32.12dB, 修復: 28.21dB\n",
      "  SSIM - 壓縮: 0.9705, 修復: 0.9500\n",
      "  LPIPS - 壓縮: 0.0012, 修復: 0.0089\n",
      "處理圖像 4/20\n"
     ]
    },
    {
     "name": "stderr",
     "output_type": "stream",
     "text": [
      "Sampling: 100%|██████████| 91/91 [00:00<00:00, 95.21it/s]\n"
     ]
    },
    {
     "name": "stdout",
     "output_type": "stream",
     "text": [
      "圖像 5 質量 10:\n",
      "  PSNR - 壓縮: 20.99dB, 修復: 19.45dB\n",
      "  SSIM - 壓縮: 0.7819, 修復: 0.7708\n",
      "  LPIPS - 壓縮: 0.0623, 修復: 0.0671\n"
     ]
    },
    {
     "name": "stderr",
     "output_type": "stream",
     "text": [
      "Sampling: 100%|██████████| 71/71 [00:00<00:00, 94.73it/s]\n"
     ]
    },
    {
     "name": "stdout",
     "output_type": "stream",
     "text": [
      "圖像 5 質量 30:\n",
      "  PSNR - 壓縮: 24.20dB, 修復: 22.55dB\n",
      "  SSIM - 壓縮: 0.8764, 修復: 0.8666\n",
      "  LPIPS - 壓縮: 0.0112, 修復: 0.0226\n"
     ]
    },
    {
     "name": "stderr",
     "output_type": "stream",
     "text": [
      "Sampling: 100%|██████████| 51/51 [00:00<00:00, 94.91it/s]\n"
     ]
    },
    {
     "name": "stdout",
     "output_type": "stream",
     "text": [
      "圖像 5 質量 50:\n",
      "  PSNR - 壓縮: 26.23dB, 修復: 23.78dB\n",
      "  SSIM - 壓縮: 0.9157, 修復: 0.8938\n",
      "  LPIPS - 壓縮: 0.0035, 修復: 0.0328\n"
     ]
    },
    {
     "name": "stderr",
     "output_type": "stream",
     "text": [
      "Sampling: 100%|██████████| 31/31 [00:00<00:00, 94.78it/s]\n"
     ]
    },
    {
     "name": "stdout",
     "output_type": "stream",
     "text": [
      "圖像 5 質量 70:\n",
      "  PSNR - 壓縮: 28.30dB, 修復: 25.59dB\n",
      "  SSIM - 壓縮: 0.9463, 修復: 0.9303\n",
      "  LPIPS - 壓縮: 0.0024, 修復: 0.0089\n",
      "處理圖像 5/20\n"
     ]
    },
    {
     "name": "stderr",
     "output_type": "stream",
     "text": [
      "Sampling: 100%|██████████| 91/91 [00:00<00:00, 94.76it/s]\n"
     ]
    },
    {
     "name": "stdout",
     "output_type": "stream",
     "text": [
      "圖像 6 質量 10:\n",
      "  PSNR - 壓縮: 20.79dB, 修復: 19.84dB\n",
      "  SSIM - 壓縮: 0.7111, 修復: 0.6786\n",
      "  LPIPS - 壓縮: 0.0405, 修復: 0.0682\n"
     ]
    },
    {
     "name": "stderr",
     "output_type": "stream",
     "text": [
      "Sampling: 100%|██████████| 71/71 [00:00<00:00, 95.28it/s]\n"
     ]
    },
    {
     "name": "stdout",
     "output_type": "stream",
     "text": [
      "圖像 6 質量 30:\n",
      "  PSNR - 壓縮: 23.96dB, 修復: 22.71dB\n",
      "  SSIM - 壓縮: 0.8415, 修復: 0.8292\n",
      "  LPIPS - 壓縮: 0.0115, 修復: 0.0382\n"
     ]
    },
    {
     "name": "stderr",
     "output_type": "stream",
     "text": [
      "Sampling: 100%|██████████| 51/51 [00:00<00:00, 95.26it/s]\n"
     ]
    },
    {
     "name": "stdout",
     "output_type": "stream",
     "text": [
      "圖像 6 質量 50:\n",
      "  PSNR - 壓縮: 26.70dB, 修復: 23.75dB\n",
      "  SSIM - 壓縮: 0.9192, 修復: 0.8722\n",
      "  LPIPS - 壓縮: 0.0054, 修復: 0.0164\n"
     ]
    },
    {
     "name": "stderr",
     "output_type": "stream",
     "text": [
      "Sampling: 100%|██████████| 31/31 [00:00<00:00, 94.78it/s]\n"
     ]
    },
    {
     "name": "stdout",
     "output_type": "stream",
     "text": [
      "圖像 6 質量 70:\n",
      "  PSNR - 壓縮: 28.80dB, 修復: 24.36dB\n",
      "  SSIM - 壓縮: 0.9523, 修復: 0.9018\n",
      "  LPIPS - 壓縮: 0.0010, 修復: 0.0122\n",
      "處理圖像 6/20\n"
     ]
    },
    {
     "name": "stderr",
     "output_type": "stream",
     "text": [
      "Sampling: 100%|██████████| 91/91 [00:00<00:00, 95.01it/s]\n"
     ]
    },
    {
     "name": "stdout",
     "output_type": "stream",
     "text": [
      "圖像 7 質量 10:\n",
      "  PSNR - 壓縮: 24.51dB, 修復: 23.17dB\n",
      "  SSIM - 壓縮: 0.6991, 修復: 0.6912\n",
      "  LPIPS - 壓縮: 0.0644, 修復: 0.0728\n"
     ]
    },
    {
     "name": "stderr",
     "output_type": "stream",
     "text": [
      "Sampling: 100%|██████████| 71/71 [00:00<00:00, 95.06it/s]\n"
     ]
    },
    {
     "name": "stdout",
     "output_type": "stream",
     "text": [
      "圖像 7 質量 30:\n",
      "  PSNR - 壓縮: 27.42dB, 修復: 23.83dB\n",
      "  SSIM - 壓縮: 0.8103, 修復: 0.8049\n",
      "  LPIPS - 壓縮: 0.0272, 修復: 0.0610\n"
     ]
    },
    {
     "name": "stderr",
     "output_type": "stream",
     "text": [
      "Sampling: 100%|██████████| 51/51 [00:00<00:00, 95.04it/s]\n"
     ]
    },
    {
     "name": "stdout",
     "output_type": "stream",
     "text": [
      "圖像 7 質量 50:\n",
      "  PSNR - 壓縮: 29.51dB, 修復: 26.39dB\n",
      "  SSIM - 壓縮: 0.8811, 修復: 0.8418\n",
      "  LPIPS - 壓縮: 0.0070, 修復: 0.0405\n"
     ]
    },
    {
     "name": "stderr",
     "output_type": "stream",
     "text": [
      "Sampling: 100%|██████████| 31/31 [00:00<00:00, 95.34it/s]\n"
     ]
    },
    {
     "name": "stdout",
     "output_type": "stream",
     "text": [
      "圖像 7 質量 70:\n",
      "  PSNR - 壓縮: 31.31dB, 修復: 27.45dB\n",
      "  SSIM - 壓縮: 0.9152, 修復: 0.8722\n",
      "  LPIPS - 壓縮: 0.0025, 修復: 0.0158\n",
      "處理圖像 7/20\n"
     ]
    },
    {
     "name": "stderr",
     "output_type": "stream",
     "text": [
      "Sampling: 100%|██████████| 91/91 [00:00<00:00, 95.04it/s]\n"
     ]
    },
    {
     "name": "stdout",
     "output_type": "stream",
     "text": [
      "圖像 8 質量 10:\n",
      "  PSNR - 壓縮: 23.44dB, 修復: 18.67dB\n",
      "  SSIM - 壓縮: 0.7481, 修復: 0.6461\n",
      "  LPIPS - 壓縮: 0.0385, 修復: 0.0583\n"
     ]
    },
    {
     "name": "stderr",
     "output_type": "stream",
     "text": [
      "Sampling: 100%|██████████| 71/71 [00:00<00:00, 95.04it/s]\n"
     ]
    },
    {
     "name": "stdout",
     "output_type": "stream",
     "text": [
      "圖像 8 質量 30:\n",
      "  PSNR - 壓縮: 26.89dB, 修復: 22.37dB\n",
      "  SSIM - 壓縮: 0.8618, 修復: 0.7837\n",
      "  LPIPS - 壓縮: 0.0096, 修復: 0.0269\n"
     ]
    },
    {
     "name": "stderr",
     "output_type": "stream",
     "text": [
      "Sampling: 100%|██████████| 51/51 [00:00<00:00, 94.77it/s]\n"
     ]
    },
    {
     "name": "stdout",
     "output_type": "stream",
     "text": [
      "圖像 8 質量 50:\n",
      "  PSNR - 壓縮: 29.30dB, 修復: 24.60dB\n",
      "  SSIM - 壓縮: 0.9050, 修復: 0.8405\n",
      "  LPIPS - 壓縮: 0.0028, 修復: 0.0147\n"
     ]
    },
    {
     "name": "stderr",
     "output_type": "stream",
     "text": [
      "Sampling: 100%|██████████| 31/31 [00:00<00:00, 93.47it/s]\n"
     ]
    },
    {
     "name": "stdout",
     "output_type": "stream",
     "text": [
      "圖像 8 質量 70:\n",
      "  PSNR - 壓縮: 31.33dB, 修復: 25.34dB\n",
      "  SSIM - 壓縮: 0.9395, 修復: 0.8584\n",
      "  LPIPS - 壓縮: 0.0011, 修復: 0.0123\n",
      "處理圖像 8/20\n"
     ]
    },
    {
     "name": "stderr",
     "output_type": "stream",
     "text": [
      "Sampling: 100%|██████████| 91/91 [00:00<00:00, 94.95it/s]\n"
     ]
    },
    {
     "name": "stdout",
     "output_type": "stream",
     "text": [
      "圖像 9 質量 10:\n",
      "  PSNR - 壓縮: 25.56dB, 修復: 21.67dB\n",
      "  SSIM - 壓縮: 0.7455, 修復: 0.6240\n",
      "  LPIPS - 壓縮: 0.0655, 修復: 0.0751\n"
     ]
    },
    {
     "name": "stderr",
     "output_type": "stream",
     "text": [
      "Sampling: 100%|██████████| 71/71 [00:00<00:00, 94.76it/s]\n"
     ]
    },
    {
     "name": "stdout",
     "output_type": "stream",
     "text": [
      "圖像 9 質量 30:\n",
      "  PSNR - 壓縮: 28.41dB, 修復: 23.67dB\n",
      "  SSIM - 壓縮: 0.8549, 修復: 0.7792\n",
      "  LPIPS - 壓縮: 0.0314, 修復: 0.1286\n"
     ]
    },
    {
     "name": "stderr",
     "output_type": "stream",
     "text": [
      "Sampling: 100%|██████████| 51/51 [00:00<00:00, 94.24it/s]\n"
     ]
    },
    {
     "name": "stdout",
     "output_type": "stream",
     "text": [
      "圖像 9 質量 50:\n",
      "  PSNR - 壓縮: 30.46dB, 修復: 25.08dB\n",
      "  SSIM - 壓縮: 0.8915, 修復: 0.7766\n",
      "  LPIPS - 壓縮: 0.0091, 修復: 0.0825\n"
     ]
    },
    {
     "name": "stderr",
     "output_type": "stream",
     "text": [
      "Sampling: 100%|██████████| 31/31 [00:00<00:00, 94.63it/s]\n"
     ]
    },
    {
     "name": "stdout",
     "output_type": "stream",
     "text": [
      "圖像 9 質量 70:\n",
      "  PSNR - 壓縮: 32.10dB, 修復: 28.95dB\n",
      "  SSIM - 壓縮: 0.9164, 修復: 0.8731\n",
      "  LPIPS - 壓縮: 0.0027, 修復: 0.0111\n",
      "處理圖像 9/20\n"
     ]
    },
    {
     "name": "stderr",
     "output_type": "stream",
     "text": [
      "Sampling: 100%|██████████| 91/91 [00:00<00:00, 93.64it/s]\n"
     ]
    },
    {
     "name": "stdout",
     "output_type": "stream",
     "text": [
      "圖像 10 質量 10:\n",
      "  PSNR - 壓縮: 23.16dB, 修復: 22.17dB\n",
      "  SSIM - 壓縮: 0.8133, 修復: 0.8094\n",
      "  LPIPS - 壓縮: 0.0359, 修復: 0.0646\n"
     ]
    },
    {
     "name": "stderr",
     "output_type": "stream",
     "text": [
      "Sampling: 100%|██████████| 71/71 [00:00<00:00, 94.54it/s]\n"
     ]
    },
    {
     "name": "stdout",
     "output_type": "stream",
     "text": [
      "圖像 10 質量 30:\n",
      "  PSNR - 壓縮: 26.74dB, 修復: 23.76dB\n",
      "  SSIM - 壓縮: 0.9070, 修復: 0.8803\n",
      "  LPIPS - 壓縮: 0.0131, 修復: 0.0356\n"
     ]
    },
    {
     "name": "stderr",
     "output_type": "stream",
     "text": [
      "Sampling: 100%|██████████| 51/51 [00:00<00:00, 94.76it/s]\n"
     ]
    },
    {
     "name": "stdout",
     "output_type": "stream",
     "text": [
      "圖像 10 質量 50:\n",
      "  PSNR - 壓縮: 29.77dB, 修復: 26.73dB\n",
      "  SSIM - 壓縮: 0.9440, 修復: 0.9246\n",
      "  LPIPS - 壓縮: 0.0037, 修復: 0.0176\n"
     ]
    },
    {
     "name": "stderr",
     "output_type": "stream",
     "text": [
      "Sampling: 100%|██████████| 31/31 [00:00<00:00, 93.95it/s]\n"
     ]
    },
    {
     "name": "stdout",
     "output_type": "stream",
     "text": [
      "圖像 10 質量 70:\n",
      "  PSNR - 壓縮: 32.05dB, 修復: 27.31dB\n",
      "  SSIM - 壓縮: 0.9661, 修復: 0.9281\n",
      "  LPIPS - 壓縮: 0.0023, 修復: 0.0158\n",
      "處理圖像 10/20\n"
     ]
    },
    {
     "name": "stderr",
     "output_type": "stream",
     "text": [
      "Sampling: 100%|██████████| 91/91 [00:00<00:00, 94.53it/s]\n"
     ]
    },
    {
     "name": "stdout",
     "output_type": "stream",
     "text": [
      "圖像 11 質量 10:\n",
      "  PSNR - 壓縮: 20.99dB, 修復: 20.61dB\n",
      "  SSIM - 壓縮: 0.8618, 修復: 0.8585\n",
      "  LPIPS - 壓縮: 0.0453, 修復: 0.0743\n"
     ]
    },
    {
     "name": "stderr",
     "output_type": "stream",
     "text": [
      "Sampling: 100%|██████████| 71/71 [00:00<00:00, 95.23it/s]\n"
     ]
    },
    {
     "name": "stdout",
     "output_type": "stream",
     "text": [
      "圖像 11 質量 30:\n",
      "  PSNR - 壓縮: 24.26dB, 修復: 22.78dB\n",
      "  SSIM - 壓縮: 0.9286, 修復: 0.9164\n",
      "  LPIPS - 壓縮: 0.0108, 修復: 0.0575\n"
     ]
    },
    {
     "name": "stderr",
     "output_type": "stream",
     "text": [
      "Sampling: 100%|██████████| 51/51 [00:00<00:00, 94.71it/s]\n"
     ]
    },
    {
     "name": "stdout",
     "output_type": "stream",
     "text": [
      "圖像 11 質量 50:\n",
      "  PSNR - 壓縮: 26.86dB, 修復: 23.77dB\n",
      "  SSIM - 壓縮: 0.9508, 修復: 0.9401\n",
      "  LPIPS - 壓縮: 0.0030, 修復: 0.0151\n"
     ]
    },
    {
     "name": "stderr",
     "output_type": "stream",
     "text": [
      "Sampling: 100%|██████████| 31/31 [00:00<00:00, 94.03it/s]\n"
     ]
    },
    {
     "name": "stdout",
     "output_type": "stream",
     "text": [
      "圖像 11 質量 70:\n",
      "  PSNR - 壓縮: 28.86dB, 修復: 25.42dB\n",
      "  SSIM - 壓縮: 0.9710, 修復: 0.9607\n",
      "  LPIPS - 壓縮: 0.0014, 修復: 0.0085\n",
      "處理圖像 11/20\n"
     ]
    },
    {
     "name": "stderr",
     "output_type": "stream",
     "text": [
      "Sampling: 100%|██████████| 91/91 [00:00<00:00, 94.63it/s]\n"
     ]
    },
    {
     "name": "stdout",
     "output_type": "stream",
     "text": [
      "圖像 12 質量 10:\n",
      "  PSNR - 壓縮: 29.17dB, 修復: 20.83dB\n",
      "  SSIM - 壓縮: 0.7970, 修復: 0.7780\n",
      "  LPIPS - 壓縮: 0.0262, 修復: 0.0522\n"
     ]
    },
    {
     "name": "stderr",
     "output_type": "stream",
     "text": [
      "Sampling: 100%|██████████| 71/71 [00:00<00:00, 94.58it/s]\n"
     ]
    },
    {
     "name": "stdout",
     "output_type": "stream",
     "text": [
      "圖像 12 質量 30:\n",
      "  PSNR - 壓縮: 32.96dB, 修復: 23.76dB\n",
      "  SSIM - 壓縮: 0.9028, 修復: 0.8598\n",
      "  LPIPS - 壓縮: 0.0098, 修復: 0.0279\n"
     ]
    },
    {
     "name": "stderr",
     "output_type": "stream",
     "text": [
      "Sampling: 100%|██████████| 51/51 [00:00<00:00, 93.67it/s]\n"
     ]
    },
    {
     "name": "stdout",
     "output_type": "stream",
     "text": [
      "圖像 12 質量 50:\n",
      "  PSNR - 壓縮: 35.84dB, 修復: 26.57dB\n",
      "  SSIM - 壓縮: 0.9327, 修復: 0.9037\n",
      "  LPIPS - 壓縮: 0.0031, 修復: 0.0243\n"
     ]
    },
    {
     "name": "stderr",
     "output_type": "stream",
     "text": [
      "Sampling: 100%|██████████| 31/31 [00:00<00:00, 93.43it/s]\n"
     ]
    },
    {
     "name": "stdout",
     "output_type": "stream",
     "text": [
      "圖像 12 質量 70:\n",
      "  PSNR - 壓縮: 37.60dB, 修復: 28.57dB\n",
      "  SSIM - 壓縮: 0.9533, 修復: 0.9200\n",
      "  LPIPS - 壓縮: 0.0029, 修復: 0.0197\n",
      "處理圖像 12/20\n"
     ]
    },
    {
     "name": "stderr",
     "output_type": "stream",
     "text": [
      "Sampling: 100%|██████████| 91/91 [00:00<00:00, 94.39it/s]\n"
     ]
    },
    {
     "name": "stdout",
     "output_type": "stream",
     "text": [
      "圖像 13 質量 10:\n",
      "  PSNR - 壓縮: 23.16dB, 修復: 21.15dB\n",
      "  SSIM - 壓縮: 0.7963, 修復: 0.7438\n",
      "  LPIPS - 壓縮: 0.0837, 修復: 0.0575\n"
     ]
    },
    {
     "name": "stderr",
     "output_type": "stream",
     "text": [
      "Sampling: 100%|██████████| 71/71 [00:00<00:00, 94.76it/s]\n"
     ]
    },
    {
     "name": "stdout",
     "output_type": "stream",
     "text": [
      "圖像 13 質量 30:\n",
      "  PSNR - 壓縮: 26.97dB, 修復: 22.58dB\n",
      "  SSIM - 壓縮: 0.9016, 修復: 0.8263\n",
      "  LPIPS - 壓縮: 0.0103, 修復: 0.0331\n"
     ]
    },
    {
     "name": "stderr",
     "output_type": "stream",
     "text": [
      "Sampling: 100%|██████████| 51/51 [00:00<00:00, 94.84it/s]\n"
     ]
    },
    {
     "name": "stdout",
     "output_type": "stream",
     "text": [
      "圖像 13 質量 50:\n",
      "  PSNR - 壓縮: 29.60dB, 修復: 26.30dB\n",
      "  SSIM - 壓縮: 0.9368, 修復: 0.8963\n",
      "  LPIPS - 壓縮: 0.0040, 修復: 0.0132\n"
     ]
    },
    {
     "name": "stderr",
     "output_type": "stream",
     "text": [
      "Sampling: 100%|██████████| 31/31 [00:00<00:00, 94.00it/s]\n"
     ]
    },
    {
     "name": "stdout",
     "output_type": "stream",
     "text": [
      "圖像 13 質量 70:\n",
      "  PSNR - 壓縮: 31.29dB, 修復: 27.42dB\n",
      "  SSIM - 壓縮: 0.9554, 修復: 0.9113\n",
      "  LPIPS - 壓縮: 0.0039, 修復: 0.0131\n",
      "處理圖像 13/20\n"
     ]
    },
    {
     "name": "stderr",
     "output_type": "stream",
     "text": [
      "Sampling: 100%|██████████| 91/91 [00:00<00:00, 94.17it/s]\n"
     ]
    },
    {
     "name": "stdout",
     "output_type": "stream",
     "text": [
      "圖像 14 質量 10:\n",
      "  PSNR - 壓縮: 22.50dB, 修復: 21.22dB\n",
      "  SSIM - 壓縮: 0.7622, 修復: 0.7445\n",
      "  LPIPS - 壓縮: 0.0975, 修復: 0.1616\n"
     ]
    },
    {
     "name": "stderr",
     "output_type": "stream",
     "text": [
      "Sampling: 100%|██████████| 71/71 [00:00<00:00, 94.96it/s]\n"
     ]
    },
    {
     "name": "stdout",
     "output_type": "stream",
     "text": [
      "圖像 14 質量 30:\n",
      "  PSNR - 壓縮: 25.73dB, 修復: 24.40dB\n",
      "  SSIM - 壓縮: 0.8696, 修復: 0.8456\n",
      "  LPIPS - 壓縮: 0.0255, 修復: 0.0351\n"
     ]
    },
    {
     "name": "stderr",
     "output_type": "stream",
     "text": [
      "Sampling: 100%|██████████| 51/51 [00:00<00:00, 94.71it/s]\n"
     ]
    },
    {
     "name": "stdout",
     "output_type": "stream",
     "text": [
      "圖像 14 質量 50:\n",
      "  PSNR - 壓縮: 28.46dB, 修復: 25.28dB\n",
      "  SSIM - 壓縮: 0.9197, 修復: 0.8760\n",
      "  LPIPS - 壓縮: 0.0040, 修復: 0.0231\n"
     ]
    },
    {
     "name": "stderr",
     "output_type": "stream",
     "text": [
      "Sampling: 100%|██████████| 31/31 [00:00<00:00, 93.28it/s]\n"
     ]
    },
    {
     "name": "stdout",
     "output_type": "stream",
     "text": [
      "圖像 14 質量 70:\n",
      "  PSNR - 壓縮: 30.59dB, 修復: 26.17dB\n",
      "  SSIM - 壓縮: 0.9496, 修復: 0.8993\n",
      "  LPIPS - 壓縮: 0.0024, 修復: 0.0179\n",
      "處理圖像 14/20\n"
     ]
    },
    {
     "name": "stderr",
     "output_type": "stream",
     "text": [
      "Sampling: 100%|██████████| 91/91 [00:00<00:00, 94.48it/s]\n"
     ]
    },
    {
     "name": "stdout",
     "output_type": "stream",
     "text": [
      "圖像 15 質量 10:\n",
      "  PSNR - 壓縮: 23.20dB, 修復: 18.69dB\n",
      "  SSIM - 壓縮: 0.7836, 修復: 0.5285\n",
      "  LPIPS - 壓縮: 0.0241, 修復: 0.0362\n"
     ]
    },
    {
     "name": "stderr",
     "output_type": "stream",
     "text": [
      "Sampling: 100%|██████████| 71/71 [00:00<00:00, 94.83it/s]\n"
     ]
    },
    {
     "name": "stdout",
     "output_type": "stream",
     "text": [
      "圖像 15 質量 30:\n",
      "  PSNR - 壓縮: 27.14dB, 修復: 20.86dB\n",
      "  SSIM - 壓縮: 0.8764, 修復: 0.6264\n",
      "  LPIPS - 壓縮: 0.0074, 修復: 0.0162\n"
     ]
    },
    {
     "name": "stderr",
     "output_type": "stream",
     "text": [
      "Sampling: 100%|██████████| 51/51 [00:00<00:00, 94.43it/s]\n"
     ]
    },
    {
     "name": "stdout",
     "output_type": "stream",
     "text": [
      "圖像 15 質量 50:\n",
      "  PSNR - 壓縮: 29.75dB, 修復: 24.45dB\n",
      "  SSIM - 壓縮: 0.9249, 修復: 0.7402\n",
      "  LPIPS - 壓縮: 0.0014, 修復: 0.0094\n"
     ]
    },
    {
     "name": "stderr",
     "output_type": "stream",
     "text": [
      "Sampling: 100%|██████████| 31/31 [00:00<00:00, 94.33it/s]\n"
     ]
    },
    {
     "name": "stdout",
     "output_type": "stream",
     "text": [
      "圖像 15 質量 70:\n",
      "  PSNR - 壓縮: 31.82dB, 修復: 25.94dB\n",
      "  SSIM - 壓縮: 0.9483, 修復: 0.7990\n",
      "  LPIPS - 壓縮: 0.0016, 修復: 0.0065\n",
      "處理圖像 15/20\n"
     ]
    },
    {
     "name": "stderr",
     "output_type": "stream",
     "text": [
      "Sampling: 100%|██████████| 91/91 [00:00<00:00, 94.92it/s]\n"
     ]
    },
    {
     "name": "stdout",
     "output_type": "stream",
     "text": [
      "圖像 16 質量 10:\n",
      "  PSNR - 壓縮: 25.98dB, 修復: 24.32dB\n",
      "  SSIM - 壓縮: 0.8714, 修復: 0.8254\n",
      "  LPIPS - 壓縮: 0.0291, 修復: 0.0365\n"
     ]
    },
    {
     "name": "stderr",
     "output_type": "stream",
     "text": [
      "Sampling: 100%|██████████| 71/71 [00:00<00:00, 95.08it/s]\n"
     ]
    },
    {
     "name": "stdout",
     "output_type": "stream",
     "text": [
      "圖像 16 質量 30:\n",
      "  PSNR - 壓縮: 30.60dB, 修復: 27.65dB\n",
      "  SSIM - 壓縮: 0.9487, 修復: 0.9033\n",
      "  LPIPS - 壓縮: 0.0099, 修復: 0.0092\n"
     ]
    },
    {
     "name": "stderr",
     "output_type": "stream",
     "text": [
      "Sampling: 100%|██████████| 51/51 [00:00<00:00, 93.87it/s]\n"
     ]
    },
    {
     "name": "stdout",
     "output_type": "stream",
     "text": [
      "圖像 16 質量 50:\n",
      "  PSNR - 壓縮: 33.09dB, 修復: 28.70dB\n",
      "  SSIM - 壓縮: 0.9705, 修復: 0.9368\n",
      "  LPIPS - 壓縮: 0.0019, 修復: 0.0064\n"
     ]
    },
    {
     "name": "stderr",
     "output_type": "stream",
     "text": [
      "Sampling: 100%|██████████| 31/31 [00:00<00:00, 94.66it/s]\n"
     ]
    },
    {
     "name": "stdout",
     "output_type": "stream",
     "text": [
      "圖像 16 質量 70:\n",
      "  PSNR - 壓縮: 35.21dB, 修復: 30.22dB\n",
      "  SSIM - 壓縮: 0.9818, 修復: 0.9566\n",
      "  LPIPS - 壓縮: 0.0010, 修復: 0.0050\n",
      "處理圖像 16/20\n"
     ]
    },
    {
     "name": "stderr",
     "output_type": "stream",
     "text": [
      "Sampling: 100%|██████████| 91/91 [00:00<00:00, 95.34it/s]\n"
     ]
    },
    {
     "name": "stdout",
     "output_type": "stream",
     "text": [
      "圖像 17 質量 10:\n",
      "  PSNR - 壓縮: 24.99dB, 修復: 21.43dB\n",
      "  SSIM - 壓縮: 0.8157, 修復: 0.7124\n",
      "  LPIPS - 壓縮: 0.0543, 修復: 0.0827\n"
     ]
    },
    {
     "name": "stderr",
     "output_type": "stream",
     "text": [
      "Sampling: 100%|██████████| 71/71 [00:00<00:00, 95.32it/s]\n"
     ]
    },
    {
     "name": "stdout",
     "output_type": "stream",
     "text": [
      "圖像 17 質量 30:\n",
      "  PSNR - 壓縮: 28.79dB, 修復: 26.02dB\n",
      "  SSIM - 壓縮: 0.8902, 修復: 0.8623\n",
      "  LPIPS - 壓縮: 0.0139, 修復: 0.0258\n"
     ]
    },
    {
     "name": "stderr",
     "output_type": "stream",
     "text": [
      "Sampling: 100%|██████████| 51/51 [00:00<00:00, 94.73it/s]\n"
     ]
    },
    {
     "name": "stdout",
     "output_type": "stream",
     "text": [
      "圖像 17 質量 50:\n",
      "  PSNR - 壓縮: 31.47dB, 修復: 27.40dB\n",
      "  SSIM - 壓縮: 0.9276, 修復: 0.8719\n",
      "  LPIPS - 壓縮: 0.0044, 修復: 0.0250\n"
     ]
    },
    {
     "name": "stderr",
     "output_type": "stream",
     "text": [
      "Sampling: 100%|██████████| 31/31 [00:00<00:00, 94.57it/s]\n"
     ]
    },
    {
     "name": "stdout",
     "output_type": "stream",
     "text": [
      "圖像 17 質量 70:\n",
      "  PSNR - 壓縮: 33.69dB, 修復: 28.93dB\n",
      "  SSIM - 壓縮: 0.9537, 修復: 0.8965\n",
      "  LPIPS - 壓縮: 0.0020, 修復: 0.0126\n",
      "處理圖像 17/20\n"
     ]
    },
    {
     "name": "stderr",
     "output_type": "stream",
     "text": [
      "Sampling: 100%|██████████| 91/91 [00:00<00:00, 95.00it/s]\n"
     ]
    },
    {
     "name": "stdout",
     "output_type": "stream",
     "text": [
      "圖像 18 質量 10:\n",
      "  PSNR - 壓縮: 25.19dB, 修復: 21.90dB\n",
      "  SSIM - 壓縮: 0.7466, 修復: 0.6440\n",
      "  LPIPS - 壓縮: 0.0644, 修復: 0.1155\n"
     ]
    },
    {
     "name": "stderr",
     "output_type": "stream",
     "text": [
      "Sampling: 100%|██████████| 71/71 [00:00<00:00, 95.01it/s]\n"
     ]
    },
    {
     "name": "stdout",
     "output_type": "stream",
     "text": [
      "圖像 18 質量 30:\n",
      "  PSNR - 壓縮: 29.35dB, 修復: 26.03dB\n",
      "  SSIM - 壓縮: 0.8728, 修復: 0.8218\n",
      "  LPIPS - 壓縮: 0.0133, 修復: 0.0261\n"
     ]
    },
    {
     "name": "stderr",
     "output_type": "stream",
     "text": [
      "Sampling: 100%|██████████| 51/51 [00:00<00:00, 95.71it/s]\n"
     ]
    },
    {
     "name": "stdout",
     "output_type": "stream",
     "text": [
      "圖像 18 質量 50:\n",
      "  PSNR - 壓縮: 31.98dB, 修復: 27.76dB\n",
      "  SSIM - 壓縮: 0.9012, 修復: 0.8636\n",
      "  LPIPS - 壓縮: 0.0030, 修復: 0.0216\n"
     ]
    },
    {
     "name": "stderr",
     "output_type": "stream",
     "text": [
      "Sampling: 100%|██████████| 31/31 [00:00<00:00, 95.03it/s]\n"
     ]
    },
    {
     "name": "stdout",
     "output_type": "stream",
     "text": [
      "圖像 18 質量 70:\n",
      "  PSNR - 壓縮: 33.85dB, 修復: 28.87dB\n",
      "  SSIM - 壓縮: 0.9308, 修復: 0.8675\n",
      "  LPIPS - 壓縮: 0.0017, 修復: 0.0153\n",
      "處理圖像 18/20\n"
     ]
    },
    {
     "name": "stderr",
     "output_type": "stream",
     "text": [
      "Sampling: 100%|██████████| 91/91 [00:00<00:00, 95.32it/s]\n"
     ]
    },
    {
     "name": "stdout",
     "output_type": "stream",
     "text": [
      "圖像 19 質量 10:\n",
      "  PSNR - 壓縮: 25.72dB, 修復: 23.38dB\n",
      "  SSIM - 壓縮: 0.7400, 修復: 0.7125\n",
      "  LPIPS - 壓縮: 0.0810, 修復: 0.0809\n"
     ]
    },
    {
     "name": "stderr",
     "output_type": "stream",
     "text": [
      "Sampling: 100%|██████████| 71/71 [00:00<00:00, 95.07it/s]\n"
     ]
    },
    {
     "name": "stdout",
     "output_type": "stream",
     "text": [
      "圖像 19 質量 30:\n",
      "  PSNR - 壓縮: 29.60dB, 修復: 26.99dB\n",
      "  SSIM - 壓縮: 0.8840, 修復: 0.8321\n",
      "  LPIPS - 壓縮: 0.0183, 修復: 0.0431\n"
     ]
    },
    {
     "name": "stderr",
     "output_type": "stream",
     "text": [
      "Sampling: 100%|██████████| 51/51 [00:00<00:00, 95.30it/s]\n"
     ]
    },
    {
     "name": "stdout",
     "output_type": "stream",
     "text": [
      "圖像 19 質量 50:\n",
      "  PSNR - 壓縮: 31.71dB, 修復: 27.55dB\n",
      "  SSIM - 壓縮: 0.9120, 修復: 0.8605\n",
      "  LPIPS - 壓縮: 0.0117, 修復: 0.0370\n"
     ]
    },
    {
     "name": "stderr",
     "output_type": "stream",
     "text": [
      "Sampling: 100%|██████████| 31/31 [00:00<00:00, 94.48it/s]\n"
     ]
    },
    {
     "name": "stdout",
     "output_type": "stream",
     "text": [
      "圖像 19 質量 70:\n",
      "  PSNR - 壓縮: 33.55dB, 修復: 29.16dB\n",
      "  SSIM - 壓縮: 0.9397, 修復: 0.8966\n",
      "  LPIPS - 壓縮: 0.0085, 修復: 0.0271\n",
      "處理圖像 19/20\n"
     ]
    },
    {
     "name": "stderr",
     "output_type": "stream",
     "text": [
      "Sampling: 100%|██████████| 91/91 [00:00<00:00, 95.28it/s]\n"
     ]
    },
    {
     "name": "stdout",
     "output_type": "stream",
     "text": [
      "圖像 20 質量 10:\n",
      "  PSNR - 壓縮: 23.43dB, 修復: 21.99dB\n",
      "  SSIM - 壓縮: 0.7941, 修復: 0.7729\n",
      "  LPIPS - 壓縮: 0.0472, 修復: 0.0592\n"
     ]
    },
    {
     "name": "stderr",
     "output_type": "stream",
     "text": [
      "Sampling: 100%|██████████| 71/71 [00:00<00:00, 95.54it/s]\n"
     ]
    },
    {
     "name": "stdout",
     "output_type": "stream",
     "text": [
      "圖像 20 質量 30:\n",
      "  PSNR - 壓縮: 27.10dB, 修復: 24.48dB\n",
      "  SSIM - 壓縮: 0.9037, 修復: 0.8825\n",
      "  LPIPS - 壓縮: 0.0160, 修復: 0.0190\n"
     ]
    },
    {
     "name": "stderr",
     "output_type": "stream",
     "text": [
      "Sampling: 100%|██████████| 51/51 [00:00<00:00, 94.94it/s]\n"
     ]
    },
    {
     "name": "stdout",
     "output_type": "stream",
     "text": [
      "圖像 20 質量 50:\n",
      "  PSNR - 壓縮: 28.90dB, 修復: 26.50dB\n",
      "  SSIM - 壓縮: 0.9316, 修復: 0.9151\n",
      "  LPIPS - 壓縮: 0.0051, 修復: 0.0167\n"
     ]
    },
    {
     "name": "stderr",
     "output_type": "stream",
     "text": [
      "Sampling: 100%|██████████| 31/31 [00:00<00:00, 95.08it/s]\n",
      "/tmp/ipykernel_6224/1523092173.py:631: UserWarning: Glyph 36074 (\\N{CJK UNIFIED IDEOGRAPH-8CEA}) missing from current font.\n",
      "  plt.tight_layout()\n",
      "/tmp/ipykernel_6224/1523092173.py:631: UserWarning: Glyph 37327 (\\N{CJK UNIFIED IDEOGRAPH-91CF}) missing from current font.\n",
      "  plt.tight_layout()\n",
      "/tmp/ipykernel_6224/1523092173.py:631: UserWarning: Glyph 25552 (\\N{CJK UNIFIED IDEOGRAPH-63D0}) missing from current font.\n",
      "  plt.tight_layout()\n",
      "/tmp/ipykernel_6224/1523092173.py:631: UserWarning: Glyph 21319 (\\N{CJK UNIFIED IDEOGRAPH-5347}) missing from current font.\n",
      "  plt.tight_layout()\n"
     ]
    },
    {
     "name": "stdout",
     "output_type": "stream",
     "text": [
      "圖像 20 質量 70:\n",
      "  PSNR - 壓縮: 30.69dB, 修復: 28.01dB\n",
      "  SSIM - 壓縮: 0.9540, 修復: 0.9392\n",
      "  LPIPS - 壓縮: 0.0023, 修復: 0.0058\n",
      "處理圖像 20/20\n",
      "\n",
      "============================================================\n",
      "平均結果：\n",
      "============================================================\n",
      "質量         PSNR (壓縮)       PSNR (修復)       SSIM (壓縮)       SSIM (修復)       LPIPS (壓縮)      LPIPS (修復)     \n",
      "------------------------------------------------------------------------------------------\n",
      "10         23.73           20.96           0.7843          0.7259          0.0504          0.0727         \n",
      "30         27.25           23.74           0.8848          0.8365          0.0147          0.0375         \n",
      "50         29.76           25.54           0.9254          0.8720          0.0042          0.0256         \n",
      "70         31.75           27.25           0.9503          0.9037          0.0022          0.0128         \n",
      "==========================================================================================\n",
      "PSNR: 越高越好 | SSIM: 越高越好 | LPIPS: 越低越好\n"
     ]
    },
    {
     "name": "stderr",
     "output_type": "stream",
     "text": [
      "/tmp/ipykernel_6224/1523092173.py:631: UserWarning: Glyph 25913 (\\N{CJK UNIFIED IDEOGRAPH-6539}) missing from current font.\n",
      "  plt.tight_layout()\n",
      "/tmp/ipykernel_6224/1523092173.py:631: UserWarning: Glyph 21892 (\\N{CJK UNIFIED IDEOGRAPH-5584}) missing from current font.\n",
      "  plt.tight_layout()\n",
      "/tmp/ipykernel_6224/1523092173.py:631: UserWarning: Glyph 20540 (\\N{CJK UNIFIED IDEOGRAPH-503C}) missing from current font.\n",
      "  plt.tight_layout()\n",
      "/tmp/ipykernel_6224/1523092173.py:631: UserWarning: Glyph 36234 (\\N{CJK UNIFIED IDEOGRAPH-8D8A}) missing from current font.\n",
      "  plt.tight_layout()\n",
      "/tmp/ipykernel_6224/1523092173.py:631: UserWarning: Glyph 39640 (\\N{CJK UNIFIED IDEOGRAPH-9AD8}) missing from current font.\n",
      "  plt.tight_layout()\n",
      "/tmp/ipykernel_6224/1523092173.py:631: UserWarning: Glyph 22909 (\\N{CJK UNIFIED IDEOGRAPH-597D}) missing from current font.\n",
      "  plt.tight_layout()\n",
      "/tmp/ipykernel_6224/1523092173.py:632: UserWarning: Glyph 36074 (\\N{CJK UNIFIED IDEOGRAPH-8CEA}) missing from current font.\n",
      "  plt.savefig('performance_gains.png')\n",
      "/tmp/ipykernel_6224/1523092173.py:632: UserWarning: Glyph 37327 (\\N{CJK UNIFIED IDEOGRAPH-91CF}) missing from current font.\n",
      "  plt.savefig('performance_gains.png')\n",
      "/tmp/ipykernel_6224/1523092173.py:632: UserWarning: Glyph 25552 (\\N{CJK UNIFIED IDEOGRAPH-63D0}) missing from current font.\n",
      "  plt.savefig('performance_gains.png')\n",
      "/tmp/ipykernel_6224/1523092173.py:632: UserWarning: Glyph 21319 (\\N{CJK UNIFIED IDEOGRAPH-5347}) missing from current font.\n",
      "  plt.savefig('performance_gains.png')\n",
      "/tmp/ipykernel_6224/1523092173.py:632: UserWarning: Glyph 25913 (\\N{CJK UNIFIED IDEOGRAPH-6539}) missing from current font.\n",
      "  plt.savefig('performance_gains.png')\n",
      "/tmp/ipykernel_6224/1523092173.py:632: UserWarning: Glyph 21892 (\\N{CJK UNIFIED IDEOGRAPH-5584}) missing from current font.\n",
      "  plt.savefig('performance_gains.png')\n",
      "/tmp/ipykernel_6224/1523092173.py:632: UserWarning: Glyph 20540 (\\N{CJK UNIFIED IDEOGRAPH-503C}) missing from current font.\n",
      "  plt.savefig('performance_gains.png')\n",
      "/tmp/ipykernel_6224/1523092173.py:632: UserWarning: Glyph 36234 (\\N{CJK UNIFIED IDEOGRAPH-8D8A}) missing from current font.\n",
      "  plt.savefig('performance_gains.png')\n",
      "/tmp/ipykernel_6224/1523092173.py:632: UserWarning: Glyph 39640 (\\N{CJK UNIFIED IDEOGRAPH-9AD8}) missing from current font.\n",
      "  plt.savefig('performance_gains.png')\n",
      "/tmp/ipykernel_6224/1523092173.py:632: UserWarning: Glyph 22909 (\\N{CJK UNIFIED IDEOGRAPH-597D}) missing from current font.\n",
      "  plt.savefig('performance_gains.png')\n"
     ]
    }
   ],
   "source": [
    "import torch\n",
    "import torchvision\n",
    "from torch import nn\n",
    "from torch.utils.data import DataLoader\n",
    "from PIL import Image\n",
    "import io\n",
    "import matplotlib.pyplot as plt\n",
    "import torch.nn.functional as F\n",
    "import math\n",
    "import os\n",
    "from tqdm import tqdm\n",
    "import numpy as np\n",
    "from pytorch_msssim import ssim\n",
    "import lpips\n",
    "\n",
    "# 設定設備\n",
    "device = torch.device(\"cuda\" if torch.cuda.is_available() else \"cpu\")\n",
    "print(f\"Using device: {device}\")\n",
    "\n",
    "# 載入CIFAR10測試資料集\n",
    "transform = torchvision.transforms.Compose([\n",
    "    torchvision.transforms.ToTensor(),\n",
    "    torchvision.transforms.Normalize((0.5, 0.5, 0.5), (0.5, 0.5, 0.5))\n",
    "])\n",
    "\n",
    "test_dataset = torchvision.datasets.CIFAR10(\n",
    "    root=\"./data\", train=False, download=True, transform=transform\n",
    ")\n",
    "\n",
    "test_dataloader = DataLoader(test_dataset, batch_size=1, shuffle=True)\n",
    "\n",
    "# JPEG壓縮函數\n",
    "def jpeg_compress(x, quality):\n",
    "    \"\"\"執行JPEG壓縮並加強色彩保存\"\"\"\n",
    "    x = (x * 127.5 + 127.5).clamp(0, 255).to(torch.uint8).cpu()\n",
    "    compressed_images = []\n",
    "    for img in x:\n",
    "        pil_img = torchvision.transforms.ToPILImage()(img)\n",
    "        buffer = io.BytesIO()\n",
    "        # 確保quality在1-100的有效範圍內\n",
    "        quality = max(1, min(100, int(quality)))\n",
    "        # 根據質量選擇子採樣模式，提高色彩保留\n",
    "        subsampling = \"4:4:4\" if quality > 30 else \"4:2:0\"\n",
    "        pil_img.save(buffer, format=\"JPEG\", quality=quality, subsampling=subsampling)\n",
    "        buffer.seek(0)\n",
    "        compressed_img = Image.open(buffer)\n",
    "        compressed_tensor = torchvision.transforms.ToTensor()(compressed_img)\n",
    "        compressed_images.append(compressed_tensor)\n",
    "    return torch.stack(compressed_images).to(device).sub(0.5).div(0.5)\n",
    "\n",
    "# 時間嵌入模組\n",
    "class TimeEmbedding(nn.Module):\n",
    "    def __init__(self, dim):\n",
    "        super().__init__()\n",
    "        self.dim = dim\n",
    "        self.proj = nn.Sequential(\n",
    "            nn.Linear(dim, dim * 4),\n",
    "            nn.SiLU(),\n",
    "            nn.Linear(dim * 4, dim)\n",
    "        )\n",
    "        \n",
    "    def forward(self, t):\n",
    "        half_dim = self.dim // 2\n",
    "        emb = math.log(10000) / (half_dim - 1)\n",
    "        emb = torch.exp(torch.arange(half_dim, device=device) * -emb)\n",
    "        emb = t[:, None] * emb[None, :]\n",
    "        emb = torch.cat((emb.sin(), emb.cos()), dim=-1)\n",
    "        return self.proj(emb)\n",
    "\n",
    "# DCT層\n",
    "class DCTLayer(nn.Module):\n",
    "    \"\"\"實現DCT變換層，用於頻域分析\"\"\"\n",
    "    def __init__(self, block_size=8):\n",
    "        super().__init__()\n",
    "        self.block_size = block_size\n",
    "        \n",
    "    def forward(self, x):\n",
    "        # 保存原始尺寸\n",
    "        b, c, h, w = x.shape\n",
    "        \n",
    "        # 使用可調整的插值確保輸出與輸入尺寸相同\n",
    "        # 先進行DCT變換\n",
    "        x_dct = self._apply_dct(x)\n",
    "        \n",
    "        # 確保輸出尺寸與輸入相同\n",
    "        if x_dct.shape[2:] != x.shape[2:]:\n",
    "            x_dct = F.interpolate(x_dct, size=(h, w), mode='bilinear', align_corners=False)\n",
    "            \n",
    "        return x_dct\n",
    "    \n",
    "    def _apply_dct(self, x):\n",
    "        \"\"\"實際執行DCT變換的輔助函數\"\"\"\n",
    "        b, c, h, w = x.shape\n",
    "        \n",
    "        # 補充填充以確保尺寸是block_size的倍數\n",
    "        h_pad = (self.block_size - h % self.block_size) % self.block_size\n",
    "        w_pad = (self.block_size - w % self.block_size) % self.block_size\n",
    "        \n",
    "        x_padded = F.pad(x, (0, w_pad, 0, h_pad))\n",
    "        \n",
    "        # 獲取填充後的尺寸\n",
    "        _, _, h_padded, w_padded = x_padded.shape\n",
    "        \n",
    "        # 計算块的數量\n",
    "        h_blocks = h_padded // self.block_size\n",
    "        w_blocks = w_padded // self.block_size\n",
    "        \n",
    "        # 分塊處理\n",
    "        x_blocks = x_padded.unfold(2, self.block_size, self.block_size).unfold(3, self.block_size, self.block_size)\n",
    "        \n",
    "        # 獲取展開後的尺寸\n",
    "        b_unf, c_unf, h_unf, w_unf, bs_h, bs_w = x_blocks.shape\n",
    "        \n",
    "        # 重構為便於進行DCT的形狀\n",
    "        x_blocks_flat = x_blocks.reshape(-1, self.block_size, self.block_size)\n",
    "        \n",
    "        # 獲取DCT矩陣\n",
    "        dct_matrix = self._get_dct_matrix(self.block_size).to(x.device)\n",
    "        \n",
    "        # 應用DCT變換: D * X * D^T\n",
    "        x_dct_flat = torch.matmul(dct_matrix, x_blocks_flat)\n",
    "        x_dct_flat = torch.matmul(x_dct_flat, dct_matrix.transpose(0, 1))\n",
    "        \n",
    "        # 恢復展開形狀\n",
    "        x_dct_blocks = x_dct_flat.reshape(b_unf, c_unf, h_unf, w_unf, bs_h, bs_w)\n",
    "        \n",
    "        # 重新排列為可以恢復原始形狀的排列\n",
    "        x_dct_perm = x_dct_blocks.permute(0, 1, 2, 4, 3, 5)\n",
    "        \n",
    "        # 重構為填充後的原始形狀\n",
    "        x_dct = x_dct_perm.reshape(b, c, h_padded, w_padded)\n",
    "        \n",
    "        # 去除填充部分\n",
    "        if h_pad > 0 or w_pad > 0:\n",
    "            x_dct = x_dct[:, :, :h, :w]\n",
    "        \n",
    "        return x_dct\n",
    "    \n",
    "    def _get_dct_matrix(self, size):\n",
    "        \"\"\"生成離散餘弦變換矩陣\"\"\"\n",
    "        dct_matrix = torch.zeros(size, size)\n",
    "        for i in range(size):\n",
    "            for j in range(size):\n",
    "                if i == 0:\n",
    "                    dct_matrix[i, j] = 1.0 / torch.sqrt(torch.tensor(size, dtype=torch.float32))\n",
    "                else:\n",
    "                    dct_matrix[i, j] = torch.sqrt(torch.tensor(2.0 / size)) * torch.cos(torch.tensor(torch.pi * (2 * j + 1) * i / (2 * size)))\n",
    "        return dct_matrix\n",
    "\n",
    "# 高頻補償模塊\n",
    "class HFCM(nn.Module):\n",
    "    \"\"\"高頻補償模塊，從FDG-Diff論文改編\"\"\"\n",
    "    def __init__(self, channels):\n",
    "        super().__init__()\n",
    "        self.dct = DCTLayer(block_size=8)\n",
    "        self.high_freq_attn = nn.Sequential(\n",
    "            nn.Conv2d(channels, channels, 3, 1, 1),\n",
    "            nn.ReLU(),\n",
    "            nn.Conv2d(channels, channels, 3, 1, 1),\n",
    "            nn.Sigmoid()\n",
    "        )\n",
    "        self.conv_out = nn.Conv2d(channels, channels, 1)\n",
    "        \n",
    "    def forward(self, x, compression_level):\n",
    "        # 提取DCT頻域表示\n",
    "        x_dct = self.dct(x)\n",
    "        \n",
    "        # 確保x_dct與x有相同的空間尺寸\n",
    "        if x_dct.shape[2:] != x.shape[2:]:\n",
    "            x_dct = F.interpolate(x_dct, size=x.shape[2:], mode='bilinear', align_corners=False)\n",
    "        \n",
    "        # 高頻注意力掩碼生成\n",
    "        attn_mask = self.high_freq_attn(x)\n",
    "        \n",
    "        # 確保compression_level是標量或可廣播的形狀\n",
    "        if isinstance(compression_level, torch.Tensor) and compression_level.dim() > 0:\n",
    "            compression_level = compression_level.view(-1, 1, 1, 1)\n",
    "        \n",
    "        # 根據壓縮級別調整高頻增強程度\n",
    "        # 壓縮級別越高(質量越低)，增強程度越大\n",
    "        freq_scale = 1.0 - compression_level\n",
    "        \n",
    "        # 應用高頻增強\n",
    "        enhanced = x + attn_mask * x_dct * freq_scale\n",
    "        return self.conv_out(enhanced)\n",
    "\n",
    "# 頻域引導模塊\n",
    "class FrequencyAwareBlock(nn.Module):\n",
    "    def __init__(self, channels):\n",
    "        super().__init__()\n",
    "        self.dct_layer = DCTLayer(block_size=8)\n",
    "        self.freq_conv = nn.Conv2d(channels, channels, 3, padding=1)\n",
    "        self.freq_attn = nn.Sequential(\n",
    "            nn.AdaptiveAvgPool2d(1),\n",
    "            nn.Conv2d(channels, channels // 4, 1),\n",
    "            nn.ReLU(),\n",
    "            nn.Conv2d(channels // 4, channels, 1),\n",
    "            nn.Sigmoid()\n",
    "        )\n",
    "        \n",
    "    def forward(self, x, compression_level):\n",
    "        # 提取頻域特徵\n",
    "        x_dct = self.dct_layer(x)\n",
    "        \n",
    "        # 確保x_dct與x有相同的空間尺寸\n",
    "        if x_dct.shape[2:] != x.shape[2:]:\n",
    "            x_dct = F.interpolate(x_dct, size=x.shape[2:], mode='bilinear', align_corners=False)\n",
    "            \n",
    "        x_freq = self.freq_conv(x_dct)\n",
    "        \n",
    "        # 確保x_freq與x有相同的空間尺寸\n",
    "        if x_freq.shape[2:] != x.shape[2:]:\n",
    "            x_freq = F.interpolate(x_freq, size=x.shape[2:], mode='bilinear', align_corners=False)\n",
    "        \n",
    "        # 生成頻域注意力\n",
    "        attn = self.freq_attn(x_freq)\n",
    "        \n",
    "        # 確保compression_level是標量或可廣播的形狀\n",
    "        if isinstance(compression_level, torch.Tensor) and compression_level.dim() > 0:\n",
    "            compression_level = compression_level.view(-1, 1, 1, 1)\n",
    "        \n",
    "        # 根據壓縮級別調整頻域注意力\n",
    "        attn = attn * (1.0 - compression_level) + 0.5\n",
    "        \n",
    "        # 確保attn可以與x_freq適當廣播\n",
    "        if attn.shape[2:] != x_freq.shape[2:]:\n",
    "            attn = F.interpolate(attn, size=x_freq.shape[2:], mode='nearest')\n",
    "        \n",
    "        # 應用頻域注意力\n",
    "        return x + x_freq * attn\n",
    "\n",
    "# 殘差注意力模塊\n",
    "class ResAttnBlock(nn.Module):\n",
    "    def __init__(self, in_c, out_c, time_dim, dropout=0.1, use_freq_guide=False):\n",
    "        super().__init__()\n",
    "        # 確保組數能被通道數整除\n",
    "        num_groups = min(8, in_c)\n",
    "        while in_c % num_groups != 0 and num_groups > 1:\n",
    "            num_groups -= 1\n",
    "            \n",
    "        self.norm1 = nn.GroupNorm(num_groups, in_c)\n",
    "        self.conv1 = nn.Conv2d(in_c, out_c, 3, padding=1)\n",
    "        self.time_proj = nn.Linear(time_dim, out_c)\n",
    "        \n",
    "        # 調整 out_c 的組數\n",
    "        num_groups_out = min(8, out_c)\n",
    "        while out_c % num_groups_out != 0 and num_groups_out > 1:\n",
    "            num_groups_out -= 1\n",
    "            \n",
    "        self.norm2 = nn.GroupNorm(num_groups_out, out_c)\n",
    "        self.conv2 = nn.Conv2d(out_c, out_c, 3, padding=1)\n",
    "        self.attn = nn.MultiheadAttention(out_c, 4, batch_first=True)\n",
    "        self.dropout = nn.Dropout(dropout)\n",
    "        \n",
    "        self.shortcut = nn.Conv2d(in_c, out_c, 1) if in_c != out_c else nn.Identity()\n",
    "        \n",
    "        # 頻域引導(僅在某些塊使用)\n",
    "        self.use_freq_guide = use_freq_guide\n",
    "        if use_freq_guide:\n",
    "            self.freq_guide = FrequencyAwareBlock(out_c)\n",
    "            self.hfcm = HFCM(out_c)\n",
    "        \n",
    "    def forward(self, x, t_emb, compression_level=None):\n",
    "        h = self.norm1(x)\n",
    "        h = self.conv1(h)\n",
    "        \n",
    "        # 加入時間編碼\n",
    "        t = self.time_proj(t_emb)[..., None, None]\n",
    "        h = h + t\n",
    "        \n",
    "        h = self.norm2(h)\n",
    "        h = self.conv2(F.silu(h))\n",
    "        \n",
    "        # 應用自注意力機制\n",
    "        b, c, hh, ww = h.shape\n",
    "        h_attn = h.view(b, c, -1).permute(0, 2, 1)\n",
    "        h_attn, _ = self.attn(h_attn, h_attn, h_attn)\n",
    "        h_attn = h_attn.permute(0, 2, 1).view(b, c, hh, ww)\n",
    "        \n",
    "        # 應用頻域引導(如果啟用)\n",
    "        if self.use_freq_guide and compression_level is not None:\n",
    "            h_attn = self.freq_guide(h_attn, compression_level)\n",
    "            h_attn = self.hfcm(h_attn, compression_level)\n",
    "        \n",
    "        return self.shortcut(x) + self.dropout(h_attn)\n",
    "\n",
    "# SVD結構保留輔助函數\n",
    "def svd_structure_preservation(x, k_ratio=0.5):\n",
    "    \"\"\"使用SVD提取主要結構特徵\"\"\"\n",
    "    b, c, h, w = x.shape\n",
    "    x_flat = x.view(b, c, -1)\n",
    "    \n",
    "    # 對每個通道進行SVD分解\n",
    "    structure_tensors = []\n",
    "    for i in range(b):\n",
    "        channels_structure = []\n",
    "        for j in range(c):\n",
    "            # SVD分解\n",
    "            U, S, Vh = torch.linalg.svd(x_flat[i, j].view(h, w), full_matrices=False)\n",
    "            \n",
    "            # 確定保留的奇異值數量\n",
    "            k = max(1, int(min(h, w) * k_ratio))\n",
    "            \n",
    "            # 重建降秩表示\n",
    "            S_k = torch.zeros_like(S)\n",
    "            S_k[:k] = S[:k]\n",
    "            structure = torch.matmul(U, torch.matmul(torch.diag(S_k), Vh))\n",
    "            channels_structure.append(structure.unsqueeze(0))\n",
    "        \n",
    "        # 所有通道結合\n",
    "        structure_tensors.append(torch.cat(channels_structure, dim=0).unsqueeze(0))\n",
    "    \n",
    "    return torch.cat(structure_tensors, dim=0)\n",
    "\n",
    "# 相位一致性函數\n",
    "def phase_consistency(x, ref, alpha=0.7):\n",
    "    \"\"\"保持參考圖像的相位信息，同時使用新的幅度\"\"\"\n",
    "    # FFT變換\n",
    "    x_fft = torch.fft.fft2(x)\n",
    "    ref_fft = torch.fft.fft2(ref)\n",
    "    \n",
    "    # 提取幅度和相位\n",
    "    x_mag = torch.abs(x_fft)\n",
    "    ref_phase = torch.angle(ref_fft)\n",
    "    \n",
    "    # 創建新的複數張量，使用x的幅度和參考的相位\n",
    "    real = x_mag * torch.cos(ref_phase)\n",
    "    imag = x_mag * torch.sin(ref_phase)\n",
    "    adjusted_fft = torch.complex(real, imag)\n",
    "    \n",
    "    # 反變換\n",
    "    adjusted_img = torch.fft.ifft2(adjusted_fft).real\n",
    "    \n",
    "    # 混合原始圖像和相位調整圖像\n",
    "    return alpha * x + (1 - alpha) * adjusted_img\n",
    "\n",
    "# UNet架構\n",
    "class JPEGDiffusionModel(nn.Module):\n",
    "    def __init__(self):\n",
    "        super().__init__()\n",
    "        time_dim = 256\n",
    "        self.time_embed = TimeEmbedding(time_dim)\n",
    "        \n",
    "        # 下采样路径\n",
    "        self.down1 = ResAttnBlock(3, 64, time_dim)\n",
    "        self.down2 = ResAttnBlock(64, 128, time_dim, use_freq_guide=True)\n",
    "        self.down3 = ResAttnBlock(128, 256, time_dim, use_freq_guide=True)\n",
    "        self.down4 = ResAttnBlock(256, 512, time_dim)\n",
    "        self.down5 = ResAttnBlock(512, 512, time_dim)\n",
    "        self.pool = nn.MaxPool2d(2)\n",
    "        \n",
    "        # 瓶颈层\n",
    "        self.bottleneck = nn.Sequential(\n",
    "            ResAttnBlock(512, 1024, time_dim, use_freq_guide=True),\n",
    "            ResAttnBlock(1024, 1024, time_dim),\n",
    "            ResAttnBlock(1024, 512, time_dim, use_freq_guide=True)\n",
    "        )\n",
    "        \n",
    "        # 上采样路径\n",
    "        self.up1 = ResAttnBlock(1024, 512, time_dim)\n",
    "        self.up2 = ResAttnBlock(512 + 512, 256, time_dim, use_freq_guide=True)\n",
    "        self.up3 = ResAttnBlock(256 + 256, 128, time_dim, use_freq_guide=True)\n",
    "        self.up4 = ResAttnBlock(128 + 128, 64, time_dim)\n",
    "        self.up5 = ResAttnBlock(64 + 64, 64, time_dim)\n",
    "        \n",
    "        # 輸出層\n",
    "        self.out_conv = nn.Conv2d(64, 3, 1)\n",
    "        \n",
    "    def forward(self, x, t, compression_level=None):\n",
    "        t_emb = self.time_embed(t)\n",
    "        \n",
    "        # 如果未提供壓縮級別，從時間步估計\n",
    "        if compression_level is None:\n",
    "            compression_level = t.clone().detach()\n",
    "        \n",
    "        # 下采样\n",
    "        d1 = self.down1(x, t_emb)  # 32x32\n",
    "        d2 = self.down2(self.pool(d1), t_emb, compression_level)  # 16x16\n",
    "        d3 = self.down3(self.pool(d2), t_emb, compression_level)  # 8x8\n",
    "        d4 = self.down4(self.pool(d3), t_emb)  # 4x4\n",
    "        d5 = self.down5(self.pool(d4), t_emb)  # 2x2\n",
    "        \n",
    "        # 瓶颈层\n",
    "        b = self.bottleneck[0](self.pool(d5), t_emb, compression_level)\n",
    "        b = self.bottleneck[1](b, t_emb)\n",
    "        b = self.bottleneck[2](b, t_emb, compression_level)\n",
    "        \n",
    "        # 上采样\n",
    "        u1 = self.up1(torch.cat([F.interpolate(b, scale_factor=2, mode='bilinear', align_corners=False), d5], dim=1), t_emb)\n",
    "        u2 = self.up2(torch.cat([F.interpolate(u1, scale_factor=2, mode='bilinear', align_corners=False), d4], dim=1), t_emb, compression_level)\n",
    "        u3 = self.up3(torch.cat([F.interpolate(u2, scale_factor=2, mode='bilinear', align_corners=False), d3], dim=1), t_emb, compression_level)\n",
    "        u4 = self.up4(torch.cat([F.interpolate(u3, scale_factor=2, mode='bilinear', align_corners=False), d2], dim=1), t_emb)\n",
    "        u5 = self.up5(torch.cat([F.interpolate(u4, scale_factor=2, mode='bilinear', align_corners=False), d1], dim=1), t_emb)\n",
    "        \n",
    "        return self.out_conv(u5)\n",
    "\n",
    "# 高斯混合模型採樣器\n",
    "class GaussianMixtureSampler:\n",
    "    def __init__(self, model):\n",
    "        self.model = model\n",
    "        \n",
    "    def sample(self, x_t, steps=100, use_phase_consistency=True, use_svd_guide=True, guidance_scale=1.0):\n",
    "        \"\"\"使用高斯混合模型進行採樣，結合相位一致性和SVD引導\"\"\"\n",
    "        self.model.eval()\n",
    "        # 保存原始壓縮圖像用於相位一致性\n",
    "        original_compressed = x_t.clone()\n",
    "        \n",
    "        with torch.no_grad():\n",
    "            # 從給定的噪聲圖像開始\n",
    "            for i in tqdm(range(steps-1, -1, -1), desc=\"Sampling\"):\n",
    "                t = torch.full((x_t.size(0),), i, device=device).float() / num_timesteps\n",
    "                compression_level = t.clone()  # 壓縮級別與時間步對應\n",
    "                \n",
    "                # 獲取噪聲預測\n",
    "                pred_noise = model(x_t, t, compression_level)\n",
    "                \n",
    "                # 如果啟用SVD引導\n",
    "                if use_svd_guide and i > steps // 2:\n",
    "                    # 在前半部分採樣過程中使用SVD引導(粗糙結構)\n",
    "                    k_ratio = i / steps  # 隨時間降低保留比例\n",
    "                    structure_prior = svd_structure_preservation(x_t, k_ratio)\n",
    "                    # 混合SVD結構和預測\n",
    "                    guide_strength = k_ratio * 0.3  # SVD影響隨時間降低\n",
    "                    pred_noise = (1 - guide_strength) * pred_noise + guide_strength * (original_compressed - structure_prior)\n",
    "                \n",
    "                if i > 0:\n",
    "                    # 預測的x0\n",
    "                    x0_pred = x_t + pred_noise\n",
    "                    \n",
    "                    # 計算多個高斯分量的均值\n",
    "                    # 第一個均值 - 更保守的估計\n",
    "                    mu1 = x0_pred * 0.9 + x_t * 0.1\n",
    "                    # 第二個均值 - 更積極的估計\n",
    "                    mu2 = x0_pred * 1.1 - x_t * 0.1\n",
    "                    \n",
    "                    # 根據當前時間步選擇使用哪個分量\n",
    "                    p_conservative = max(0.2, min(0.8, i / steps))\n",
    "                    use_first = torch.rand(1).item() < p_conservative\n",
    "                    next_mean = mu1 if use_first else mu2\n",
    "                    \n",
    "                    # 逐步減少噪聲尺度\n",
    "                    noise_scale = 0.1 * i / steps * guidance_scale\n",
    "                    x_next = next_mean + noise_scale * torch.randn_like(x_t)\n",
    "                    \n",
    "                    # 相位一致性(每5步應用一次)\n",
    "                    if use_phase_consistency and i % 5 == 0:\n",
    "                        alpha = 0.6 + 0.3 * (1 - i / steps)  # 隨時間增加原始圖像權重\n",
    "                        x_next = phase_consistency(x_next, original_compressed, alpha)\n",
    "                    \n",
    "                    x_t = x_next\n",
    "                else:\n",
    "                    # 最後一步直接使用預測的原始圖像\n",
    "                    x_t = x_t + pred_noise\n",
    "        \n",
    "        return x_t\n",
    "\n",
    "# 設定JPEG擴散參數\n",
    "num_timesteps = 100\n",
    "betas = torch.linspace(1e-4, 0.02, num_timesteps).to(device)\n",
    "alphas = 1. - betas\n",
    "alphas_cumprod = torch.cumprod(alphas, dim=0)\n",
    "\n",
    "# 計算PSNR\n",
    "def calculate_psnr(img1, img2):\n",
    "    # 確保圖像在0到1範圍內\n",
    "    img1 = (img1 * 0.5 + 0.5).clamp(0, 1)\n",
    "    img2 = (img2 * 0.5 + 0.5).clamp(0, 1)\n",
    "    mse = F.mse_loss(img1, img2)\n",
    "    if mse == 0:\n",
    "        return float('inf')\n",
    "    return 10 * torch.log10(1.0 / mse)\n",
    "\n",
    "# 計算SSIM\n",
    "def calculate_ssim(img1, img2):\n",
    "    # 確保圖像在0到1範圍內\n",
    "    img1 = (img1 * 0.5 + 0.5).clamp(0, 1)\n",
    "    img2 = (img2 * 0.5 + 0.5).clamp(0, 1)\n",
    "    return ssim(img1, img2, data_range=1.0)\n",
    "\n",
    "# 計算LPIPS\n",
    "def calculate_lpips(img1, img2, lpips_model):\n",
    "    # 確保圖像在-1到1範圍內 (LPIPS模型要求)\n",
    "    return lpips_model(img1, img2)\n",
    "\n",
    "# 載入模型\n",
    "model = JPEGDiffusionModel().to(device)\n",
    "try:\n",
    "    checkpoint = torch.load(\"best_jpeg_diffusion.pth\", map_location=device)\n",
    "    model.load_state_dict(checkpoint['model_state_dict'])\n",
    "    print(f\"Loaded model from epoch {checkpoint['epoch'] + 1}\")\n",
    "except:\n",
    "    print(\"無法載入預訓練模型，請確保'best_jpeg_diffusion.pth'存在\")\n",
    "    exit()\n",
    "\n",
    "model.eval()\n",
    "\n",
    "# 創建LPIPS損失計算模型\n",
    "lpips_model = lpips.LPIPS(net='alex').to(device)\n",
    "\n",
    "# 測試修復\n",
    "sampler = GaussianMixtureSampler(model)\n",
    "\n",
    "# 測試不同質量級別\n",
    "quality_levels = [10, 30, 50, 70]\n",
    "num_test_images = 20  # 測試圖片數量\n",
    "\n",
    "# 用於保存結果的字典\n",
    "results = {q: {'psnr_compressed': [], 'psnr_restored': [], \n",
    "                'ssim_compressed': [], 'ssim_restored': [], \n",
    "                'lpips_compressed': [], 'lpips_restored': []} for q in quality_levels}\n",
    "\n",
    "for img_idx, (x0, _) in enumerate(test_dataloader):\n",
    "    if img_idx >= num_test_images:\n",
    "        break\n",
    "        \n",
    "    x0 = x0.to(device)\n",
    "    \n",
    "    plt.figure(figsize=(len(quality_levels)*4+4, 8))\n",
    "    plt.subplot(2, len(quality_levels)+1, 1)\n",
    "    plt.imshow((x0[0] * 0.5 + 0.5).cpu().permute(1, 2, 0).clamp(0, 1))\n",
    "    plt.title(\"Original\")\n",
    "    plt.axis('off')\n",
    "    \n",
    "    for i, quality in enumerate(quality_levels):\n",
    "        # 壓縮圖像\n",
    "        x_compressed = jpeg_compress(x0, quality)\n",
    "        \n",
    "        # 設定初始時間步基於質量\n",
    "        init_t = int((100 - quality) / 100 * num_timesteps)\n",
    "        \n",
    "        # 修復圖像\n",
    "        x_restored = sampler.sample(x_compressed, steps=init_t+1, guidance_scale=0.8)\n",
    "        \n",
    "        # 計算PSNR\n",
    "        psnr_compressed = calculate_psnr(x0, x_compressed)\n",
    "        psnr_restored = calculate_psnr(x0, x_restored)\n",
    "        \n",
    "        # 計算SSIM\n",
    "        ssim_compressed = calculate_ssim(x0, x_compressed)\n",
    "        ssim_restored = calculate_ssim(x0, x_restored)\n",
    "        \n",
    "        # 計算LPIPS\n",
    "        lpips_compressed = calculate_lpips(x0, x_compressed, lpips_model)\n",
    "        lpips_restored = calculate_lpips(x0, x_restored, lpips_model)\n",
    "        \n",
    "        # 保存結果\n",
    "        results[quality]['psnr_compressed'].append(psnr_compressed.item())\n",
    "        results[quality]['psnr_restored'].append(psnr_restored.item())\n",
    "        results[quality]['ssim_compressed'].append(ssim_compressed.item())\n",
    "        results[quality]['ssim_restored'].append(ssim_restored.item())\n",
    "        results[quality]['lpips_compressed'].append(lpips_compressed.item())\n",
    "        results[quality]['lpips_restored'].append(lpips_restored.item())\n",
    "        \n",
    "        # 列印當前圖像的結果\n",
    "        print(f\"圖像 {img_idx+1} 質量 {quality}:\")\n",
    "        print(f\"  PSNR - 壓縮: {psnr_compressed:.2f}dB, 修復: {psnr_restored:.2f}dB\")\n",
    "        print(f\"  SSIM - 壓縮: {ssim_compressed:.4f}, 修復: {ssim_restored:.4f}\")\n",
    "        print(f\"  LPIPS - 壓縮: {lpips_compressed.item():.4f}, 修復: {lpips_restored.item():.4f}\")\n",
    "        \n",
    "        # 顯示壓縮圖像\n",
    "        plt.subplot(2, len(quality_levels)+1, i+2)\n",
    "        plt.imshow((x_compressed[0] * 0.5 + 0.5).cpu().permute(1, 2, 0).clamp(0, 1))\n",
    "        plt.title(f\"JPEG Q{quality}\\nPSNR: {psnr_compressed:.2f}dB\\nSSIM: {ssim_compressed:.4f}\\nLPIPS: {lpips_compressed.item():.4f}\")\n",
    "        plt.axis('off')\n",
    "        \n",
    "        # 顯示修復圖像\n",
    "        plt.subplot(2, len(quality_levels)+1, len(quality_levels)+i+2)\n",
    "        plt.imshow((x_restored[0] * 0.5 + 0.5).cpu().permute(1, 2, 0).clamp(0, 1))\n",
    "        plt.title(f\"Restored Q{quality}\\nPSNR: {psnr_restored:.2f}dB\\nSSIM: {ssim_restored:.4f}\\nLPIPS: {lpips_restored.item():.4f}\")\n",
    "        plt.axis('off')\n",
    "    \n",
    "    plt.tight_layout()\n",
    "    plt.savefig(f'./0407_test/test_sample_{img_idx+1}.png')\n",
    "    plt.close()\n",
    "    \n",
    "    print(f\"處理圖像 {img_idx+1}/{num_test_images}\")\n",
    "\n",
    "# 計算並顯示平均結果\n",
    "print(\"\\n\" + \"=\"*60)\n",
    "print(\"平均結果：\")\n",
    "print(\"=\"*60)\n",
    "print(f\"{'質量':<10} {'PSNR (壓縮)':<15} {'PSNR (修復)':<15} {'SSIM (壓縮)':<15} {'SSIM (修復)':<15} {'LPIPS (壓縮)':<15} {'LPIPS (修復)':<15}\")\n",
    "print(\"-\"*90)\n",
    "\n",
    "for quality in quality_levels:\n",
    "    avg_psnr_comp = sum(results[quality]['psnr_compressed']) / len(results[quality]['psnr_compressed'])\n",
    "    avg_psnr_rest = sum(results[quality]['psnr_restored']) / len(results[quality]['psnr_restored'])\n",
    "    avg_ssim_comp = sum(results[quality]['ssim_compressed']) / len(results[quality]['ssim_compressed'])\n",
    "    avg_ssim_rest = sum(results[quality]['ssim_restored']) / len(results[quality]['ssim_restored'])\n",
    "    avg_lpips_comp = sum(results[quality]['lpips_compressed']) / len(results[quality]['lpips_compressed'])\n",
    "    avg_lpips_rest = sum(results[quality]['lpips_restored']) / len(results[quality]['lpips_restored'])\n",
    "    \n",
    "    print(f\"{quality:<10} {avg_psnr_comp:<15.2f} {avg_psnr_rest:<15.2f} {avg_ssim_comp:<15.4f} {avg_ssim_rest:<15.4f} {avg_lpips_comp:<15.4f} {avg_lpips_rest:<15.4f}\")\n",
    "    \n",
    "print(\"=\"*90)\n",
    "print(f\"PSNR: 越高越好 | SSIM: 越高越好 | LPIPS: 越低越好\")\n",
    "\n",
    "# 繪製平均性能提升圖\n",
    "plt.figure(figsize=(15, 5))\n",
    "\n",
    "# PSNR提升\n",
    "plt.subplot(1, 3, 1)\n",
    "psnr_gains = [sum(results[q]['psnr_restored']) / len(results[q]['psnr_restored']) - \n",
    "              sum(results[q]['psnr_compressed']) / len(results[q]['psnr_compressed']) \n",
    "              for q in quality_levels]\n",
    "plt.bar(quality_levels, psnr_gains)\n",
    "plt.title('PSNR提升(dB)')\n",
    "plt.xlabel('JPEG質量')\n",
    "plt.ylabel('提升(dB)')\n",
    "\n",
    "# SSIM提升\n",
    "plt.subplot(1, 3, 2)\n",
    "ssim_gains = [sum(results[q]['ssim_restored']) / len(results[q]['ssim_restored']) - \n",
    "              sum(results[q]['ssim_compressed']) / len(results[q]['ssim_compressed']) \n",
    "              for q in quality_levels]\n",
    "plt.bar(quality_levels, ssim_gains)\n",
    "plt.title('SSIM提升')\n",
    "plt.xlabel('JPEG質量')\n",
    "plt.ylabel('提升')\n",
    "\n",
    "# LPIPS改善\n",
    "plt.subplot(1, 3, 3)\n",
    "lpips_gains = [sum(results[q]['lpips_compressed']) / len(results[q]['lpips_compressed']) - \n",
    "               sum(results[q]['lpips_restored']) / len(results[q]['lpips_restored']) \n",
    "               for q in quality_levels]\n",
    "plt.bar(quality_levels, lpips_gains)\n",
    "plt.title('LPIPS改善')\n",
    "plt.xlabel('JPEG質量')\n",
    "plt.ylabel('改善(值越高越好)')\n",
    "\n",
    "plt.tight_layout()\n",
    "plt.savefig('performance_gains.png')\n",
    "plt.close()"
   ]
  },
  {
   "cell_type": "code",
   "execution_count": null,
   "metadata": {},
   "outputs": [],
   "source": []
  }
 ],
 "metadata": {
  "kernelspec": {
   "display_name": "Python 3",
   "language": "python",
   "name": "python3"
  },
  "language_info": {
   "codemirror_mode": {
    "name": "ipython",
    "version": 3
   },
   "file_extension": ".py",
   "mimetype": "text/x-python",
   "name": "python",
   "nbconvert_exporter": "python",
   "pygments_lexer": "ipython3",
   "version": "3.10.6"
  }
 },
 "nbformat": 4,
 "nbformat_minor": 2
}
